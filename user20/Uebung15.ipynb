{
 "cells": [
  {
   "cell_type": "code",
   "execution_count": 84,
   "id": "049bf8fb-8278-465d-b316-1a5f25e87194",
   "metadata": {},
   "outputs": [],
   "source": [
    "class Hunde:\n",
    "    def __init__(self, name, ort):\n",
    "        self.name = name\n",
    "        self.standort = ort        "
   ]
  },
  {
   "cell_type": "code",
   "execution_count": 85,
   "id": "e6e4837f-40e6-4332-b9a9-824873334f94",
   "metadata": {},
   "outputs": [],
   "source": [
    "Hund1 = Hunde(\"Willy\", \"szb\")"
   ]
  },
  {
   "cell_type": "code",
   "execution_count": 86,
   "id": "9f8aa997-8309-46e2-b3ea-05efd9fd38c8",
   "metadata": {},
   "outputs": [],
   "source": [
    "def hmm(abc):\n",
    "    return abc"
   ]
  },
  {
   "cell_type": "code",
   "execution_count": 98,
   "id": "2c91d88e-671b-4aa1-8123-47697645275c",
   "metadata": {},
   "outputs": [
    {
     "name": "stdout",
     "output_type": "stream",
     "text": [
      "gibtsnicht\n",
      "'Hunde' object has no attribute 'Automarke'\n",
      "Fertig\n"
     ]
    }
   ],
   "source": [
    "try:\n",
    "    hmm(Hund1.Automarke)\n",
    "except AttributeError as err:\n",
    "    print(\"gibtsnicht\")\n",
    "    print(err)\n",
    "finally:\n",
    "    print(\"Fertig\")"
   ]
  },
  {
   "cell_type": "code",
   "execution_count": 88,
   "id": "19959f52-bfc7-4b09-a557-df0ea07b3212",
   "metadata": {},
   "outputs": [],
   "source": [
    "1 = [0,1,2,3,4]"
   ]
  },
  {
   "cell_type": "code",
   "execution_count": 89,
   "id": "5fce1e11-f9ce-4a64-8443-b8a7019b361f",
   "metadata": {},
   "outputs": [
    {
     "name": "stdout",
     "output_type": "stream",
     "text": [
      "scheiße\n"
     ]
    }
   ],
   "source": [
    "try:\n",
    "    print(l1[7])\n",
    "except IndexError:\n",
    "    print(\"scheiße\")"
   ]
  },
  {
   "cell_type": "code",
   "execution_count": 90,
   "id": "1b175b0b-567c-494c-bde1-cc1e111819d9",
   "metadata": {},
   "outputs": [],
   "source": [
    "class PositiveOnly(Exception):\n",
    "    pass"
   ]
  },
  {
   "cell_type": "code",
   "execution_count": 91,
   "id": "434d40a2-da29-4ee9-87cd-705e4894687b",
   "metadata": {},
   "outputs": [],
   "source": [
    "x = 10"
   ]
  },
  {
   "cell_type": "code",
   "execution_count": 92,
   "id": "7d3863a9-6317-4319-b585-349d9917cfdd",
   "metadata": {},
   "outputs": [
    {
     "name": "stdout",
     "output_type": "stream",
     "text": [
      "alles cool\n"
     ]
    }
   ],
   "source": [
    "try:\n",
    "    if x < 0:\n",
    "        raise PositiveOnly\n",
    "    else:\n",
    "        print(\"alles cool\")\n",
    "except PositiveOnly:\n",
    "    print(\"nur positive zahlen erlaubt\")\n",
    "    print(x)"
   ]
  },
  {
   "cell_type": "code",
   "execution_count": 103,
   "id": "25d19b3d-682d-4057-bc51-c23dd5a2e533",
   "metadata": {},
   "outputs": [
    {
     "data": {
      "text/plain": [
       "{'a': 1, 'b': 2}"
      ]
     },
     "execution_count": 103,
     "metadata": {},
     "output_type": "execute_result"
    }
   ],
   "source": [
    "d = {\"a\" : 1, \"b\" : 2} \n",
    "d"
   ]
  },
  {
   "cell_type": "code",
   "execution_count": 104,
   "id": "9d14fee3-1dc7-460a-8661-a5eaaeaa67cc",
   "metadata": {},
   "outputs": [
    {
     "data": {
      "text/plain": [
       "1"
      ]
     },
     "execution_count": 104,
     "metadata": {},
     "output_type": "execute_result"
    }
   ],
   "source": [
    "d.get(\"a\")"
   ]
  },
  {
   "cell_type": "code",
   "execution_count": 105,
   "id": "3e485389-a60b-48f6-86f7-2cc055f7b9f7",
   "metadata": {},
   "outputs": [],
   "source": [
    "def my_get(dic, key, default = None):\n",
    "    try:\n",
    "        return dic[key]\n",
    "    except KeyError:\n",
    "        return default"
   ]
  },
  {
   "cell_type": "code",
   "execution_count": 110,
   "id": "1b0b71ca-312a-4f6d-bae9-20ac3f34f7b7",
   "metadata": {},
   "outputs": [
    {
     "data": {
      "text/plain": [
       "999"
      ]
     },
     "execution_count": 110,
     "metadata": {},
     "output_type": "execute_result"
    }
   ],
   "source": [
    "my_get(d, \"c\", 999)"
   ]
  },
  {
   "cell_type": "code",
   "execution_count": null,
   "id": "56b6b3c1-ac79-4fab-b557-90b528906ad7",
   "metadata": {},
   "outputs": [],
   "source": []
  }
 ],
 "metadata": {
  "kernelspec": {
   "display_name": "Python 3.10",
   "language": "python",
   "name": "python310"
  },
  "language_info": {
   "codemirror_mode": {
    "name": "ipython",
    "version": 3
   },
   "file_extension": ".py",
   "mimetype": "text/x-python",
   "name": "python",
   "nbconvert_exporter": "python",
   "pygments_lexer": "ipython3",
   "version": "3.10.4"
  }
 },
 "nbformat": 4,
 "nbformat_minor": 5
}
