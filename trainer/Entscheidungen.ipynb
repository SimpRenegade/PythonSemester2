{
 "cells": [
  {
   "cell_type": "code",
   "execution_count": 75,
   "id": "d7e954e6-cb91-409b-ae92-053b66aff6ad",
   "metadata": {},
   "outputs": [],
   "source": [
    "a = 5\n",
    "b = 6"
   ]
  },
  {
   "cell_type": "code",
   "execution_count": 2,
   "id": "9d1cff21-dcc1-48cb-8438-4a8345605889",
   "metadata": {},
   "outputs": [
    {
     "data": {
      "text/plain": [
       "True"
      ]
     },
     "execution_count": 2,
     "metadata": {},
     "output_type": "execute_result"
    }
   ],
   "source": [
    "a < b"
   ]
  },
  {
   "cell_type": "code",
   "execution_count": 3,
   "id": "38cb03ff-21d6-4dcd-aad5-235fed6c8ef1",
   "metadata": {},
   "outputs": [
    {
     "name": "stdout",
     "output_type": "stream",
     "text": [
      "kleiner\n"
     ]
    }
   ],
   "source": [
    "if a < b:\n",
    "    print('kleiner')"
   ]
  },
  {
   "cell_type": "code",
   "execution_count": 4,
   "id": "4f86cac1-d596-4e9f-9a37-d6741a3e3c6b",
   "metadata": {},
   "outputs": [],
   "source": [
    "a = 50\n",
    "b = 6\n",
    "if a < b:\n",
    "    print('kleiner')"
   ]
  },
  {
   "cell_type": "code",
   "execution_count": 5,
   "id": "9bebe275-07f3-43c8-a66a-3cf1d63d5681",
   "metadata": {},
   "outputs": [
    {
     "data": {
      "text/plain": [
       "False"
      ]
     },
     "execution_count": 5,
     "metadata": {},
     "output_type": "execute_result"
    }
   ],
   "source": [
    "a < b"
   ]
  },
  {
   "cell_type": "code",
   "execution_count": 6,
   "id": "e5ce988b-d814-45b5-a454-299f5bc8c97d",
   "metadata": {},
   "outputs": [
    {
     "name": "stdout",
     "output_type": "stream",
     "text": [
      "gleich\n"
     ]
    }
   ],
   "source": [
    "a = 50\n",
    "b = 50\n",
    "if a < b:  # 1\n",
    "    print('kleiner')\n",
    "elif a > b:  # 0, 1, 2, 3 ... n\n",
    "    print('größer')\n",
    "else:  # 0, 1\n",
    "    print('gleich')"
   ]
  },
  {
   "cell_type": "code",
   "execution_count": 7,
   "id": "e1f10670-6fb7-4ce9-b8fd-02319791b7c1",
   "metadata": {},
   "outputs": [
    {
     "data": {
      "text/plain": [
       "100"
      ]
     },
     "execution_count": 7,
     "metadata": {},
     "output_type": "execute_result"
    }
   ],
   "source": [
    "a = 5\n",
    "b = 6\n",
    "\n",
    "100 if a < b else 10"
   ]
  },
  {
   "cell_type": "code",
   "execution_count": 8,
   "id": "c2a00cd0-15a9-4ddb-aff1-0882ee4bbe8d",
   "metadata": {},
   "outputs": [],
   "source": [
    "res1 = 100 if a < b else 10"
   ]
  },
  {
   "cell_type": "code",
   "execution_count": 9,
   "id": "5955d151-2a68-4bc6-a601-e5d26199f255",
   "metadata": {},
   "outputs": [],
   "source": [
    "if a < b:\n",
    "    res2 = 100\n",
    "else:\n",
    "    res2 = 10"
   ]
  },
  {
   "cell_type": "code",
   "execution_count": 10,
   "id": "90193ef9-b59f-433a-964b-761f269315c6",
   "metadata": {},
   "outputs": [
    {
     "data": {
      "text/plain": [
       "True"
      ]
     },
     "execution_count": 10,
     "metadata": {},
     "output_type": "execute_result"
    }
   ],
   "source": [
    "res1 == res2"
   ]
  },
  {
   "cell_type": "code",
   "execution_count": 11,
   "id": "bebacc79-78af-4b43-8f64-ff1cb3822237",
   "metadata": {},
   "outputs": [
    {
     "data": {
      "text/plain": [
       "True"
      ]
     },
     "execution_count": 11,
     "metadata": {},
     "output_type": "execute_result"
    }
   ],
   "source": [
    "a = 50\n",
    "b = 6\n",
    "\n",
    "res1 = 100 if a < b else 10\n",
    "\n",
    "if a < b:\n",
    "    res2 = 100\n",
    "else:\n",
    "    res2 = 10\n",
    "\n",
    "res1 == res2"
   ]
  },
  {
   "cell_type": "code",
   "execution_count": 12,
   "id": "c5c34b8f-a22d-4949-9762-c9473274645a",
   "metadata": {},
   "outputs": [
    {
     "data": {
      "text/plain": [
       "50"
      ]
     },
     "execution_count": 12,
     "metadata": {},
     "output_type": "execute_result"
    }
   ],
   "source": [
    "a"
   ]
  },
  {
   "cell_type": "code",
   "execution_count": 13,
   "id": "81ff3b69-196e-4711-be03-b5cb0f63f1e7",
   "metadata": {},
   "outputs": [
    {
     "data": {
      "text/plain": [
       "True"
      ]
     },
     "execution_count": 13,
     "metadata": {},
     "output_type": "execute_result"
    }
   ],
   "source": [
    "0 <= a <= 100"
   ]
  },
  {
   "cell_type": "code",
   "execution_count": 14,
   "id": "67cb97fe-54dc-417d-af61-b2d85e9c58f6",
   "metadata": {},
   "outputs": [
    {
     "data": {
      "text/plain": [
       "True"
      ]
     },
     "execution_count": 14,
     "metadata": {},
     "output_type": "execute_result"
    }
   ],
   "source": [
    "(0 <= a) and (a <= 100)"
   ]
  },
  {
   "cell_type": "code",
   "execution_count": 15,
   "id": "8c47caa7-13cd-4d41-8877-cd7df5df7760",
   "metadata": {},
   "outputs": [
    {
     "data": {
      "text/plain": [
       "True"
      ]
     },
     "execution_count": 15,
     "metadata": {},
     "output_type": "execute_result"
    }
   ],
   "source": [
    "True and True"
   ]
  },
  {
   "cell_type": "code",
   "execution_count": 16,
   "id": "44cbd125-2c05-4631-ba5c-4b673779731f",
   "metadata": {},
   "outputs": [
    {
     "data": {
      "text/plain": [
       "False"
      ]
     },
     "execution_count": 16,
     "metadata": {},
     "output_type": "execute_result"
    }
   ],
   "source": [
    "True and False"
   ]
  },
  {
   "cell_type": "code",
   "execution_count": 17,
   "id": "959a0f76-9b12-402e-bc11-dcd7f6adaa02",
   "metadata": {},
   "outputs": [
    {
     "data": {
      "text/plain": [
       "False"
      ]
     },
     "execution_count": 17,
     "metadata": {},
     "output_type": "execute_result"
    }
   ],
   "source": [
    "False and True"
   ]
  },
  {
   "cell_type": "code",
   "execution_count": 18,
   "id": "2ffc361d-7910-4673-bc72-c7ea9a2508ef",
   "metadata": {},
   "outputs": [
    {
     "data": {
      "text/plain": [
       "False"
      ]
     },
     "execution_count": 18,
     "metadata": {},
     "output_type": "execute_result"
    }
   ],
   "source": [
    "False and False"
   ]
  },
  {
   "cell_type": "code",
   "execution_count": 19,
   "id": "c4cbff64-f8fb-479c-9afb-aecb7c3a4764",
   "metadata": {},
   "outputs": [
    {
     "name": "stdout",
     "output_type": "stream",
     "text": [
      "Hallo\n"
     ]
    }
   ],
   "source": [
    "True and print('Hallo')"
   ]
  },
  {
   "cell_type": "code",
   "execution_count": 20,
   "id": "cbb0db1c-fdee-402f-ae0e-030e76af6928",
   "metadata": {},
   "outputs": [
    {
     "data": {
      "text/plain": [
       "False"
      ]
     },
     "execution_count": 20,
     "metadata": {},
     "output_type": "execute_result"
    }
   ],
   "source": [
    "False and print('Hallo')"
   ]
  },
  {
   "cell_type": "code",
   "execution_count": 21,
   "id": "d586e021-6270-4263-976b-7beb5dc4a61f",
   "metadata": {},
   "outputs": [
    {
     "name": "stdout",
     "output_type": "stream",
     "text": [
      "Hallo\n"
     ]
    }
   ],
   "source": [
    "print('Hallo')"
   ]
  },
  {
   "cell_type": "code",
   "execution_count": 22,
   "id": "a12485e8-8ac2-4d48-85c9-a24a6c7f34af",
   "metadata": {},
   "outputs": [
    {
     "name": "stdout",
     "output_type": "stream",
     "text": [
      "Hallo\n"
     ]
    }
   ],
   "source": [
    "res = print('Hallo')"
   ]
  },
  {
   "cell_type": "code",
   "execution_count": 23,
   "id": "52f06698-46e2-46ca-afeb-369e16a54b17",
   "metadata": {},
   "outputs": [],
   "source": [
    "res"
   ]
  },
  {
   "cell_type": "code",
   "execution_count": 24,
   "id": "a43b67e6-7499-4a98-94e5-2bc516942685",
   "metadata": {},
   "outputs": [
    {
     "name": "stdout",
     "output_type": "stream",
     "text": [
      "None\n"
     ]
    }
   ],
   "source": [
    "print(res)"
   ]
  },
  {
   "cell_type": "code",
   "execution_count": 25,
   "id": "db45c9ef-5a08-4535-9745-75c60bf81d3b",
   "metadata": {},
   "outputs": [
    {
     "data": {
      "text/plain": [
       "False"
      ]
     },
     "execution_count": 25,
     "metadata": {},
     "output_type": "execute_result"
    }
   ],
   "source": [
    "bool(None)"
   ]
  },
  {
   "cell_type": "code",
   "execution_count": 26,
   "id": "0427028b-be72-4f3c-88e9-0323efc727d4",
   "metadata": {},
   "outputs": [
    {
     "data": {
      "text/plain": [
       "False"
      ]
     },
     "execution_count": 26,
     "metadata": {},
     "output_type": "execute_result"
    }
   ],
   "source": [
    "False or False"
   ]
  },
  {
   "cell_type": "code",
   "execution_count": 27,
   "id": "300c6a18-62d4-4120-8e40-b6c41c3654a4",
   "metadata": {},
   "outputs": [
    {
     "data": {
      "text/plain": [
       "True"
      ]
     },
     "execution_count": 27,
     "metadata": {},
     "output_type": "execute_result"
    }
   ],
   "source": [
    "False or True"
   ]
  },
  {
   "cell_type": "code",
   "execution_count": 28,
   "id": "6aa28762-52a6-4d63-a464-b03c61d20662",
   "metadata": {},
   "outputs": [
    {
     "data": {
      "text/plain": [
       "True"
      ]
     },
     "execution_count": 28,
     "metadata": {},
     "output_type": "execute_result"
    }
   ],
   "source": [
    "True or False"
   ]
  },
  {
   "cell_type": "code",
   "execution_count": 29,
   "id": "2a387aa1-e18b-4f7c-b209-8ea5a836ce8c",
   "metadata": {},
   "outputs": [
    {
     "data": {
      "text/plain": [
       "True"
      ]
     },
     "execution_count": 29,
     "metadata": {},
     "output_type": "execute_result"
    }
   ],
   "source": [
    "True or True"
   ]
  },
  {
   "cell_type": "code",
   "execution_count": 30,
   "id": "f39b7422-6ab0-43a3-8a92-f6e8f2360986",
   "metadata": {},
   "outputs": [
    {
     "data": {
      "text/plain": [
       "True"
      ]
     },
     "execution_count": 30,
     "metadata": {},
     "output_type": "execute_result"
    }
   ],
   "source": [
    "1 < 2"
   ]
  },
  {
   "cell_type": "code",
   "execution_count": 31,
   "id": "f033d9a5-ce8c-41ea-b1c6-98df82e9d469",
   "metadata": {},
   "outputs": [
    {
     "data": {
      "text/plain": [
       "True"
      ]
     },
     "execution_count": 31,
     "metadata": {},
     "output_type": "execute_result"
    }
   ],
   "source": [
    "1 <= 2"
   ]
  },
  {
   "cell_type": "code",
   "execution_count": 32,
   "id": "e1b3f021-1c74-493b-86b1-c39a87062c99",
   "metadata": {},
   "outputs": [
    {
     "data": {
      "text/plain": [
       "True"
      ]
     },
     "execution_count": 32,
     "metadata": {},
     "output_type": "execute_result"
    }
   ],
   "source": [
    "1 == 1"
   ]
  },
  {
   "cell_type": "code",
   "execution_count": 33,
   "id": "21e853ec-57e4-4ad2-b58d-eda8d24419e2",
   "metadata": {},
   "outputs": [
    {
     "ename": "SyntaxError",
     "evalue": "cannot assign to literal here. Maybe you meant '==' instead of '='? (814398681.py, line 1)",
     "output_type": "error",
     "traceback": [
      "\u001b[0;36m  Input \u001b[0;32mIn [33]\u001b[0;36m\u001b[0m\n\u001b[0;31m    1 = 1\u001b[0m\n\u001b[0m    ^\u001b[0m\n\u001b[0;31mSyntaxError\u001b[0m\u001b[0;31m:\u001b[0m cannot assign to literal here. Maybe you meant '==' instead of '='?\n"
     ]
    }
   ],
   "source": [
    "1 = 1"
   ]
  },
  {
   "cell_type": "code",
   "execution_count": 34,
   "id": "0b198581-ede8-4cca-8edf-1e030567a4d7",
   "metadata": {},
   "outputs": [
    {
     "data": {
      "text/plain": [
       "True"
      ]
     },
     "execution_count": 34,
     "metadata": {},
     "output_type": "execute_result"
    }
   ],
   "source": [
    "a is a"
   ]
  },
  {
   "cell_type": "code",
   "execution_count": 35,
   "id": "2e231be5-dcd7-456a-a2e0-3483abe331d3",
   "metadata": {},
   "outputs": [],
   "source": [
    "b = a"
   ]
  },
  {
   "cell_type": "code",
   "execution_count": 36,
   "id": "375f024d-dd48-4ebe-b41c-061bcc20b797",
   "metadata": {},
   "outputs": [
    {
     "data": {
      "text/plain": [
       "True"
      ]
     },
     "execution_count": 36,
     "metadata": {},
     "output_type": "execute_result"
    }
   ],
   "source": [
    "a is b"
   ]
  },
  {
   "cell_type": "code",
   "execution_count": 37,
   "id": "6c8d4b55-af0e-47cd-b3a2-1fc2ba0c00e7",
   "metadata": {},
   "outputs": [],
   "source": [
    "x = 12.5\n",
    "y = 12.5"
   ]
  },
  {
   "cell_type": "code",
   "execution_count": 38,
   "id": "6870b079-35fa-4897-8608-e27487b22d0b",
   "metadata": {},
   "outputs": [
    {
     "data": {
      "text/plain": [
       "True"
      ]
     },
     "execution_count": 38,
     "metadata": {},
     "output_type": "execute_result"
    }
   ],
   "source": [
    "x == y"
   ]
  },
  {
   "cell_type": "code",
   "execution_count": 39,
   "id": "11c90d9b-280d-419d-a2b7-953a41fe2cba",
   "metadata": {},
   "outputs": [
    {
     "data": {
      "text/plain": [
       "False"
      ]
     },
     "execution_count": 39,
     "metadata": {},
     "output_type": "execute_result"
    }
   ],
   "source": [
    "x is y"
   ]
  },
  {
   "cell_type": "code",
   "execution_count": 40,
   "id": "9780a3cd-5cdd-4045-8dd5-985632b53bf6",
   "metadata": {},
   "outputs": [],
   "source": [
    "z = x"
   ]
  },
  {
   "cell_type": "code",
   "execution_count": 41,
   "id": "b26a79cc-a000-4b06-b47d-cb97ba46e78c",
   "metadata": {},
   "outputs": [
    {
     "data": {
      "text/plain": [
       "12.5"
      ]
     },
     "execution_count": 41,
     "metadata": {},
     "output_type": "execute_result"
    }
   ],
   "source": [
    "z"
   ]
  },
  {
   "cell_type": "code",
   "execution_count": 42,
   "id": "6d287445-b899-4c9f-bae2-2769fef16f36",
   "metadata": {},
   "outputs": [
    {
     "data": {
      "text/plain": [
       "True"
      ]
     },
     "execution_count": 42,
     "metadata": {},
     "output_type": "execute_result"
    }
   ],
   "source": [
    "z == x"
   ]
  },
  {
   "cell_type": "code",
   "execution_count": 43,
   "id": "bdbc5197-bd94-47ae-8a9f-771f66499080",
   "metadata": {},
   "outputs": [
    {
     "data": {
      "text/plain": [
       "True"
      ]
     },
     "execution_count": 43,
     "metadata": {},
     "output_type": "execute_result"
    }
   ],
   "source": [
    "z is x"
   ]
  },
  {
   "cell_type": "code",
   "execution_count": 44,
   "id": "3d365d87-4deb-4053-965f-a470fb1ad7f0",
   "metadata": {},
   "outputs": [
    {
     "data": {
      "text/plain": [
       "139732083826576"
      ]
     },
     "execution_count": 44,
     "metadata": {},
     "output_type": "execute_result"
    }
   ],
   "source": [
    "id(x)"
   ]
  },
  {
   "cell_type": "code",
   "execution_count": 45,
   "id": "0afca152-7fd6-45d6-918b-9d6c26d4e492",
   "metadata": {},
   "outputs": [
    {
     "data": {
      "text/plain": [
       "139732083826576"
      ]
     },
     "execution_count": 45,
     "metadata": {},
     "output_type": "execute_result"
    }
   ],
   "source": [
    "id(z)"
   ]
  },
  {
   "cell_type": "code",
   "execution_count": 46,
   "id": "16015377-5ca1-433c-98cf-77b16dac9b97",
   "metadata": {},
   "outputs": [
    {
     "data": {
      "text/plain": [
       "139732085439344"
      ]
     },
     "execution_count": 46,
     "metadata": {},
     "output_type": "execute_result"
    }
   ],
   "source": [
    "id(y)"
   ]
  },
  {
   "cell_type": "code",
   "execution_count": 47,
   "id": "ae980784-094f-44dd-8790-2dca1441953d",
   "metadata": {},
   "outputs": [
    {
     "data": {
      "text/plain": [
       "True"
      ]
     },
     "execution_count": 47,
     "metadata": {},
     "output_type": "execute_result"
    }
   ],
   "source": [
    "1 != 2"
   ]
  },
  {
   "cell_type": "code",
   "execution_count": 48,
   "id": "f8209a1b-b56a-4d44-88c5-d2eff0a97492",
   "metadata": {},
   "outputs": [
    {
     "data": {
      "text/plain": [
       "False"
      ]
     },
     "execution_count": 48,
     "metadata": {},
     "output_type": "execute_result"
    }
   ],
   "source": [
    "1 != 1"
   ]
  },
  {
   "cell_type": "code",
   "execution_count": 49,
   "id": "74200baf-09c4-4f7c-a6d3-735131d69f3e",
   "metadata": {},
   "outputs": [
    {
     "data": {
      "text/plain": [
       "False"
      ]
     },
     "execution_count": 49,
     "metadata": {},
     "output_type": "execute_result"
    }
   ],
   "source": [
    "not True"
   ]
  },
  {
   "cell_type": "code",
   "execution_count": 50,
   "id": "672af902-8c86-4fbb-be2a-35c9f17d5e3d",
   "metadata": {},
   "outputs": [
    {
     "data": {
      "text/plain": [
       "True"
      ]
     },
     "execution_count": 50,
     "metadata": {},
     "output_type": "execute_result"
    }
   ],
   "source": [
    "not not True"
   ]
  },
  {
   "cell_type": "code",
   "execution_count": 51,
   "id": "f250c113-5bb0-4966-a974-c33af82fa6c4",
   "metadata": {},
   "outputs": [
    {
     "data": {
      "text/plain": [
       "True"
      ]
     },
     "execution_count": 51,
     "metadata": {},
     "output_type": "execute_result"
    }
   ],
   "source": [
    "'a' in 'abc'"
   ]
  },
  {
   "cell_type": "code",
   "execution_count": 52,
   "id": "e7a254b7-250d-426e-a691-77df6ab650b8",
   "metadata": {},
   "outputs": [
    {
     "data": {
      "text/plain": [
       "False"
      ]
     },
     "execution_count": 52,
     "metadata": {},
     "output_type": "execute_result"
    }
   ],
   "source": [
    "'x' in 'abc'"
   ]
  },
  {
   "cell_type": "code",
   "execution_count": 53,
   "id": "a239b9e8-b128-4531-9ea2-67235d230fd7",
   "metadata": {},
   "outputs": [
    {
     "data": {
      "text/plain": [
       "True"
      ]
     },
     "execution_count": 53,
     "metadata": {},
     "output_type": "execute_result"
    }
   ],
   "source": [
    "'x' not in 'abc'"
   ]
  },
  {
   "cell_type": "code",
   "execution_count": 54,
   "id": "42931334-1e06-454b-959d-82bb542e8564",
   "metadata": {},
   "outputs": [
    {
     "name": "stdin",
     "output_type": "stream",
     "text": [
      "###:  123\n"
     ]
    },
    {
     "data": {
      "text/plain": [
       "'123'"
      ]
     },
     "execution_count": 54,
     "metadata": {},
     "output_type": "execute_result"
    }
   ],
   "source": [
    "input('###: ')"
   ]
  },
  {
   "cell_type": "code",
   "execution_count": 55,
   "id": "ce91b441-270b-498b-83c8-0508704b6cb3",
   "metadata": {},
   "outputs": [
    {
     "name": "stdin",
     "output_type": "stream",
     "text": [
      "Zahl?:  123\n"
     ]
    }
   ],
   "source": [
    "eingabe = input('Zahl?: ')"
   ]
  },
  {
   "cell_type": "code",
   "execution_count": 56,
   "id": "e5e30c07-7f1a-41b0-9d55-d6f31133c77f",
   "metadata": {},
   "outputs": [
    {
     "data": {
      "text/plain": [
       "'123'"
      ]
     },
     "execution_count": 56,
     "metadata": {},
     "output_type": "execute_result"
    }
   ],
   "source": [
    "eingabe"
   ]
  },
  {
   "cell_type": "code",
   "execution_count": 57,
   "id": "add497a1-5d45-4632-9d50-2320098118a9",
   "metadata": {},
   "outputs": [
    {
     "data": {
      "text/plain": [
       "'123123'"
      ]
     },
     "execution_count": 57,
     "metadata": {},
     "output_type": "execute_result"
    }
   ],
   "source": [
    "eingabe * 2"
   ]
  },
  {
   "cell_type": "code",
   "execution_count": 58,
   "id": "1f224f8a-d49d-47dd-ba0f-74cbad2151c1",
   "metadata": {},
   "outputs": [
    {
     "data": {
      "text/plain": [
       "123"
      ]
     },
     "execution_count": 58,
     "metadata": {},
     "output_type": "execute_result"
    }
   ],
   "source": [
    "int(eingabe)"
   ]
  },
  {
   "cell_type": "code",
   "execution_count": 59,
   "id": "68e10f53-77c3-4985-aecf-476ca3935f40",
   "metadata": {},
   "outputs": [
    {
     "data": {
      "text/plain": [
       "123.0"
      ]
     },
     "execution_count": 59,
     "metadata": {},
     "output_type": "execute_result"
    }
   ],
   "source": [
    "float(eingabe)"
   ]
  },
  {
   "cell_type": "code",
   "execution_count": 60,
   "id": "97e21fb3-822f-47f8-ad18-10fc28ceb077",
   "metadata": {},
   "outputs": [
    {
     "name": "stdin",
     "output_type": "stream",
     "text": [
      "Zahl?:  123\n"
     ]
    }
   ],
   "source": [
    "zahl = float(input('Zahl?: '))"
   ]
  },
  {
   "cell_type": "code",
   "execution_count": 61,
   "id": "002fd841-078a-4b8c-ba18-22d7cf1a5b18",
   "metadata": {},
   "outputs": [
    {
     "data": {
      "text/plain": [
       "123.0"
      ]
     },
     "execution_count": 61,
     "metadata": {},
     "output_type": "execute_result"
    }
   ],
   "source": [
    "zahl"
   ]
  },
  {
   "cell_type": "code",
   "execution_count": 62,
   "id": "fff213f0-de70-4dab-91b1-cf5634862572",
   "metadata": {},
   "outputs": [
    {
     "data": {
      "text/plain": [
       "246.0"
      ]
     },
     "execution_count": 62,
     "metadata": {},
     "output_type": "execute_result"
    }
   ],
   "source": [
    "zahl * 2"
   ]
  },
  {
   "cell_type": "code",
   "execution_count": 63,
   "id": "c609b7bc-cb3a-43cb-9d30-f7c07e879d5f",
   "metadata": {},
   "outputs": [
    {
     "name": "stdout",
     "output_type": "stream",
     "text": [
      "123.0\n"
     ]
    }
   ],
   "source": [
    "print(zahl)"
   ]
  },
  {
   "cell_type": "code",
   "execution_count": 64,
   "id": "d001195b-ab65-4d81-98e1-839fb3b20e26",
   "metadata": {},
   "outputs": [
    {
     "data": {
      "text/plain": [
       "'123.0'"
      ]
     },
     "execution_count": 64,
     "metadata": {},
     "output_type": "execute_result"
    }
   ],
   "source": [
    "str(zahl)"
   ]
  },
  {
   "cell_type": "code",
   "execution_count": 65,
   "id": "eb580b12-627c-4eb9-94d3-5420406f6c1e",
   "metadata": {},
   "outputs": [
    {
     "data": {
      "text/plain": [
       "'123'"
      ]
     },
     "execution_count": 65,
     "metadata": {},
     "output_type": "execute_result"
    }
   ],
   "source": [
    "eingabe"
   ]
  },
  {
   "cell_type": "code",
   "execution_count": 66,
   "id": "db0d1d7e-e66c-4e4e-8503-b0569ec87f17",
   "metadata": {},
   "outputs": [
    {
     "data": {
      "text/plain": [
       "123"
      ]
     },
     "execution_count": 66,
     "metadata": {},
     "output_type": "execute_result"
    }
   ],
   "source": [
    "int(eingabe)"
   ]
  },
  {
   "cell_type": "code",
   "execution_count": 67,
   "id": "bcf5989b-fbb9-403a-82de-cc7a12ec18ad",
   "metadata": {},
   "outputs": [
    {
     "data": {
      "text/plain": [
       "'123123'"
      ]
     },
     "execution_count": 67,
     "metadata": {},
     "output_type": "execute_result"
    }
   ],
   "source": [
    "eingabe * 2"
   ]
  },
  {
   "cell_type": "code",
   "execution_count": 68,
   "id": "b65e8995-f3e1-4dcf-9d2f-cf896f67d94b",
   "metadata": {},
   "outputs": [
    {
     "data": {
      "text/plain": [
       "246"
      ]
     },
     "execution_count": 68,
     "metadata": {},
     "output_type": "execute_result"
    }
   ],
   "source": [
    "int(eingabe) * 2"
   ]
  },
  {
   "cell_type": "code",
   "execution_count": 69,
   "id": "edf6ae51-03bc-4de9-9f84-0bac2da9b509",
   "metadata": {},
   "outputs": [],
   "source": [
    "zahl2 = int(eingabe)"
   ]
  },
  {
   "cell_type": "code",
   "execution_count": 70,
   "id": "891c5d47-aa52-427b-b3f3-2bce899034a8",
   "metadata": {},
   "outputs": [
    {
     "data": {
      "text/plain": [
       "123"
      ]
     },
     "execution_count": 70,
     "metadata": {},
     "output_type": "execute_result"
    }
   ],
   "source": [
    "zahl2"
   ]
  },
  {
   "cell_type": "code",
   "execution_count": 71,
   "id": "bb0088de-46a4-4199-b88c-f6ff253eca2f",
   "metadata": {},
   "outputs": [
    {
     "data": {
      "text/plain": [
       "246"
      ]
     },
     "execution_count": 71,
     "metadata": {},
     "output_type": "execute_result"
    }
   ],
   "source": [
    "zahl2 * 2"
   ]
  },
  {
   "cell_type": "code",
   "execution_count": 72,
   "id": "f860b218-2d78-4486-ba76-9fbe465f39b4",
   "metadata": {},
   "outputs": [
    {
     "data": {
      "text/plain": [
       "123"
      ]
     },
     "execution_count": 72,
     "metadata": {},
     "output_type": "execute_result"
    }
   ],
   "source": [
    "int(eingabe)"
   ]
  },
  {
   "cell_type": "code",
   "execution_count": 73,
   "id": "88f2ca04-06a3-47d9-8fa7-b931fab745ba",
   "metadata": {},
   "outputs": [
    {
     "name": "stdin",
     "output_type": "stream",
     "text": [
      "... 1\n"
     ]
    },
    {
     "data": {
      "text/plain": [
       "'1'"
      ]
     },
     "execution_count": 73,
     "metadata": {},
     "output_type": "execute_result"
    }
   ],
   "source": [
    "input('...')"
   ]
  },
  {
   "cell_type": "code",
   "execution_count": 74,
   "id": "dd1678ec-d8f2-459c-9d88-5910c73d45b3",
   "metadata": {},
   "outputs": [
    {
     "data": {
      "text/plain": [
       "2"
      ]
     },
     "execution_count": 74,
     "metadata": {},
     "output_type": "execute_result"
    }
   ],
   "source": [
    "1 + 1"
   ]
  },
  {
   "cell_type": "markdown",
   "id": "a3b5d98f-a230-4e3f-a5ec-4f334e32feb5",
   "metadata": {},
   "source": [
    "# Pause bis 12:00 Uhr"
   ]
  },
  {
   "cell_type": "code",
   "execution_count": 76,
   "id": "c02f2eec-8241-45bf-90e5-c8d44ea68319",
   "metadata": {},
   "outputs": [
    {
     "name": "stdin",
     "output_type": "stream",
     "text": [
      "Bitte geben Sie ein Zahl ein:  34\n"
     ]
    },
    {
     "name": "stdout",
     "output_type": "stream",
     "text": [
      "ihre zahl ist kleiner als 100\n"
     ]
    }
   ],
   "source": [
    "eingabe = int(input(\"Bitte geben Sie ein Zahl ein: \"))\n",
    "\n",
    "limit = 100\n",
    "\n",
    "if eingabe < limit:\n",
    "    print(\"ihre zahl ist kleiner als\", limit)\n",
    "elif eingabe > limit:\n",
    "    print(\"Ihre Zahl ist größer als\", limit)\n",
    "else:\n",
    "    print(\"Ihre Zahl ist gleich\", limit)"
   ]
  },
  {
   "cell_type": "code",
   "execution_count": 77,
   "id": "b240aed9-902b-4946-b673-a8f8dbef8df2",
   "metadata": {},
   "outputs": [
    {
     "name": "stdout",
     "output_type": "stream",
     "text": [
      "Ihre Zahl 34 ist in 100 drin\n"
     ]
    }
   ],
   "source": [
    "print(\"Ihre Zahl \" + str(eingabe) + \" ist in 100 drin\")"
   ]
  },
  {
   "cell_type": "code",
   "execution_count": 78,
   "id": "0bfd6a8a-20df-4c50-8b1d-ecb450d8068d",
   "metadata": {},
   "outputs": [
    {
     "name": "stdout",
     "output_type": "stream",
     "text": [
      "Ihre Zahl 34 ist in 100 drin\n"
     ]
    }
   ],
   "source": [
    "print(\"Ihre Zahl\", eingabe, \"ist in 100 drin\")"
   ]
  },
  {
   "cell_type": "code",
   "execution_count": 79,
   "id": "1539e296-6ba0-4955-8cf1-3c28b8dcc2aa",
   "metadata": {},
   "outputs": [
    {
     "name": "stdout",
     "output_type": "stream",
     "text": [
      "Ihre Zahl 34 ist in 100 drin\n"
     ]
    }
   ],
   "source": [
    "print(f\"Ihre Zahl {eingabe} ist in 100 drin\")"
   ]
  },
  {
   "cell_type": "code",
   "execution_count": 80,
   "id": "56f68d4f-5725-435b-ae7b-3ae413dc428c",
   "metadata": {},
   "outputs": [
    {
     "name": "stdin",
     "output_type": "stream",
     "text": [
      "Bitte eine Zahl eingeben 34.6\n"
     ]
    },
    {
     "name": "stdout",
     "output_type": "stream",
     "text": [
      "deine Zahl liegt nicht zwischen 42 und 102\n"
     ]
    }
   ],
   "source": [
    "eingabe = input('Bitte eine Zahl eingeben')\n",
    "zahl = float(eingabe)\n",
    "print('deine Zahl liegt zwischen 42 und 102') if zahl > 42 and zahl < 102 else print('deine Zahl liegt nicht zwischen 42 und 102')"
   ]
  },
  {
   "cell_type": "code",
   "execution_count": 81,
   "id": "3d6d2122-ccea-4873-a89c-d52929c60cc1",
   "metadata": {},
   "outputs": [
    {
     "name": "stdout",
     "output_type": "stream",
     "text": [
      "deine Zahl liegt nicht zwischen 42 und 102\n"
     ]
    }
   ],
   "source": [
    "if zahl > 42 and zahl < 102:\n",
    "    print('deine Zahl liegt zwischen 42 und 102')\n",
    "else:\n",
    "    print('deine Zahl liegt nicht zwischen 42 und 102')"
   ]
  },
  {
   "cell_type": "code",
   "execution_count": 83,
   "id": "2f0599cb-4996-4630-81d3-e50c5305f3d3",
   "metadata": {},
   "outputs": [
    {
     "name": "stdout",
     "output_type": "stream",
     "text": [
      "deine Zahl 34.6 nicht zwischen 42 und 102\n"
     ]
    }
   ],
   "source": [
    "if 42 < zahl < 102:\n",
    "    print(f'deine Zahl {zahl} liegt zwischen 42 und 102')\n",
    "else:\n",
    "    print(f'deine Zahl {zahl} nicht zwischen 42 und 102')"
   ]
  },
  {
   "cell_type": "code",
   "execution_count": 84,
   "id": "a90b52ed-b204-48c0-ab74-53b682a85a38",
   "metadata": {},
   "outputs": [
    {
     "name": "stdout",
     "output_type": "stream",
     "text": [
      "deine Zahl 34.6 liegt nicht zwischen 42 und 102\n"
     ]
    }
   ],
   "source": [
    "if 42 < zahl < 102:\n",
    "    yes_no = ''\n",
    "else:\n",
    "    yes_no = 'nicht'\n",
    "    \n",
    "print(f'deine Zahl {zahl} liegt {yes_no} zwischen 42 und 102')"
   ]
  },
  {
   "cell_type": "code",
   "execution_count": 85,
   "id": "c49e6e8c-01d2-43e5-a287-4d3c7512cf35",
   "metadata": {},
   "outputs": [
    {
     "name": "stdout",
     "output_type": "stream",
     "text": [
      "deine Zahl 34.6 liegt nicht zwischen 42 und 102\n"
     ]
    }
   ],
   "source": [
    "yes_no = 'nicht'\n",
    "if 42 < zahl < 102:\n",
    "    yes_no = ''\n",
    "print(f'deine Zahl {zahl} liegt {yes_no} zwischen 42 und 102')"
   ]
  },
  {
   "cell_type": "code",
   "execution_count": 88,
   "id": "0216c178-d8c2-4244-87d9-e3a140a540fd",
   "metadata": {},
   "outputs": [],
   "source": [
    "def vergleicher1(eingabewert):\n",
    "    ret = False\n",
    "    if (30 <= eingabewert <= 80):\n",
    "        ret = True\n",
    "    return ret"
   ]
  },
  {
   "cell_type": "code",
   "execution_count": 89,
   "id": "2941f002-726b-4c4c-854e-bfc53082c3a8",
   "metadata": {},
   "outputs": [
    {
     "data": {
      "text/plain": [
       "True"
      ]
     },
     "execution_count": 89,
     "metadata": {},
     "output_type": "execute_result"
    }
   ],
   "source": [
    "vergleicher1(50)"
   ]
  },
  {
   "cell_type": "code",
   "execution_count": 91,
   "id": "79e7157c-7130-4d0d-9d5c-0471aeca5020",
   "metadata": {},
   "outputs": [],
   "source": [
    "def vergleicher2(eingabewert):\n",
    "    return 30 <= eingabewert <= 80"
   ]
  },
  {
   "cell_type": "code",
   "execution_count": 92,
   "id": "15b61753-bd53-46e0-abc9-b7fac32249fa",
   "metadata": {},
   "outputs": [
    {
     "data": {
      "text/plain": [
       "True"
      ]
     },
     "execution_count": 92,
     "metadata": {},
     "output_type": "execute_result"
    }
   ],
   "source": [
    "vergleicher2(50)"
   ]
  },
  {
   "cell_type": "code",
   "execution_count": null,
   "id": "31d80279-5066-42b4-933f-6dc3ac0d1374",
   "metadata": {},
   "outputs": [],
   "source": []
  }
 ],
 "metadata": {
  "kernelspec": {
   "display_name": "Python 3.10",
   "language": "python",
   "name": "python310"
  },
  "language_info": {
   "codemirror_mode": {
    "name": "ipython",
    "version": 3
   },
   "file_extension": ".py",
   "mimetype": "text/x-python",
   "name": "python",
   "nbconvert_exporter": "python",
   "pygments_lexer": "ipython3",
   "version": "3.10.4"
  }
 },
 "nbformat": 4,
 "nbformat_minor": 5
}
