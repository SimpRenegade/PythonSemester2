{
 "cells": [
  {
   "cell_type": "code",
   "execution_count": 2,
   "id": "e9054431-f6d5-4024-b9d1-332f06e0f7e1",
   "metadata": {},
   "outputs": [
    {
     "name": "stdin",
     "output_type": "stream",
     "text": [
      "Eingabe:  abc\n"
     ]
    }
   ],
   "source": [
    "eingabe = input('Eingabe: ')"
   ]
  },
  {
   "cell_type": "code",
   "execution_count": 3,
   "id": "ecd32bd7-c15e-41bc-9e9e-c0389bdffed5",
   "metadata": {},
   "outputs": [
    {
     "data": {
      "text/plain": [
       "'abc'"
      ]
     },
     "execution_count": 3,
     "metadata": {},
     "output_type": "execute_result"
    }
   ],
   "source": [
    "eingabe"
   ]
  },
  {
   "cell_type": "code",
   "execution_count": 10,
   "id": "8bf6f5ae-be90-4ea2-b494-5b5c00eabd58",
   "metadata": {},
   "outputs": [],
   "source": [
    "fobj = open('data.txt', 'w')"
   ]
  },
  {
   "cell_type": "code",
   "execution_count": 11,
   "id": "94ba48ed-19cc-487f-9e5b-9b83376a2db8",
   "metadata": {},
   "outputs": [
    {
     "data": {
      "text/plain": [
       "<_io.TextIOWrapper name='data.txt' mode='w' encoding='UTF-8'>"
      ]
     },
     "execution_count": 11,
     "metadata": {},
     "output_type": "execute_result"
    }
   ],
   "source": [
    "fobj"
   ]
  },
  {
   "cell_type": "code",
   "execution_count": 12,
   "id": "7f56e3d4-d326-4d0b-b4a8-f7f5565f11f6",
   "metadata": {},
   "outputs": [
    {
     "data": {
      "text/plain": [
       "33"
      ]
     },
     "execution_count": 12,
     "metadata": {},
     "output_type": "execute_result"
    }
   ],
   "source": [
    "fobj.write('Zeile 1\\nZeile 2\\nZeile 3\\n\\nZeile 5\\n')"
   ]
  },
  {
   "cell_type": "code",
   "execution_count": 13,
   "id": "4505df8d-8de7-4f19-a23b-28823e18b0c6",
   "metadata": {},
   "outputs": [
    {
     "data": {
      "text/plain": [
       "25"
      ]
     },
     "execution_count": 13,
     "metadata": {},
     "output_type": "execute_result"
    }
   ],
   "source": [
    "fobj.write(\"\"\"Zeile 6\n",
    "Zeile 7\n",
    "\n",
    "Zeile 9\n",
    "\"\"\")"
   ]
  },
  {
   "cell_type": "code",
   "execution_count": 14,
   "id": "2af85bbe-058c-4200-9f53-7a4a87a67452",
   "metadata": {},
   "outputs": [],
   "source": [
    "fobj.close()"
   ]
  },
  {
   "cell_type": "code",
   "execution_count": 15,
   "id": "914d0f33-9efc-455e-89ef-b35bd92d69bd",
   "metadata": {},
   "outputs": [
    {
     "data": {
      "text/plain": [
       "Zeile 1\n",
       "Zeile 2\n",
       "Zeile 3\n",
       "\n",
       "Zeile 5\n",
       "Zeile 6\n",
       "Zeile 7\n",
       "\n",
       "Zeile 9\n"
      ]
     },
     "metadata": {},
     "output_type": "display_data"
    }
   ],
   "source": [
    "%less data.txt"
   ]
  },
  {
   "cell_type": "code",
   "execution_count": 16,
   "id": "3e173708-dd32-4d45-9109-79175ece1ba6",
   "metadata": {},
   "outputs": [
    {
     "name": "stdout",
     "output_type": "stream",
     "text": [
      "False\n",
      "False\n",
      "True\n"
     ]
    }
   ],
   "source": [
    "with open('data.txt') as fobj:\n",
    "    print(fobj.closed)\n",
    "    print(fobj.closed)\n",
    "print(fobj.closed)"
   ]
  },
  {
   "cell_type": "code",
   "execution_count": 17,
   "id": "dad3906d-f507-44c7-9881-00489c5aabe6",
   "metadata": {},
   "outputs": [],
   "source": [
    "with open('data.txt') as fobj:\n",
    "    data = fobj.read()"
   ]
  },
  {
   "cell_type": "code",
   "execution_count": 18,
   "id": "88134156-1d19-43e2-bbe2-4e7f0cf890a9",
   "metadata": {},
   "outputs": [
    {
     "data": {
      "text/plain": [
       "'Zeile 1\\nZeile 2\\nZeile 3\\n\\nZeile 5\\nZeile 6\\nZeile 7\\n\\nZeile 9\\n'"
      ]
     },
     "execution_count": 18,
     "metadata": {},
     "output_type": "execute_result"
    }
   ],
   "source": [
    "data"
   ]
  },
  {
   "cell_type": "code",
   "execution_count": 19,
   "id": "16eef998-ec67-405c-b7e4-fcdeb94f66cc",
   "metadata": {},
   "outputs": [
    {
     "name": "stdout",
     "output_type": "stream",
     "text": [
      "Zeile 1\n",
      "Zeile 2\n",
      "Zeile 3\n",
      "\n",
      "Zeile 5\n",
      "Zeile 6\n",
      "Zeile 7\n",
      "\n",
      "Zeile 9\n",
      "\n"
     ]
    }
   ],
   "source": [
    "print(data)"
   ]
  },
  {
   "cell_type": "code",
   "execution_count": 20,
   "id": "ae1c9310-da17-44eb-83f9-bc8104501e53",
   "metadata": {},
   "outputs": [],
   "source": [
    "with open('data.txt') as fobj:\n",
    "    data_lines = fobj.readlines()"
   ]
  },
  {
   "cell_type": "code",
   "execution_count": 22,
   "id": "7de71553-23a5-451a-99a8-9c03a0219ec1",
   "metadata": {},
   "outputs": [
    {
     "data": {
      "text/plain": [
       "['Zeile 1\\n',\n",
       " 'Zeile 2\\n',\n",
       " 'Zeile 3\\n',\n",
       " '\\n',\n",
       " 'Zeile 5\\n',\n",
       " 'Zeile 6\\n',\n",
       " 'Zeile 7\\n',\n",
       " '\\n',\n",
       " 'Zeile 9\\n']"
      ]
     },
     "execution_count": 22,
     "metadata": {},
     "output_type": "execute_result"
    }
   ],
   "source": [
    "data_lines"
   ]
  },
  {
   "cell_type": "code",
   "execution_count": 24,
   "id": "d01c9aed-2190-4a37-9c56-9345a8a60302",
   "metadata": {},
   "outputs": [
    {
     "name": "stdout",
     "output_type": "stream",
     "text": [
      "Zeile 1\n",
      "Zeile 2\n",
      "Zeile 3\n",
      "\n",
      "Zeile 5\n",
      "Zeile 6\n",
      "Zeile 7\n",
      "\n",
      "Zeile 9\n"
     ]
    }
   ],
   "source": [
    "with open('data.txt') as fobj:\n",
    "    for line in fobj:\n",
    "        print(line, end='')"
   ]
  },
  {
   "cell_type": "code",
   "execution_count": 25,
   "id": "d8646523-8c57-482f-ba2d-ca06f407e927",
   "metadata": {},
   "outputs": [
    {
     "data": {
      "text/plain": [
       "'Zeile 9\\n'"
      ]
     },
     "execution_count": 25,
     "metadata": {},
     "output_type": "execute_result"
    }
   ],
   "source": [
    "line"
   ]
  },
  {
   "cell_type": "code",
   "execution_count": 26,
   "id": "c2855c09-565a-432f-8b55-dc048385348a",
   "metadata": {},
   "outputs": [
    {
     "data": {
      "text/plain": [
       "['Zeile', '9']"
      ]
     },
     "execution_count": 26,
     "metadata": {},
     "output_type": "execute_result"
    }
   ],
   "source": [
    "line.split()"
   ]
  },
  {
   "cell_type": "code",
   "execution_count": 27,
   "id": "625c8047-8de0-4103-a453-c9c3b5fdc3b7",
   "metadata": {},
   "outputs": [
    {
     "data": {
      "text/plain": [
       "'9'"
      ]
     },
     "execution_count": 27,
     "metadata": {},
     "output_type": "execute_result"
    }
   ],
   "source": [
    "line.split()[-1]"
   ]
  },
  {
   "cell_type": "code",
   "execution_count": 28,
   "id": "0c3bfc78-69ea-4667-914b-12939495804e",
   "metadata": {},
   "outputs": [
    {
     "data": {
      "text/plain": [
       "9"
      ]
     },
     "execution_count": 28,
     "metadata": {},
     "output_type": "execute_result"
    }
   ],
   "source": [
    "int(line.split()[-1])"
   ]
  },
  {
   "cell_type": "code",
   "execution_count": 29,
   "id": "d41b9cc3-afff-4ddd-9aed-fccf051985d1",
   "metadata": {},
   "outputs": [
    {
     "ename": "IndexError",
     "evalue": "list index out of range",
     "output_type": "error",
     "traceback": [
      "\u001b[0;31m---------------------------------------------------------------------------\u001b[0m",
      "\u001b[0;31mIndexError\u001b[0m                                Traceback (most recent call last)",
      "Input \u001b[0;32mIn [29]\u001b[0m, in \u001b[0;36m<cell line: 2>\u001b[0;34m()\u001b[0m\n\u001b[1;32m      2\u001b[0m \u001b[38;5;28;01mwith\u001b[39;00m \u001b[38;5;28mopen\u001b[39m(\u001b[38;5;124m'\u001b[39m\u001b[38;5;124mdata.txt\u001b[39m\u001b[38;5;124m'\u001b[39m) \u001b[38;5;28;01mas\u001b[39;00m fobj:\n\u001b[1;32m      3\u001b[0m     \u001b[38;5;28;01mfor\u001b[39;00m line \u001b[38;5;129;01min\u001b[39;00m fobj:\n\u001b[0;32m----> 4\u001b[0m         sum_ \u001b[38;5;241m+\u001b[39m\u001b[38;5;241m=\u001b[39m \u001b[38;5;28mint\u001b[39m(\u001b[43mline\u001b[49m\u001b[38;5;241;43m.\u001b[39;49m\u001b[43msplit\u001b[49m\u001b[43m(\u001b[49m\u001b[43m)\u001b[49m\u001b[43m[\u001b[49m\u001b[38;5;241;43m-\u001b[39;49m\u001b[38;5;241;43m1\u001b[39;49m\u001b[43m]\u001b[49m)\n",
      "\u001b[0;31mIndexError\u001b[0m: list index out of range"
     ]
    }
   ],
   "source": [
    "sum_ = 0\n",
    "with open('data.txt') as fobj:\n",
    "    for line in fobj:\n",
    "        sum_ += int(line.split()[-1])"
   ]
  },
  {
   "cell_type": "code",
   "execution_count": 30,
   "id": "34cc3480-39e0-40d3-b4a4-fda0d50b53ab",
   "metadata": {},
   "outputs": [
    {
     "data": {
      "text/plain": [
       "'\\n'"
      ]
     },
     "execution_count": 30,
     "metadata": {},
     "output_type": "execute_result"
    }
   ],
   "source": [
    "line"
   ]
  },
  {
   "cell_type": "code",
   "execution_count": 33,
   "id": "d0536d2f-7c03-4c08-9b11-200210f49791",
   "metadata": {},
   "outputs": [
    {
     "data": {
      "text/plain": [
       "[]"
      ]
     },
     "execution_count": 33,
     "metadata": {},
     "output_type": "execute_result"
    }
   ],
   "source": [
    "line.split()"
   ]
  },
  {
   "cell_type": "code",
   "execution_count": 34,
   "id": "bd52d962-2865-46a8-9a1f-1fd60894798b",
   "metadata": {},
   "outputs": [
    {
     "data": {
      "text/plain": [
       "''"
      ]
     },
     "execution_count": 34,
     "metadata": {},
     "output_type": "execute_result"
    }
   ],
   "source": [
    "line.strip()"
   ]
  },
  {
   "cell_type": "code",
   "execution_count": 35,
   "id": "149e5748-6716-4766-92d7-f2e364870202",
   "metadata": {},
   "outputs": [],
   "source": [
    "sum_ = 0\n",
    "with open('data.txt') as fobj:\n",
    "    for line in fobj:\n",
    "        if line.strip():\n",
    "            sum_ += int(line.split()[-1])"
   ]
  },
  {
   "cell_type": "code",
   "execution_count": 36,
   "id": "8121600a-a941-4325-9f82-cc02f6c4d142",
   "metadata": {},
   "outputs": [
    {
     "data": {
      "text/plain": [
       "33"
      ]
     },
     "execution_count": 36,
     "metadata": {},
     "output_type": "execute_result"
    }
   ],
   "source": [
    "sum_"
   ]
  },
  {
   "cell_type": "code",
   "execution_count": 37,
   "id": "595f320d-505e-433b-9770-2fd2d3203e09",
   "metadata": {},
   "outputs": [],
   "source": [
    "with open('data.txt') as fobj:\n",
    "    sum_ = sum(int(line.split()[-1]) for line in fobj if line.strip())"
   ]
  },
  {
   "cell_type": "code",
   "execution_count": 38,
   "id": "d03e934b-12b7-4bbe-8e82-5c215b759f0d",
   "metadata": {},
   "outputs": [
    {
     "data": {
      "text/plain": [
       "33"
      ]
     },
     "execution_count": 38,
     "metadata": {},
     "output_type": "execute_result"
    }
   ],
   "source": [
    "sum_"
   ]
  },
  {
   "cell_type": "markdown",
   "id": "227fff82-649b-4d5f-b7a2-18ec1811de02",
   "metadata": {},
   "source": [
    "# Pause bis 11:55 Uhr"
   ]
  },
  {
   "cell_type": "code",
   "execution_count": 39,
   "id": "3f70c026-8a37-4040-89c7-177c3c9b82ad",
   "metadata": {},
   "outputs": [
    {
     "data": {
      "text/plain": [
       "Name    Wert\n",
       "Zeile 1\n",
       "Zeile 2\n",
       "Zeile 3\n",
       "\n",
       "Zeile 5\n",
       "Zeile 6\n",
       "Zeile 7\n",
       "\n",
       "Zeile 9\n"
      ]
     },
     "metadata": {},
     "output_type": "display_data"
    }
   ],
   "source": [
    "%less data2.txt"
   ]
  },
  {
   "cell_type": "code",
   "execution_count": 41,
   "id": "03f844c9-1acc-4e8c-ac8d-b2917720f2c9",
   "metadata": {},
   "outputs": [
    {
     "data": {
      "text/plain": [
       "['Zeile', '9']"
      ]
     },
     "execution_count": 41,
     "metadata": {},
     "output_type": "execute_result"
    }
   ],
   "source": [
    "line.split()"
   ]
  },
  {
   "cell_type": "code",
   "execution_count": 48,
   "id": "f0bf5bd5-ac56-45d3-a822-56b6066bc936",
   "metadata": {},
   "outputs": [],
   "source": [
    "names = []\n",
    "values = []\n",
    "with open('data2.txt') as fobj:\n",
    "    next(fobj)\n",
    "    for line in fobj:\n",
    "        if line.strip():\n",
    "            name, value = line.split()\n",
    "            names.append(name)\n",
    "            values.append(int(value))"
   ]
  },
  {
   "cell_type": "code",
   "execution_count": 44,
   "id": "a21cc647-481b-4156-8946-5308bd1f6994",
   "metadata": {},
   "outputs": [
    {
     "data": {
      "text/plain": [
       "['Zeile', 'Zeile', 'Zeile', 'Zeile', 'Zeile', 'Zeile', 'Zeile']"
      ]
     },
     "execution_count": 44,
     "metadata": {},
     "output_type": "execute_result"
    }
   ],
   "source": [
    "names"
   ]
  },
  {
   "cell_type": "code",
   "execution_count": 45,
   "id": "56c565db-eb56-4bb7-b10d-0dfae8fe9b9b",
   "metadata": {},
   "outputs": [
    {
     "data": {
      "text/plain": [
       "[1, 2, 3, 5, 6, 7, 9]"
      ]
     },
     "execution_count": 45,
     "metadata": {},
     "output_type": "execute_result"
    }
   ],
   "source": [
    "values"
   ]
  },
  {
   "cell_type": "code",
   "execution_count": 46,
   "id": "10ba738d-9e4e-4700-a808-c5b8676f0bbc",
   "metadata": {},
   "outputs": [
    {
     "data": {
      "text/plain": [
       "33"
      ]
     },
     "execution_count": 46,
     "metadata": {},
     "output_type": "execute_result"
    }
   ],
   "source": [
    "sum(values)"
   ]
  },
  {
   "cell_type": "code",
   "execution_count": 51,
   "id": "d5e4fa38-3ac1-4143-8272-af5dc2ebeae1",
   "metadata": {},
   "outputs": [],
   "source": [
    "names = []\n",
    "values = []\n",
    "table = {}\n",
    "with open('data2.txt') as fobj:\n",
    "    keys = next(fobj).split()\n",
    "    for line in fobj:\n",
    "        if line.strip():\n",
    "            name, value = line.split()\n",
    "            names.append(name)\n",
    "            values.append(int(value))\n",
    "table[keys[0]] = names\n",
    "table[keys[1]] = values"
   ]
  },
  {
   "cell_type": "code",
   "execution_count": 50,
   "id": "6cf0ac6f-f58d-4cae-aa19-e7b92ddfe1f8",
   "metadata": {},
   "outputs": [
    {
     "data": {
      "text/plain": [
       "['Name', 'Wert']"
      ]
     },
     "execution_count": 50,
     "metadata": {},
     "output_type": "execute_result"
    }
   ],
   "source": [
    "keys"
   ]
  },
  {
   "cell_type": "code",
   "execution_count": 52,
   "id": "0f8923a3-c6a4-4414-9a18-5634c7740247",
   "metadata": {},
   "outputs": [
    {
     "data": {
      "text/plain": [
       "{'Name': ['Zeile', 'Zeile', 'Zeile', 'Zeile', 'Zeile', 'Zeile', 'Zeile'],\n",
       " 'Wert': [1, 2, 3, 5, 6, 7, 9]}"
      ]
     },
     "execution_count": 52,
     "metadata": {},
     "output_type": "execute_result"
    }
   ],
   "source": [
    "table"
   ]
  },
  {
   "cell_type": "code",
   "execution_count": 54,
   "id": "ba60ae8f-59a9-40ac-afbd-fb32bb46d756",
   "metadata": {},
   "outputs": [],
   "source": [
    "with open('data2.txt') as fobj:\n",
    "    keys = next(fobj).split()\n",
    "    table = {key: [] for key in keys}\n",
    "    for line in fobj:\n",
    "        if line.strip():\n",
    "            for key, value in zip(keys, line.split()):\n",
    "                table[key].append(value)"
   ]
  },
  {
   "cell_type": "code",
   "execution_count": 55,
   "id": "26a4aa83-109a-463e-ae6f-a8d8d8feddcd",
   "metadata": {},
   "outputs": [
    {
     "data": {
      "text/plain": [
       "{'Name': ['Zeile', 'Zeile', 'Zeile', 'Zeile', 'Zeile', 'Zeile', 'Zeile'],\n",
       " 'Wert': ['1', '2', '3', '5', '6', '7', '9']}"
      ]
     },
     "execution_count": 55,
     "metadata": {},
     "output_type": "execute_result"
    }
   ],
   "source": [
    "table"
   ]
  },
  {
   "cell_type": "code",
   "execution_count": 68,
   "id": "8f843405-ae9b-46cf-9727-9afe9e20996d",
   "metadata": {},
   "outputs": [],
   "source": [
    "def default_converter(string):\n",
    "    try:\n",
    "        return int(string)\n",
    "    except ValueError:\n",
    "        try:\n",
    "            return float(string)\n",
    "        except ValueError:\n",
    "            return string\n",
    "\n",
    "\n",
    "def read_file(file_name,\n",
    "              converters={'Wert1': complex},\n",
    "              default_converter=default_converter):\n",
    "    \"\"\"Read file as dict of lists.\"\"\"\n",
    "    with open(file_name) as fobj:\n",
    "        keys = next(fobj).split()\n",
    "        table = {key: [] for key in keys}\n",
    "        for line in fobj:\n",
    "            if line.strip():\n",
    "                for key, value in zip(keys, line.split()):\n",
    "                    convert = converters.get(key, default_converter)\n",
    "                    table[key].append(convert(value))\n",
    "    return table"
   ]
  },
  {
   "cell_type": "code",
   "execution_count": 69,
   "id": "b5897ddb-a475-4883-ac0f-e14f44f11c6b",
   "metadata": {},
   "outputs": [
    {
     "data": {
      "text/plain": [
       "{'Name': ['Zeile', 'Zeile', 'Zeile', 'Zeile', 'Zeile', 'Zeile', 'Zeile'],\n",
       " 'Wert': [1, 2, 3, 5, 6, 7, 9]}"
      ]
     },
     "execution_count": 69,
     "metadata": {},
     "output_type": "execute_result"
    }
   ],
   "source": [
    "read_file('data2.txt')"
   ]
  },
  {
   "cell_type": "code",
   "execution_count": 70,
   "id": "97e9b3c7-2a3e-432f-ae78-1184f57a6c97",
   "metadata": {},
   "outputs": [
    {
     "data": {
      "text/plain": [
       "{'Name': ['Zeile', 'Zeile', 'Zeile', 'Zeile', 'Zeile', 'Zeile', 'Zeile'],\n",
       " 'Wert1': [(1+0j), (2+0j), (3+0j), (5+0j), (6+0j), (7+0j), (9+0j)],\n",
       " 'Wert2': [4.6, 4.6, 4.6, 4.6, 4.6, 4.6, 4.6],\n",
       " 'Wert3': ['Hallo', 'Hallo', 'Hallo', 'Hallo', 'Hallo', 'Hallo', 'Hallo']}"
      ]
     },
     "execution_count": 70,
     "metadata": {},
     "output_type": "execute_result"
    }
   ],
   "source": [
    "read_file('data3.txt')"
   ]
  },
  {
   "cell_type": "code",
   "execution_count": 61,
   "id": "c0bd1687-f23d-4216-9b6a-d8192baee460",
   "metadata": {},
   "outputs": [
    {
     "ename": "ValueError",
     "evalue": "invalid literal for int() with base 10: '4.5'",
     "output_type": "error",
     "traceback": [
      "\u001b[0;31m---------------------------------------------------------------------------\u001b[0m",
      "\u001b[0;31mValueError\u001b[0m                                Traceback (most recent call last)",
      "Input \u001b[0;32mIn [61]\u001b[0m, in \u001b[0;36m<cell line: 1>\u001b[0;34m()\u001b[0m\n\u001b[0;32m----> 1\u001b[0m \u001b[38;5;28;43mint\u001b[39;49m\u001b[43m(\u001b[49m\u001b[38;5;124;43m'\u001b[39;49m\u001b[38;5;124;43m4.5\u001b[39;49m\u001b[38;5;124;43m'\u001b[39;49m\u001b[43m)\u001b[49m\n",
      "\u001b[0;31mValueError\u001b[0m: invalid literal for int() with base 10: '4.5'"
     ]
    }
   ],
   "source": [
    "int('4.5')"
   ]
  },
  {
   "cell_type": "code",
   "execution_count": 71,
   "id": "e0040d1c-2a98-4a8a-b225-2c5eb7ed15b8",
   "metadata": {},
   "outputs": [],
   "source": [
    "import pandas as pd"
   ]
  },
  {
   "cell_type": "code",
   "execution_count": 73,
   "id": "9454590b-76ad-4c84-a6cf-ba272466a3ff",
   "metadata": {},
   "outputs": [],
   "source": [
    "df = pd.read_csv('data3.txt', delim_whitespace=True)"
   ]
  },
  {
   "cell_type": "code",
   "execution_count": 74,
   "id": "8c1a3486-1b9f-4db7-a06a-22181a34f418",
   "metadata": {},
   "outputs": [
    {
     "data": {
      "text/html": [
       "<div>\n",
       "<style scoped>\n",
       "    .dataframe tbody tr th:only-of-type {\n",
       "        vertical-align: middle;\n",
       "    }\n",
       "\n",
       "    .dataframe tbody tr th {\n",
       "        vertical-align: top;\n",
       "    }\n",
       "\n",
       "    .dataframe thead th {\n",
       "        text-align: right;\n",
       "    }\n",
       "</style>\n",
       "<table border=\"1\" class=\"dataframe\">\n",
       "  <thead>\n",
       "    <tr style=\"text-align: right;\">\n",
       "      <th></th>\n",
       "      <th>Name</th>\n",
       "      <th>Wert1</th>\n",
       "      <th>Wert2</th>\n",
       "      <th>Wert3</th>\n",
       "    </tr>\n",
       "  </thead>\n",
       "  <tbody>\n",
       "    <tr>\n",
       "      <th>0</th>\n",
       "      <td>Zeile</td>\n",
       "      <td>1</td>\n",
       "      <td>4.6</td>\n",
       "      <td>Hallo</td>\n",
       "    </tr>\n",
       "    <tr>\n",
       "      <th>1</th>\n",
       "      <td>Zeile</td>\n",
       "      <td>2</td>\n",
       "      <td>4.6</td>\n",
       "      <td>Hallo</td>\n",
       "    </tr>\n",
       "    <tr>\n",
       "      <th>2</th>\n",
       "      <td>Zeile</td>\n",
       "      <td>3</td>\n",
       "      <td>4.6</td>\n",
       "      <td>Hallo</td>\n",
       "    </tr>\n",
       "    <tr>\n",
       "      <th>3</th>\n",
       "      <td>Zeile</td>\n",
       "      <td>5</td>\n",
       "      <td>4.6</td>\n",
       "      <td>Hallo</td>\n",
       "    </tr>\n",
       "    <tr>\n",
       "      <th>4</th>\n",
       "      <td>Zeile</td>\n",
       "      <td>6</td>\n",
       "      <td>4.6</td>\n",
       "      <td>Hallo</td>\n",
       "    </tr>\n",
       "    <tr>\n",
       "      <th>5</th>\n",
       "      <td>Zeile</td>\n",
       "      <td>7</td>\n",
       "      <td>4.6</td>\n",
       "      <td>Hallo</td>\n",
       "    </tr>\n",
       "    <tr>\n",
       "      <th>6</th>\n",
       "      <td>Zeile</td>\n",
       "      <td>9</td>\n",
       "      <td>4.6</td>\n",
       "      <td>Hallo</td>\n",
       "    </tr>\n",
       "  </tbody>\n",
       "</table>\n",
       "</div>"
      ],
      "text/plain": [
       "    Name  Wert1  Wert2  Wert3\n",
       "0  Zeile      1    4.6  Hallo\n",
       "1  Zeile      2    4.6  Hallo\n",
       "2  Zeile      3    4.6  Hallo\n",
       "3  Zeile      5    4.6  Hallo\n",
       "4  Zeile      6    4.6  Hallo\n",
       "5  Zeile      7    4.6  Hallo\n",
       "6  Zeile      9    4.6  Hallo"
      ]
     },
     "execution_count": 74,
     "metadata": {},
     "output_type": "execute_result"
    }
   ],
   "source": [
    "df"
   ]
  },
  {
   "cell_type": "code",
   "execution_count": 75,
   "id": "d3c027ec-20c9-4b70-b4fd-c6c27af1e525",
   "metadata": {},
   "outputs": [
    {
     "name": "stdout",
     "output_type": "stream",
     "text": [
      "<class 'pandas.core.frame.DataFrame'>\n",
      "RangeIndex: 7 entries, 0 to 6\n",
      "Data columns (total 4 columns):\n",
      " #   Column  Non-Null Count  Dtype  \n",
      "---  ------  --------------  -----  \n",
      " 0   Name    7 non-null      object \n",
      " 1   Wert1   7 non-null      int64  \n",
      " 2   Wert2   7 non-null      float64\n",
      " 3   Wert3   7 non-null      object \n",
      "dtypes: float64(1), int64(1), object(2)\n",
      "memory usage: 352.0+ bytes\n"
     ]
    }
   ],
   "source": [
    "df.info()"
   ]
  },
  {
   "cell_type": "code",
   "execution_count": null,
   "id": "7848919e-475d-4e4a-9ab5-a35bc20244fb",
   "metadata": {},
   "outputs": [],
   "source": [
    "pd.read_csv?"
   ]
  },
  {
   "cell_type": "code",
   "execution_count": 77,
   "id": "e809187b-5fb0-4d4b-a272-2006d4bb2256",
   "metadata": {},
   "outputs": [],
   "source": [
    "import pickle"
   ]
  },
  {
   "cell_type": "code",
   "execution_count": 78,
   "id": "fccaa822-d256-4f1c-b919-660eb119ee00",
   "metadata": {},
   "outputs": [],
   "source": [
    "L = list(range(2, 11))"
   ]
  },
  {
   "cell_type": "code",
   "execution_count": 80,
   "id": "ee140c9c-2183-4c5e-837d-7d0505ef2a70",
   "metadata": {},
   "outputs": [],
   "source": [
    "p = pickle.dumps(L)"
   ]
  },
  {
   "cell_type": "code",
   "execution_count": 81,
   "id": "34956bcb-939e-485d-b0c7-2f43890a0694",
   "metadata": {},
   "outputs": [
    {
     "data": {
      "text/plain": [
       "[2, 3, 4, 5, 6, 7, 8, 9, 10]"
      ]
     },
     "execution_count": 81,
     "metadata": {},
     "output_type": "execute_result"
    }
   ],
   "source": [
    "pickle.loads(p)"
   ]
  },
  {
   "cell_type": "code",
   "execution_count": 82,
   "id": "d85e3ca2-206d-4e73-b969-dbf0bdf15c27",
   "metadata": {},
   "outputs": [],
   "source": [
    "with open('liste.pcl', 'wb') as fobj:\n",
    "    pickle.dump(L, fobj)"
   ]
  },
  {
   "cell_type": "code",
   "execution_count": 83,
   "id": "82b15b05-56e5-4797-9564-a031eb9eb41e",
   "metadata": {},
   "outputs": [
    {
     "name": "stdout",
     "output_type": "stream",
     "text": [
      "-rw-r--r-- 1 pya_trainer_master pya_trainer_master 34 Aug 15 10:46 liste.pcl\n"
     ]
    }
   ],
   "source": [
    "%ls -al liste.pcl"
   ]
  },
  {
   "cell_type": "code",
   "execution_count": 84,
   "id": "7d3af33a-0da4-4d75-a877-b960e6623eb2",
   "metadata": {},
   "outputs": [],
   "source": [
    "with open('liste.pcl', 'rb') as fobj:\n",
    "    L2 = pickle.load(fobj)"
   ]
  },
  {
   "cell_type": "code",
   "execution_count": 85,
   "id": "0b66abdb-fd34-4f81-b84d-19dff085bced",
   "metadata": {},
   "outputs": [
    {
     "data": {
      "text/plain": [
       "True"
      ]
     },
     "execution_count": 85,
     "metadata": {},
     "output_type": "execute_result"
    }
   ],
   "source": [
    "L2 == L"
   ]
  },
  {
   "cell_type": "code",
   "execution_count": 86,
   "id": "aa5c2318-0dbf-4cb6-abbc-b13c4a7a8f6c",
   "metadata": {},
   "outputs": [
    {
     "data": {
      "text/plain": [
       "False"
      ]
     },
     "execution_count": 86,
     "metadata": {},
     "output_type": "execute_result"
    }
   ],
   "source": [
    "L2 is L"
   ]
  },
  {
   "cell_type": "code",
   "execution_count": 87,
   "id": "5bbe838d-5415-45b9-9502-154eb8721f70",
   "metadata": {},
   "outputs": [
    {
     "data": {
      "text/plain": [
       "[2, 3, 4, 5, 6, 7, 8, 9, 10]"
      ]
     },
     "execution_count": 87,
     "metadata": {},
     "output_type": "execute_result"
    }
   ],
   "source": [
    "L2"
   ]
  },
  {
   "cell_type": "code",
   "execution_count": 88,
   "id": "8b000656-91cd-4c46-ac72-d6c25b48c5d4",
   "metadata": {},
   "outputs": [],
   "source": [
    "raw = ['1\\n', '2\\n']"
   ]
  },
  {
   "cell_type": "code",
   "execution_count": 89,
   "id": "858bc871-4885-472d-9d53-c9484184f9f5",
   "metadata": {},
   "outputs": [
    {
     "data": {
      "text/plain": [
       "[1, 2]"
      ]
     },
     "execution_count": 89,
     "metadata": {},
     "output_type": "execute_result"
    }
   ],
   "source": [
    "[int(x) for x in raw]"
   ]
  },
  {
   "cell_type": "code",
   "execution_count": 90,
   "id": "31204ee7-a31b-45ae-b2a1-b5297130f512",
   "metadata": {},
   "outputs": [],
   "source": [
    "from string import whitespace"
   ]
  },
  {
   "cell_type": "code",
   "execution_count": 91,
   "id": "6edeea54-4dd1-43ef-b46d-386a040fed73",
   "metadata": {},
   "outputs": [
    {
     "data": {
      "text/plain": [
       "' \\t\\n\\r\\x0b\\x0c'"
      ]
     },
     "execution_count": 91,
     "metadata": {},
     "output_type": "execute_result"
    }
   ],
   "source": [
    "whitespace"
   ]
  },
  {
   "cell_type": "code",
   "execution_count": 92,
   "id": "bfe86d69-5a6d-4c17-ae62-9648b0a73b9e",
   "metadata": {},
   "outputs": [
    {
     "data": {
      "text/plain": [
       "['1', '2']"
      ]
     },
     "execution_count": 92,
     "metadata": {},
     "output_type": "execute_result"
    }
   ],
   "source": [
    "[x.strip() for x in raw]"
   ]
  },
  {
   "cell_type": "code",
   "execution_count": 15,
   "id": "f242b3db-aca1-4502-8f97-d74690d5a9dc",
   "metadata": {},
   "outputs": [],
   "source": [
    "with open(\"t4.txt\", \"w\") as file:\n",
    "    for i in range(1, 11):\n",
    "        file.write(f\"{i:3d}\\n\")"
   ]
  },
  {
   "cell_type": "code",
   "execution_count": 16,
   "id": "06ee0181-3d3a-4212-8cfb-1012ed332f72",
   "metadata": {},
   "outputs": [
    {
     "data": {
      "text/plain": [
       "  1\n",
       "  2\n",
       "  3\n",
       "  4\n",
       "  5\n",
       "  6\n",
       "  7\n",
       "  8\n",
       "  9\n",
       " 10\n"
      ]
     },
     "metadata": {},
     "output_type": "display_data"
    }
   ],
   "source": [
    "%less t4.txt"
   ]
  },
  {
   "cell_type": "code",
   "execution_count": 1,
   "id": "83379a40-185b-4c5d-a28a-b5f7f483c962",
   "metadata": {},
   "outputs": [],
   "source": [
    "with open(\"t1.txt\", \"w\") as file:\n",
    "    for i in range(1, 11):\n",
    "        file.write(str(i)+\"\\n\")"
   ]
  },
  {
   "cell_type": "code",
   "execution_count": 3,
   "id": "d10e3b38-1848-4e68-9f29-d4a7a4760791",
   "metadata": {},
   "outputs": [
    {
     "data": {
      "text/plain": [
       "1\n",
       "2\n",
       "3\n",
       "4\n",
       "5\n",
       "6\n",
       "7\n",
       "8\n",
       "9\n",
       "10\n"
      ]
     },
     "metadata": {},
     "output_type": "display_data"
    }
   ],
   "source": [
    "%less t1.txt"
   ]
  },
  {
   "cell_type": "code",
   "execution_count": 5,
   "id": "3154ce29-0ca2-4357-92f7-1660a6be8481",
   "metadata": {},
   "outputs": [],
   "source": [
    "with open(\"t2.txt\", \"w\") as file:\n",
    "    file.write('\\n'.join(str(i) for i in range(1, 11)))"
   ]
  },
  {
   "cell_type": "code",
   "execution_count": 6,
   "id": "c606be7b-be57-4729-b80c-373831c26f90",
   "metadata": {},
   "outputs": [
    {
     "data": {
      "text/plain": [
       "1\n",
       "2\n",
       "3\n",
       "4\n",
       "5\n",
       "6\n",
       "7\n",
       "8\n",
       "9\n",
       "10"
      ]
     },
     "metadata": {},
     "output_type": "display_data"
    }
   ],
   "source": [
    "%less t2.txt"
   ]
  },
  {
   "cell_type": "code",
   "execution_count": 7,
   "id": "543db010-7ba9-43b3-92c2-0f9650cec7ba",
   "metadata": {},
   "outputs": [
    {
     "data": {
      "text/plain": [
       "\u001b[0;31mDocstring:\u001b[0m\n",
       "print(value, ..., sep=' ', end='\\n', file=sys.stdout, flush=False)\n",
       "\n",
       "Prints the values to a stream, or to sys.stdout by default.\n",
       "Optional keyword arguments:\n",
       "file:  a file-like object (stream); defaults to the current sys.stdout.\n",
       "sep:   string inserted between values, default a space.\n",
       "end:   string appended after the last value, default a newline.\n",
       "flush: whether to forcibly flush the stream.\n",
       "\u001b[0;31mType:\u001b[0m      builtin_function_or_method\n"
      ]
     },
     "metadata": {},
     "output_type": "display_data"
    }
   ],
   "source": [
    "print?"
   ]
  },
  {
   "cell_type": "code",
   "execution_count": 11,
   "id": "089e6531-ad53-45c7-867e-9f9088f5b3c9",
   "metadata": {},
   "outputs": [],
   "source": [
    "with open(\"t3.txt\", \"w\") as file:\n",
    "    print(*range(1, 11), sep='\\n', file=file)"
   ]
  },
  {
   "cell_type": "code",
   "execution_count": 12,
   "id": "4fd5b00b-e95a-4bd6-b8d6-be16e8b7b1e3",
   "metadata": {},
   "outputs": [
    {
     "data": {
      "text/plain": [
       "1\n",
       "2\n",
       "3\n",
       "4\n",
       "5\n",
       "6\n",
       "7\n",
       "8\n",
       "9\n",
       "10\n"
      ]
     },
     "metadata": {},
     "output_type": "display_data"
    }
   ],
   "source": [
    "%less t3.txt"
   ]
  },
  {
   "cell_type": "code",
   "execution_count": 17,
   "id": "e31486f6-bc8f-4269-a73b-3e6c69493ce7",
   "metadata": {},
   "outputs": [],
   "source": [
    "with open(\"t2.txt\", \"r\") as file:\n",
    "    all_data = file.read()"
   ]
  },
  {
   "cell_type": "code",
   "execution_count": 18,
   "id": "4383b997-a372-433a-9e69-ce14bba3e8e3",
   "metadata": {},
   "outputs": [
    {
     "data": {
      "text/plain": [
       "'1\\n2\\n3\\n4\\n5\\n6\\n7\\n8\\n9\\n10'"
      ]
     },
     "execution_count": 18,
     "metadata": {},
     "output_type": "execute_result"
    }
   ],
   "source": [
    "all_data"
   ]
  },
  {
   "cell_type": "code",
   "execution_count": 19,
   "id": "224ac645-978c-4ba3-82c8-60d402139148",
   "metadata": {},
   "outputs": [],
   "source": [
    "with open(\"t2.txt\", \"r\") as file:\n",
    "    data_lines = file.readlines()"
   ]
  },
  {
   "cell_type": "code",
   "execution_count": 20,
   "id": "14243b91-53a9-49c4-bdf2-468e7b42b8a9",
   "metadata": {},
   "outputs": [
    {
     "data": {
      "text/plain": [
       "['1\\n', '2\\n', '3\\n', '4\\n', '5\\n', '6\\n', '7\\n', '8\\n', '9\\n', '10']"
      ]
     },
     "execution_count": 20,
     "metadata": {},
     "output_type": "execute_result"
    }
   ],
   "source": [
    "data_lines"
   ]
  },
  {
   "cell_type": "code",
   "execution_count": 21,
   "id": "b2091f82-97dd-4236-8d07-8575ed0fc60f",
   "metadata": {},
   "outputs": [],
   "source": [
    "with open(\"t2.txt\", \"r\") as file:\n",
    "    numbers = [int(x) for x in file.readlines()]"
   ]
  },
  {
   "cell_type": "code",
   "execution_count": 22,
   "id": "68e4755b-f102-4c17-84c6-97595b9e498a",
   "metadata": {},
   "outputs": [
    {
     "data": {
      "text/plain": [
       "[1, 2, 3, 4, 5, 6, 7, 8, 9, 10]"
      ]
     },
     "execution_count": 22,
     "metadata": {},
     "output_type": "execute_result"
    }
   ],
   "source": [
    "numbers"
   ]
  },
  {
   "cell_type": "code",
   "execution_count": 23,
   "id": "12776393-b0c7-4ae6-b374-1b56d71dbda3",
   "metadata": {},
   "outputs": [],
   "source": [
    "import argparse\n",
    "\n",
    "#  input\n",
    "parser = argparse.ArgumentParser(description=\"IO-Handler\")"
   ]
  },
  {
   "cell_type": "code",
   "execution_count": 24,
   "id": "e0047b46-63bd-4c82-95f1-2c5aa102603d",
   "metadata": {},
   "outputs": [
    {
     "data": {
      "text/plain": [
       "\u001b[0;31mSignature:\u001b[0m \u001b[0mparser\u001b[0m\u001b[0;34m.\u001b[0m\u001b[0madd_argument\u001b[0m\u001b[0;34m(\u001b[0m\u001b[0;34m*\u001b[0m\u001b[0margs\u001b[0m\u001b[0;34m,\u001b[0m \u001b[0;34m**\u001b[0m\u001b[0mkwargs\u001b[0m\u001b[0;34m)\u001b[0m\u001b[0;34m\u001b[0m\u001b[0;34m\u001b[0m\u001b[0m\n",
       "\u001b[0;31mDocstring:\u001b[0m\n",
       "add_argument(dest, ..., name=value, ...)\n",
       "add_argument(option_string, option_string, ..., name=value, ...)\n",
       "\u001b[0;31mFile:\u001b[0m      /opt/mambaforge/envs/python310/lib/python3.10/argparse.py\n",
       "\u001b[0;31mType:\u001b[0m      method\n"
      ]
     },
     "metadata": {},
     "output_type": "display_data"
    }
   ],
   "source": [
    "parser.add_argument?"
   ]
  },
  {
   "cell_type": "code",
   "execution_count": null,
   "id": "4d8279d7-dc3b-434f-a2f1-431bd2946c18",
   "metadata": {},
   "outputs": [],
   "source": []
  }
 ],
 "metadata": {
  "kernelspec": {
   "display_name": "Python 3.10",
   "language": "python",
   "name": "python310"
  },
  "language_info": {
   "codemirror_mode": {
    "name": "ipython",
    "version": 3
   },
   "file_extension": ".py",
   "mimetype": "text/x-python",
   "name": "python",
   "nbconvert_exporter": "python",
   "pygments_lexer": "ipython3",
   "version": "3.10.4"
  }
 },
 "nbformat": 4,
 "nbformat_minor": 5
}
