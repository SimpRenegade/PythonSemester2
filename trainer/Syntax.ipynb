{
 "cells": [
  {
   "cell_type": "markdown",
   "id": "1f4a0377-4577-4fb9-bb9f-6eeaca1376a8",
   "metadata": {},
   "source": [
    "# Kommentare"
   ]
  },
  {
   "cell_type": "code",
   "execution_count": 1,
   "id": "a536345c-7981-4cf7-ae18-298d3ccefcfb",
   "metadata": {},
   "outputs": [],
   "source": [
    "# Kommentar"
   ]
  },
  {
   "cell_type": "code",
   "execution_count": 4,
   "id": "ee026336-4866-443d-95e0-33367a996dcb",
   "metadata": {},
   "outputs": [
    {
     "data": {
      "text/plain": [
       "2"
      ]
     },
     "execution_count": 4,
     "metadata": {},
     "output_type": "execute_result"
    }
   ],
   "source": [
    "1 + 1  # Kommentar"
   ]
  },
  {
   "cell_type": "code",
   "execution_count": 7,
   "id": "a98391d8-9f56-4536-9f72-99f53830d390",
   "metadata": {},
   "outputs": [],
   "source": [
    "1 + 1;"
   ]
  },
  {
   "cell_type": "code",
   "execution_count": 8,
   "id": "7158e68a-1ae4-4a9c-a7be-ac2a06757b89",
   "metadata": {},
   "outputs": [],
   "source": [
    "res = 1 + 1"
   ]
  },
  {
   "cell_type": "code",
   "execution_count": 9,
   "id": "af2f74a4-7f5e-4bd4-8321-4a1600855b23",
   "metadata": {},
   "outputs": [
    {
     "data": {
      "text/plain": [
       "2"
      ]
     },
     "execution_count": 9,
     "metadata": {},
     "output_type": "execute_result"
    }
   ],
   "source": [
    "res"
   ]
  },
  {
   "cell_type": "markdown",
   "id": "297c33ca-5fd1-4e97-b967-76e8c054d8cd",
   "metadata": {},
   "source": [
    "# Einrückungen"
   ]
  },
  {
   "cell_type": "code",
   "execution_count": 11,
   "id": "169aa5ce-a40a-41a3-9c24-93afe14bc5a8",
   "metadata": {},
   "outputs": [
    {
     "name": "stdout",
     "output_type": "stream",
     "text": [
      "1\n",
      "2\n",
      "3\n"
     ]
    }
   ],
   "source": [
    "for x in [1, 2, 3]:\n",
    "    print(x)"
   ]
  },
  {
   "cell_type": "code",
   "execution_count": 13,
   "id": "00388ff9-3bd7-4359-ac93-726cadb4e4ce",
   "metadata": {},
   "outputs": [
    {
     "name": "stdout",
     "output_type": "stream",
     "text": [
      "1\n",
      "2\n",
      "3\n",
      "Ende\n"
     ]
    }
   ],
   "source": [
    "for x in [1, 2, 3]:\n",
    "    print(x)\n",
    "print('Ende')"
   ]
  },
  {
   "cell_type": "code",
   "execution_count": 14,
   "id": "9659abf8-2fe1-40a3-a6ce-f46d651daec0",
   "metadata": {},
   "outputs": [
    {
     "name": "stdout",
     "output_type": "stream",
     "text": [
      "1\n",
      "Ende\n",
      "2\n",
      "Ende\n",
      "3\n",
      "Ende\n"
     ]
    }
   ],
   "source": [
    "for x in [1, 2, 3]:\n",
    "    print(x)\n",
    "    print('Ende')"
   ]
  },
  {
   "cell_type": "markdown",
   "id": "69c45f31-cd84-4b33-947c-052028327f11",
   "metadata": {},
   "source": [
    "# Pause bis 10 Uhr"
   ]
  },
  {
   "cell_type": "markdown",
   "id": "e0894bcd-605b-49a0-b260-e74489062ba0",
   "metadata": {},
   "source": [
    "# Zeilenumbrüche"
   ]
  },
  {
   "cell_type": "code",
   "execution_count": 15,
   "id": "ba5dcc58-7850-46b7-a0a4-2d08b4fb4360",
   "metadata": {},
   "outputs": [
    {
     "data": {
      "text/plain": [
       "'t1t2t3'"
      ]
     },
     "execution_count": 15,
     "metadata": {},
     "output_type": "execute_result"
    }
   ],
   "source": [
    "'t1' 't2' 't3'"
   ]
  },
  {
   "cell_type": "code",
   "execution_count": 16,
   "id": "d1ce3d54-0352-417d-982c-7e2716ef17d3",
   "metadata": {},
   "outputs": [
    {
     "data": {
      "text/plain": [
       "'t1t2t3'"
      ]
     },
     "execution_count": 16,
     "metadata": {},
     "output_type": "execute_result"
    }
   ],
   "source": [
    "'t1' \\\n",
    "'t2' \\\n",
    "'t3'"
   ]
  },
  {
   "cell_type": "code",
   "execution_count": 17,
   "id": "ac9d2ed1-ffb9-4f6c-bb02-0cbd3377721b",
   "metadata": {},
   "outputs": [
    {
     "ename": "SyntaxError",
     "evalue": "unexpected character after line continuation character (118588515.py, line 2)",
     "output_type": "error",
     "traceback": [
      "\u001b[0;36m  Input \u001b[0;32mIn [17]\u001b[0;36m\u001b[0m\n\u001b[0;31m    't2' \\\u001b[0m\n\u001b[0m           \n^\u001b[0m\n\u001b[0;31mSyntaxError\u001b[0m\u001b[0;31m:\u001b[0m unexpected character after line continuation character\n"
     ]
    }
   ],
   "source": [
    "'t1' \\\n",
    "'t2' \\ \n",
    "'t3'"
   ]
  },
  {
   "cell_type": "code",
   "execution_count": 18,
   "id": "efad2604-2151-4aa9-9ead-a140950080f5",
   "metadata": {},
   "outputs": [
    {
     "data": {
      "text/plain": [
       "'t1t2t3'"
      ]
     },
     "execution_count": 18,
     "metadata": {},
     "output_type": "execute_result"
    }
   ],
   "source": [
    "('t1'\n",
    " 't2'\n",
    " 't3')"
   ]
  },
  {
   "cell_type": "code",
   "execution_count": 19,
   "id": "bfbde00c-0fef-4c2c-bd26-31355d2bbe6d",
   "metadata": {},
   "outputs": [
    {
     "data": {
      "text/plain": [
       "[1, 2, 3]"
      ]
     },
     "execution_count": 19,
     "metadata": {},
     "output_type": "execute_result"
    }
   ],
   "source": [
    "[1, 2, 3]"
   ]
  },
  {
   "cell_type": "code",
   "execution_count": 20,
   "id": "3731e67b-e412-43e7-8146-d32b98369faa",
   "metadata": {},
   "outputs": [
    {
     "data": {
      "text/plain": [
       "[1, 2, 3]"
      ]
     },
     "execution_count": 20,
     "metadata": {},
     "output_type": "execute_result"
    }
   ],
   "source": [
    "[1,\n",
    " 2,\n",
    " 3]"
   ]
  },
  {
   "cell_type": "code",
   "execution_count": 21,
   "id": "c0360111-c9e3-4b93-afd1-285dfa376516",
   "metadata": {},
   "outputs": [
    {
     "data": {
      "text/plain": [
       "[1, 3]"
      ]
     },
     "execution_count": 21,
     "metadata": {},
     "output_type": "execute_result"
    }
   ],
   "source": [
    "[1,\n",
    " # 2,\n",
    " 3]"
   ]
  },
  {
   "cell_type": "code",
   "execution_count": 22,
   "id": "b433c1d0-5618-45ef-bb08-9d2ead89966b",
   "metadata": {},
   "outputs": [
    {
     "data": {
      "text/plain": [
       "9"
      ]
     },
     "execution_count": 22,
     "metadata": {},
     "output_type": "execute_result"
    }
   ],
   "source": [
    "(1 + 2) * 3"
   ]
  },
  {
   "cell_type": "markdown",
   "id": "943bbc77-b804-4045-bf01-aa1c35eff2b6",
   "metadata": {},
   "source": [
    "# Groß- und Kleinschreibung"
   ]
  },
  {
   "cell_type": "code",
   "execution_count": 23,
   "id": "3806dc8d-2f6c-473c-85ec-df19eed130d2",
   "metadata": {},
   "outputs": [],
   "source": [
    "a = 10\n",
    "A = 100"
   ]
  },
  {
   "cell_type": "code",
   "execution_count": 24,
   "id": "9da8317a-4e28-426e-b320-53abff5660da",
   "metadata": {},
   "outputs": [
    {
     "data": {
      "text/plain": [
       "10"
      ]
     },
     "execution_count": 24,
     "metadata": {},
     "output_type": "execute_result"
    }
   ],
   "source": [
    "a"
   ]
  },
  {
   "cell_type": "code",
   "execution_count": 25,
   "id": "8df5984b-833d-434c-b592-2fe585384b23",
   "metadata": {},
   "outputs": [
    {
     "data": {
      "text/plain": [
       "100"
      ]
     },
     "execution_count": 25,
     "metadata": {},
     "output_type": "execute_result"
    }
   ],
   "source": [
    "A"
   ]
  },
  {
   "cell_type": "markdown",
   "id": "5aa46df6-d8b8-40df-8785-395561eda010",
   "metadata": {},
   "source": [
    "# Strings"
   ]
  },
  {
   "cell_type": "code",
   "execution_count": 26,
   "id": "8973a1f8-487f-4188-a7c0-4e7991cac8bd",
   "metadata": {},
   "outputs": [
    {
     "data": {
      "text/plain": [
       "'abc'"
      ]
     },
     "execution_count": 26,
     "metadata": {},
     "output_type": "execute_result"
    }
   ],
   "source": [
    "'abc'"
   ]
  },
  {
   "cell_type": "code",
   "execution_count": 27,
   "id": "a4722241-75f6-4970-8d40-79c64d8ac40b",
   "metadata": {},
   "outputs": [
    {
     "data": {
      "text/plain": [
       "'abc'"
      ]
     },
     "execution_count": 27,
     "metadata": {},
     "output_type": "execute_result"
    }
   ],
   "source": [
    "\"abc\""
   ]
  },
  {
   "cell_type": "code",
   "execution_count": 28,
   "id": "6979ce21-6c51-4ae1-b75f-e848f0e0181d",
   "metadata": {},
   "outputs": [
    {
     "data": {
      "text/plain": [
       "'Er sagte:\"Hallo!\".'"
      ]
     },
     "execution_count": 28,
     "metadata": {},
     "output_type": "execute_result"
    }
   ],
   "source": [
    "'Er sagte:\"Hallo!\".'"
   ]
  },
  {
   "cell_type": "code",
   "execution_count": 29,
   "id": "2e7c6dbb-e5bc-4c56-ba1a-79738b7d174b",
   "metadata": {},
   "outputs": [
    {
     "ename": "SyntaxError",
     "evalue": "invalid syntax (3683212094.py, line 1)",
     "output_type": "error",
     "traceback": [
      "\u001b[0;36m  Input \u001b[0;32mIn [29]\u001b[0;36m\u001b[0m\n\u001b[0;31m    \"Er sagte:\"Hallo!\".\"\u001b[0m\n\u001b[0m               ^\u001b[0m\n\u001b[0;31mSyntaxError\u001b[0m\u001b[0;31m:\u001b[0m invalid syntax\n"
     ]
    }
   ],
   "source": [
    "\"Er sagte:\"Hallo!\".\""
   ]
  },
  {
   "cell_type": "code",
   "execution_count": 30,
   "id": "0aaaf529-c391-43b4-8b40-a10408153771",
   "metadata": {},
   "outputs": [
    {
     "data": {
      "text/plain": [
       "'Er sagte:\"Hallo!\".'"
      ]
     },
     "execution_count": 30,
     "metadata": {},
     "output_type": "execute_result"
    }
   ],
   "source": [
    "\"Er sagte:\\\"Hallo!\\\".\""
   ]
  },
  {
   "cell_type": "code",
   "execution_count": 31,
   "id": "d50eac84-0444-4625-983d-10eafb95175d",
   "metadata": {},
   "outputs": [],
   "source": [
    "s = \"\"\"Zeile 1\n",
    "Zeile 2\n",
    "\n",
    "Zeile 4\n",
    "\"\"\""
   ]
  },
  {
   "cell_type": "code",
   "execution_count": 32,
   "id": "b163f573-668a-4b46-8c97-cb779338fdae",
   "metadata": {},
   "outputs": [
    {
     "data": {
      "text/plain": [
       "'Zeile 1\\nZeile 2\\n\\nZeile 4\\n'"
      ]
     },
     "execution_count": 32,
     "metadata": {},
     "output_type": "execute_result"
    }
   ],
   "source": [
    "s"
   ]
  },
  {
   "cell_type": "code",
   "execution_count": 33,
   "id": "6ab1167d-4651-4a1c-aa9c-0c91326268f6",
   "metadata": {},
   "outputs": [
    {
     "name": "stdout",
     "output_type": "stream",
     "text": [
      "Zeile 1\n",
      "Zeile 2\n",
      "\n",
      "Zeile 4\n",
      "\n"
     ]
    }
   ],
   "source": [
    "print(s)"
   ]
  },
  {
   "cell_type": "code",
   "execution_count": null,
   "id": "f55194ae-b964-4bc2-bb4e-ca43f2f5c57b",
   "metadata": {},
   "outputs": [],
   "source": []
  }
 ],
 "metadata": {
  "kernelspec": {
   "display_name": "Python 3.10",
   "language": "python",
   "name": "python310"
  },
  "language_info": {
   "codemirror_mode": {
    "name": "ipython",
    "version": 3
   },
   "file_extension": ".py",
   "mimetype": "text/x-python",
   "name": "python",
   "nbconvert_exporter": "python",
   "pygments_lexer": "ipython3",
   "version": "3.10.4"
  }
 },
 "nbformat": 4,
 "nbformat_minor": 5
}
