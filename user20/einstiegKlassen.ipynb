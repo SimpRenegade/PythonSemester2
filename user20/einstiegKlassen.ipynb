{
 "cells": [
  {
   "cell_type": "markdown",
   "id": "18f5c3e9-f64c-4c71-8430-778267bfd6b7",
   "metadata": {},
   "source": [
    "# Klassen"
   ]
  },
  {
   "cell_type": "code",
   "execution_count": 25,
   "id": "5cbe41f7-14a8-4b6b-8058-236c95443e09",
   "metadata": {},
   "outputs": [],
   "source": [
    "class Auto:\n",
    "    vorgabe_farben = ['gelb', 'blau', 'orange']\n",
    "    \n",
    "    def __init__(self, marke, farbe=None):\n",
    "        self.marke = marke\n",
    "    if not farbe:\n",
    "        self.farbe = random.choice(self.vorgabe_farben)\n",
    "    else:\n",
    "        self.farbe = farbe\n",
    "        self.km_stand = 0\n",
    "    def Fahre(self, km):\n",
    "        self.km_stand += km"
   ]
  },
  {
   "cell_type": "code",
   "execution_count": 26,
   "id": "3bef13a2-7131-4e2a-ad37-4d9632f21c04",
   "metadata": {},
   "outputs": [
    {
     "data": {
      "text/plain": [
       "'VW'"
      ]
     },
     "execution_count": 26,
     "metadata": {},
     "output_type": "execute_result"
    }
   ],
   "source": [
    "a1 = Auto(\"VW\", \"Blau\")\n",
    "a1.marke"
   ]
  },
  {
   "cell_type": "code",
   "execution_count": 27,
   "id": "35588286-8509-49d3-9085-14577c3cf00f",
   "metadata": {},
   "outputs": [
    {
     "data": {
      "text/plain": [
       "'Blau'"
      ]
     },
     "execution_count": 27,
     "metadata": {},
     "output_type": "execute_result"
    }
   ],
   "source": [
    "a1.farbe"
   ]
  },
  {
   "cell_type": "code",
   "execution_count": 28,
   "id": "c3c16c8f-fc47-42c1-a7be-8b1267e8e2cd",
   "metadata": {},
   "outputs": [
    {
     "data": {
      "text/plain": [
       "0"
      ]
     },
     "execution_count": 28,
     "metadata": {},
     "output_type": "execute_result"
    }
   ],
   "source": [
    "a1.km_stand"
   ]
  },
  {
   "cell_type": "code",
   "execution_count": 29,
   "id": "8b87e0d8-7f26-49cd-8390-d9c1d0c59bf3",
   "metadata": {},
   "outputs": [
    {
     "data": {
      "text/plain": [
       "20"
      ]
     },
     "execution_count": 29,
     "metadata": {},
     "output_type": "execute_result"
    }
   ],
   "source": [
    "a1.Fahre(20)\n",
    "a1.km_stand"
   ]
  },
  {
   "cell_type": "code",
   "execution_count": 30,
   "id": "f00b3f95-30c8-4bcf-a418-64aa9616da2a",
   "metadata": {},
   "outputs": [],
   "source": [
    "Auto.Fahre(a1, 15)"
   ]
  },
  {
   "cell_type": "code",
   "execution_count": 31,
   "id": "dfeda35f-57f3-46e2-8536-12616953290b",
   "metadata": {},
   "outputs": [
    {
     "data": {
      "text/plain": [
       "35"
      ]
     },
     "execution_count": 31,
     "metadata": {},
     "output_type": "execute_result"
    }
   ],
   "source": [
    "a1.km_stand"
   ]
  },
  {
   "cell_type": "code",
   "execution_count": null,
   "id": "2413ec72-4e7c-41a7-9071-af380b734845",
   "metadata": {},
   "outputs": [],
   "source": []
  }
 ],
 "metadata": {
  "kernelspec": {
   "display_name": "Python 3.10",
   "language": "python",
   "name": "python310"
  },
  "language_info": {
   "codemirror_mode": {
    "name": "ipython",
    "version": 3
   },
   "file_extension": ".py",
   "mimetype": "text/x-python",
   "name": "python",
   "nbconvert_exporter": "python",
   "pygments_lexer": "ipython3",
   "version": "3.10.4"
  }
 },
 "nbformat": 4,
 "nbformat_minor": 5
}
