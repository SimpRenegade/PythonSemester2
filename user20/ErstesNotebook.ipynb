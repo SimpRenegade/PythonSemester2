{
 "cells": [
  {
   "cell_type": "code",
   "execution_count": 36,
   "id": "de216747-6427-4fc4-bbfd-93bbadc97455",
   "metadata": {},
   "outputs": [
    {
     "ename": "TypeError",
     "evalue": "int() argument must be a string, a bytes-like object or a real number, not 'type'",
     "output_type": "error",
     "traceback": [
      "\u001b[0;31m---------------------------------------------------------------------------\u001b[0m",
      "\u001b[0;31mTypeError\u001b[0m                                 Traceback (most recent call last)",
      "Input \u001b[0;32mIn [1]\u001b[0m, in \u001b[0;36m<cell line: 2>\u001b[0;34m()\u001b[0m\n\u001b[1;32m      1\u001b[0m a \u001b[38;5;241m=\u001b[39m \u001b[38;5;28mstr\u001b[39m\n\u001b[0;32m----> 2\u001b[0m b \u001b[38;5;241m=\u001b[39m \u001b[38;5;28;43mint\u001b[39;49m\u001b[43m(\u001b[49m\u001b[43ma\u001b[49m\u001b[43m)\u001b[49m\n",
      "\u001b[0;31mTypeError\u001b[0m: int() argument must be a string, a bytes-like object or a real number, not 'type'"
     ]
    }
   ],
   "source": [
    "import random\n",
    "import time\n",
    "q = 0\n",
    "x = 0\n",
    "y = 0\n",
    "z = 0\n",
    "while (x < 50):\n",
    "    time.sleep(0.01)\n",
    "    a = random.randint(0, 100)\n",
    "    b = random.randint(0, 100)\n",
    "    if a < b:\n",
    "        print(\"a ist kleiner als b\")\n",
    "        x = x + 1\n",
    "    elif a > b:\n",
    "        print(\"a ist größer als b\")\n",
    "        y = y + 1\n",
    "    else:\n",
    "        print(\"a und b sind gleich groß\")\n",
    "        z = z + 1\n",
    "    q = q + 1\n",
    "print(\"Ergebnisse von a < b: \", str(x), \"Ergebnisse von a > b: \", str(y), \"Ergebnisse von a = b: \", str(z))"
   ]
  },
  {
   "cell_type": "code",
   "execution_count": null,
   "id": "c1fdab1a-5f24-414c-8e7c-04dfaff98716",
   "metadata": {},
   "outputs": [],
   "source": []
  },
  {
   "cell_type": "markdown",
   "id": "d8ae3ab2-9352-4943-8bdc-5678393eb8d9",
   "metadata": {
    "tags": []
   },
   "source": [
    "# Markdown\n",
    "<ul>\n",
    "    <li>einfache Markup Sprache </li>\n",
    "    <li>viel genutzt</li>\n",
    "</ul>\n",
    "<img src=\"https://i.redd.it/7pe0y1lmz8vz.jpg\"></img>\n",
    "<a href=\"https://www.twitter.com\">lHMMMMMMMM</a>"
   ]
  },
  {
   "cell_type": "code",
   "execution_count": null,
   "id": "19c44b47-37fa-4008-9e6d-afec4764f697",
   "metadata": {
    "tags": []
   },
   "outputs": [],
   "source": []
  }
 ],
 "metadata": {
  "kernelspec": {
   "display_name": "Python 3.10",
   "language": "python",
   "name": "python310"
  },
  "language_info": {
   "codemirror_mode": {
    "name": "ipython",
    "version": 3
   },
   "file_extension": ".py",
   "mimetype": "text/x-python",
   "name": "python",
   "nbconvert_exporter": "python",
   "pygments_lexer": "ipython3",
   "version": "3.10.4"
  }
 },
 "nbformat": 4,
 "nbformat_minor": 5
}
