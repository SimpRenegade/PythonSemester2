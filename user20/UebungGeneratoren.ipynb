{
 "cells": [
  {
   "cell_type": "markdown",
   "id": "3409abdd-4c8f-41e5-ac3e-da52de2d91b9",
   "metadata": {},
   "source": [
    "# Übung 1"
   ]
  },
  {
   "cell_type": "code",
   "execution_count": 1,
   "id": "acb1f56e-3113-46b4-a959-275bcd14867d",
   "metadata": {},
   "outputs": [
    {
     "name": "stdout",
     "output_type": "stream",
     "text": [
      "<generator object <genexpr> at 0x7fdfbae3b610>\n"
     ]
    }
   ],
   "source": [
    "g1 = (x * 3 for x in range(0, 21, 1))\n",
    "print(g1)"
   ]
  },
  {
   "cell_type": "code",
   "execution_count": 2,
   "id": "043dbd3c-414c-4405-b8a4-6fd14034d18b",
   "metadata": {},
   "outputs": [
    {
     "name": "stdout",
     "output_type": "stream",
     "text": [
      "0\n",
      "3\n",
      "6\n",
      "9\n",
      "12\n",
      "15\n",
      "18\n",
      "21\n",
      "24\n",
      "27\n",
      "30\n",
      "33\n",
      "36\n",
      "39\n",
      "42\n",
      "45\n",
      "48\n",
      "51\n",
      "54\n",
      "57\n",
      "60\n"
     ]
    }
   ],
   "source": [
    "for x in g1:\n",
    "    print(x)"
   ]
  },
  {
   "cell_type": "markdown",
   "id": "ecb9afc8-1663-4f6e-955e-cbc2aad2cde2",
   "metadata": {},
   "source": [
    "# Übung 2"
   ]
  },
  {
   "cell_type": "code",
   "execution_count": 3,
   "id": "70ea2335-0c3a-4f89-8dd1-a07f1a6202fd",
   "metadata": {},
   "outputs": [],
   "source": [
    "g = (n for n in range(0, 21, 1) if n % 2 == 0)"
   ]
  },
  {
   "cell_type": "code",
   "execution_count": 4,
   "id": "efa57759-785a-4d1a-a3d3-484384bb3d1b",
   "metadata": {},
   "outputs": [
    {
     "name": "stdout",
     "output_type": "stream",
     "text": [
      "0\n",
      "2\n",
      "4\n",
      "6\n",
      "8\n",
      "10\n",
      "12\n",
      "14\n",
      "16\n",
      "18\n",
      "20\n"
     ]
    }
   ],
   "source": [
    "for x in g:\n",
    "    print(x)"
   ]
  },
  {
   "cell_type": "code",
   "execution_count": 5,
   "id": "14ea2842-98fc-440a-80bf-3ff0e4c73b40",
   "metadata": {},
   "outputs": [],
   "source": [
    "g = (n * 3 for n in range(0, 21, 1) if n % 2 == 0)"
   ]
  },
  {
   "cell_type": "code",
   "execution_count": 6,
   "id": "e4dd9075-0455-48b9-84b4-b9d2ec97c68c",
   "metadata": {},
   "outputs": [
    {
     "name": "stdout",
     "output_type": "stream",
     "text": [
      "0\n",
      "6\n",
      "12\n",
      "18\n",
      "24\n",
      "30\n",
      "36\n",
      "42\n",
      "48\n",
      "54\n",
      "60\n"
     ]
    }
   ],
   "source": [
    "for x in g:\n",
    "    print(x)"
   ]
  },
  {
   "cell_type": "markdown",
   "id": "4bff134e-e868-4b91-9c09-cd12d8bfbe8c",
   "metadata": {},
   "source": [
    "# Übung 3"
   ]
  },
  {
   "cell_type": "code",
   "execution_count": 7,
   "id": "f3d43479-6039-45a1-b376-c8cd0fd1c821",
   "metadata": {},
   "outputs": [],
   "source": [
    "def neext():\n",
    "    t = (b for b in range(0, 901, 10))\n",
    "    z = 0\n",
    "    for x in t:\n",
    "        if (z == 0 and x == 10):\n",
    "            print(x)\n",
    "            z = + 1\n",
    "        if x > 10:\n",
    "            if x % 100 == 0:\n",
    "                print(x)"
   ]
  },
  {
   "cell_type": "code",
   "execution_count": 8,
   "id": "81d443ce-0204-436f-bbd7-aa036453e540",
   "metadata": {},
   "outputs": [
    {
     "name": "stdout",
     "output_type": "stream",
     "text": [
      "10\n",
      "100\n",
      "200\n",
      "300\n",
      "400\n",
      "500\n",
      "600\n",
      "700\n",
      "800\n",
      "900\n"
     ]
    }
   ],
   "source": [
    "neext()"
   ]
  },
  {
   "cell_type": "code",
   "execution_count": 9,
   "id": "353e7a93-054a-4596-b1c5-362b14ffbc3c",
   "metadata": {},
   "outputs": [],
   "source": [
    "def numbers():\n",
    "    yield 10\n",
    "    for x in range(100, 901, 100):\n",
    "        yield x"
   ]
  },
  {
   "cell_type": "code",
   "execution_count": 10,
   "id": "59c45653-72ca-466e-b6c1-3dcbd16441e7",
   "metadata": {},
   "outputs": [],
   "source": [
    "n = numbers()"
   ]
  },
  {
   "cell_type": "code",
   "execution_count": 11,
   "id": "c5a63732-53d5-48ca-b600-ad62ddf6c4a6",
   "metadata": {},
   "outputs": [
    {
     "data": {
      "text/plain": [
       "10"
      ]
     },
     "execution_count": 11,
     "metadata": {},
     "output_type": "execute_result"
    }
   ],
   "source": [
    "next(n)"
   ]
  }
 ],
 "metadata": {
  "kernelspec": {
   "display_name": "Python 3.10",
   "language": "python",
   "name": "python310"
  },
  "language_info": {
   "codemirror_mode": {
    "name": "ipython",
    "version": 3
   },
   "file_extension": ".py",
   "mimetype": "text/x-python",
   "name": "python",
   "nbconvert_exporter": "python",
   "pygments_lexer": "ipython3",
   "version": "3.10.4"
  }
 },
 "nbformat": 4,
 "nbformat_minor": 5
}
