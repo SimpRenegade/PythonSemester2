{
 "cells": [
  {
   "cell_type": "code",
   "execution_count": 1,
   "id": "507d865d-83c3-4ce3-9f8b-42ec8ce9924e",
   "metadata": {},
   "outputs": [],
   "source": [
    "s = 'Das ist ein Text!'"
   ]
  },
  {
   "cell_type": "code",
   "execution_count": 2,
   "id": "48d9e6e1-936a-4121-b418-db7d4c91a71f",
   "metadata": {},
   "outputs": [
    {
     "data": {
      "text/plain": [
       "\u001b[0;31mSignature:\u001b[0m \u001b[0ms\u001b[0m\u001b[0;34m.\u001b[0m\u001b[0mcenter\u001b[0m\u001b[0;34m(\u001b[0m\u001b[0mwidth\u001b[0m\u001b[0;34m,\u001b[0m \u001b[0mfillchar\u001b[0m\u001b[0;34m=\u001b[0m\u001b[0;34m' '\u001b[0m\u001b[0;34m,\u001b[0m \u001b[0;34m/\u001b[0m\u001b[0;34m)\u001b[0m\u001b[0;34m\u001b[0m\u001b[0;34m\u001b[0m\u001b[0m\n",
       "\u001b[0;31mDocstring:\u001b[0m\n",
       "Return a centered string of length width.\n",
       "\n",
       "Padding is done using the specified fill character (default is a space).\n",
       "\u001b[0;31mType:\u001b[0m      builtin_function_or_method\n"
      ]
     },
     "metadata": {},
     "output_type": "display_data"
    }
   ],
   "source": [
    "s.center?"
   ]
  },
  {
   "cell_type": "code",
   "execution_count": 3,
   "id": "264e070e-8fd3-4924-85f6-b1689f8549db",
   "metadata": {},
   "outputs": [
    {
     "data": {
      "text/plain": [
       "'           Das ist ein Text!            '"
      ]
     },
     "execution_count": 3,
     "metadata": {},
     "output_type": "execute_result"
    }
   ],
   "source": [
    "s.center(40)"
   ]
  },
  {
   "cell_type": "code",
   "execution_count": 4,
   "id": "93c44779-e3c4-44e8-b458-dd3c62d2a471",
   "metadata": {},
   "outputs": [
    {
     "data": {
      "text/plain": [
       "'###########Das ist ein Text!############'"
      ]
     },
     "execution_count": 4,
     "metadata": {},
     "output_type": "execute_result"
    }
   ],
   "source": [
    "s.center(40, '#')"
   ]
  },
  {
   "cell_type": "code",
   "execution_count": 5,
   "id": "cea8e1f6-ba18-47c6-a1a9-ea5ecc25d89e",
   "metadata": {},
   "outputs": [
    {
     "ename": "TypeError",
     "evalue": "str.center() takes no keyword arguments",
     "output_type": "error",
     "traceback": [
      "\u001b[0;31m---------------------------------------------------------------------------\u001b[0m",
      "\u001b[0;31mTypeError\u001b[0m                                 Traceback (most recent call last)",
      "Input \u001b[0;32mIn [5]\u001b[0m, in \u001b[0;36m<cell line: 1>\u001b[0;34m()\u001b[0m\n\u001b[0;32m----> 1\u001b[0m \u001b[43ms\u001b[49m\u001b[38;5;241;43m.\u001b[39;49m\u001b[43mcenter\u001b[49m\u001b[43m(\u001b[49m\u001b[38;5;241;43m40\u001b[39;49m\u001b[43m,\u001b[49m\u001b[43m \u001b[49m\u001b[43mfillchar\u001b[49m\u001b[38;5;241;43m=\u001b[39;49m\u001b[38;5;124;43m'\u001b[39;49m\u001b[38;5;124;43m#\u001b[39;49m\u001b[38;5;124;43m'\u001b[39;49m\u001b[43m)\u001b[49m\n",
      "\u001b[0;31mTypeError\u001b[0m: str.center() takes no keyword arguments"
     ]
    }
   ],
   "source": [
    "s.center(40, fillchar='#')"
   ]
  },
  {
   "cell_type": "code",
   "execution_count": 6,
   "id": "549c9294-3718-48d6-ae2b-b0cca6ce392f",
   "metadata": {},
   "outputs": [],
   "source": [
    "def my_center(my_string, width, *, fillchar=' '):\n",
    "    return my_string.center(width, fillchar)"
   ]
  },
  {
   "cell_type": "code",
   "execution_count": 7,
   "id": "12762d1c-8d05-4c8b-bc46-515578ab8d44",
   "metadata": {},
   "outputs": [
    {
     "data": {
      "text/plain": [
       "'           Das ist ein Text!            '"
      ]
     },
     "execution_count": 7,
     "metadata": {},
     "output_type": "execute_result"
    }
   ],
   "source": [
    "my_center(s, 40)"
   ]
  },
  {
   "cell_type": "code",
   "execution_count": 9,
   "id": "dbe7b656-40b1-400f-a4c7-0bf23e3d8758",
   "metadata": {},
   "outputs": [
    {
     "data": {
      "text/plain": [
       "'###########Das ist ein Text!############'"
      ]
     },
     "execution_count": 9,
     "metadata": {},
     "output_type": "execute_result"
    }
   ],
   "source": [
    "my_center(s, 40, fillchar='#')"
   ]
  },
  {
   "cell_type": "code",
   "execution_count": 10,
   "id": "e1ffa882-b5d4-4325-8aae-7005b99e0181",
   "metadata": {},
   "outputs": [],
   "source": [
    "import pandas as pd"
   ]
  },
  {
   "cell_type": "code",
   "execution_count": null,
   "id": "38d691aa-902d-4e10-a057-9a13e5aab3e4",
   "metadata": {},
   "outputs": [],
   "source": [
    "pd.read_csv?"
   ]
  },
  {
   "cell_type": "code",
   "execution_count": 12,
   "id": "a58d109e-5ff6-4ef5-90e8-28771b84d20f",
   "metadata": {},
   "outputs": [
    {
     "data": {
      "text/plain": [
       "'Das ist ein Text!'"
      ]
     },
     "execution_count": 12,
     "metadata": {},
     "output_type": "execute_result"
    }
   ],
   "source": [
    "s.center(4)"
   ]
  },
  {
   "cell_type": "code",
   "execution_count": 13,
   "id": "1f3b4554-3631-4cfb-ba2a-0e24bcb34b47",
   "metadata": {},
   "outputs": [
    {
     "data": {
      "text/plain": [
       "'Das ist ein Text!                       '"
      ]
     },
     "execution_count": 13,
     "metadata": {},
     "output_type": "execute_result"
    }
   ],
   "source": [
    "s.ljust(40)"
   ]
  },
  {
   "cell_type": "code",
   "execution_count": 14,
   "id": "8acf4e71-73ee-4409-99bf-1f4c646a0d44",
   "metadata": {},
   "outputs": [
    {
     "data": {
      "text/plain": [
       "'Das ist ein Text!+++++++++++++++++++++++'"
      ]
     },
     "execution_count": 14,
     "metadata": {},
     "output_type": "execute_result"
    }
   ],
   "source": [
    "s.ljust(40, '+')"
   ]
  },
  {
   "cell_type": "code",
   "execution_count": 15,
   "id": "d7966741-4fd6-4e45-aa13-99782062fc16",
   "metadata": {},
   "outputs": [
    {
     "data": {
      "text/plain": [
       "'                       Das ist ein Text!'"
      ]
     },
     "execution_count": 15,
     "metadata": {},
     "output_type": "execute_result"
    }
   ],
   "source": [
    "s.rjust(40)"
   ]
  },
  {
   "cell_type": "code",
   "execution_count": 16,
   "id": "d72b096d-1001-4853-8d0d-da014c77f169",
   "metadata": {},
   "outputs": [
    {
     "data": {
      "text/plain": [
       "'Das ist ein text!'"
      ]
     },
     "execution_count": 16,
     "metadata": {},
     "output_type": "execute_result"
    }
   ],
   "source": [
    "s.capitalize()"
   ]
  },
  {
   "cell_type": "code",
   "execution_count": 17,
   "id": "866f4ef3-7836-4bac-a17a-4a8cf26bfc04",
   "metadata": {},
   "outputs": [
    {
     "data": {
      "text/plain": [
       "'das ist ein text!'"
      ]
     },
     "execution_count": 17,
     "metadata": {},
     "output_type": "execute_result"
    }
   ],
   "source": [
    "s.lower()"
   ]
  },
  {
   "cell_type": "code",
   "execution_count": 18,
   "id": "cdc34565-1b91-4aac-b436-3c474f6203ac",
   "metadata": {},
   "outputs": [
    {
     "data": {
      "text/plain": [
       "'DAS IST EIN TEXT!'"
      ]
     },
     "execution_count": 18,
     "metadata": {},
     "output_type": "execute_result"
    }
   ],
   "source": [
    "s.upper()"
   ]
  },
  {
   "cell_type": "code",
   "execution_count": 19,
   "id": "af17f01a-6999-4af0-b21f-873aae4a6393",
   "metadata": {},
   "outputs": [
    {
     "data": {
      "text/plain": [
       "'dAS IST EIN tEXT!'"
      ]
     },
     "execution_count": 19,
     "metadata": {},
     "output_type": "execute_result"
    }
   ],
   "source": [
    "s.swapcase()"
   ]
  },
  {
   "cell_type": "code",
   "execution_count": 20,
   "id": "3a34a220-7851-4755-a559-306c9093a4fa",
   "metadata": {},
   "outputs": [
    {
     "data": {
      "text/plain": [
       "'Das Ist Ein Text!'"
      ]
     },
     "execution_count": 20,
     "metadata": {},
     "output_type": "execute_result"
    }
   ],
   "source": [
    "s.title()"
   ]
  },
  {
   "cell_type": "code",
   "execution_count": 21,
   "id": "16aaa1b1-ccb2-46fc-84c0-be7151175cf5",
   "metadata": {},
   "outputs": [
    {
     "data": {
      "text/plain": [
       "'das ist ein text!'"
      ]
     },
     "execution_count": 21,
     "metadata": {},
     "output_type": "execute_result"
    }
   ],
   "source": [
    "s.casefold()"
   ]
  },
  {
   "cell_type": "code",
   "execution_count": 22,
   "id": "4a76deb3-87ba-4382-8bd1-1a66bfa01c3c",
   "metadata": {},
   "outputs": [
    {
     "data": {
      "text/plain": [
       "True"
      ]
     },
     "execution_count": 22,
     "metadata": {},
     "output_type": "execute_result"
    }
   ],
   "source": [
    "s.startswith('D')"
   ]
  },
  {
   "cell_type": "code",
   "execution_count": 24,
   "id": "03acf994-8179-45e7-bce7-78de74ecf022",
   "metadata": {},
   "outputs": [
    {
     "data": {
      "text/plain": [
       "True"
      ]
     },
     "execution_count": 24,
     "metadata": {},
     "output_type": "execute_result"
    }
   ],
   "source": [
    "s.startswith('Das')"
   ]
  },
  {
   "cell_type": "code",
   "execution_count": 25,
   "id": "71e62e0f-2295-4790-b312-9bc3859e45fd",
   "metadata": {},
   "outputs": [
    {
     "data": {
      "text/plain": [
       "True"
      ]
     },
     "execution_count": 25,
     "metadata": {},
     "output_type": "execute_result"
    }
   ],
   "source": [
    "s.startswith(s)"
   ]
  },
  {
   "cell_type": "code",
   "execution_count": 26,
   "id": "8995b46f-3c84-4674-a0ad-4e6621f5a167",
   "metadata": {},
   "outputs": [
    {
     "data": {
      "text/plain": [
       "True"
      ]
     },
     "execution_count": 26,
     "metadata": {},
     "output_type": "execute_result"
    }
   ],
   "source": [
    "m = 'Das'\n",
    "s[:len(m)] == m"
   ]
  },
  {
   "cell_type": "code",
   "execution_count": 27,
   "id": "a3dd1801-aeb0-4ccf-8dc3-a5ff15e7ed32",
   "metadata": {},
   "outputs": [
    {
     "data": {
      "text/plain": [
       "\u001b[0;31mDocstring:\u001b[0m\n",
       "S.startswith(prefix[, start[, end]]) -> bool\n",
       "\n",
       "Return True if S starts with the specified prefix, False otherwise.\n",
       "With optional start, test S beginning at that position.\n",
       "With optional end, stop comparing S at that position.\n",
       "prefix can also be a tuple of strings to try.\n",
       "\u001b[0;31mType:\u001b[0m      builtin_function_or_method\n"
      ]
     },
     "metadata": {},
     "output_type": "display_data"
    }
   ],
   "source": [
    "s.startswith?"
   ]
  },
  {
   "cell_type": "code",
   "execution_count": 28,
   "id": "66bf5ee7-75d0-4ae1-b7b5-86fda7ddb98c",
   "metadata": {},
   "outputs": [
    {
     "data": {
      "text/plain": [
       "True"
      ]
     },
     "execution_count": 28,
     "metadata": {},
     "output_type": "execute_result"
    }
   ],
   "source": [
    "s.endswith('!')"
   ]
  },
  {
   "cell_type": "code",
   "execution_count": 29,
   "id": "0ee79a66-ee74-4178-84b5-f318986bf00d",
   "metadata": {},
   "outputs": [
    {
     "data": {
      "text/plain": [
       "True"
      ]
     },
     "execution_count": 29,
     "metadata": {},
     "output_type": "execute_result"
    }
   ],
   "source": [
    "s.endswith(s)"
   ]
  },
  {
   "cell_type": "code",
   "execution_count": 30,
   "id": "d4e4cf2d-d2d4-4d21-ad48-51b4cb739abf",
   "metadata": {},
   "outputs": [
    {
     "data": {
      "text/plain": [
       "False"
      ]
     },
     "execution_count": 30,
     "metadata": {},
     "output_type": "execute_result"
    }
   ],
   "source": [
    "s.isalnum()"
   ]
  },
  {
   "cell_type": "code",
   "execution_count": 31,
   "id": "8fb6d657-94b6-4bce-a5b6-e4f193640b16",
   "metadata": {},
   "outputs": [
    {
     "data": {
      "text/plain": [
       "'Das ist ein Text!'"
      ]
     },
     "execution_count": 31,
     "metadata": {},
     "output_type": "execute_result"
    }
   ],
   "source": [
    "s"
   ]
  },
  {
   "cell_type": "code",
   "execution_count": 32,
   "id": "75114234-4e0c-4457-9419-6d4a26dc89eb",
   "metadata": {},
   "outputs": [
    {
     "data": {
      "text/plain": [
       "False"
      ]
     },
     "execution_count": 32,
     "metadata": {},
     "output_type": "execute_result"
    }
   ],
   "source": [
    "s.isidentifier()"
   ]
  },
  {
   "cell_type": "code",
   "execution_count": 33,
   "id": "87a02f1c-f7ac-4ce8-94da-4555a78c81c4",
   "metadata": {},
   "outputs": [
    {
     "data": {
      "text/plain": [
       "True"
      ]
     },
     "execution_count": 33,
     "metadata": {},
     "output_type": "execute_result"
    }
   ],
   "source": [
    "'snake_case'.isidentifier()"
   ]
  },
  {
   "cell_type": "code",
   "execution_count": 34,
   "id": "9e723822-2338-46e2-8ded-7137c25147f7",
   "metadata": {},
   "outputs": [
    {
     "data": {
      "text/plain": [
       "False"
      ]
     },
     "execution_count": 34,
     "metadata": {},
     "output_type": "execute_result"
    }
   ],
   "source": [
    "'1_snake_case'.isidentifier()"
   ]
  },
  {
   "cell_type": "code",
   "execution_count": 36,
   "id": "0697137b-299f-427a-8a74-67c55b8ef0e8",
   "metadata": {},
   "outputs": [
    {
     "data": {
      "text/plain": [
       "['isalnum',\n",
       " 'isalpha',\n",
       " 'isascii',\n",
       " 'isdecimal',\n",
       " 'isdigit',\n",
       " 'isidentifier',\n",
       " 'islower',\n",
       " 'isnumeric',\n",
       " 'isprintable',\n",
       " 'isspace',\n",
       " 'istitle',\n",
       " 'isupper']"
      ]
     },
     "execution_count": 36,
     "metadata": {},
     "output_type": "execute_result"
    }
   ],
   "source": [
    "[x for x in dir(s) if x.startswith('is')]"
   ]
  },
  {
   "cell_type": "code",
   "execution_count": 38,
   "id": "2c5371ca-a62b-46e0-82e3-00c8284362a6",
   "metadata": {},
   "outputs": [
    {
     "data": {
      "text/plain": [
       "True"
      ]
     },
     "execution_count": 38,
     "metadata": {},
     "output_type": "execute_result"
    }
   ],
   "source": [
    "'  \\t\\n\\r\\f\\v'.isspace()"
   ]
  },
  {
   "cell_type": "code",
   "execution_count": 39,
   "id": "00c2dfcc-5a84-4b32-87ae-bc28364e4aff",
   "metadata": {},
   "outputs": [],
   "source": [
    "L = ['A', 'B', 'C']"
   ]
  },
  {
   "cell_type": "code",
   "execution_count": 40,
   "id": "4831a337-c499-4c91-bdc3-8cd5f71e87a0",
   "metadata": {},
   "outputs": [
    {
     "data": {
      "text/plain": [
       "'ABC'"
      ]
     },
     "execution_count": 40,
     "metadata": {},
     "output_type": "execute_result"
    }
   ],
   "source": [
    "''.join(L)"
   ]
  },
  {
   "cell_type": "code",
   "execution_count": 41,
   "id": "b29bb969-ca0c-4218-9abb-5d8308c3278c",
   "metadata": {},
   "outputs": [
    {
     "data": {
      "text/plain": [
       "'A#B#C'"
      ]
     },
     "execution_count": 41,
     "metadata": {},
     "output_type": "execute_result"
    }
   ],
   "source": [
    "'#'.join(L)"
   ]
  },
  {
   "cell_type": "code",
   "execution_count": 42,
   "id": "e8e1553c-59c3-4729-b583-31b4ad2615d3",
   "metadata": {},
   "outputs": [
    {
     "data": {
      "text/plain": [
       "\"['A', 'B', 'C']\""
      ]
     },
     "execution_count": 42,
     "metadata": {},
     "output_type": "execute_result"
    }
   ],
   "source": [
    "str(L)"
   ]
  },
  {
   "cell_type": "code",
   "execution_count": 43,
   "id": "3fb8e977-5882-4f44-b483-0c8bef65e72f",
   "metadata": {},
   "outputs": [
    {
     "data": {
      "text/plain": [
       "'0123456789'"
      ]
     },
     "execution_count": 43,
     "metadata": {},
     "output_type": "execute_result"
    }
   ],
   "source": [
    "''.join(str(x) for x in range(10))"
   ]
  },
  {
   "cell_type": "code",
   "execution_count": 44,
   "id": "725fc6a9-d571-4ac0-b69e-7b83f8e60db7",
   "metadata": {},
   "outputs": [],
   "source": [
    "import string"
   ]
  },
  {
   "cell_type": "code",
   "execution_count": 45,
   "id": "306e6b19-3109-4a1f-8c71-37cc933f0b50",
   "metadata": {},
   "outputs": [
    {
     "data": {
      "text/plain": [
       "'0123456789'"
      ]
     },
     "execution_count": 45,
     "metadata": {},
     "output_type": "execute_result"
    }
   ],
   "source": [
    "string.digits"
   ]
  },
  {
   "cell_type": "code",
   "execution_count": 46,
   "id": "8f669ef7-3b38-484f-b10c-6f4c21735149",
   "metadata": {},
   "outputs": [
    {
     "data": {
      "text/plain": [
       "'abcdefghijklmnopqrstuvwxyzABCDEFGHIJKLMNOPQRSTUVWXYZ'"
      ]
     },
     "execution_count": 46,
     "metadata": {},
     "output_type": "execute_result"
    }
   ],
   "source": [
    "string.ascii_letters"
   ]
  },
  {
   "cell_type": "code",
   "execution_count": 48,
   "id": "dba11c06-e785-4963-83d5-07628a55ec86",
   "metadata": {},
   "outputs": [],
   "source": [
    "s2 = ' \\t Das ist mein Text!\\n'"
   ]
  },
  {
   "cell_type": "code",
   "execution_count": 49,
   "id": "0c2c8ef3-acd4-486e-9f53-51b14362fc2c",
   "metadata": {},
   "outputs": [
    {
     "data": {
      "text/plain": [
       "' \\t Das ist mein Text!\\n'"
      ]
     },
     "execution_count": 49,
     "metadata": {},
     "output_type": "execute_result"
    }
   ],
   "source": [
    "s2"
   ]
  },
  {
   "cell_type": "code",
   "execution_count": 50,
   "id": "124398a9-a837-4c31-bc62-1eec469bbd09",
   "metadata": {},
   "outputs": [
    {
     "data": {
      "text/plain": [
       "'Das ist mein Text!'"
      ]
     },
     "execution_count": 50,
     "metadata": {},
     "output_type": "execute_result"
    }
   ],
   "source": [
    "s2.strip()"
   ]
  },
  {
   "cell_type": "code",
   "execution_count": 51,
   "id": "c914a61f-a0bf-49a2-b28e-ec64c9bbc5fa",
   "metadata": {},
   "outputs": [
    {
     "data": {
      "text/plain": [
       "'Das ist mein Text!\\n'"
      ]
     },
     "execution_count": 51,
     "metadata": {},
     "output_type": "execute_result"
    }
   ],
   "source": [
    "s2.lstrip()"
   ]
  },
  {
   "cell_type": "code",
   "execution_count": 52,
   "id": "c64c69a7-ae6e-4aa3-b03b-308ff38392de",
   "metadata": {},
   "outputs": [
    {
     "data": {
      "text/plain": [
       "' \\t Das ist mein Text!'"
      ]
     },
     "execution_count": 52,
     "metadata": {},
     "output_type": "execute_result"
    }
   ],
   "source": [
    "s2.rstrip()"
   ]
  },
  {
   "cell_type": "code",
   "execution_count": 53,
   "id": "e3461a8f-9c87-4a38-a29b-50b1026059af",
   "metadata": {},
   "outputs": [
    {
     "data": {
      "text/plain": [
       "\u001b[0;31mSignature:\u001b[0m \u001b[0ms2\u001b[0m\u001b[0;34m.\u001b[0m\u001b[0mstrip\u001b[0m\u001b[0;34m(\u001b[0m\u001b[0mchars\u001b[0m\u001b[0;34m=\u001b[0m\u001b[0;32mNone\u001b[0m\u001b[0;34m,\u001b[0m \u001b[0;34m/\u001b[0m\u001b[0;34m)\u001b[0m\u001b[0;34m\u001b[0m\u001b[0;34m\u001b[0m\u001b[0m\n",
       "\u001b[0;31mDocstring:\u001b[0m\n",
       "Return a copy of the string with leading and trailing whitespace removed.\n",
       "\n",
       "If chars is given and not None, remove characters in chars instead.\n",
       "\u001b[0;31mType:\u001b[0m      builtin_function_or_method\n"
      ]
     },
     "metadata": {},
     "output_type": "display_data"
    }
   ],
   "source": [
    "s2.strip?"
   ]
  },
  {
   "cell_type": "code",
   "execution_count": 54,
   "id": "b30a1dae-5bf3-4ae9-84c9-67264e9c0a59",
   "metadata": {},
   "outputs": [
    {
     "data": {
      "text/plain": [
       "['Das', 'ist', 'ein', 'Text!']"
      ]
     },
     "execution_count": 54,
     "metadata": {},
     "output_type": "execute_result"
    }
   ],
   "source": [
    "s.split()"
   ]
  },
  {
   "cell_type": "code",
   "execution_count": 55,
   "id": "4220b56d-1dbe-4812-b5d6-187b0cd441d8",
   "metadata": {},
   "outputs": [
    {
     "data": {
      "text/plain": [
       "['Das ist ', 'in T', 'xt!']"
      ]
     },
     "execution_count": 55,
     "metadata": {},
     "output_type": "execute_result"
    }
   ],
   "source": [
    "s.split('e')"
   ]
  },
  {
   "cell_type": "code",
   "execution_count": 56,
   "id": "a0dda922-22c2-487f-b254-d7831071a8d9",
   "metadata": {},
   "outputs": [
    {
     "data": {
      "text/plain": [
       "['Das', 'ist', 'ein', 'Text!']"
      ]
     },
     "execution_count": 56,
     "metadata": {},
     "output_type": "execute_result"
    }
   ],
   "source": [
    "s.rsplit()"
   ]
  },
  {
   "cell_type": "code",
   "execution_count": 57,
   "id": "b47c8077-7dad-4a22-a191-55be6a6bd0c8",
   "metadata": {},
   "outputs": [
    {
     "data": {
      "text/plain": [
       "\u001b[0;31mSignature:\u001b[0m \u001b[0ms\u001b[0m\u001b[0;34m.\u001b[0m\u001b[0msplit\u001b[0m\u001b[0;34m(\u001b[0m\u001b[0msep\u001b[0m\u001b[0;34m=\u001b[0m\u001b[0;32mNone\u001b[0m\u001b[0;34m,\u001b[0m \u001b[0mmaxsplit\u001b[0m\u001b[0;34m=\u001b[0m\u001b[0;34m-\u001b[0m\u001b[0;36m1\u001b[0m\u001b[0;34m)\u001b[0m\u001b[0;34m\u001b[0m\u001b[0;34m\u001b[0m\u001b[0m\n",
       "\u001b[0;31mDocstring:\u001b[0m\n",
       "Return a list of the words in the string, using sep as the delimiter string.\n",
       "\n",
       "sep\n",
       "  The delimiter according which to split the string.\n",
       "  None (the default value) means split according to any whitespace,\n",
       "  and discard empty strings from the result.\n",
       "maxsplit\n",
       "  Maximum number of splits to do.\n",
       "  -1 (the default value) means no limit.\n",
       "\u001b[0;31mType:\u001b[0m      builtin_function_or_method\n"
      ]
     },
     "metadata": {},
     "output_type": "display_data"
    }
   ],
   "source": [
    "s.split?"
   ]
  },
  {
   "cell_type": "code",
   "execution_count": 58,
   "id": "03be3596-a592-4096-a492-9646e6c40aa8",
   "metadata": {},
   "outputs": [
    {
     "data": {
      "text/plain": [
       "['Das', 'ist', 'ein Text!']"
      ]
     },
     "execution_count": 58,
     "metadata": {},
     "output_type": "execute_result"
    }
   ],
   "source": [
    "s.split(None, 2)"
   ]
  },
  {
   "cell_type": "code",
   "execution_count": 59,
   "id": "5a00ffef-d5aa-4e3b-a6e9-b65502aab02c",
   "metadata": {},
   "outputs": [
    {
     "data": {
      "text/plain": [
       "['Das ist', 'ein', 'Text!']"
      ]
     },
     "execution_count": 59,
     "metadata": {},
     "output_type": "execute_result"
    }
   ],
   "source": [
    "s.rsplit(None, 2)"
   ]
  },
  {
   "cell_type": "code",
   "execution_count": 60,
   "id": "6928871d-eda1-46eb-bcef-a4e4e3b5903e",
   "metadata": {},
   "outputs": [
    {
     "data": {
      "text/plain": [
       "'Das ist Ein TExt!'"
      ]
     },
     "execution_count": 60,
     "metadata": {},
     "output_type": "execute_result"
    }
   ],
   "source": [
    "s.replace('e', 'E')"
   ]
  },
  {
   "cell_type": "code",
   "execution_count": 61,
   "id": "7f2325d2-c93f-41d3-a1a0-06f2c100fb25",
   "metadata": {},
   "outputs": [
    {
     "data": {
      "text/plain": [
       "'00000000000000000000000Das ist ein Text!'"
      ]
     },
     "execution_count": 61,
     "metadata": {},
     "output_type": "execute_result"
    }
   ],
   "source": [
    "s.zfill(40)"
   ]
  },
  {
   "cell_type": "code",
   "execution_count": 62,
   "id": "1f5ee0ee-3fc8-4e55-8122-1b7f502fd4da",
   "metadata": {},
   "outputs": [
    {
     "data": {
      "text/plain": [
       "8"
      ]
     },
     "execution_count": 62,
     "metadata": {},
     "output_type": "execute_result"
    }
   ],
   "source": [
    "s.find('e')"
   ]
  },
  {
   "cell_type": "code",
   "execution_count": 63,
   "id": "25fc697d-9bba-4626-b351-fa39ea8087bc",
   "metadata": {},
   "outputs": [
    {
     "data": {
      "text/plain": [
       "8"
      ]
     },
     "execution_count": 63,
     "metadata": {},
     "output_type": "execute_result"
    }
   ],
   "source": [
    "s.index('e')"
   ]
  },
  {
   "cell_type": "code",
   "execution_count": 64,
   "id": "122720b7-d22d-408b-92b5-d70fbdbb4a0d",
   "metadata": {},
   "outputs": [
    {
     "data": {
      "text/plain": [
       "\u001b[0;31mDocstring:\u001b[0m\n",
       "S.find(sub[, start[, end]]) -> int\n",
       "\n",
       "Return the lowest index in S where substring sub is found,\n",
       "such that sub is contained within S[start:end].  Optional\n",
       "arguments start and end are interpreted as in slice notation.\n",
       "\n",
       "Return -1 on failure.\n",
       "\u001b[0;31mType:\u001b[0m      builtin_function_or_method\n"
      ]
     },
     "metadata": {},
     "output_type": "display_data"
    }
   ],
   "source": [
    "s.find?"
   ]
  },
  {
   "cell_type": "code",
   "execution_count": 65,
   "id": "bbc387f2-ed34-4c5d-9f0b-a24dc29740d9",
   "metadata": {},
   "outputs": [
    {
     "data": {
      "text/plain": [
       "\u001b[0;31mDocstring:\u001b[0m\n",
       "S.index(sub[, start[, end]]) -> int\n",
       "\n",
       "Return the lowest index in S where substring sub is found,\n",
       "such that sub is contained within S[start:end].  Optional\n",
       "arguments start and end are interpreted as in slice notation.\n",
       "\n",
       "Raises ValueError when the substring is not found.\n",
       "\u001b[0;31mType:\u001b[0m      builtin_function_or_method\n"
      ]
     },
     "metadata": {},
     "output_type": "display_data"
    }
   ],
   "source": [
    "s.index?"
   ]
  },
  {
   "cell_type": "markdown",
   "id": "c446d96f-d6d7-4ad6-9a81-ed8acb8490e0",
   "metadata": {},
   "source": [
    "# Formatierung"
   ]
  },
  {
   "cell_type": "markdown",
   "id": "6aa6dc50-44b4-4a53-a218-6305b7db05c1",
   "metadata": {},
   "source": [
    "## `f`-Strings"
   ]
  },
  {
   "cell_type": "code",
   "execution_count": 72,
   "id": "e9b80856-5070-4151-b213-42d59c29ed90",
   "metadata": {},
   "outputs": [],
   "source": [
    "a = 100\n",
    "b = 45.789456878787\n",
    "c = 'Hallo'"
   ]
  },
  {
   "cell_type": "code",
   "execution_count": 73,
   "id": "cf6740f1-f8b4-49b8-a88f-059ce8b92ec2",
   "metadata": {},
   "outputs": [
    {
     "data": {
      "text/plain": [
       "'100'"
      ]
     },
     "execution_count": 73,
     "metadata": {},
     "output_type": "execute_result"
    }
   ],
   "source": [
    "f'{a}'"
   ]
  },
  {
   "cell_type": "code",
   "execution_count": 74,
   "id": "96b971d3-913c-4d4d-bfbb-88d2b42b6b90",
   "metadata": {},
   "outputs": [
    {
     "data": {
      "text/plain": [
       "'       100'"
      ]
     },
     "execution_count": 74,
     "metadata": {},
     "output_type": "execute_result"
    }
   ],
   "source": [
    "f'{a:10d}'"
   ]
  },
  {
   "cell_type": "code",
   "execution_count": 75,
   "id": "5a45b18c-6ffa-47f2-91aa-b4a3656f003a",
   "metadata": {},
   "outputs": [
    {
     "data": {
      "text/plain": [
       "'       100 45.789456878787 Hallo'"
      ]
     },
     "execution_count": 75,
     "metadata": {},
     "output_type": "execute_result"
    }
   ],
   "source": [
    "f'{a:10d} {b} {c}'"
   ]
  },
  {
   "cell_type": "code",
   "execution_count": 77,
   "id": "fd203c40-78c6-4a27-a648-9305f4541287",
   "metadata": {},
   "outputs": [
    {
     "data": {
      "text/plain": [
       "'       100 45.789457 Hallo'"
      ]
     },
     "execution_count": 77,
     "metadata": {},
     "output_type": "execute_result"
    }
   ],
   "source": [
    "f'{a:10d} {b:f} {c}'"
   ]
  },
  {
   "cell_type": "code",
   "execution_count": 78,
   "id": "170f1e1d-f525-4687-ad33-e279dafde888",
   "metadata": {},
   "outputs": [
    {
     "data": {
      "text/plain": [
       "2"
      ]
     },
     "execution_count": 78,
     "metadata": {},
     "output_type": "execute_result"
    }
   ],
   "source": [
    "round(2.5)"
   ]
  },
  {
   "cell_type": "code",
   "execution_count": 79,
   "id": "01a588c6-74eb-4f75-af83-ebe026de3541",
   "metadata": {},
   "outputs": [
    {
     "data": {
      "text/plain": [
       "4"
      ]
     },
     "execution_count": 79,
     "metadata": {},
     "output_type": "execute_result"
    }
   ],
   "source": [
    "round(3.5)"
   ]
  },
  {
   "cell_type": "code",
   "execution_count": 80,
   "id": "329881a3-6dfc-4b70-8257-a852192eeb81",
   "metadata": {},
   "outputs": [],
   "source": [
    "i = 2.5"
   ]
  },
  {
   "cell_type": "code",
   "execution_count": 81,
   "id": "9cfd84af-9cbf-4e72-a43f-7b8f92fd494f",
   "metadata": {},
   "outputs": [
    {
     "data": {
      "text/plain": [
       "2"
      ]
     },
     "execution_count": 81,
     "metadata": {},
     "output_type": "execute_result"
    }
   ],
   "source": [
    "i.__round__()"
   ]
  },
  {
   "cell_type": "code",
   "execution_count": 84,
   "id": "918f7b9e-ab0b-4dec-b101-75b7e22c46e7",
   "metadata": {},
   "outputs": [
    {
     "data": {
      "text/plain": [
       "'       100      45.79 Hallo'"
      ]
     },
     "execution_count": 84,
     "metadata": {},
     "output_type": "execute_result"
    }
   ],
   "source": [
    "f'{a:10d} {b:10.2f} {c}'"
   ]
  },
  {
   "cell_type": "code",
   "execution_count": 85,
   "id": "bb32d144-8aeb-4039-8889-c511e120ffb3",
   "metadata": {},
   "outputs": [
    {
     "data": {
      "text/plain": [
       "'       100      45.79 Hallo          '"
      ]
     },
     "execution_count": 85,
     "metadata": {},
     "output_type": "execute_result"
    }
   ],
   "source": [
    "f'{a:10d} {b:10.2f} {c:15s}'"
   ]
  },
  {
   "cell_type": "code",
   "execution_count": 86,
   "id": "e571780e-d6a0-4a9f-9f78-ce331016e927",
   "metadata": {},
   "outputs": [
    {
     "data": {
      "text/plain": [
       "'       100      45.79           Hallo'"
      ]
     },
     "execution_count": 86,
     "metadata": {},
     "output_type": "execute_result"
    }
   ],
   "source": [
    "f'{a:10d} {b:10.2f} {c:>15s}'"
   ]
  },
  {
   "cell_type": "code",
   "execution_count": 91,
   "id": "f294145a-1188-485f-a0c7-d3c059a4fbe4",
   "metadata": {},
   "outputs": [],
   "source": [
    "L = list(range(2, 11))"
   ]
  },
  {
   "cell_type": "code",
   "execution_count": 92,
   "id": "9acbf63d-02fe-41e3-94ca-7880843a276f",
   "metadata": {},
   "outputs": [
    {
     "data": {
      "text/plain": [
       "'[2, 3, 4, 5, 6, 7, 8, 9, 10]'"
      ]
     },
     "execution_count": 92,
     "metadata": {},
     "output_type": "execute_result"
    }
   ],
   "source": [
    "f'{L}'"
   ]
  },
  {
   "cell_type": "code",
   "execution_count": 93,
   "id": "e39d7a1c-499d-4383-9a84-2de447378a3d",
   "metadata": {},
   "outputs": [
    {
     "data": {
      "text/plain": [
       "'6'"
      ]
     },
     "execution_count": 93,
     "metadata": {},
     "output_type": "execute_result"
    }
   ],
   "source": [
    "f'{L[4]}'"
   ]
  },
  {
   "cell_type": "code",
   "execution_count": 94,
   "id": "61b97b16-73d1-4616-b655-66071b73fa1f",
   "metadata": {},
   "outputs": [
    {
     "data": {
      "text/plain": [
       "'6 [4, 5]'"
      ]
     },
     "execution_count": 94,
     "metadata": {},
     "output_type": "execute_result"
    }
   ],
   "source": [
    "f'{L[4]} {L[2:4]}'"
   ]
  },
  {
   "cell_type": "code",
   "execution_count": 95,
   "id": "24cf70be-404e-49bc-94f6-844f23d26ffa",
   "metadata": {},
   "outputs": [
    {
     "data": {
      "text/plain": [
       "'6 [4, 5] 54'"
      ]
     },
     "execution_count": 95,
     "metadata": {},
     "output_type": "execute_result"
    }
   ],
   "source": [
    "f'{L[4]} {L[2:4]} {sum(L)}'"
   ]
  },
  {
   "cell_type": "markdown",
   "id": "1a00fd8f-48b3-4846-b51f-4c6cd9426c2d",
   "metadata": {},
   "source": [
    "## `.format()`"
   ]
  },
  {
   "cell_type": "code",
   "execution_count": 98,
   "id": "305dc6da-f9d0-4fa1-9a57-fe747a7d8d7a",
   "metadata": {},
   "outputs": [
    {
     "data": {
      "text/plain": [
       "'       100      45.79           Hallo'"
      ]
     },
     "execution_count": 98,
     "metadata": {},
     "output_type": "execute_result"
    }
   ],
   "source": [
    "'{a:10d} {b:10.2f} {c:>15s}'.format(a=a, b=b, c=c)"
   ]
  },
  {
   "cell_type": "code",
   "execution_count": 99,
   "id": "827568d3-174b-472e-9f5d-4a2c6f50a635",
   "metadata": {},
   "outputs": [
    {
     "data": {
      "text/plain": [
       "'       100      45.79           Hallo'"
      ]
     },
     "execution_count": 99,
     "metadata": {},
     "output_type": "execute_result"
    }
   ],
   "source": [
    "f'{a:10d} {b:10.2f} {c:>15s}'"
   ]
  },
  {
   "cell_type": "code",
   "execution_count": 101,
   "id": "a9ee7721-84d7-4d86-aea8-14c6986083b3",
   "metadata": {},
   "outputs": [
    {
     "data": {
      "text/plain": [
       "{'a': 1000, 'b': 125354.687878, 'c': 'Text'}"
      ]
     },
     "execution_count": 101,
     "metadata": {},
     "output_type": "execute_result"
    }
   ],
   "source": [
    "data = {'a': 1000, 'b': 125354.687878, 'c': 'Text'}\n",
    "data"
   ]
  },
  {
   "cell_type": "code",
   "execution_count": 102,
   "id": "21ae4309-bdf0-4003-adc5-6f1aa2961c09",
   "metadata": {},
   "outputs": [
    {
     "data": {
      "text/plain": [
       "'      1000  125354.69            Text'"
      ]
     },
     "execution_count": 102,
     "metadata": {},
     "output_type": "execute_result"
    }
   ],
   "source": [
    "'{a:10d} {b:10.2f} {c:>15s}'.format(a=data['a'], b=data['b'], c=data['c'])"
   ]
  },
  {
   "cell_type": "code",
   "execution_count": 104,
   "id": "4fa66e17-52d5-4553-aea3-c7cf5c2de5c6",
   "metadata": {},
   "outputs": [
    {
     "data": {
      "text/plain": [
       "'      1000  125354.69            Text'"
      ]
     },
     "execution_count": 104,
     "metadata": {},
     "output_type": "execute_result"
    }
   ],
   "source": [
    "'{a:10d} {b:10.2f} {c:>15s}'.format(**data)"
   ]
  },
  {
   "cell_type": "code",
   "execution_count": 140,
   "id": "f251b1ab-9d09-412f-9a36-f9116565f6f9",
   "metadata": {},
   "outputs": [
    {
     "data": {
      "text/plain": [
       "'       100      45.79           Hallo'"
      ]
     },
     "execution_count": 140,
     "metadata": {},
     "output_type": "execute_result"
    }
   ],
   "source": [
    "'{:10d} {:10.2f} {:>15s}'.format(a, b, c)"
   ]
  },
  {
   "cell_type": "code",
   "execution_count": 141,
   "id": "6bceb06e-e99b-4dcd-9559-f13d20b55cb4",
   "metadata": {},
   "outputs": [
    {
     "data": {
      "text/plain": [
       "'       100      45.79           Hallo'"
      ]
     },
     "execution_count": 141,
     "metadata": {},
     "output_type": "execute_result"
    }
   ],
   "source": [
    "'{0:10d} {1:10.2f} {2:>15s}'.format(a, b, c)"
   ]
  },
  {
   "cell_type": "code",
   "execution_count": 143,
   "id": "bf3661d3-0d8c-4a82-a37c-acbf1cf551e6",
   "metadata": {},
   "outputs": [
    {
     "data": {
      "text/plain": [
       "'     45.79           Hallo        100 100'"
      ]
     },
     "execution_count": 143,
     "metadata": {},
     "output_type": "execute_result"
    }
   ],
   "source": [
    "'{1:10.2f} {2:>15s} {0:10d} {0}'.format(a, b, c)"
   ]
  },
  {
   "cell_type": "code",
   "execution_count": 144,
   "id": "6b8765c5-b472-4c77-b6d8-2fe4976def17",
   "metadata": {},
   "outputs": [
    {
     "data": {
      "text/plain": [
       "'     45.79           Hallo        100 100'"
      ]
     },
     "execution_count": 144,
     "metadata": {},
     "output_type": "execute_result"
    }
   ],
   "source": [
    "'{1:10.2f} {c:>15s} {0:10d} {0}'.format(a, b, c=c)"
   ]
  },
  {
   "cell_type": "code",
   "execution_count": 106,
   "id": "51e8d749-7b21-437b-b3f5-3b00219801db",
   "metadata": {},
   "outputs": [
    {
     "name": "stdout",
     "output_type": "stream",
     "text": [
      "1#2#3\n"
     ]
    }
   ],
   "source": [
    "print(1, 2, 3, sep='#')"
   ]
  },
  {
   "cell_type": "code",
   "execution_count": 107,
   "id": "4834fbe6-0805-45b7-8a4a-d97efc32c7f1",
   "metadata": {},
   "outputs": [],
   "source": [
    "opt = {'sep': '#'}"
   ]
  },
  {
   "cell_type": "code",
   "execution_count": 108,
   "id": "0d29e5f6-6aee-4173-b935-cec4e3bcb968",
   "metadata": {},
   "outputs": [
    {
     "name": "stdout",
     "output_type": "stream",
     "text": [
      "1#2#3\n"
     ]
    }
   ],
   "source": [
    "print(1, 2, 3, **opt)"
   ]
  },
  {
   "cell_type": "code",
   "execution_count": 120,
   "id": "23f9ca99-a0b0-4863-a0dc-69c4dd6d2d44",
   "metadata": {},
   "outputs": [],
   "source": [
    "def with_f_string(**kwargs):\n",
    "    return f'{kwargs[\"a\"]:10d} {kwargs[\"b\"]:10.2f} {kwargs[\"c\"]:>15s}'"
   ]
  },
  {
   "cell_type": "code",
   "execution_count": 121,
   "id": "fc596245-4eef-4488-b15a-36f3c8750bac",
   "metadata": {},
   "outputs": [
    {
     "data": {
      "text/plain": [
       "'      1000  125354.69            Text'"
      ]
     },
     "execution_count": 121,
     "metadata": {},
     "output_type": "execute_result"
    }
   ],
   "source": [
    "with_f_string(**data)"
   ]
  },
  {
   "cell_type": "code",
   "execution_count": 122,
   "id": "78b877b9-3477-458c-83c5-8b0076e93429",
   "metadata": {},
   "outputs": [
    {
     "data": {
      "text/plain": [
       "{'a': 1000, 'b': 125354.687878, 'c': 'Text'}"
      ]
     },
     "execution_count": 122,
     "metadata": {},
     "output_type": "execute_result"
    }
   ],
   "source": [
    "data"
   ]
  },
  {
   "cell_type": "code",
   "execution_count": 126,
   "id": "ad015784-af72-47d5-b308-b972fb62c450",
   "metadata": {},
   "outputs": [],
   "source": [
    "def with_f_string2(a, b, c):\n",
    "    return f'{a:10d} {b:10.2f} {c:>15s}'"
   ]
  },
  {
   "cell_type": "code",
   "execution_count": 127,
   "id": "3507109f-96cc-4288-9711-263c11c68705",
   "metadata": {},
   "outputs": [
    {
     "data": {
      "text/plain": [
       "'      1000  125354.69            Text'"
      ]
     },
     "execution_count": 127,
     "metadata": {},
     "output_type": "execute_result"
    }
   ],
   "source": [
    "with_f_string2(**data)"
   ]
  },
  {
   "cell_type": "code",
   "execution_count": 129,
   "id": "9600a6a8-0493-42ba-ab59-2f248f4754a8",
   "metadata": {},
   "outputs": [
    {
     "data": {
      "text/plain": [
       "'5'"
      ]
     },
     "execution_count": 129,
     "metadata": {},
     "output_type": "execute_result"
    }
   ],
   "source": [
    "'{L[3]}'.format(L=L)"
   ]
  },
  {
   "cell_type": "code",
   "execution_count": 130,
   "id": "6d7996af-e7fd-4d99-b7e6-a7abdeeebf11",
   "metadata": {},
   "outputs": [
    {
     "ename": "TypeError",
     "evalue": "list indices must be integers or slices, not str",
     "output_type": "error",
     "traceback": [
      "\u001b[0;31m---------------------------------------------------------------------------\u001b[0m",
      "\u001b[0;31mTypeError\u001b[0m                                 Traceback (most recent call last)",
      "Input \u001b[0;32mIn [130]\u001b[0m, in \u001b[0;36m<cell line: 1>\u001b[0;34m()\u001b[0m\n\u001b[0;32m----> 1\u001b[0m \u001b[38;5;124;43m'\u001b[39;49m\u001b[38;5;132;43;01m{L[3]}\u001b[39;49;00m\u001b[38;5;124;43m \u001b[39;49m\u001b[38;5;132;43;01m{L[2:4]}\u001b[39;49;00m\u001b[38;5;124;43m'\u001b[39;49m\u001b[38;5;241;43m.\u001b[39;49m\u001b[43mformat\u001b[49m\u001b[43m(\u001b[49m\u001b[43mL\u001b[49m\u001b[38;5;241;43m=\u001b[39;49m\u001b[43mL\u001b[49m\u001b[43m)\u001b[49m\n",
      "\u001b[0;31mTypeError\u001b[0m: list indices must be integers or slices, not str"
     ]
    }
   ],
   "source": [
    "'{L[3]} {L[2:4]}'.format(L=L)"
   ]
  },
  {
   "cell_type": "code",
   "execution_count": 132,
   "id": "e7b7b2e9-8e24-4202-ad28-a41ffd1a8ad1",
   "metadata": {},
   "outputs": [
    {
     "data": {
      "text/plain": [
       "'5 [4, 5] 54'"
      ]
     },
     "execution_count": 132,
     "metadata": {},
     "output_type": "execute_result"
    }
   ],
   "source": [
    "'{L[3]} {slc} {sum}'.format(L=L, slc=L[2:4], sum=sum(L))"
   ]
  },
  {
   "cell_type": "markdown",
   "id": "19931d77-c35e-48d9-88a9-cebc48195756",
   "metadata": {},
   "source": [
    "## `%`-Formatierung"
   ]
  },
  {
   "cell_type": "code",
   "execution_count": 133,
   "id": "d88ee474-bb1e-4134-a1d0-b526d3077ff0",
   "metadata": {},
   "outputs": [
    {
     "data": {
      "text/plain": [
       "'100'"
      ]
     },
     "execution_count": 133,
     "metadata": {},
     "output_type": "execute_result"
    }
   ],
   "source": [
    "'%d' % a"
   ]
  },
  {
   "cell_type": "code",
   "execution_count": 134,
   "id": "5b4c3a83-657c-475e-a86f-405bb18c09d8",
   "metadata": {},
   "outputs": [
    {
     "data": {
      "text/plain": [
       "'       100'"
      ]
     },
     "execution_count": 134,
     "metadata": {},
     "output_type": "execute_result"
    }
   ],
   "source": [
    "'%10d' % a"
   ]
  },
  {
   "cell_type": "code",
   "execution_count": 135,
   "id": "9c0b03a8-798d-470d-8016-76bf35e46421",
   "metadata": {},
   "outputs": [
    {
     "data": {
      "text/plain": [
       "'       100 45.789457'"
      ]
     },
     "execution_count": 135,
     "metadata": {},
     "output_type": "execute_result"
    }
   ],
   "source": [
    "'%10d %f' % (a, b)"
   ]
  },
  {
   "cell_type": "code",
   "execution_count": 137,
   "id": "6c743d74-b623-419b-a3ce-94dd7e01acd0",
   "metadata": {},
   "outputs": [
    {
     "data": {
      "text/plain": [
       "'       100 45.789457           Hallo'"
      ]
     },
     "execution_count": 137,
     "metadata": {},
     "output_type": "execute_result"
    }
   ],
   "source": [
    "'%10d %f %15s' % (a, b, c)"
   ]
  },
  {
   "cell_type": "code",
   "execution_count": 138,
   "id": "823a9822-aa21-4693-9dfc-82cf40b5082c",
   "metadata": {},
   "outputs": [
    {
     "data": {
      "text/plain": [
       "'      1000 125354.687878            Text'"
      ]
     },
     "execution_count": 138,
     "metadata": {},
     "output_type": "execute_result"
    }
   ],
   "source": [
    "'%(a)10d %(b)f %(c)15s' % data"
   ]
  },
  {
   "cell_type": "markdown",
   "id": "fb18f407-c89d-4d1f-a50b-e4492f2ff5bd",
   "metadata": {},
   "source": [
    "# Pause bis 10 Uhr"
   ]
  },
  {
   "cell_type": "code",
   "execution_count": 145,
   "id": "964101d3-da97-40c5-a85a-4a6d8de8a6f0",
   "metadata": {},
   "outputs": [],
   "source": [
    "import os"
   ]
  },
  {
   "cell_type": "code",
   "execution_count": 146,
   "id": "571376a0-49ad-4963-bf40-3ad0ee16a048",
   "metadata": {},
   "outputs": [
    {
     "ename": "OSError",
     "evalue": "[Errno 25] Inappropriate ioctl for device",
     "output_type": "error",
     "traceback": [
      "\u001b[0;31m---------------------------------------------------------------------------\u001b[0m",
      "\u001b[0;31mOSError\u001b[0m                                   Traceback (most recent call last)",
      "Input \u001b[0;32mIn [146]\u001b[0m, in \u001b[0;36m<cell line: 1>\u001b[0;34m()\u001b[0m\n\u001b[0;32m----> 1\u001b[0m \u001b[43mos\u001b[49m\u001b[38;5;241;43m.\u001b[39;49m\u001b[43mget_terminal_size\u001b[49m\u001b[43m(\u001b[49m\u001b[43m)\u001b[49m\n",
      "\u001b[0;31mOSError\u001b[0m: [Errno 25] Inappropriate ioctl for device"
     ]
    }
   ],
   "source": [
    "os.get_terminal_size()"
   ]
  },
  {
   "cell_type": "code",
   "execution_count": 147,
   "id": "704505b0-e9e3-4921-8928-3f81165a88ac",
   "metadata": {},
   "outputs": [],
   "source": [
    "satz = \"Dieser Satz soll durch Unterstriche verbunden werden\""
   ]
  },
  {
   "cell_type": "code",
   "execution_count": 148,
   "id": "d883e215-400b-4084-8ae0-293c2c3b8420",
   "metadata": {},
   "outputs": [
    {
     "data": {
      "text/plain": [
       "'Dieser_Satz_soll_durch_Unterstriche_verbunden_werden'"
      ]
     },
     "execution_count": 148,
     "metadata": {},
     "output_type": "execute_result"
    }
   ],
   "source": [
    "'_'.join(satz.split())"
   ]
  },
  {
   "cell_type": "code",
   "execution_count": 149,
   "id": "7c360ceb-2d1b-4e15-924e-8bc22a2e96d3",
   "metadata": {},
   "outputs": [
    {
     "name": "stdout",
     "output_type": "stream",
     "text": [
      "\n",
      "Hallo Paul,\n",
      "du schuldest mir noch 235.50€.\n",
      "Bitte denk daran mir den Betrag von 235.50€ bis morgen zu überweisen.\n",
      "Ich brauche das Geld (235.50€) sehr dringend.\n",
      "MfG\n",
      "\n"
     ]
    }
   ],
   "source": [
    "template = \"\"\"\n",
    "Hallo {name},\n",
    "du schuldest mir noch {schuldbetrag:.2f}€.\n",
    "Bitte denk daran mir den Betrag von {schuldbetrag:.2f}€ bis morgen zu überweisen.\n",
    "Ich brauche das Geld ({schuldbetrag:.2f}€) sehr dringend.\n",
    "MfG\n",
    "\"\"\"\n",
    "name = \"Paul\"\n",
    "schuldbetrag = 235.50\n",
    "\n",
    "print(template.format(**{\"name\": name, \"schuldbetrag\": schuldbetrag}))"
   ]
  },
  {
   "cell_type": "code",
   "execution_count": 150,
   "id": "6d7dd894-fe78-4812-90e7-018ae4422726",
   "metadata": {},
   "outputs": [
    {
     "name": "stdout",
     "output_type": "stream",
     "text": [
      "\n",
      "Hallo Paul,\n",
      "du schuldest mir noch 235.50€.\n",
      "Bitte denk daran mir den Betrag von 235.50€ bis morgen zu überweisen.\n",
      "Ich brauche das Geld (235.50€) sehr dringend.\n",
      "MfG\n",
      "\n"
     ]
    }
   ],
   "source": [
    "print(template.format(name=name, schuldbetrag=schuldbetrag))"
   ]
  },
  {
   "cell_type": "code",
   "execution_count": 151,
   "id": "0034d125-8737-4e3e-a1e9-86f7ecce51f8",
   "metadata": {},
   "outputs": [],
   "source": [
    "def make_letter(name, schuldbetrag):\n",
    "    template = f\"\"\"\n",
    "Hallo {name},\n",
    "du schuldest mir noch {schuldbetrag:.2f}€.\n",
    "Bitte denk daran mir den Betrag von {schuldbetrag:.2f}€ bis morgen zu überweisen.\n",
    "Ich brauche das Geld ({schuldbetrag:.2f}€) sehr dringend.\n",
    "MfG\n",
    "\"\"\"\n",
    "    return template"
   ]
  },
  {
   "cell_type": "code",
   "execution_count": 153,
   "id": "53d1c4c2-9bf5-43b5-a4d4-8c4441b38283",
   "metadata": {},
   "outputs": [
    {
     "name": "stdout",
     "output_type": "stream",
     "text": [
      "\n",
      "Hallo Paul,\n",
      "du schuldest mir noch 235.50€.\n",
      "Bitte denk daran mir den Betrag von 235.50€ bis morgen zu überweisen.\n",
      "Ich brauche das Geld (235.50€) sehr dringend.\n",
      "MfG\n",
      "\n"
     ]
    }
   ],
   "source": [
    "print(make_letter(name, schuldbetrag))"
   ]
  },
  {
   "cell_type": "markdown",
   "id": "9dbc2f3d-8cea-41b5-9652-3e154344ae81",
   "metadata": {},
   "source": [
    "# Pause bis 11:55 Uhr"
   ]
  },
  {
   "cell_type": "code",
   "execution_count": null,
   "id": "b82329aa-3106-467e-b77e-26b0ecd89d38",
   "metadata": {},
   "outputs": [],
   "source": []
  }
 ],
 "metadata": {
  "kernelspec": {
   "display_name": "Python 3.10",
   "language": "python",
   "name": "python310"
  },
  "language_info": {
   "codemirror_mode": {
    "name": "ipython",
    "version": 3
   },
   "file_extension": ".py",
   "mimetype": "text/x-python",
   "name": "python",
   "nbconvert_exporter": "python",
   "pygments_lexer": "ipython3",
   "version": "3.10.4"
  }
 },
 "nbformat": 4,
 "nbformat_minor": 5
}
