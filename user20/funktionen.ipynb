{
 "cells": [
  {
   "cell_type": "code",
   "execution_count": 1,
   "id": "b47307c4-01ee-4d35-833f-ac009898035e",
   "metadata": {},
   "outputs": [],
   "source": [
    "def read_txt(file_name):\n",
    "    return \"xlsx\"\n",
    "def read_txt(file_name):\n",
    "    return \"txt\"\n",
    "def read_csv(file_name):\n",
    "    return \"csv\""
   ]
  },
  {
   "cell_type": "code",
   "execution_count": 3,
   "id": "894d446e-3c9f-49fb-acb1-100d3418a7b5",
   "metadata": {},
   "outputs": [
    {
     "ename": "NameError",
     "evalue": "name 'read_csv' is not defined",
     "output_type": "error",
     "traceback": [
      "\u001b[0;31m---------------------------------------------------------------------------\u001b[0m",
      "\u001b[0;31mNameError\u001b[0m                                 Traceback (most recent call last)",
      "Input \u001b[0;32mIn [3]\u001b[0m, in \u001b[0;36m<cell line: 2>\u001b[0;34m()\u001b[0m\n\u001b[1;32m      1\u001b[0m readers \u001b[38;5;241m=\u001b[39m {\n\u001b[0;32m----> 2\u001b[0m     \u001b[38;5;124m\"\u001b[39m\u001b[38;5;124mcsv\u001b[39m\u001b[38;5;124m\"\u001b[39m : \u001b[43mread_csv\u001b[49m, \n\u001b[1;32m      3\u001b[0m     \u001b[38;5;124m\"\u001b[39m\u001b[38;5;124mtxt\u001b[39m\u001b[38;5;124m\"\u001b[39m : read_txt, \n\u001b[1;32m      4\u001b[0m     \u001b[38;5;124m\"\u001b[39m\u001b[38;5;124mxlsx\u001b[39m\u001b[38;5;124m\"\u001b[39m : read_xlsx\n\u001b[1;32m      5\u001b[0m }\n\u001b[1;32m      6\u001b[0m \u001b[38;5;28;01mdef\u001b[39;00m \u001b[38;5;21mread_file\u001b[39m(read_txt, readers\u001b[38;5;241m=\u001b[39mreaders):\n\u001b[1;32m      7\u001b[0m     ext \u001b[38;5;241m=\u001b[39m file_name\u001b[38;5;241m.\u001b[39msplit(\u001b[38;5;124m\"\u001b[39m\u001b[38;5;124m.\u001b[39m\u001b[38;5;124m\"\u001b[39m)[\u001b[38;5;241m-\u001b[39m\u001b[38;5;241m1\u001b[39m]\n",
      "\u001b[0;31mNameError\u001b[0m: name 'read_csv' is not defined"
     ]
    }
   ],
   "source": [
    "readers = {\n",
    "    \"csv\" : read_csv, \n",
    "    \"txt\" : read_txt, \n",
    "    \"xlsx\" : read_xlsx\n",
    "}\n",
    "def read_file(read_txt, readers=readers):\n",
    "    ext = file_name.split(\".\")[-1]\n",
    "    return readers[ext](file_name)"
   ]
  },
  {
   "cell_type": "markdown",
   "id": "d809ff7f-f998-4bdd-b6f6-574c0048ab52",
   "metadata": {},
   "source": [
    "# Übung 1"
   ]
  },
  {
   "cell_type": "code",
   "execution_count": 6,
   "id": "fa1d476b-c385-4114-8692-cec37ccae20c",
   "metadata": {},
   "outputs": [
    {
     "name": "stdout",
     "output_type": "stream",
     "text": [
      "0\n",
      "1\n",
      "2\n",
      "3\n",
      "4\n",
      "5\n",
      "6\n",
      "7\n",
      "8\n"
     ]
    },
    {
     "data": {
      "text/plain": [
       "9"
      ]
     },
     "execution_count": 6,
     "metadata": {},
     "output_type": "execute_result"
    }
   ],
   "source": [
    "def nullbis9():\n",
    "    for x in range(0,9,1):\n",
    "        print(x)\n",
    "        x = x + 1\n",
    "    return x\n",
    "nullbis9()"
   ]
  },
  {
   "cell_type": "markdown",
   "id": "fbeab2aa-75af-4817-93dc-9a9ca852accd",
   "metadata": {},
   "source": [
    "# Übung 2"
   ]
  },
  {
   "cell_type": "code",
   "execution_count": 29,
   "id": "e675de79-b1a2-4a01-a8c9-009d12262431",
   "metadata": {},
   "outputs": [
    {
     "data": {
      "text/plain": [
       "4"
      ]
     },
     "execution_count": 29,
     "metadata": {},
     "output_type": "execute_result"
    }
   ],
   "source": [
    "def verdopplung(x):\n",
    "    return x * 2\n",
    "verdopplung(2)"
   ]
  },
  {
   "cell_type": "markdown",
   "id": "7dc7d904-594d-40aa-aa95-6c529162be90",
   "metadata": {},
   "source": [
    "# Übung 3"
   ]
  },
  {
   "cell_type": "code",
   "execution_count": 30,
   "id": "34370528-0c20-4a78-8e29-0ad112a041a4",
   "metadata": {},
   "outputs": [
    {
     "data": {
      "text/plain": [
       "'lolhuso'"
      ]
     },
     "execution_count": 30,
     "metadata": {},
     "output_type": "execute_result"
    }
   ],
   "source": [
    "def zsmfügen(a, b):\n",
    "    return a + b\n",
    "zsmfügen(\"lol\",\"huso\")"
   ]
  },
  {
   "cell_type": "markdown",
   "id": "d309ba27-7415-4467-a555-fb882cfa9a27",
   "metadata": {},
   "source": [
    "# Übung 4"
   ]
  },
  {
   "cell_type": "code",
   "execution_count": 31,
   "id": "cd5e66c8-aba9-4899-ad82-8b707b339235",
   "metadata": {},
   "outputs": [
    {
     "data": {
      "text/plain": [
       "3.0"
      ]
     },
     "execution_count": 31,
     "metadata": {},
     "output_type": "execute_result"
    }
   ],
   "source": [
    "def mittel(x, y, z):\n",
    "    t = (x, y, z)\n",
    "    return ((x + y + z)/len(t))\n",
    "mittel(1,2,6)"
   ]
  },
  {
   "cell_type": "markdown",
   "id": "01b65914-d23e-4b80-baf8-4f7ae399b1e3",
   "metadata": {},
   "source": [
    "# Übung 5"
   ]
  },
  {
   "cell_type": "code",
   "execution_count": 28,
   "id": "c002502d-7032-4130-859a-f1f771dce47c",
   "metadata": {},
   "outputs": [
    {
     "data": {
      "text/plain": [
       "3.0"
      ]
     },
     "execution_count": 28,
     "metadata": {},
     "output_type": "execute_result"
    }
   ],
   "source": [
    "t = (3, 6, 0)\n",
    "def mittel(x, l):\n",
    "    return (x/l)\n",
    "mittel(sum(t), len(t))"
   ]
  },
  {
   "cell_type": "code",
   "execution_count": null,
   "id": "4685eb14-d20d-49f3-814e-bc0cefdec03a",
   "metadata": {},
   "outputs": [],
   "source": []
  }
 ],
 "metadata": {
  "kernelspec": {
   "display_name": "Python 3.10",
   "language": "python",
   "name": "python310"
  },
  "language_info": {
   "codemirror_mode": {
    "name": "ipython",
    "version": 3
   },
   "file_extension": ".py",
   "mimetype": "text/x-python",
   "name": "python",
   "nbconvert_exporter": "python",
   "pygments_lexer": "ipython3",
   "version": "3.10.4"
  }
 },
 "nbformat": 4,
 "nbformat_minor": 5
}
