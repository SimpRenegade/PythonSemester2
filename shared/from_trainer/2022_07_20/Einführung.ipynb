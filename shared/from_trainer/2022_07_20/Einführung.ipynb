{
 "cells": [
  {
   "cell_type": "code",
   "execution_count": 1,
   "id": "42763995-2ed0-4dbb-847a-bda166e14709",
   "metadata": {},
   "outputs": [
    {
     "data": {
      "text/plain": [
       "2"
      ]
     },
     "execution_count": 1,
     "metadata": {},
     "output_type": "execute_result"
    }
   ],
   "source": [
    "1 + 1"
   ]
  },
  {
   "cell_type": "markdown",
   "id": "70d5387c-ceae-4deb-9b30-1355785767a5",
   "metadata": {},
   "source": [
    "# Markdown\n",
    "\n",
    "* einfache Markup-Sprache\n",
    "* viel genutzt\n",
    "\n",
    "<h1>Überschrift</h1>\n",
    "\n",
    "```python\n",
    "print('Hallo')\n",
    "```\n",
    "\n",
    "```\n",
    "print('Hallo')\n",
    "```"
   ]
  },
  {
   "cell_type": "markdown",
   "id": "ba72a8da-afa9-4fde-b85f-d828364b47ab",
   "metadata": {},
   "source": [
    "# Handhabung\n",
    "\n",
    "* Zelle ausführen mit `<Shift> + <Enter>`\n",
    "* Umgebung aktivieren:\n",
    "\n",
    "       conda activate python310"
   ]
  },
  {
   "cell_type": "code",
   "execution_count": null,
   "id": "6e621bca-251c-4c7d-bbef-f5102c4b29b8",
   "metadata": {},
   "outputs": [],
   "source": [
    "# Text"
   ]
  }
 ],
 "metadata": {
  "kernelspec": {
   "display_name": "Python 3.10",
   "language": "python",
   "name": "python310"
  },
  "language_info": {
   "codemirror_mode": {
    "name": "ipython",
    "version": 3
   },
   "file_extension": ".py",
   "mimetype": "text/x-python",
   "name": "python",
   "nbconvert_exporter": "python",
   "pygments_lexer": "ipython3",
   "version": "3.10.4"
  }
 },
 "nbformat": 4,
 "nbformat_minor": 5
}
