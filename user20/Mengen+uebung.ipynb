{
 "cells": [
  {
   "cell_type": "code",
   "execution_count": 76,
   "id": "895ac276-d267-47c6-b340-8d6d2d94b018",
   "metadata": {},
   "outputs": [
    {
     "data": {
      "text/plain": [
       "{2, 3, 5, 6, 7}"
      ]
     },
     "execution_count": 76,
     "metadata": {},
     "output_type": "execute_result"
    }
   ],
   "source": [
    "{6, 3, 7, 2, 5}"
   ]
  },
  {
   "cell_type": "code",
   "execution_count": 77,
   "id": "025a1720-a8d7-4b93-baac-ff15bdeaa8f5",
   "metadata": {},
   "outputs": [
    {
     "data": {
      "text/plain": [
       "{2, 3, 5, 6, 7}"
      ]
     },
     "execution_count": 77,
     "metadata": {},
     "output_type": "execute_result"
    }
   ],
   "source": [
    "s1 = {6, 3, 7, 2, 5}\n",
    "s1"
   ]
  },
  {
   "cell_type": "code",
   "execution_count": 78,
   "id": "7001f446-1616-4a42-add4-d8f380b514d3",
   "metadata": {},
   "outputs": [
    {
     "data": {
      "text/plain": [
       "False"
      ]
     },
     "execution_count": 78,
     "metadata": {},
     "output_type": "execute_result"
    }
   ],
   "source": [
    "1 in s1"
   ]
  },
  {
   "cell_type": "code",
   "execution_count": 79,
   "id": "78e6ecda-20e2-4069-91e7-777c216a066d",
   "metadata": {},
   "outputs": [
    {
     "data": {
      "text/plain": [
       "{4, 5, 6, 7, 8}"
      ]
     },
     "execution_count": 79,
     "metadata": {},
     "output_type": "execute_result"
    }
   ],
   "source": [
    "s2 = {4,5,6,7,8}\n",
    "s2"
   ]
  },
  {
   "cell_type": "code",
   "execution_count": 80,
   "id": "662f0252-2512-45a6-b87e-b613ca9ff534",
   "metadata": {},
   "outputs": [
    {
     "data": {
      "text/plain": [
       "{5, 6, 7}"
      ]
     },
     "execution_count": 80,
     "metadata": {},
     "output_type": "execute_result"
    }
   ],
   "source": [
    "s1.intersection(s2)"
   ]
  },
  {
   "cell_type": "code",
   "execution_count": 81,
   "id": "0334bdf7-d3a6-4f75-9812-198a4bb6d0be",
   "metadata": {},
   "outputs": [
    {
     "data": {
      "text/plain": [
       "{5, 6, 7}"
      ]
     },
     "execution_count": 81,
     "metadata": {},
     "output_type": "execute_result"
    }
   ],
   "source": [
    "s1 & s2"
   ]
  },
  {
   "cell_type": "code",
   "execution_count": 82,
   "id": "bb13d53d-4d7f-4d0e-af77-1b4a252e5fe1",
   "metadata": {},
   "outputs": [
    {
     "data": {
      "text/plain": [
       "{2, 3, 4, 5, 6, 7, 8}"
      ]
     },
     "execution_count": 82,
     "metadata": {},
     "output_type": "execute_result"
    }
   ],
   "source": [
    "s1.union(s2)"
   ]
  },
  {
   "cell_type": "code",
   "execution_count": 83,
   "id": "34781169-c7e5-4429-b90b-c4c1151b1120",
   "metadata": {},
   "outputs": [
    {
     "data": {
      "text/plain": [
       "{2, 3, 4, 5, 6, 7, 8}"
      ]
     },
     "execution_count": 83,
     "metadata": {},
     "output_type": "execute_result"
    }
   ],
   "source": [
    "s1 | s2"
   ]
  },
  {
   "cell_type": "code",
   "execution_count": 84,
   "id": "622a285a-24eb-4e10-92ca-8f3eb71a2176",
   "metadata": {},
   "outputs": [
    {
     "data": {
      "text/plain": [
       "{2, 3}"
      ]
     },
     "execution_count": 84,
     "metadata": {},
     "output_type": "execute_result"
    }
   ],
   "source": [
    "s1 - s2"
   ]
  },
  {
   "cell_type": "code",
   "execution_count": 85,
   "id": "3847686a-0aa3-4b50-992f-b137b27f9b99",
   "metadata": {},
   "outputs": [
    {
     "data": {
      "text/plain": [
       "{4, 8}"
      ]
     },
     "execution_count": 85,
     "metadata": {},
     "output_type": "execute_result"
    }
   ],
   "source": [
    "s2 - s1"
   ]
  },
  {
   "cell_type": "code",
   "execution_count": 86,
   "id": "38122533-aa35-4225-9c4b-ac1b890cc42f",
   "metadata": {},
   "outputs": [
    {
     "data": {
      "text/plain": [
       "{2, 3, 4, 8}"
      ]
     },
     "execution_count": 86,
     "metadata": {},
     "output_type": "execute_result"
    }
   ],
   "source": [
    "s1.symmetric_difference(s2)"
   ]
  },
  {
   "cell_type": "code",
   "execution_count": 87,
   "id": "125313c1-5f37-46ea-9496-5dc35a133ca5",
   "metadata": {},
   "outputs": [
    {
     "data": {
      "text/plain": [
       "{2, 3, 4, 8}"
      ]
     },
     "execution_count": 87,
     "metadata": {},
     "output_type": "execute_result"
    }
   ],
   "source": [
    "s1 ^ s2"
   ]
  },
  {
   "cell_type": "code",
   "execution_count": 88,
   "id": "b17fd7f6-9fe3-40be-aec5-7fa7a21d9933",
   "metadata": {},
   "outputs": [
    {
     "data": {
      "text/plain": [
       "set()"
      ]
     },
     "execution_count": 88,
     "metadata": {},
     "output_type": "execute_result"
    }
   ],
   "source": [
    "s1 - s1"
   ]
  },
  {
   "cell_type": "code",
   "execution_count": 89,
   "id": "256ab6cf-9228-42a0-8f3f-4b3c1d2be200",
   "metadata": {},
   "outputs": [
    {
     "data": {
      "text/plain": [
       "False"
      ]
     },
     "execution_count": 89,
     "metadata": {},
     "output_type": "execute_result"
    }
   ],
   "source": [
    "s1.issuperset(set([1, 2, 3]))"
   ]
  },
  {
   "cell_type": "code",
   "execution_count": 90,
   "id": "80bb7551-3858-4e30-999c-be48318f8cf4",
   "metadata": {},
   "outputs": [
    {
     "data": {
      "text/plain": [
       "False"
      ]
     },
     "execution_count": 90,
     "metadata": {},
     "output_type": "execute_result"
    }
   ],
   "source": [
    "s1.issuperset(set([1, 2, 30]))"
   ]
  },
  {
   "cell_type": "code",
   "execution_count": 91,
   "id": "76597b1f-d3ea-4bb7-999c-b310f97d5ed9",
   "metadata": {},
   "outputs": [
    {
     "data": {
      "text/plain": [
       "True"
      ]
     },
     "execution_count": 91,
     "metadata": {},
     "output_type": "execute_result"
    }
   ],
   "source": [
    "s1.issubset(set(range(10)))"
   ]
  },
  {
   "cell_type": "code",
   "execution_count": 92,
   "id": "5dca36a2-ee64-424e-b0fd-8fe331ebd486",
   "metadata": {},
   "outputs": [
    {
     "data": {
      "text/plain": [
       "[2, 3, 5, 6, 7]"
      ]
     },
     "execution_count": 92,
     "metadata": {},
     "output_type": "execute_result"
    }
   ],
   "source": [
    "res = []\n",
    "seen = set()\n",
    "for x in s1:\n",
    "    if x not in seen:\n",
    "        seen.add(x)\n",
    "        res.append(x)\n",
    "res"
   ]
  },
  {
   "cell_type": "code",
   "execution_count": 93,
   "id": "d8df1118-ae36-4511-8533-863fd87dad6d",
   "metadata": {},
   "outputs": [
    {
     "data": {
      "text/plain": [
       "{2, 3, 5, 6, 7}"
      ]
     },
     "execution_count": 93,
     "metadata": {},
     "output_type": "execute_result"
    }
   ],
   "source": [
    "s1"
   ]
  },
  {
   "cell_type": "code",
   "execution_count": 94,
   "id": "67856a5c-191b-4ef3-936a-e5b11a47a731",
   "metadata": {},
   "outputs": [
    {
     "data": {
      "text/plain": [
       "frozenset({2, 3, 5, 6, 7})"
      ]
     },
     "execution_count": 94,
     "metadata": {},
     "output_type": "execute_result"
    }
   ],
   "source": [
    "fz = frozenset(s1)\n",
    "fz"
   ]
  },
  {
   "cell_type": "code",
   "execution_count": 96,
   "id": "7eb36d45-3ae3-41c5-89fa-a1fc40c29264",
   "metadata": {},
   "outputs": [
    {
     "data": {
      "text/plain": [
       "['__and__',\n",
       " '__class__',\n",
       " '__class_getitem__',\n",
       " '__contains__',\n",
       " '__delattr__',\n",
       " '__dir__',\n",
       " '__doc__',\n",
       " '__eq__',\n",
       " '__format__',\n",
       " '__ge__',\n",
       " '__getattribute__',\n",
       " '__gt__',\n",
       " '__hash__',\n",
       " '__init__',\n",
       " '__init_subclass__',\n",
       " '__iter__',\n",
       " '__le__',\n",
       " '__len__',\n",
       " '__lt__',\n",
       " '__ne__',\n",
       " '__new__',\n",
       " '__or__',\n",
       " '__rand__',\n",
       " '__reduce__',\n",
       " '__reduce_ex__',\n",
       " '__repr__',\n",
       " '__ror__',\n",
       " '__rsub__',\n",
       " '__rxor__',\n",
       " '__setattr__',\n",
       " '__sizeof__',\n",
       " '__str__',\n",
       " '__sub__',\n",
       " '__subclasshook__',\n",
       " '__xor__',\n",
       " 'copy',\n",
       " 'difference',\n",
       " 'intersection',\n",
       " 'isdisjoint',\n",
       " 'issubset',\n",
       " 'issuperset',\n",
       " 'symmetric_difference',\n",
       " 'union']"
      ]
     },
     "execution_count": 96,
     "metadata": {},
     "output_type": "execute_result"
    }
   ],
   "source": [
    "dir(fz)"
   ]
  },
  {
   "cell_type": "markdown",
   "id": "b85c9ab1-e619-4f16-ab55-09666ebaa128",
   "metadata": {},
   "source": [
    "# Übung 1"
   ]
  },
  {
   "cell_type": "code",
   "execution_count": 140,
   "id": "99b82c64-0d3b-4bc2-8674-4d948c4fac4e",
   "metadata": {},
   "outputs": [
    {
     "data": {
      "text/plain": [
       "{'Len', 'Lucas'}"
      ]
     },
     "execution_count": 140,
     "metadata": {},
     "output_type": "execute_result"
    }
   ],
   "source": [
    "m1 = {\"Jonas\", \"Len\", \"Lucas\", \"Marc\"}\n",
    "m2 = {\"Philipp\", \"Len\", \"Felix\", \"Lucas\"}\n",
    "\n",
    "#Schnittmenge\n",
    "m2.intersection(m1)"
   ]
  },
  {
   "cell_type": "code",
   "execution_count": 141,
   "id": "b4ac6a10-e713-4145-8ce0-9502b2a22f88",
   "metadata": {},
   "outputs": [
    {
     "data": {
      "text/plain": [
       "{'Jonas', 'Marc'}"
      ]
     },
     "execution_count": 141,
     "metadata": {},
     "output_type": "execute_result"
    }
   ],
   "source": [
    "#Differenz\n",
    "m1.difference(m2)"
   ]
  },
  {
   "cell_type": "code",
   "execution_count": 142,
   "id": "6164cc07-f629-4521-800f-cf4a75b848a5",
   "metadata": {},
   "outputs": [
    {
     "data": {
      "text/plain": [
       "{'Felix', 'Philipp'}"
      ]
     },
     "execution_count": 142,
     "metadata": {},
     "output_type": "execute_result"
    }
   ],
   "source": [
    "m2.difference(m1)"
   ]
  },
  {
   "cell_type": "code",
   "execution_count": 143,
   "id": "a3d178a6-af1c-427f-b0ee-55a921205251",
   "metadata": {},
   "outputs": [
    {
     "data": {
      "text/plain": [
       "{'Felix', 'Jonas', 'Len', 'Lucas', 'Marc', 'Philipp'}"
      ]
     },
     "execution_count": 143,
     "metadata": {},
     "output_type": "execute_result"
    }
   ],
   "source": [
    "#Vereinigung\n",
    "m1.union(m2)"
   ]
  },
  {
   "cell_type": "code",
   "execution_count": 144,
   "id": "c946276a-a64c-4177-b3ff-6d4daf47bd03",
   "metadata": {},
   "outputs": [
    {
     "data": {
      "text/plain": [
       "True"
      ]
     },
     "execution_count": 144,
     "metadata": {},
     "output_type": "execute_result"
    }
   ],
   "source": [
    "um1 = {\"Jonas\", \"Len\"}\n",
    "um1.issubset(m1)"
   ]
  },
  {
   "cell_type": "code",
   "execution_count": 150,
   "id": "d3c2056e-af3d-4d75-9888-8c780350b215",
   "metadata": {},
   "outputs": [
    {
     "data": {
      "text/plain": [
       "{'Jonas', 'Len', 'Lucas', 'Marc'}"
      ]
     },
     "execution_count": 150,
     "metadata": {},
     "output_type": "execute_result"
    }
   ],
   "source": [
    "m1"
   ]
  },
  {
   "cell_type": "code",
   "execution_count": 227,
   "id": "488f3bb6-c200-468b-9e9d-e348d0df2951",
   "metadata": {},
   "outputs": [],
   "source": [
    "m3 = {\"Microsoft\", \"und\", \"unsere\", \"Cookies\", \"um\", \"Informationen\"}\n",
    "m4 = {\"huso\", \"flo\", \"java\", \"könig\", \"Microsoft\", \"Jonas\", \"Felix\"}\n",
    "m5 = {\"husso\", \"flo\", \"java\", \"koenig\", \"Microsoft\", \"Jonas\", \"Felix\"}"
   ]
  },
  {
   "cell_type": "code",
   "execution_count": 228,
   "id": "bcc73221-b51d-407c-9bfc-82e8b4f943e0",
   "metadata": {},
   "outputs": [],
   "source": [
    "m3static = frozenset(m3)\n",
    "m4static = frozenset(m4)\n",
    "m5static = frozenset(m5)"
   ]
  },
  {
   "cell_type": "code",
   "execution_count": 231,
   "id": "9c1d6306-36d1-4f6c-aa56-4d4e88e7a131",
   "metadata": {},
   "outputs": [],
   "source": [
    "m6 = {m3static, m4static, m5static}"
   ]
  },
  {
   "cell_type": "code",
   "execution_count": 232,
   "id": "9e08ba7f-f264-422c-b5de-aaf318d0f5f0",
   "metadata": {},
   "outputs": [
    {
     "data": {
      "text/plain": [
       "{frozenset({'Felix', 'Jonas', 'Microsoft', 'flo', 'huso', 'java', 'könig'}),\n",
       " frozenset({'Felix', 'Jonas', 'Microsoft', 'flo', 'husso', 'java', 'koenig'}),\n",
       " frozenset({'Cookies', 'Informationen', 'Microsoft', 'um', 'und', 'unsere'})}"
      ]
     },
     "execution_count": 232,
     "metadata": {},
     "output_type": "execute_result"
    }
   ],
   "source": [
    "m6"
   ]
  },
  {
   "cell_type": "code",
   "execution_count": null,
   "id": "f68b8e4c-8e79-4d8b-af46-837f0452130e",
   "metadata": {},
   "outputs": [],
   "source": []
  },
  {
   "cell_type": "markdown",
   "id": "5adff745-7add-4ff9-a450-4b7f66907a75",
   "metadata": {
    "tags": []
   },
   "source": [
    "##### "
   ]
  },
  {
   "cell_type": "code",
   "execution_count": 233,
   "id": "c90a227e-1f2f-4758-9a93-77f3320d27f4",
   "metadata": {},
   "outputs": [],
   "source": [
    "# Übung 5\n",
    "import time\n",
    "x = 0\n",
    "M1 = set()\n",
    "D1 = {}\n",
    "L1 = []\n",
    "while x < 10000:\n",
    "    D1[x] = x\n",
    "    M1.add(x)\n",
    "    L1.append(x)\n",
    "    x = x + 1"
   ]
  },
  {
   "cell_type": "code",
   "execution_count": 234,
   "id": "6667e51c-5ffd-44c6-b83a-08ef20c11aee",
   "metadata": {},
   "outputs": [
    {
     "name": "stdout",
     "output_type": "stream",
     "text": [
      "Dictionary:\n",
      "0.000133613\n",
      "Menge:\n",
      "8.6378e-05\n",
      "List:\n",
      "0.000215604\n"
     ]
    }
   ],
   "source": [
    "# Dictionary\n",
    "gesuchteelement = 5000\n",
    "\n",
    "start = time.perf_counter_ns()\n",
    "gesuchteelement in D1\n",
    "end = time.perf_counter_ns()\n",
    "print('Dictionary:')\n",
    "print((end - start) / 1e9)\n",
    "\n",
    "# Menge\n",
    "start = time.perf_counter_ns()\n",
    "gesuchteelement in M1\n",
    "end = time.perf_counter_ns()\n",
    "print('Menge:')\n",
    "print((end - start) / 1e9)\n",
    "\n",
    "# List\n",
    "start = time.perf_counter_ns()\n",
    "gesuchteelement in L1\n",
    "end = time.perf_counter_ns()\n",
    "print('List:')\n",
    "print((end - start) / 1e9)"
   ]
  },
  {
   "cell_type": "code",
   "execution_count": null,
   "id": "12d5a490-57dd-4c4e-9ca6-f093fddf4383",
   "metadata": {},
   "outputs": [],
   "source": []
  },
  {
   "cell_type": "code",
   "execution_count": null,
   "id": "6437e943-a860-45d4-8791-4b4405ca3cef",
   "metadata": {},
   "outputs": [],
   "source": []
  },
  {
   "cell_type": "code",
   "execution_count": null,
   "id": "3926db99-9710-4fce-bc8b-faaa6fa791f5",
   "metadata": {},
   "outputs": [],
   "source": []
  }
 ],
 "metadata": {
  "kernelspec": {
   "display_name": "Python 3.10",
   "language": "python",
   "name": "python310"
  },
  "language_info": {
   "codemirror_mode": {
    "name": "ipython",
    "version": 3
   },
   "file_extension": ".py",
   "mimetype": "text/x-python",
   "name": "python",
   "nbconvert_exporter": "python",
   "pygments_lexer": "ipython3",
   "version": "3.10.4"
  }
 },
 "nbformat": 4,
 "nbformat_minor": 5
}
