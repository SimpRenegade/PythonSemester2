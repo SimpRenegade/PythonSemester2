{
 "cells": [
  {
   "cell_type": "markdown",
   "id": "630ffa40-3a53-487c-af3d-f08e3c4c8061",
   "metadata": {},
   "source": [
    "**LGB**\n",
    "\n",
    "* Local\n",
    "* Global\n",
    "* Builtin"
   ]
  },
  {
   "cell_type": "code",
   "execution_count": 2,
   "id": "63f0f2c0-4b7a-47de-9dd8-314c28580e29",
   "metadata": {},
   "outputs": [
    {
     "data": {
      "text/plain": [
       "['ArithmeticError',\n",
       " 'AssertionError',\n",
       " 'AttributeError',\n",
       " 'BaseException',\n",
       " 'BlockingIOError',\n",
       " 'BrokenPipeError',\n",
       " 'BufferError',\n",
       " 'BytesWarning',\n",
       " 'ChildProcessError',\n",
       " 'ConnectionAbortedError',\n",
       " 'ConnectionError',\n",
       " 'ConnectionRefusedError',\n",
       " 'ConnectionResetError',\n",
       " 'DeprecationWarning',\n",
       " 'EOFError',\n",
       " 'Ellipsis',\n",
       " 'EncodingWarning',\n",
       " 'EnvironmentError',\n",
       " 'Exception',\n",
       " 'False',\n",
       " 'FileExistsError',\n",
       " 'FileNotFoundError',\n",
       " 'FloatingPointError',\n",
       " 'FutureWarning',\n",
       " 'GeneratorExit',\n",
       " 'IOError',\n",
       " 'ImportError',\n",
       " 'ImportWarning',\n",
       " 'IndentationError',\n",
       " 'IndexError',\n",
       " 'InterruptedError',\n",
       " 'IsADirectoryError',\n",
       " 'KeyError',\n",
       " 'KeyboardInterrupt',\n",
       " 'LookupError',\n",
       " 'MemoryError',\n",
       " 'ModuleNotFoundError',\n",
       " 'NameError',\n",
       " 'None',\n",
       " 'NotADirectoryError',\n",
       " 'NotImplemented',\n",
       " 'NotImplementedError',\n",
       " 'OSError',\n",
       " 'OverflowError',\n",
       " 'PendingDeprecationWarning',\n",
       " 'PermissionError',\n",
       " 'ProcessLookupError',\n",
       " 'RecursionError',\n",
       " 'ReferenceError',\n",
       " 'ResourceWarning',\n",
       " 'RuntimeError',\n",
       " 'RuntimeWarning',\n",
       " 'StopAsyncIteration',\n",
       " 'StopIteration',\n",
       " 'SyntaxError',\n",
       " 'SyntaxWarning',\n",
       " 'SystemError',\n",
       " 'SystemExit',\n",
       " 'TabError',\n",
       " 'TimeoutError',\n",
       " 'True',\n",
       " 'TypeError',\n",
       " 'UnboundLocalError',\n",
       " 'UnicodeDecodeError',\n",
       " 'UnicodeEncodeError',\n",
       " 'UnicodeError',\n",
       " 'UnicodeTranslateError',\n",
       " 'UnicodeWarning',\n",
       " 'UserWarning',\n",
       " 'ValueError',\n",
       " 'Warning',\n",
       " 'ZeroDivisionError',\n",
       " '__IPYTHON__',\n",
       " '__build_class__',\n",
       " '__debug__',\n",
       " '__doc__',\n",
       " '__import__',\n",
       " '__loader__',\n",
       " '__name__',\n",
       " '__package__',\n",
       " '__spec__',\n",
       " 'abs',\n",
       " 'aiter',\n",
       " 'all',\n",
       " 'anext',\n",
       " 'any',\n",
       " 'ascii',\n",
       " 'bin',\n",
       " 'bool',\n",
       " 'breakpoint',\n",
       " 'bytearray',\n",
       " 'bytes',\n",
       " 'callable',\n",
       " 'chr',\n",
       " 'classmethod',\n",
       " 'compile',\n",
       " 'complex',\n",
       " 'copyright',\n",
       " 'credits',\n",
       " 'delattr',\n",
       " 'dict',\n",
       " 'dir',\n",
       " 'display',\n",
       " 'divmod',\n",
       " 'enumerate',\n",
       " 'eval',\n",
       " 'exec',\n",
       " 'execfile',\n",
       " 'filter',\n",
       " 'float',\n",
       " 'format',\n",
       " 'frozenset',\n",
       " 'get_ipython',\n",
       " 'getattr',\n",
       " 'globals',\n",
       " 'hasattr',\n",
       " 'hash',\n",
       " 'help',\n",
       " 'hex',\n",
       " 'id',\n",
       " 'input',\n",
       " 'int',\n",
       " 'isinstance',\n",
       " 'issubclass',\n",
       " 'iter',\n",
       " 'len',\n",
       " 'license',\n",
       " 'list',\n",
       " 'locals',\n",
       " 'map',\n",
       " 'max',\n",
       " 'memoryview',\n",
       " 'min',\n",
       " 'next',\n",
       " 'object',\n",
       " 'oct',\n",
       " 'open',\n",
       " 'ord',\n",
       " 'pow',\n",
       " 'print',\n",
       " 'property',\n",
       " 'range',\n",
       " 'repr',\n",
       " 'reversed',\n",
       " 'round',\n",
       " 'runfile',\n",
       " 'set',\n",
       " 'setattr',\n",
       " 'slice',\n",
       " 'sorted',\n",
       " 'staticmethod',\n",
       " 'str',\n",
       " 'sum',\n",
       " 'super',\n",
       " 'tuple',\n",
       " 'type',\n",
       " 'vars',\n",
       " 'zip']"
      ]
     },
     "execution_count": 2,
     "metadata": {},
     "output_type": "execute_result"
    }
   ],
   "source": [
    "dir(__builtin__)"
   ]
  },
  {
   "cell_type": "code",
   "execution_count": 3,
   "id": "f4265580-90b5-4f25-98f1-0a30981d3571",
   "metadata": {},
   "outputs": [],
   "source": [
    "def outer(arg1):\n",
    "    def inner(arg2):\n",
    "        return arg1 + arg2\n",
    "    return inner(10)"
   ]
  },
  {
   "cell_type": "code",
   "execution_count": 4,
   "id": "aee2d21a-f244-4779-90ec-3065b408e49e",
   "metadata": {},
   "outputs": [
    {
     "data": {
      "text/plain": [
       "17"
      ]
     },
     "execution_count": 4,
     "metadata": {},
     "output_type": "execute_result"
    }
   ],
   "source": [
    "outer(7)"
   ]
  },
  {
   "cell_type": "markdown",
   "id": "5d84eab9-611c-43a9-ad20-1df58d131f6e",
   "metadata": {},
   "source": [
    "**LEGB**\n",
    "\n",
    "* Local\n",
    "* Enclosing\n",
    "* Global\n",
    "* Builtin"
   ]
  },
  {
   "cell_type": "code",
   "execution_count": 5,
   "id": "86c5e710-94a8-4e2d-b12e-0fe35d54b026",
   "metadata": {},
   "outputs": [],
   "source": [
    "def outer(arg1):\n",
    "    def inner(arg2):\n",
    "        return arg1 + arg2\n",
    "    return inner"
   ]
  },
  {
   "cell_type": "code",
   "execution_count": 6,
   "id": "2caf033f-abcf-4cad-9e0e-11348749989c",
   "metadata": {},
   "outputs": [],
   "source": [
    "i10 = outer(10)"
   ]
  },
  {
   "cell_type": "code",
   "execution_count": 7,
   "id": "9e7748ef-97eb-4082-b28a-2ac48ec113b1",
   "metadata": {},
   "outputs": [
    {
     "data": {
      "text/plain": [
       "function"
      ]
     },
     "execution_count": 7,
     "metadata": {},
     "output_type": "execute_result"
    }
   ],
   "source": [
    "type(i10)"
   ]
  },
  {
   "cell_type": "code",
   "execution_count": 8,
   "id": "67cff7fb-296d-455c-964e-9ff2bbf5fcc9",
   "metadata": {},
   "outputs": [
    {
     "data": {
      "text/plain": [
       "<function __main__.outer.<locals>.inner(arg2)>"
      ]
     },
     "execution_count": 8,
     "metadata": {},
     "output_type": "execute_result"
    }
   ],
   "source": [
    "i10"
   ]
  },
  {
   "cell_type": "code",
   "execution_count": 9,
   "id": "b9b9b604-0dd2-41b0-a798-d43a45201cf8",
   "metadata": {},
   "outputs": [
    {
     "data": {
      "text/plain": [
       "17"
      ]
     },
     "execution_count": 9,
     "metadata": {},
     "output_type": "execute_result"
    }
   ],
   "source": [
    "i10(7)"
   ]
  },
  {
   "cell_type": "code",
   "execution_count": 12,
   "id": "629029a6-77f3-4b9a-a4e0-c0d24de6f25c",
   "metadata": {},
   "outputs": [
    {
     "data": {
      "text/plain": [
       "10"
      ]
     },
     "execution_count": 12,
     "metadata": {},
     "output_type": "execute_result"
    }
   ],
   "source": [
    "i10.__closure__[0].cell_contents"
   ]
  },
  {
   "cell_type": "code",
   "execution_count": 13,
   "id": "a94b46a7-c95a-487a-bf78-ea2171a09446",
   "metadata": {},
   "outputs": [],
   "source": [
    "funcs = {k: outer(n) for k, n in zip('abc', range(1, 4))}"
   ]
  },
  {
   "cell_type": "code",
   "execution_count": 14,
   "id": "10aac80d-6553-45fd-a18e-cc8f760d2da8",
   "metadata": {},
   "outputs": [
    {
     "data": {
      "text/plain": [
       "{'a': <function __main__.outer.<locals>.inner(arg2)>,\n",
       " 'b': <function __main__.outer.<locals>.inner(arg2)>,\n",
       " 'c': <function __main__.outer.<locals>.inner(arg2)>}"
      ]
     },
     "execution_count": 14,
     "metadata": {},
     "output_type": "execute_result"
    }
   ],
   "source": [
    "funcs"
   ]
  },
  {
   "cell_type": "code",
   "execution_count": 15,
   "id": "7eb50082-ebcd-429f-9482-138eece11e68",
   "metadata": {},
   "outputs": [
    {
     "data": {
      "text/plain": [
       "<function __main__.outer.<locals>.inner(arg2)>"
      ]
     },
     "execution_count": 15,
     "metadata": {},
     "output_type": "execute_result"
    }
   ],
   "source": [
    "funcs['a']"
   ]
  },
  {
   "cell_type": "code",
   "execution_count": 16,
   "id": "7a95b02c-6731-470c-a5ea-eb1e04252e95",
   "metadata": {},
   "outputs": [
    {
     "data": {
      "text/plain": [
       "11"
      ]
     },
     "execution_count": 16,
     "metadata": {},
     "output_type": "execute_result"
    }
   ],
   "source": [
    "funcs['a'](10)"
   ]
  },
  {
   "cell_type": "code",
   "execution_count": 17,
   "id": "eb843f52-baf6-4de6-adc4-96adab0b5e5a",
   "metadata": {},
   "outputs": [
    {
     "data": {
      "text/plain": [
       "12"
      ]
     },
     "execution_count": 17,
     "metadata": {},
     "output_type": "execute_result"
    }
   ],
   "source": [
    "funcs['b'](10)"
   ]
  },
  {
   "cell_type": "code",
   "execution_count": 18,
   "id": "f41cd4cf-6a81-40c4-b83a-1a5f6d9f0048",
   "metadata": {},
   "outputs": [],
   "source": [
    "def func():\n",
    "    x = 5\n",
    "    def inner():\n",
    "        x = 6\n",
    "    inner()\n",
    "    return x"
   ]
  },
  {
   "cell_type": "code",
   "execution_count": 19,
   "id": "6a6058cc-edfb-4117-868b-8f14f7ba9872",
   "metadata": {},
   "outputs": [
    {
     "data": {
      "text/plain": [
       "5"
      ]
     },
     "execution_count": 19,
     "metadata": {},
     "output_type": "execute_result"
    }
   ],
   "source": [
    "func()"
   ]
  },
  {
   "cell_type": "code",
   "execution_count": 22,
   "id": "3c092efc-b210-45c8-b54e-4ecad0f0ce3e",
   "metadata": {},
   "outputs": [],
   "source": [
    "def func2():\n",
    "    x = 5\n",
    "    def inner():\n",
    "        x = 6\n",
    "        return x\n",
    "    x = inner()\n",
    "    return x"
   ]
  },
  {
   "cell_type": "code",
   "execution_count": 23,
   "id": "8f915e50-cb46-48c1-bffa-48a8e8f68112",
   "metadata": {},
   "outputs": [
    {
     "data": {
      "text/plain": [
       "6"
      ]
     },
     "execution_count": 23,
     "metadata": {},
     "output_type": "execute_result"
    }
   ],
   "source": [
    "func2()"
   ]
  },
  {
   "cell_type": "code",
   "execution_count": 24,
   "id": "1f5dcfa8-cb49-45e9-ac7b-3754e9d12242",
   "metadata": {},
   "outputs": [],
   "source": [
    "def func3():\n",
    "    x = 5\n",
    "    def inner():\n",
    "        nonlocal x\n",
    "        x = 6\n",
    "    inner()\n",
    "    return x"
   ]
  },
  {
   "cell_type": "code",
   "execution_count": 25,
   "id": "a8778871-cf95-4fc2-8132-3cf168712f0d",
   "metadata": {},
   "outputs": [
    {
     "data": {
      "text/plain": [
       "6"
      ]
     },
     "execution_count": 25,
     "metadata": {},
     "output_type": "execute_result"
    }
   ],
   "source": [
    "func3()"
   ]
  },
  {
   "cell_type": "code",
   "execution_count": null,
   "id": "7f212494-bde2-45f2-9684-27ba8daaca40",
   "metadata": {},
   "outputs": [],
   "source": []
  }
 ],
 "metadata": {
  "kernelspec": {
   "display_name": "Python 3.10",
   "language": "python",
   "name": "python310"
  },
  "language_info": {
   "codemirror_mode": {
    "name": "ipython",
    "version": 3
   },
   "file_extension": ".py",
   "mimetype": "text/x-python",
   "name": "python",
   "nbconvert_exporter": "python",
   "pygments_lexer": "ipython3",
   "version": "3.10.4"
  }
 },
 "nbformat": 4,
 "nbformat_minor": 5
}
