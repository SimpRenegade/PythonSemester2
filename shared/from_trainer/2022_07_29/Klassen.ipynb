{
 "cells": [
  {
   "cell_type": "code",
   "execution_count": 3,
   "id": "46baa53f-ab3d-4805-a9e1-81761efff4aa",
   "metadata": {},
   "outputs": [],
   "source": [
    "class Auto:\n",
    "    \"\"\"Das Auto.\"\"\"\n",
    "\n",
    "    def __init__(self, marke, farbe):\n",
    "        self.marke = marke\n",
    "        self.farbe = farbe\n",
    "        self.km_stand = 0\n",
    "\n",
    "    def fahre(self, km):\n",
    "        \"\"\"Erhöhe `km_stand` um `km`.\"\"\"\n",
    "        self.km_stand += km"
   ]
  },
  {
   "cell_type": "code",
   "execution_count": 4,
   "id": "bb5621f8-cde5-4ee4-bd21-1805a9f52e9e",
   "metadata": {},
   "outputs": [
    {
     "data": {
      "text/plain": [
       "\u001b[0;31mInit signature:\u001b[0m \u001b[0mAuto\u001b[0m\u001b[0;34m(\u001b[0m\u001b[0mmarke\u001b[0m\u001b[0;34m,\u001b[0m \u001b[0mfarbe\u001b[0m\u001b[0;34m)\u001b[0m\u001b[0;34m\u001b[0m\u001b[0;34m\u001b[0m\u001b[0m\n",
       "\u001b[0;31mDocstring:\u001b[0m      Das Auto.\n",
       "\u001b[0;31mType:\u001b[0m           type\n",
       "\u001b[0;31mSubclasses:\u001b[0m     \n"
      ]
     },
     "metadata": {},
     "output_type": "display_data"
    }
   ],
   "source": [
    "Auto?"
   ]
  },
  {
   "cell_type": "code",
   "execution_count": 5,
   "id": "20f8db66-15d3-4a68-8dcd-85548442b183",
   "metadata": {},
   "outputs": [],
   "source": [
    "a1 = Auto('VW', 'rot')"
   ]
  },
  {
   "cell_type": "code",
   "execution_count": 6,
   "id": "07d4d313-5164-465b-a47f-20a3a91152f4",
   "metadata": {},
   "outputs": [
    {
     "data": {
      "text/plain": [
       "'VW'"
      ]
     },
     "execution_count": 6,
     "metadata": {},
     "output_type": "execute_result"
    }
   ],
   "source": [
    "a1.marke"
   ]
  },
  {
   "cell_type": "code",
   "execution_count": 7,
   "id": "2af609b6-2031-4d09-92db-3f4124f54ec3",
   "metadata": {},
   "outputs": [
    {
     "data": {
      "text/plain": [
       "'rot'"
      ]
     },
     "execution_count": 7,
     "metadata": {},
     "output_type": "execute_result"
    }
   ],
   "source": [
    "a1.farbe"
   ]
  },
  {
   "cell_type": "code",
   "execution_count": 8,
   "id": "c4cdfaf4-ced9-4d29-ac55-c2971d223f64",
   "metadata": {},
   "outputs": [
    {
     "data": {
      "text/plain": [
       "0"
      ]
     },
     "execution_count": 8,
     "metadata": {},
     "output_type": "execute_result"
    }
   ],
   "source": [
    "a1.km_stand"
   ]
  },
  {
   "cell_type": "code",
   "execution_count": 9,
   "id": "8ca79f9a-4b66-4f90-aeea-ab400ce49d66",
   "metadata": {},
   "outputs": [],
   "source": [
    "a1.fahre(10)"
   ]
  },
  {
   "cell_type": "code",
   "execution_count": 10,
   "id": "c2809005-845e-4075-b5a6-bf983399af6d",
   "metadata": {},
   "outputs": [
    {
     "data": {
      "text/plain": [
       "10"
      ]
     },
     "execution_count": 10,
     "metadata": {},
     "output_type": "execute_result"
    }
   ],
   "source": [
    "a1.km_stand"
   ]
  },
  {
   "cell_type": "code",
   "execution_count": 11,
   "id": "a58c27b1-c3c7-4f8a-97f3-70a1439374c7",
   "metadata": {},
   "outputs": [],
   "source": [
    "a1.fahre(10)"
   ]
  },
  {
   "cell_type": "code",
   "execution_count": 12,
   "id": "5cbadc1b-814b-41da-9ea2-125aac0a75f8",
   "metadata": {},
   "outputs": [
    {
     "data": {
      "text/plain": [
       "20"
      ]
     },
     "execution_count": 12,
     "metadata": {},
     "output_type": "execute_result"
    }
   ],
   "source": [
    "a1.km_stand"
   ]
  },
  {
   "cell_type": "code",
   "execution_count": 13,
   "id": "6acf24f5-0dd1-49a3-90a2-c1e859d503d7",
   "metadata": {},
   "outputs": [],
   "source": [
    "a2 = Auto('BMW', 'schwarz')"
   ]
  },
  {
   "cell_type": "code",
   "execution_count": 15,
   "id": "2cc9ac03-8a50-4e11-81a9-1c5ad9b61eb0",
   "metadata": {},
   "outputs": [
    {
     "data": {
      "text/plain": [
       "'BMW'"
      ]
     },
     "execution_count": 15,
     "metadata": {},
     "output_type": "execute_result"
    }
   ],
   "source": [
    "a2.marke"
   ]
  },
  {
   "cell_type": "code",
   "execution_count": 16,
   "id": "2247b369-e0a6-45b6-9d5f-1ec28978cc92",
   "metadata": {},
   "outputs": [
    {
     "data": {
      "text/plain": [
       "{'marke': 'VW', 'farbe': 'rot', 'km_stand': 20}"
      ]
     },
     "execution_count": 16,
     "metadata": {},
     "output_type": "execute_result"
    }
   ],
   "source": [
    "a1.__dict__"
   ]
  },
  {
   "cell_type": "code",
   "execution_count": 17,
   "id": "5bb0a676-6f2b-477b-a796-61cf698ab843",
   "metadata": {},
   "outputs": [
    {
     "data": {
      "text/plain": [
       "<bound method Auto.fahre of <__main__.Auto object at 0x7f27a22b29e0>>"
      ]
     },
     "execution_count": 17,
     "metadata": {},
     "output_type": "execute_result"
    }
   ],
   "source": [
    "a1.fahre"
   ]
  },
  {
   "cell_type": "code",
   "execution_count": 18,
   "id": "bc0c677c-c67c-4d84-86a9-182dc7c32be9",
   "metadata": {},
   "outputs": [
    {
     "data": {
      "text/plain": [
       "<function __main__.Auto.fahre(self, km)>"
      ]
     },
     "execution_count": 18,
     "metadata": {},
     "output_type": "execute_result"
    }
   ],
   "source": [
    "Auto.fahre"
   ]
  },
  {
   "cell_type": "code",
   "execution_count": 19,
   "id": "63692376-1134-46da-8045-6ab37b1e63ad",
   "metadata": {},
   "outputs": [],
   "source": [
    "Auto.fahre(a1, 15)"
   ]
  },
  {
   "cell_type": "code",
   "execution_count": 20,
   "id": "55742e27-9fb3-4421-bbaf-e48979128796",
   "metadata": {},
   "outputs": [
    {
     "data": {
      "text/plain": [
       "35"
      ]
     },
     "execution_count": 20,
     "metadata": {},
     "output_type": "execute_result"
    }
   ],
   "source": [
    "a1.km_stand"
   ]
  },
  {
   "cell_type": "code",
   "execution_count": 21,
   "id": "d9cf08cd-fbcb-4e1e-b67a-6687a01825b1",
   "metadata": {},
   "outputs": [],
   "source": [
    "a1.fahre(15)"
   ]
  },
  {
   "cell_type": "code",
   "execution_count": 22,
   "id": "3cea50d3-df4f-459c-8ccb-2b953d8a2494",
   "metadata": {},
   "outputs": [
    {
     "data": {
      "text/plain": [
       "50"
      ]
     },
     "execution_count": 22,
     "metadata": {},
     "output_type": "execute_result"
    }
   ],
   "source": [
    "a1.km_stand"
   ]
  },
  {
   "cell_type": "code",
   "execution_count": 23,
   "id": "fcb51e8d-567d-4f30-bac3-767126d12bdf",
   "metadata": {},
   "outputs": [
    {
     "data": {
      "text/plain": [
       "__main__.Auto"
      ]
     },
     "execution_count": 23,
     "metadata": {},
     "output_type": "execute_result"
    }
   ],
   "source": [
    "type(a1)"
   ]
  },
  {
   "cell_type": "code",
   "execution_count": 24,
   "id": "870d3e5a-4790-4fc1-82bd-8e0f69e0bd1d",
   "metadata": {},
   "outputs": [
    {
     "data": {
      "text/plain": [
       "type"
      ]
     },
     "execution_count": 24,
     "metadata": {},
     "output_type": "execute_result"
    }
   ],
   "source": [
    "type(Auto)"
   ]
  },
  {
   "cell_type": "code",
   "execution_count": 25,
   "id": "6cb5571d-5bb1-4b82-91a5-dc29ec393f96",
   "metadata": {},
   "outputs": [
    {
     "data": {
      "text/plain": [
       "type"
      ]
     },
     "execution_count": 25,
     "metadata": {},
     "output_type": "execute_result"
    }
   ],
   "source": [
    "type(int)"
   ]
  },
  {
   "cell_type": "code",
   "execution_count": 26,
   "id": "0ca8e3f4-7ab2-438d-a4ab-12d515018759",
   "metadata": {},
   "outputs": [
    {
     "data": {
      "text/plain": [
       "type"
      ]
     },
     "execution_count": 26,
     "metadata": {},
     "output_type": "execute_result"
    }
   ],
   "source": [
    "type(float)"
   ]
  },
  {
   "cell_type": "code",
   "execution_count": 27,
   "id": "33334a03-6183-476b-b699-be75fec08592",
   "metadata": {},
   "outputs": [
    {
     "data": {
      "text/plain": [
       "type"
      ]
     },
     "execution_count": 27,
     "metadata": {},
     "output_type": "execute_result"
    }
   ],
   "source": [
    "type(list)"
   ]
  },
  {
   "cell_type": "code",
   "execution_count": 28,
   "id": "f781900c-c5c8-4e75-9e12-42ab8c101cce",
   "metadata": {},
   "outputs": [
    {
     "data": {
      "text/plain": [
       "1.0"
      ]
     },
     "execution_count": 28,
     "metadata": {},
     "output_type": "execute_result"
    }
   ],
   "source": [
    "float(1)"
   ]
  },
  {
   "cell_type": "code",
   "execution_count": 29,
   "id": "19ececa2-a631-4538-9ea2-b089caf5bc4f",
   "metadata": {},
   "outputs": [
    {
     "data": {
      "text/plain": [
       "1.0"
      ]
     },
     "execution_count": 29,
     "metadata": {},
     "output_type": "execute_result"
    }
   ],
   "source": [
    "1.0"
   ]
  },
  {
   "cell_type": "code",
   "execution_count": 30,
   "id": "a5359862-45e1-4efa-a317-0b99f573dd7d",
   "metadata": {},
   "outputs": [
    {
     "data": {
      "text/plain": [
       "True"
      ]
     },
     "execution_count": 30,
     "metadata": {},
     "output_type": "execute_result"
    }
   ],
   "source": [
    "isinstance(a1, Auto)"
   ]
  },
  {
   "cell_type": "code",
   "execution_count": 31,
   "id": "3e066b4c-32bd-4e06-9754-0abfd0e95aee",
   "metadata": {},
   "outputs": [
    {
     "data": {
      "text/plain": [
       "True"
      ]
     },
     "execution_count": 31,
     "metadata": {},
     "output_type": "execute_result"
    }
   ],
   "source": [
    "isinstance(1, int)"
   ]
  },
  {
   "cell_type": "code",
   "execution_count": 32,
   "id": "72819801-d3d0-4085-9f68-3e4a0096ad03",
   "metadata": {},
   "outputs": [],
   "source": [
    "autos = [Auto(marke, farbe) for marke, farbe in zip('ABC', 'xyz')]"
   ]
  },
  {
   "cell_type": "code",
   "execution_count": 33,
   "id": "48b51ed8-4b23-42aa-966e-158e33984777",
   "metadata": {},
   "outputs": [
    {
     "data": {
      "text/plain": [
       "[<__main__.Auto at 0x7f27a1a9e1d0>,\n",
       " <__main__.Auto at 0x7f27a1a9f2b0>,\n",
       " <__main__.Auto at 0x7f27a1a9c130>]"
      ]
     },
     "execution_count": 33,
     "metadata": {},
     "output_type": "execute_result"
    }
   ],
   "source": [
    "autos"
   ]
  },
  {
   "cell_type": "code",
   "execution_count": 34,
   "id": "f4cf2689-172b-442c-a3b9-9be639bd0d65",
   "metadata": {},
   "outputs": [
    {
     "data": {
      "text/plain": [
       "'A'"
      ]
     },
     "execution_count": 34,
     "metadata": {},
     "output_type": "execute_result"
    }
   ],
   "source": [
    "autos[0].marke"
   ]
  },
  {
   "cell_type": "code",
   "execution_count": 35,
   "id": "830e16c9-9a3d-4f8f-b68d-91608ea11aa7",
   "metadata": {},
   "outputs": [],
   "source": [
    "import random\n",
    "\n",
    "\n",
    "class EinfachesAuto:\n",
    "    \"\"\"Das Auto.\"\"\"\n",
    "\n",
    "    vorgabe_farbe = ['gelb', 'braun', 'pink']\n",
    "\n",
    "    def __init__(self, marke, farbe=None):\n",
    "        self.marke = marke\n",
    "        if farbe is None:\n",
    "            self.farbe = random.choice(self.vorgabe_farbe)\n",
    "        else:\n",
    "            self.farbe = farbe\n",
    "        self.km_stand = 0\n",
    "\n",
    "    def fahre(self, km):\n",
    "        \"\"\"Erhöhe `km_stand` um `km`.\"\"\"\n",
    "        self.km_stand += km"
   ]
  },
  {
   "cell_type": "code",
   "execution_count": 36,
   "id": "97ecb058-1128-49f2-8550-2900b3a9b019",
   "metadata": {},
   "outputs": [],
   "source": [
    "ea1 = EinfachesAuto('Skoda')"
   ]
  },
  {
   "cell_type": "code",
   "execution_count": 37,
   "id": "a2503e65-0feb-435b-b764-4dc4213bdc8d",
   "metadata": {},
   "outputs": [
    {
     "data": {
      "text/plain": [
       "'braun'"
      ]
     },
     "execution_count": 37,
     "metadata": {},
     "output_type": "execute_result"
    }
   ],
   "source": [
    "ea1.farbe"
   ]
  },
  {
   "cell_type": "code",
   "execution_count": 38,
   "id": "16efaefc-a983-421e-8d23-7f5df459080c",
   "metadata": {},
   "outputs": [
    {
     "data": {
      "text/plain": [
       "['gelb', 'braun', 'pink']"
      ]
     },
     "execution_count": 38,
     "metadata": {},
     "output_type": "execute_result"
    }
   ],
   "source": [
    "ea1.vorgabe_farbe"
   ]
  },
  {
   "cell_type": "code",
   "execution_count": 39,
   "id": "0267b014-7bf0-4dfd-a038-a6d08f238ff7",
   "metadata": {},
   "outputs": [
    {
     "data": {
      "text/plain": [
       "{'marke': 'Skoda', 'farbe': 'braun', 'km_stand': 0}"
      ]
     },
     "execution_count": 39,
     "metadata": {},
     "output_type": "execute_result"
    }
   ],
   "source": [
    "ea1.__dict__"
   ]
  },
  {
   "cell_type": "code",
   "execution_count": 40,
   "id": "9eee08d4-99d6-47e5-84fc-437b66eabfa8",
   "metadata": {},
   "outputs": [
    {
     "data": {
      "text/plain": [
       "mappingproxy({'__module__': '__main__',\n",
       "              '__doc__': 'Das Auto.',\n",
       "              'vorgabe_farbe': ['gelb', 'braun', 'pink'],\n",
       "              '__init__': <function __main__.EinfachesAuto.__init__(self, marke, farbe=None)>,\n",
       "              'fahre': <function __main__.EinfachesAuto.fahre(self, km)>,\n",
       "              '__dict__': <attribute '__dict__' of 'EinfachesAuto' objects>,\n",
       "              '__weakref__': <attribute '__weakref__' of 'EinfachesAuto' objects>})"
      ]
     },
     "execution_count": 40,
     "metadata": {},
     "output_type": "execute_result"
    }
   ],
   "source": [
    "EinfachesAuto.__dict__"
   ]
  },
  {
   "cell_type": "code",
   "execution_count": 41,
   "id": "7a9e132f-7253-4ff6-ba99-9c28c56f8402",
   "metadata": {},
   "outputs": [],
   "source": [
    "ea1.vorgabe_farbe = ['silber', 'gold', 'platin']"
   ]
  },
  {
   "cell_type": "code",
   "execution_count": 42,
   "id": "b2211c74-f7ee-4070-bacf-81717b088236",
   "metadata": {},
   "outputs": [
    {
     "data": {
      "text/plain": [
       "['silber', 'gold', 'platin']"
      ]
     },
     "execution_count": 42,
     "metadata": {},
     "output_type": "execute_result"
    }
   ],
   "source": [
    "ea1.vorgabe_farbe"
   ]
  },
  {
   "cell_type": "code",
   "execution_count": 43,
   "id": "77689278-3b0c-476b-96df-83c63ed85eb7",
   "metadata": {},
   "outputs": [
    {
     "data": {
      "text/plain": [
       "['gelb', 'braun', 'pink']"
      ]
     },
     "execution_count": 43,
     "metadata": {},
     "output_type": "execute_result"
    }
   ],
   "source": [
    "EinfachesAuto.vorgabe_farbe"
   ]
  },
  {
   "cell_type": "code",
   "execution_count": 44,
   "id": "7f3472c4-1f60-4fbc-b5ec-bc54a2aea579",
   "metadata": {},
   "outputs": [
    {
     "data": {
      "text/plain": [
       "{'marke': 'Skoda',\n",
       " 'farbe': 'braun',\n",
       " 'km_stand': 0,\n",
       " 'vorgabe_farbe': ['silber', 'gold', 'platin']}"
      ]
     },
     "execution_count": 44,
     "metadata": {},
     "output_type": "execute_result"
    }
   ],
   "source": [
    "ea1.__dict__"
   ]
  },
  {
   "cell_type": "code",
   "execution_count": 45,
   "id": "71b75315-b62d-4888-bc1a-c3098c53b5c9",
   "metadata": {},
   "outputs": [],
   "source": [
    "class Person:\n",
    "\n",
    "    def __init__(self, name, standort):\n",
    "        self.name = name\n",
    "        self.standort = standort\n",
    "\n",
    "    def gehezu(self, standort):\n",
    "        self.standort = standort\n",
    "        print(\"Die Person: \" + self. name + \" ist hier hin gegangen: \" + self.standort)\n",
    "\n",
    "\n",
    "\n",
    "person1 = Person(\"Nils\", \"Zuhause\")\n",
    "person2 = Person(\"Richard\", \"Zuhause\")\n",
    "person3 = Person(\"Maik\", \"Zuhause\")"
   ]
  },
  {
   "cell_type": "code",
   "execution_count": 46,
   "id": "db7062a6-7c65-4eb0-ada4-036ab63710f2",
   "metadata": {},
   "outputs": [
    {
     "data": {
      "text/plain": [
       "'Zuhause'"
      ]
     },
     "execution_count": 46,
     "metadata": {},
     "output_type": "execute_result"
    }
   ],
   "source": [
    "person1.standort"
   ]
  },
  {
   "cell_type": "code",
   "execution_count": 47,
   "id": "84e1fb6c-d11e-43fb-8f4c-52eceead8a96",
   "metadata": {},
   "outputs": [
    {
     "name": "stdout",
     "output_type": "stream",
     "text": [
      "Die Person: Nils ist hier hin gegangen: Club\n",
      "Die Person: Richard ist hier hin gegangen: Fußballplatz\n",
      "Die Person: Maik ist hier hin gegangen: Gym\n"
     ]
    }
   ],
   "source": [
    "person1.gehezu(\"Club\")\n",
    "person2.gehezu(\"Fußballplatz\")\n",
    "person3.gehezu(\"Gym\")"
   ]
  },
  {
   "cell_type": "markdown",
   "id": "e76777ad-ea2e-42ac-8291-3576a659b422",
   "metadata": {},
   "source": [
    "# Vererbung"
   ]
  },
  {
   "cell_type": "code",
   "execution_count": 48,
   "id": "14ae57e3-2d1c-4b00-a328-4defe98783fe",
   "metadata": {},
   "outputs": [],
   "source": [
    "class BetriebsAuto:\n",
    "    \"\"\"Firmenwagen\"\"\"\n",
    "\n",
    "    def __init__(self, marke, farbe):\n",
    "        self.marke = marke\n",
    "        self.farbe = farbe\n",
    "        self.km_stand = 0\n",
    "        self.fahrten = []\n",
    "\n",
    "    def fahre(self, km):\n",
    "        \"\"\"Erhöhe `km_stand` um `km`.\"\"\"\n",
    "        self.km_stand += km\n",
    "        self.fahrten.append(km)"
   ]
  },
  {
   "cell_type": "code",
   "execution_count": 49,
   "id": "3981280e-0191-459d-ab5c-317bc85055af",
   "metadata": {},
   "outputs": [],
   "source": [
    "b1 = BetriebsAuto('VW', 'rot')"
   ]
  },
  {
   "cell_type": "code",
   "execution_count": 50,
   "id": "3e7d4a36-1f16-4d76-a1e3-d2bdf164df0b",
   "metadata": {},
   "outputs": [
    {
     "data": {
      "text/plain": [
       "[]"
      ]
     },
     "execution_count": 50,
     "metadata": {},
     "output_type": "execute_result"
    }
   ],
   "source": [
    "b1.fahrten"
   ]
  },
  {
   "cell_type": "code",
   "execution_count": 51,
   "id": "1df23197-2eda-4433-9e47-f8c2c4a8c707",
   "metadata": {},
   "outputs": [],
   "source": [
    "b1.fahre(10)"
   ]
  },
  {
   "cell_type": "code",
   "execution_count": 52,
   "id": "13155253-d823-465d-acf7-a848aeaed650",
   "metadata": {},
   "outputs": [
    {
     "data": {
      "text/plain": [
       "10"
      ]
     },
     "execution_count": 52,
     "metadata": {},
     "output_type": "execute_result"
    }
   ],
   "source": [
    "b1.km_stand"
   ]
  },
  {
   "cell_type": "code",
   "execution_count": 53,
   "id": "1985483c-70da-4f30-b59c-3760acbf7380",
   "metadata": {},
   "outputs": [
    {
     "data": {
      "text/plain": [
       "[10]"
      ]
     },
     "execution_count": 53,
     "metadata": {},
     "output_type": "execute_result"
    }
   ],
   "source": [
    "b1.fahrten"
   ]
  },
  {
   "cell_type": "code",
   "execution_count": 54,
   "id": "07c0b162-c587-4fe8-9185-8a7f9f828235",
   "metadata": {},
   "outputs": [],
   "source": [
    "b1.fahre(15)"
   ]
  },
  {
   "cell_type": "code",
   "execution_count": 55,
   "id": "92b811f2-c525-487b-9c0b-f26208c76d6c",
   "metadata": {},
   "outputs": [
    {
     "data": {
      "text/plain": [
       "25"
      ]
     },
     "execution_count": 55,
     "metadata": {},
     "output_type": "execute_result"
    }
   ],
   "source": [
    "b1.km_stand"
   ]
  },
  {
   "cell_type": "code",
   "execution_count": 56,
   "id": "8585d009-0ee7-422a-a0d1-78fb352733bc",
   "metadata": {},
   "outputs": [
    {
     "data": {
      "text/plain": [
       "[10, 15]"
      ]
     },
     "execution_count": 56,
     "metadata": {},
     "output_type": "execute_result"
    }
   ],
   "source": [
    "b1.fahrten"
   ]
  },
  {
   "cell_type": "code",
   "execution_count": 57,
   "id": "6f1e0a66-9ae2-479a-88c9-508462c42006",
   "metadata": {},
   "outputs": [],
   "source": [
    "class LKW(BetriebsAuto):\n",
    "\n",
    "    def fahre(self, km):\n",
    "        self.km_stand += km * 2\n",
    "        self.fahrten.append(km * 2)"
   ]
  },
  {
   "cell_type": "code",
   "execution_count": 58,
   "id": "0d704e71-b0d3-4e00-b669-7ce79234ae41",
   "metadata": {},
   "outputs": [],
   "source": [
    "L1 = LKW('MAN', 'weiß')"
   ]
  },
  {
   "cell_type": "code",
   "execution_count": 59,
   "id": "915cb14d-6e0e-4e00-a2b0-08dd022805f1",
   "metadata": {},
   "outputs": [
    {
     "data": {
      "text/plain": [
       "'MAN'"
      ]
     },
     "execution_count": 59,
     "metadata": {},
     "output_type": "execute_result"
    }
   ],
   "source": [
    "L1.marke"
   ]
  },
  {
   "cell_type": "code",
   "execution_count": 60,
   "id": "fcb1a598-121e-4dbe-8582-db25e4c09518",
   "metadata": {},
   "outputs": [
    {
     "data": {
      "text/plain": [
       "0"
      ]
     },
     "execution_count": 60,
     "metadata": {},
     "output_type": "execute_result"
    }
   ],
   "source": [
    "L1.km_stand"
   ]
  },
  {
   "cell_type": "code",
   "execution_count": 61,
   "id": "037fd769-575c-4822-a113-db13ac742af0",
   "metadata": {},
   "outputs": [],
   "source": [
    "L1.fahre(10)"
   ]
  },
  {
   "cell_type": "code",
   "execution_count": 62,
   "id": "0d668fef-0d93-4ca3-84d2-5916f410f2a8",
   "metadata": {},
   "outputs": [
    {
     "data": {
      "text/plain": [
       "20"
      ]
     },
     "execution_count": 62,
     "metadata": {},
     "output_type": "execute_result"
    }
   ],
   "source": [
    "L1.km_stand"
   ]
  },
  {
   "cell_type": "code",
   "execution_count": 63,
   "id": "3d7fefd7-a0a8-4f9f-97d7-feaa746e48ad",
   "metadata": {},
   "outputs": [
    {
     "data": {
      "text/plain": [
       "[20]"
      ]
     },
     "execution_count": 63,
     "metadata": {},
     "output_type": "execute_result"
    }
   ],
   "source": [
    "L1.fahrten"
   ]
  },
  {
   "cell_type": "code",
   "execution_count": 64,
   "id": "382a056c-d658-454b-b7a7-14ecba1025de",
   "metadata": {},
   "outputs": [
    {
     "data": {
      "text/plain": [
       "[__main__.LKW, __main__.BetriebsAuto, object]"
      ]
     },
     "execution_count": 64,
     "metadata": {},
     "output_type": "execute_result"
    }
   ],
   "source": [
    "LKW.mro()"
   ]
  },
  {
   "cell_type": "code",
   "execution_count": 65,
   "id": "497f0269-bd24-4850-b9a8-4d48bcd72ecf",
   "metadata": {},
   "outputs": [
    {
     "data": {
      "text/plain": [
       "[int, object]"
      ]
     },
     "execution_count": 65,
     "metadata": {},
     "output_type": "execute_result"
    }
   ],
   "source": [
    "int.mro()"
   ]
  },
  {
   "cell_type": "code",
   "execution_count": 66,
   "id": "c8e647e4-8612-4fa2-8bb6-230933ae96fb",
   "metadata": {},
   "outputs": [
    {
     "data": {
      "text/plain": [
       "[list, object]"
      ]
     },
     "execution_count": 66,
     "metadata": {},
     "output_type": "execute_result"
    }
   ],
   "source": [
    "list.mro()"
   ]
  },
  {
   "cell_type": "code",
   "execution_count": 67,
   "id": "d6787f57-e495-4b63-a737-c3254d07555b",
   "metadata": {},
   "outputs": [
    {
     "data": {
      "text/plain": [
       "True"
      ]
     },
     "execution_count": 67,
     "metadata": {},
     "output_type": "execute_result"
    }
   ],
   "source": [
    "isinstance(L1, LKW)"
   ]
  },
  {
   "cell_type": "code",
   "execution_count": 68,
   "id": "03476134-d88e-4f21-b7d7-64263d8fdf35",
   "metadata": {},
   "outputs": [
    {
     "data": {
      "text/plain": [
       "True"
      ]
     },
     "execution_count": 68,
     "metadata": {},
     "output_type": "execute_result"
    }
   ],
   "source": [
    "isinstance(L1, BetriebsAuto)"
   ]
  },
  {
   "cell_type": "code",
   "execution_count": 69,
   "id": "3da32da3-dc57-454e-9c27-28b5525a610a",
   "metadata": {},
   "outputs": [
    {
     "data": {
      "text/plain": [
       "True"
      ]
     },
     "execution_count": 69,
     "metadata": {},
     "output_type": "execute_result"
    }
   ],
   "source": [
    "isinstance(L1, object)"
   ]
  },
  {
   "cell_type": "code",
   "execution_count": 70,
   "id": "ae11c041-e287-47ea-80ea-da71c98f8301",
   "metadata": {},
   "outputs": [],
   "source": [
    "class BessererLKW(BetriebsAuto):\n",
    "\n",
    "    def fahre(self, km):\n",
    "        super().fahre(km * 2)"
   ]
  },
  {
   "cell_type": "code",
   "execution_count": 71,
   "id": "0535d497-0cd3-4a72-a7fc-6587de000a83",
   "metadata": {},
   "outputs": [],
   "source": [
    "L2 = BessererLKW('Scania', 'grün')"
   ]
  },
  {
   "cell_type": "code",
   "execution_count": 72,
   "id": "98a636d3-c55d-4990-95eb-44ba20c27c39",
   "metadata": {},
   "outputs": [
    {
     "data": {
      "text/plain": [
       "0"
      ]
     },
     "execution_count": 72,
     "metadata": {},
     "output_type": "execute_result"
    }
   ],
   "source": [
    "L2.km_stand"
   ]
  },
  {
   "cell_type": "code",
   "execution_count": 73,
   "id": "62523776-4af7-4e7b-8fd7-ced457cbb131",
   "metadata": {},
   "outputs": [],
   "source": [
    "L2.fahre(10)"
   ]
  },
  {
   "cell_type": "code",
   "execution_count": 74,
   "id": "5f0ca293-08ed-4a79-9eb7-ba3ba355e850",
   "metadata": {},
   "outputs": [
    {
     "data": {
      "text/plain": [
       "20"
      ]
     },
     "execution_count": 74,
     "metadata": {},
     "output_type": "execute_result"
    }
   ],
   "source": [
    "L2.km_stand"
   ]
  },
  {
   "cell_type": "code",
   "execution_count": 76,
   "id": "7c16e47e-827c-4ee5-aaaf-00aa15eba24e",
   "metadata": {},
   "outputs": [
    {
     "data": {
      "text/plain": [
       "\u001b[0;31mInit signature:\u001b[0m \u001b[0msuper\u001b[0m\u001b[0;34m(\u001b[0m\u001b[0mself\u001b[0m\u001b[0;34m,\u001b[0m \u001b[0;34m/\u001b[0m\u001b[0;34m,\u001b[0m \u001b[0;34m*\u001b[0m\u001b[0margs\u001b[0m\u001b[0;34m,\u001b[0m \u001b[0;34m**\u001b[0m\u001b[0mkwargs\u001b[0m\u001b[0;34m)\u001b[0m\u001b[0;34m\u001b[0m\u001b[0;34m\u001b[0m\u001b[0m\n",
       "\u001b[0;31mDocstring:\u001b[0m     \n",
       "super() -> same as super(__class__, <first argument>)\n",
       "super(type) -> unbound super object\n",
       "super(type, obj) -> bound super object; requires isinstance(obj, type)\n",
       "super(type, type2) -> bound super object; requires issubclass(type2, type)\n",
       "Typical use to call a cooperative superclass method:\n",
       "class C(B):\n",
       "    def meth(self, arg):\n",
       "        super().meth(arg)\n",
       "This works for class methods too:\n",
       "class C(B):\n",
       "    @classmethod\n",
       "    def cmeth(cls, arg):\n",
       "        super().cmeth(arg)\n",
       "\u001b[0;31mType:\u001b[0m           type\n",
       "\u001b[0;31mSubclasses:\u001b[0m     \n"
      ]
     },
     "metadata": {},
     "output_type": "display_data"
    }
   ],
   "source": [
    "super?"
   ]
  },
  {
   "cell_type": "code",
   "execution_count": 77,
   "id": "bd856eac-22b7-4110-a0dd-55217a05a2ce",
   "metadata": {},
   "outputs": [
    {
     "data": {
      "text/plain": [
       "[__main__.BessererLKW, __main__.BetriebsAuto, object]"
      ]
     },
     "execution_count": 77,
     "metadata": {},
     "output_type": "execute_result"
    }
   ],
   "source": [
    "BessererLKW.mro()"
   ]
  },
  {
   "cell_type": "markdown",
   "id": "143bcc11-2bb9-45bb-b3ad-afac1cfe7dc4",
   "metadata": {},
   "source": [
    "# Pause bis 12 Uhr"
   ]
  },
  {
   "cell_type": "code",
   "execution_count": 78,
   "id": "879aad50-bdc4-4956-b7e0-14ff365f7bf4",
   "metadata": {},
   "outputs": [
    {
     "name": "stdout",
     "output_type": "stream",
     "text": [
      "Der Zugang zu Ort: Club ist verboten\n",
      "Die Person: Ben ist hier hin gegangen: Schachclub\n"
     ]
    }
   ],
   "source": [
    "verboteneOrte = [\"Club\", \"Festival\"]\n",
    "\n",
    "\n",
    "class EingeschraenktePerson(Person):\n",
    "    def gehezu(self, standort):\n",
    "        if(standort in verboteneOrte):\n",
    "            print(\"Der Zugang zu Ort: \" + standort + \" ist verboten\")\n",
    "        else:\n",
    "            super().gehezu(standort)\n",
    "\n",
    "\n",
    "personEingeschraenkt = EingeschraenktePerson(\"Ben\", \"Zuhause\")\n",
    "personEingeschraenkt.gehezu(\"Club\")\n",
    "personEingeschraenkt.gehezu(\"Schachclub\")"
   ]
  },
  {
   "cell_type": "code",
   "execution_count": 79,
   "id": "303051a1-938d-4980-9fa5-ed4e0ef9384f",
   "metadata": {},
   "outputs": [
    {
     "name": "stdout",
     "output_type": "stream",
     "text": [
      "Der Zugang zu Ort: Club ist verboten\n",
      "Die Person: Ben ist hier hin gegangen: Schachclub\n"
     ]
    }
   ],
   "source": [
    "class EingeschraenktePerson(Person):\n",
    "\n",
    "    def gehezu(self, standort):\n",
    "        verboteneOrte = [\"Club\", \"Festival\"]\n",
    "        if(standort in verboteneOrte):\n",
    "            print(\"Der Zugang zu Ort:\", standort, \"ist verboten\")\n",
    "        else:\n",
    "            super().gehezu(standort)\n",
    "\n",
    "\n",
    "personEingeschraenkt = EingeschraenktePerson(\"Ben\", \"Zuhause\")\n",
    "personEingeschraenkt.gehezu(\"Club\")\n",
    "personEingeschraenkt.gehezu(\"Schachclub\")"
   ]
  },
  {
   "cell_type": "code",
   "execution_count": 80,
   "id": "010d4dc2-e290-4f22-816c-d08f2e0d16d6",
   "metadata": {},
   "outputs": [
    {
     "name": "stdout",
     "output_type": "stream",
     "text": [
      "Der Zugang zu Ort: Club ist verboten\n",
      "Die Person: Ben ist hier hin gegangen: Schachclub\n"
     ]
    }
   ],
   "source": [
    "class EingeschraenktePerson(Person):\n",
    "\n",
    "    verboteneOrte = [\"Club\", \"Festival\"]\n",
    "\n",
    "    def gehezu(self, standort):\n",
    "\n",
    "        if standort in self.verboteneOrte:\n",
    "            print(\"Der Zugang zu Ort:\", standort, \"ist verboten\")\n",
    "        else:\n",
    "            super().gehezu(standort)\n",
    "\n",
    "\n",
    "personEingeschraenkt = EingeschraenktePerson(\"Ben\", \"Zuhause\")\n",
    "personEingeschraenkt.gehezu(\"Club\")\n",
    "personEingeschraenkt.gehezu(\"Schachclub\")"
   ]
  },
  {
   "cell_type": "code",
   "execution_count": 81,
   "id": "24caaae0-4cd5-438c-a9e6-66a53cdebc3a",
   "metadata": {},
   "outputs": [
    {
     "name": "stdout",
     "output_type": "stream",
     "text": [
      "Der Zugang zu Ort: Club ist verboten\n",
      "Die Person: Ben ist hier hin gegangen: Schachclub\n"
     ]
    }
   ],
   "source": [
    "class EingeschraenktePerson(Person):\n",
    "\n",
    "    verboteneOrte = [\"Club\", \"Festival\"]\n",
    "\n",
    "    def gehezu(self, standort):\n",
    "\n",
    "        if standort in EingeschraenktePerson.verboteneOrte:\n",
    "            print(\"Der Zugang zu Ort:\", standort, \"ist verboten\")\n",
    "        else:\n",
    "            super().gehezu(standort)\n",
    "\n",
    "\n",
    "personEingeschraenkt = EingeschraenktePerson(\"Ben\", \"Zuhause\")\n",
    "personEingeschraenkt.gehezu(\"Club\")\n",
    "personEingeschraenkt.gehezu(\"Schachclub\")"
   ]
  },
  {
   "cell_type": "code",
   "execution_count": 83,
   "id": "1a98a146-1b70-4bf5-a70e-8593b64655e9",
   "metadata": {},
   "outputs": [],
   "source": [
    "class EingeschraenktePersonKind(EingeschraenktePerson):\n",
    "    verboteneOrte = [\"Volleyballplatz\"]"
   ]
  },
  {
   "cell_type": "code",
   "execution_count": 84,
   "id": "14334ca9-4e4c-4bbf-979d-b0d07c097c9b",
   "metadata": {},
   "outputs": [],
   "source": [
    "epk = EingeschraenktePersonKind('Max', 'zu Hause')"
   ]
  },
  {
   "cell_type": "code",
   "execution_count": 85,
   "id": "8e82b3e2-e2e9-4db1-a4ee-5731d7813f32",
   "metadata": {},
   "outputs": [
    {
     "name": "stdout",
     "output_type": "stream",
     "text": [
      "Die Person: Max ist hier hin gegangen: Volleyballplatz\n"
     ]
    }
   ],
   "source": [
    "epk.gehezu(\"Volleyballplatz\")"
   ]
  },
  {
   "cell_type": "code",
   "execution_count": 86,
   "id": "18e2b300-8a10-446e-ba3d-8c09ff2a259e",
   "metadata": {},
   "outputs": [
    {
     "name": "stdout",
     "output_type": "stream",
     "text": [
      "Der Zugang zu Ort: Club ist verboten\n",
      "Die Person: Ben ist hier hin gegangen: Schachclub\n"
     ]
    }
   ],
   "source": [
    "class EingeschraenktePersonBesser(Person):\n",
    "\n",
    "    verboteneOrte = [\"Club\", \"Festival\"]\n",
    "\n",
    "    def gehezu(self, standort):\n",
    "\n",
    "        if standort in self.__class__.verboteneOrte:\n",
    "            print(\"Der Zugang zu Ort:\", standort, \"ist verboten\")\n",
    "        else:\n",
    "            super().gehezu(standort)\n",
    "\n",
    "\n",
    "personEingeschraenkt = EingeschraenktePerson(\"Ben\", \"Zuhause\")\n",
    "personEingeschraenkt.gehezu(\"Club\")\n",
    "personEingeschraenkt.gehezu(\"Schachclub\")"
   ]
  },
  {
   "cell_type": "code",
   "execution_count": 87,
   "id": "919de52d-1501-40ce-ad76-fa51c7b06c65",
   "metadata": {},
   "outputs": [],
   "source": [
    "class EingeschraenktePersonBesserKind(EingeschraenktePersonBesser):\n",
    "    verboteneOrte = [\"Volleyballplatz\"]"
   ]
  },
  {
   "cell_type": "code",
   "execution_count": 88,
   "id": "694a3cd6-d20e-44d6-b8c3-b95a167d2768",
   "metadata": {},
   "outputs": [],
   "source": [
    "epk = EingeschraenktePersonBesserKind('Max', 'zu Hause')"
   ]
  },
  {
   "cell_type": "code",
   "execution_count": 89,
   "id": "835a66a2-72db-4b1e-878c-7eeaab2a5899",
   "metadata": {},
   "outputs": [
    {
     "name": "stdout",
     "output_type": "stream",
     "text": [
      "Der Zugang zu Ort: Volleyballplatz ist verboten\n"
     ]
    }
   ],
   "source": [
    "epk.gehezu(\"Volleyballplatz\")"
   ]
  },
  {
   "cell_type": "markdown",
   "id": "fad645cd-d910-44d1-86e0-8e385e2856e9",
   "metadata": {},
   "source": [
    "# Operatorüberladung"
   ]
  },
  {
   "cell_type": "code",
   "execution_count": 91,
   "id": "aeb1d0c0-faaa-4f2e-a360-b83ad5a33a19",
   "metadata": {},
   "outputs": [],
   "source": [
    "class AddierbaresAuto:\n",
    "    \"\"\"Das Auto.\"\"\"\n",
    "\n",
    "    def __init__(self, marke, farbe):\n",
    "        self.marke = marke\n",
    "        self.farbe = farbe\n",
    "        self.km_stand = 0\n",
    "\n",
    "    def fahre(self, km):\n",
    "        \"\"\"Erhöhe `km_stand` um `km`.\"\"\"\n",
    "        self.km_stand += km\n",
    "\n",
    "    def __add__(self, other):\n",
    "        return AddierbaresAuto(self.marke + other.marke,\n",
    "                               self.farbe + other.farbe)"
   ]
  },
  {
   "cell_type": "code",
   "execution_count": 92,
   "id": "e327cfac-7513-40b3-8274-a55b11f11a75",
   "metadata": {},
   "outputs": [],
   "source": [
    "aa1 = AddierbaresAuto('VW', 'rot')\n",
    "aa2 = AddierbaresAuto('BMW', 'schwarz')"
   ]
  },
  {
   "cell_type": "code",
   "execution_count": 93,
   "id": "a02b90eb-12c4-4280-aef8-541e19694a79",
   "metadata": {},
   "outputs": [],
   "source": [
    "aa3 = aa1 + aa2"
   ]
  },
  {
   "cell_type": "code",
   "execution_count": 94,
   "id": "8fdeb436-bd0f-4ad7-ba7c-01db57734d89",
   "metadata": {},
   "outputs": [
    {
     "data": {
      "text/plain": [
       "'VWBMW'"
      ]
     },
     "execution_count": 94,
     "metadata": {},
     "output_type": "execute_result"
    }
   ],
   "source": [
    "aa3.marke"
   ]
  },
  {
   "cell_type": "code",
   "execution_count": 95,
   "id": "57974678-52be-4f0f-af04-ccb40508fa9b",
   "metadata": {},
   "outputs": [],
   "source": [
    "aa4 = aa1.__add__(aa2)"
   ]
  },
  {
   "cell_type": "code",
   "execution_count": 96,
   "id": "1009870e-bdfd-4c1e-993f-e16ffed2fc47",
   "metadata": {},
   "outputs": [
    {
     "data": {
      "text/plain": [
       "'rotschwarz'"
      ]
     },
     "execution_count": 96,
     "metadata": {},
     "output_type": "execute_result"
    }
   ],
   "source": [
    "aa4.farbe"
   ]
  },
  {
   "cell_type": "code",
   "execution_count": 97,
   "id": "5b46ce20-a67a-4e5e-a7da-08518bdf76fb",
   "metadata": {},
   "outputs": [],
   "source": [
    "z = 7"
   ]
  },
  {
   "cell_type": "code",
   "execution_count": 98,
   "id": "5baf5758-dbca-49f6-9d9b-99c289273c40",
   "metadata": {},
   "outputs": [
    {
     "data": {
      "text/plain": [
       "17"
      ]
     },
     "execution_count": 98,
     "metadata": {},
     "output_type": "execute_result"
    }
   ],
   "source": [
    "z + 10"
   ]
  },
  {
   "cell_type": "code",
   "execution_count": 99,
   "id": "7d35b716-7e70-4836-b02d-49b588ec3cca",
   "metadata": {},
   "outputs": [
    {
     "data": {
      "text/plain": [
       "17"
      ]
     },
     "execution_count": 99,
     "metadata": {},
     "output_type": "execute_result"
    }
   ],
   "source": [
    "z.__add__(10)"
   ]
  },
  {
   "cell_type": "code",
   "execution_count": 100,
   "id": "8e183ba4-1a8c-4e22-8780-c5a7cd55696e",
   "metadata": {},
   "outputs": [
    {
     "ename": "TypeError",
     "evalue": "unsupported operand type(s) for +: 'int' and 'AddierbaresAuto'",
     "output_type": "error",
     "traceback": [
      "\u001b[0;31m---------------------------------------------------------------------------\u001b[0m",
      "\u001b[0;31mTypeError\u001b[0m                                 Traceback (most recent call last)",
      "Input \u001b[0;32mIn [100]\u001b[0m, in \u001b[0;36m<cell line: 1>\u001b[0;34m()\u001b[0m\n\u001b[0;32m----> 1\u001b[0m \u001b[38;5;28;43msum\u001b[39;49m\u001b[43m(\u001b[49m\u001b[43m[\u001b[49m\u001b[43maa1\u001b[49m\u001b[43m,\u001b[49m\u001b[43m \u001b[49m\u001b[43maa2\u001b[49m\u001b[43m]\u001b[49m\u001b[43m)\u001b[49m\n",
      "\u001b[0;31mTypeError\u001b[0m: unsupported operand type(s) for +: 'int' and 'AddierbaresAuto'"
     ]
    }
   ],
   "source": [
    "sum([aa1, aa2])"
   ]
  },
  {
   "cell_type": "code",
   "execution_count": 101,
   "id": "17c78544-20e1-41fa-abd9-7dbfed0514a9",
   "metadata": {},
   "outputs": [
    {
     "data": {
      "text/plain": [
       "\u001b[0;31mSignature:\u001b[0m \u001b[0msum\u001b[0m\u001b[0;34m(\u001b[0m\u001b[0miterable\u001b[0m\u001b[0;34m,\u001b[0m \u001b[0;34m/\u001b[0m\u001b[0;34m,\u001b[0m \u001b[0mstart\u001b[0m\u001b[0;34m=\u001b[0m\u001b[0;36m0\u001b[0m\u001b[0;34m)\u001b[0m\u001b[0;34m\u001b[0m\u001b[0;34m\u001b[0m\u001b[0m\n",
       "\u001b[0;31mDocstring:\u001b[0m\n",
       "Return the sum of a 'start' value (default: 0) plus an iterable of numbers\n",
       "\n",
       "When the iterable is empty, return the start value.\n",
       "This function is intended specifically for use with numeric values and may\n",
       "reject non-numeric types.\n",
       "\u001b[0;31mType:\u001b[0m      builtin_function_or_method\n"
      ]
     },
     "metadata": {},
     "output_type": "display_data"
    }
   ],
   "source": [
    "sum?"
   ]
  },
  {
   "cell_type": "code",
   "execution_count": 103,
   "id": "a784845e-0f2d-4e46-9e60-eb0f706cd179",
   "metadata": {},
   "outputs": [],
   "source": [
    "res = sum([aa1, aa2], AddierbaresAuto('', ''))"
   ]
  },
  {
   "cell_type": "code",
   "execution_count": 104,
   "id": "01103f3f-113e-4259-8aac-99c29cfa0d16",
   "metadata": {},
   "outputs": [
    {
     "data": {
      "text/plain": [
       "'VWBMW'"
      ]
     },
     "execution_count": 104,
     "metadata": {},
     "output_type": "execute_result"
    }
   ],
   "source": [
    "res.marke"
   ]
  },
  {
   "cell_type": "code",
   "execution_count": 105,
   "id": "2d5b165d-a94d-4bf1-8792-02f69838fcee",
   "metadata": {},
   "outputs": [
    {
     "data": {
      "text/plain": [
       "True"
      ]
     },
     "execution_count": 105,
     "metadata": {},
     "output_type": "execute_result"
    }
   ],
   "source": [
    "callable(sum)"
   ]
  },
  {
   "cell_type": "code",
   "execution_count": 106,
   "id": "6c46d323-c47a-49b7-89f2-ff01f265bf5e",
   "metadata": {},
   "outputs": [
    {
     "data": {
      "text/plain": [
       "builtin_function_or_method"
      ]
     },
     "execution_count": 106,
     "metadata": {},
     "output_type": "execute_result"
    }
   ],
   "source": [
    "type(sum)"
   ]
  },
  {
   "cell_type": "code",
   "execution_count": 107,
   "id": "6540ad03-370d-4791-a2a0-bce316d33148",
   "metadata": {},
   "outputs": [
    {
     "data": {
      "text/plain": [
       "True"
      ]
     },
     "execution_count": 107,
     "metadata": {},
     "output_type": "execute_result"
    }
   ],
   "source": [
    "callable(int)"
   ]
  },
  {
   "cell_type": "code",
   "execution_count": 108,
   "id": "355076d4-bfb2-482a-96a6-e85cde8beb36",
   "metadata": {},
   "outputs": [
    {
     "data": {
      "text/plain": [
       "type"
      ]
     },
     "execution_count": 108,
     "metadata": {},
     "output_type": "execute_result"
    }
   ],
   "source": [
    "type(int)"
   ]
  },
  {
   "cell_type": "code",
   "execution_count": 109,
   "id": "d58d7f92-559c-470b-98a3-d21bb8104562",
   "metadata": {},
   "outputs": [
    {
     "data": {
      "text/plain": [
       "0"
      ]
     },
     "execution_count": 109,
     "metadata": {},
     "output_type": "execute_result"
    }
   ],
   "source": [
    "int()"
   ]
  },
  {
   "cell_type": "code",
   "execution_count": 110,
   "id": "c9e896c9-6e83-4bd1-9391-c93b60e39f7e",
   "metadata": {},
   "outputs": [],
   "source": [
    "L = [1, 2, 3]"
   ]
  },
  {
   "cell_type": "code",
   "execution_count": 111,
   "id": "2a86049b-2d80-4261-b0bb-416e0ce159ef",
   "metadata": {},
   "outputs": [
    {
     "data": {
      "text/plain": [
       "'[1, 2, 3]'"
      ]
     },
     "execution_count": 111,
     "metadata": {},
     "output_type": "execute_result"
    }
   ],
   "source": [
    "str(L)"
   ]
  },
  {
   "cell_type": "code",
   "execution_count": 112,
   "id": "900a8986-0695-4f7f-a713-03f6b1467506",
   "metadata": {},
   "outputs": [
    {
     "data": {
      "text/plain": [
       "'[1, 2, 3]'"
      ]
     },
     "execution_count": 112,
     "metadata": {},
     "output_type": "execute_result"
    }
   ],
   "source": [
    "repr(L)"
   ]
  },
  {
   "cell_type": "code",
   "execution_count": 113,
   "id": "c281832f-4cbd-4875-88c1-6cdea75e947c",
   "metadata": {},
   "outputs": [],
   "source": [
    "a = 'abc'"
   ]
  },
  {
   "cell_type": "code",
   "execution_count": 114,
   "id": "f8a87fb9-6066-4997-aa43-397e5e65aea7",
   "metadata": {},
   "outputs": [
    {
     "data": {
      "text/plain": [
       "'abc'"
      ]
     },
     "execution_count": 114,
     "metadata": {},
     "output_type": "execute_result"
    }
   ],
   "source": [
    "str(a)"
   ]
  },
  {
   "cell_type": "code",
   "execution_count": 115,
   "id": "e3dafd6e-5700-4c15-b8f0-b63ee2bf73d1",
   "metadata": {},
   "outputs": [
    {
     "data": {
      "text/plain": [
       "\"'abc'\""
      ]
     },
     "execution_count": 115,
     "metadata": {},
     "output_type": "execute_result"
    }
   ],
   "source": [
    "repr(a)"
   ]
  },
  {
   "cell_type": "code",
   "execution_count": 116,
   "id": "d3deb127-353d-4225-983b-e3cb547e739c",
   "metadata": {},
   "outputs": [
    {
     "data": {
      "text/plain": [
       "<__main__.AddierbaresAuto at 0x7f27a2584bb0>"
      ]
     },
     "execution_count": 116,
     "metadata": {},
     "output_type": "execute_result"
    }
   ],
   "source": [
    "aa1"
   ]
  },
  {
   "cell_type": "code",
   "execution_count": 120,
   "id": "48d2b4da-6e30-478b-b31a-16e82800ed71",
   "metadata": {},
   "outputs": [],
   "source": [
    "class AddierbaresAuto:\n",
    "    \"\"\"Das Auto.\"\"\"\n",
    "\n",
    "    def __init__(self, marke, farbe):\n",
    "        self.marke = marke\n",
    "        self.farbe = farbe\n",
    "        self.km_stand = 0\n",
    "\n",
    "    def fahre(self, km):\n",
    "        \"\"\"Erhöhe `km_stand` um `km`.\"\"\"\n",
    "        self.km_stand += km\n",
    "\n",
    "    def __add__(self, other):\n",
    "        return AddierbaresAuto(self.marke + other.marke,\n",
    "                               self.farbe + other.farbe)\n",
    "    def __repr__(self):\n",
    "        return f'AddierbaresAuto({self.marke!r}, {self.farbe!r})'"
   ]
  },
  {
   "cell_type": "code",
   "execution_count": 121,
   "id": "ac97e927-b947-4464-be13-875be9d0564a",
   "metadata": {},
   "outputs": [],
   "source": [
    "aa10 = AddierbaresAuto('VW', 'rot')"
   ]
  },
  {
   "cell_type": "code",
   "execution_count": 122,
   "id": "fe09d6cf-2a2d-4ecb-8899-a6a1f928cd4f",
   "metadata": {},
   "outputs": [
    {
     "data": {
      "text/plain": [
       "AddierbaresAuto('VW', 'rot')"
      ]
     },
     "execution_count": 122,
     "metadata": {},
     "output_type": "execute_result"
    }
   ],
   "source": [
    "aa10"
   ]
  },
  {
   "cell_type": "code",
   "execution_count": 123,
   "id": "321b94ec-3bee-4f88-8b4c-b6a77de6978b",
   "metadata": {},
   "outputs": [],
   "source": [
    "class AddierbaresAutoKind(AddierbaresAuto):\n",
    "    pass"
   ]
  },
  {
   "cell_type": "code",
   "execution_count": 124,
   "id": "bd077662-e292-4387-8953-70cb83e23885",
   "metadata": {},
   "outputs": [
    {
     "data": {
      "text/plain": [
       "AddierbaresAuto('VW', 'rot')"
      ]
     },
     "execution_count": 124,
     "metadata": {},
     "output_type": "execute_result"
    }
   ],
   "source": [
    "AddierbaresAutoKind('VW', 'rot')"
   ]
  },
  {
   "cell_type": "code",
   "execution_count": 132,
   "id": "c9e550a0-a933-4475-ac1f-b4fce99f5cd3",
   "metadata": {},
   "outputs": [],
   "source": [
    "class AddierbaresAutoBesser:\n",
    "    \"\"\"Das Auto.\"\"\"\n",
    "\n",
    "    def __init__(self, marke, farbe):\n",
    "        self.marke = marke\n",
    "        self.farbe = farbe\n",
    "        self.km_stand = 0\n",
    "\n",
    "    def fahre(self, km):\n",
    "        \"\"\"Erhöhe `km_stand` um `km`.\"\"\"\n",
    "        self.km_stand += km\n",
    "\n",
    "    def __add__(self, other):\n",
    "        return self.__class__(self.marke + other.marke,\n",
    "                              self.farbe + other.farbe)\n",
    "\n",
    "    def __repr__(self):\n",
    "        return f'{self.__class__.__name__}({self.marke!r}, {self.farbe!r})'"
   ]
  },
  {
   "cell_type": "code",
   "execution_count": 133,
   "id": "81d5c609-3d45-4e84-8324-c18892ab1f6e",
   "metadata": {},
   "outputs": [],
   "source": [
    "class AddierbaresAutoBesserKind(AddierbaresAutoBesser):\n",
    "    pass"
   ]
  },
  {
   "cell_type": "code",
   "execution_count": 134,
   "id": "5e6e3e21-815b-4b39-ae9d-b52e3a85253e",
   "metadata": {},
   "outputs": [
    {
     "data": {
      "text/plain": [
       "AddierbaresAutoBesserKind('VW', 'rot')"
      ]
     },
     "execution_count": 134,
     "metadata": {},
     "output_type": "execute_result"
    }
   ],
   "source": [
    "AddierbaresAutoBesserKind('VW', 'rot')"
   ]
  },
  {
   "cell_type": "code",
   "execution_count": 135,
   "id": "6dc3a6a8-313f-49b0-97e3-f5a727484c18",
   "metadata": {},
   "outputs": [
    {
     "data": {
      "text/plain": [
       "\"AddierbaresAutoBesserKind('VW', 'rot')\""
      ]
     },
     "execution_count": 135,
     "metadata": {},
     "output_type": "execute_result"
    }
   ],
   "source": [
    "str(AddierbaresAutoBesserKind('VW', 'rot'))"
   ]
  },
  {
   "cell_type": "code",
   "execution_count": 136,
   "id": "49c45117-f2e4-40ed-a009-d461c4592ee7",
   "metadata": {},
   "outputs": [
    {
     "data": {
      "text/plain": [
       "[1, 2, 3]"
      ]
     },
     "execution_count": 136,
     "metadata": {},
     "output_type": "execute_result"
    }
   ],
   "source": [
    "L"
   ]
  },
  {
   "cell_type": "code",
   "execution_count": 138,
   "id": "f166dcbd-b990-41a8-95c5-fd2d5e70e20e",
   "metadata": {},
   "outputs": [
    {
     "data": {
      "text/plain": [
       "1"
      ]
     },
     "execution_count": 138,
     "metadata": {},
     "output_type": "execute_result"
    }
   ],
   "source": [
    "L[0]"
   ]
  },
  {
   "cell_type": "code",
   "execution_count": 139,
   "id": "738018e2-52e4-44cd-808b-9ddd09991a42",
   "metadata": {},
   "outputs": [
    {
     "data": {
      "text/plain": [
       "1"
      ]
     },
     "execution_count": 139,
     "metadata": {},
     "output_type": "execute_result"
    }
   ],
   "source": [
    "L.__getitem__(0)"
   ]
  },
  {
   "cell_type": "code",
   "execution_count": 140,
   "id": "733ae6a3-9db2-4e9e-8e96-9496efc149c4",
   "metadata": {},
   "outputs": [],
   "source": [
    "class Person2(Person):\n",
    "    \n",
    "    def __rshift__(self, standort):\n",
    "        self.gehezu(standort)"
   ]
  },
  {
   "cell_type": "code",
   "execution_count": 141,
   "id": "4d7c85b1-f5ac-4e40-a5a9-4fb13ff284e1",
   "metadata": {},
   "outputs": [],
   "source": [
    "person4 = Person2(\"Jordan\", \"Zuhause\")"
   ]
  },
  {
   "cell_type": "code",
   "execution_count": 142,
   "id": "4e64654b-5a4c-4a68-b4a5-e3c6622fa98e",
   "metadata": {},
   "outputs": [
    {
     "data": {
      "text/plain": [
       "'Zuhause'"
      ]
     },
     "execution_count": 142,
     "metadata": {},
     "output_type": "execute_result"
    }
   ],
   "source": [
    "person4.standort"
   ]
  },
  {
   "cell_type": "code",
   "execution_count": 143,
   "id": "e1904642-28d2-43fa-87e5-6d20f1b017ef",
   "metadata": {},
   "outputs": [
    {
     "name": "stdout",
     "output_type": "stream",
     "text": [
      "Die Person: Jordan ist hier hin gegangen: Schreibtisch\n"
     ]
    }
   ],
   "source": [
    "person4 >> 'Schreibtisch'"
   ]
  },
  {
   "cell_type": "code",
   "execution_count": 144,
   "id": "b3e2f179-728f-480d-bd3e-ab55d91d30bf",
   "metadata": {},
   "outputs": [
    {
     "data": {
      "text/plain": [
       "'Schreibtisch'"
      ]
     },
     "execution_count": 144,
     "metadata": {},
     "output_type": "execute_result"
    }
   ],
   "source": [
    "person4.standort"
   ]
  },
  {
   "cell_type": "code",
   "execution_count": 146,
   "id": "5dcf536a-7af5-485b-9a12-5a3798b6de90",
   "metadata": {},
   "outputs": [],
   "source": [
    "class EingeschraenktePersonBesser2(Person2):\n",
    "\n",
    "    verboteneOrte = [\"Club\", \"Festival\"]\n",
    "\n",
    "    def gehezu(self, standort):\n",
    "\n",
    "        if standort in self.__class__.verboteneOrte:\n",
    "            print(\"Der Zugang zu Ort:\", standort, \"ist verboten\")\n",
    "        else:\n",
    "            super().gehezu(standort)"
   ]
  },
  {
   "cell_type": "code",
   "execution_count": 147,
   "id": "3ce87641-0a3e-42b2-8f48-bff2a6b00761",
   "metadata": {},
   "outputs": [],
   "source": [
    "e = EingeschraenktePersonBesser2(\"Jordan\", \"Zuhause\")"
   ]
  },
  {
   "cell_type": "code",
   "execution_count": 149,
   "id": "2f74959d-bfe4-468a-8e41-541a1d99de9a",
   "metadata": {},
   "outputs": [
    {
     "name": "stdout",
     "output_type": "stream",
     "text": [
      "Der Zugang zu Ort: Club ist verboten\n"
     ]
    }
   ],
   "source": [
    "e >> 'Club'"
   ]
  },
  {
   "cell_type": "code",
   "execution_count": 150,
   "id": "62ab914c-9052-4244-88d1-04b7ef54e3e7",
   "metadata": {},
   "outputs": [
    {
     "data": {
      "text/plain": [
       "[__main__.EingeschraenktePersonBesser2,\n",
       " __main__.Person2,\n",
       " __main__.Person,\n",
       " object]"
      ]
     },
     "execution_count": 150,
     "metadata": {},
     "output_type": "execute_result"
    }
   ],
   "source": [
    "EingeschraenktePersonBesser2.mro()"
   ]
  },
  {
   "cell_type": "code",
   "execution_count": null,
   "id": "7e3eee6e-f224-4fda-9581-6274ce51b1cd",
   "metadata": {},
   "outputs": [],
   "source": []
  }
 ],
 "metadata": {
  "kernelspec": {
   "display_name": "Python 3.10",
   "language": "python",
   "name": "python310"
  },
  "language_info": {
   "codemirror_mode": {
    "name": "ipython",
    "version": 3
   },
   "file_extension": ".py",
   "mimetype": "text/x-python",
   "name": "python",
   "nbconvert_exporter": "python",
   "pygments_lexer": "ipython3",
   "version": "3.10.4"
  }
 },
 "nbformat": 4,
 "nbformat_minor": 5
}
