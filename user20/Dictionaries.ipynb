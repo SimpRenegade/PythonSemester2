{
 "cells": [
  {
   "cell_type": "markdown",
   "id": "e7308b10-573b-43a8-919e-a5078cfe082e",
   "metadata": {},
   "source": [
    "# Dictionaries"
   ]
  },
  {
   "cell_type": "code",
   "execution_count": 60,
   "id": "2f44fcce-12d4-4946-96d3-d3cb68bed001",
   "metadata": {},
   "outputs": [
    {
     "data": {
      "text/plain": [
       "{'a': 100, 'b': 200, 'c': 300}"
      ]
     },
     "execution_count": 60,
     "metadata": {},
     "output_type": "execute_result"
    }
   ],
   "source": [
    "d = {\"a\": 100, \"b\": 200, \"c\": 300}\n",
    "d"
   ]
  },
  {
   "cell_type": "code",
   "execution_count": 61,
   "id": "c6a6cdbb-c074-41ef-9ed7-13fcd76a9077",
   "metadata": {},
   "outputs": [
    {
     "data": {
      "text/plain": [
       "3"
      ]
     },
     "execution_count": 61,
     "metadata": {},
     "output_type": "execute_result"
    }
   ],
   "source": [
    "len(d)"
   ]
  },
  {
   "cell_type": "code",
   "execution_count": 62,
   "id": "ebc261d2-a9bd-4060-af88-24deb132f67a",
   "metadata": {},
   "outputs": [],
   "source": [
    "del d['b']"
   ]
  },
  {
   "cell_type": "markdown",
   "id": "927c85f4-01ed-443c-bfb7-d8f803728d2a",
   "metadata": {},
   "source": [
    "# Telefonbuch"
   ]
  },
  {
   "cell_type": "code",
   "execution_count": 63,
   "id": "6bdbeb45-3aca-4755-b84c-c99b040961e0",
   "metadata": {},
   "outputs": [],
   "source": [
    "d = {\"Len\": 155333, \"Lucas\": 155744, \"Tom\": 144467, \"Fritz\": 144888, \"Ole\": 133678, \"Felix\": 133456}"
   ]
  },
  {
   "cell_type": "code",
   "execution_count": 64,
   "id": "7991eb71-9ef0-4711-890f-1d7f4a68616d",
   "metadata": {},
   "outputs": [
    {
     "data": {
      "text/plain": [
       "{'Len': 155333,\n",
       " 'Lucas': 155744,\n",
       " 'Tom': 144467,\n",
       " 'Fritz': 144888,\n",
       " 'Ole': 133678,\n",
       " 'Felix': 133456}"
      ]
     },
     "execution_count": 64,
     "metadata": {},
     "output_type": "execute_result"
    }
   ],
   "source": [
    "d"
   ]
  },
  {
   "cell_type": "code",
   "execution_count": 65,
   "id": "e3a5312f-7a19-456a-a59e-618f58cb9b6f",
   "metadata": {},
   "outputs": [
    {
     "data": {
      "text/plain": [
       "False"
      ]
     },
     "execution_count": 65,
     "metadata": {},
     "output_type": "execute_result"
    }
   ],
   "source": [
    "\"felix\" in d"
   ]
  },
  {
   "cell_type": "code",
   "execution_count": 66,
   "id": "e121a74f-1609-4bd0-9126-1f49666bef65",
   "metadata": {},
   "outputs": [
    {
     "data": {
      "text/plain": [
       "True"
      ]
     },
     "execution_count": 66,
     "metadata": {},
     "output_type": "execute_result"
    }
   ],
   "source": [
    "\"Felix\" in d"
   ]
  },
  {
   "cell_type": "code",
   "execution_count": 67,
   "id": "c1117ee1-b23d-47eb-94ca-c2a01112bcc0",
   "metadata": {},
   "outputs": [
    {
     "data": {
      "text/plain": [
       "False"
      ]
     },
     "execution_count": 67,
     "metadata": {},
     "output_type": "execute_result"
    }
   ],
   "source": [
    "\"Mohammad\" in d"
   ]
  },
  {
   "cell_type": "code",
   "execution_count": 68,
   "id": "5c6e626d-d1c5-4bcd-b2f9-259f3a294553",
   "metadata": {},
   "outputs": [],
   "source": [
    "dict = d"
   ]
  },
  {
   "cell_type": "code",
   "execution_count": 69,
   "id": "05b0dc83-f0a5-411c-b330-dab1536a390b",
   "metadata": {},
   "outputs": [
    {
     "data": {
      "text/plain": [
       "{'Len': 155333,\n",
       " 'Lucas': 155744,\n",
       " 'Tom': 144467,\n",
       " 'Fritz': 144888,\n",
       " 'Ole': 133678,\n",
       " 'Felix': 133456}"
      ]
     },
     "execution_count": 69,
     "metadata": {},
     "output_type": "execute_result"
    }
   ],
   "source": [
    "dict"
   ]
  },
  {
   "cell_type": "code",
   "execution_count": 70,
   "id": "9d7203fb-d417-48b6-bec8-af442330695a",
   "metadata": {},
   "outputs": [
    {
     "data": {
      "text/plain": [
       "dict_keys(['Len', 'Lucas', 'Tom', 'Fritz', 'Ole', 'Felix'])"
      ]
     },
     "execution_count": 70,
     "metadata": {},
     "output_type": "execute_result"
    }
   ],
   "source": [
    "dict.keys()"
   ]
  },
  {
   "cell_type": "code",
   "execution_count": 71,
   "id": "bcf8eb23-22b8-451f-bc00-80ca1197d216",
   "metadata": {},
   "outputs": [
    {
     "data": {
      "text/plain": [
       "dict_values([155333, 155744, 144467, 144888, 133678, 133456])"
      ]
     },
     "execution_count": 71,
     "metadata": {},
     "output_type": "execute_result"
    }
   ],
   "source": [
    "dict.values()"
   ]
  },
  {
   "cell_type": "code",
   "execution_count": 72,
   "id": "e10ef487-3ad2-4c04-94aa-bcc98b364547",
   "metadata": {},
   "outputs": [],
   "source": [
    "newdict = {'Fritz': '155187', 'Florian': '111434'}"
   ]
  },
  {
   "cell_type": "code",
   "execution_count": 73,
   "id": "d534959d-5175-427c-b3fa-722500665365",
   "metadata": {},
   "outputs": [
    {
     "data": {
      "text/plain": [
       "{'Fritz': '155187', 'Florian': '111434'}"
      ]
     },
     "execution_count": 73,
     "metadata": {},
     "output_type": "execute_result"
    }
   ],
   "source": [
    "newdict"
   ]
  },
  {
   "cell_type": "code",
   "execution_count": 74,
   "id": "fca8fcd3-ed5b-4f79-a7b0-d80359de8a48",
   "metadata": {},
   "outputs": [
    {
     "data": {
      "text/plain": [
       "{'Len': 155333,\n",
       " 'Lucas': 155744,\n",
       " 'Tom': 144467,\n",
       " 'Fritz': '155187',\n",
       " 'Ole': 133678,\n",
       " 'Felix': 133456,\n",
       " 'Florian': '111434'}"
      ]
     },
     "execution_count": 74,
     "metadata": {},
     "output_type": "execute_result"
    }
   ],
   "source": [
    "dict.update(newdict)\n",
    "dict"
   ]
  },
  {
   "cell_type": "code",
   "execution_count": 75,
   "id": "bca8b8d3-455e-4766-9bbd-2debfa5d98ca",
   "metadata": {},
   "outputs": [],
   "source": [
    "dictcopy = d.copy()"
   ]
  },
  {
   "cell_type": "code",
   "execution_count": 76,
   "id": "9754a321-ad5c-4337-9ecb-64a0d0d4d6f6",
   "metadata": {},
   "outputs": [
    {
     "data": {
      "text/plain": [
       "{'Len': 155333,\n",
       " 'Lucas': 155744,\n",
       " 'Tom': 144467,\n",
       " 'Fritz': '155187',\n",
       " 'Ole': 133678,\n",
       " 'Felix': 133456,\n",
       " 'Florian': '111434'}"
      ]
     },
     "execution_count": 76,
     "metadata": {},
     "output_type": "execute_result"
    }
   ],
   "source": [
    "dictcopy"
   ]
  },
  {
   "cell_type": "code",
   "execution_count": 77,
   "id": "17df7188-00a9-42ee-96c2-7882a00b27e5",
   "metadata": {},
   "outputs": [
    {
     "data": {
      "text/plain": [
       "{'Lucas': 155744,\n",
       " 'Tom': 144467,\n",
       " 'Fritz': '155187',\n",
       " 'Ole': 133678,\n",
       " 'Felix': 133456,\n",
       " 'Florian': '111434'}"
      ]
     },
     "execution_count": 77,
     "metadata": {},
     "output_type": "execute_result"
    }
   ],
   "source": [
    "del dictcopy[\"Len\"]\n",
    "dictcopy"
   ]
  },
  {
   "cell_type": "code",
   "execution_count": 78,
   "id": "d20ee7ce-a3db-4824-b1eb-e791c53b03eb",
   "metadata": {},
   "outputs": [
    {
     "data": {
      "text/plain": [
       "'155187'"
      ]
     },
     "execution_count": 78,
     "metadata": {},
     "output_type": "execute_result"
    }
   ],
   "source": [
    "dict.get(\"Fritz\")"
   ]
  },
  {
   "cell_type": "code",
   "execution_count": 79,
   "id": "28c39aa0-7ebb-4c93-bdfb-af28d76cfd0f",
   "metadata": {},
   "outputs": [
    {
     "ename": "KeyError",
     "evalue": "'Mohammad'",
     "output_type": "error",
     "traceback": [
      "\u001b[0;31m---------------------------------------------------------------------------\u001b[0m",
      "\u001b[0;31mKeyError\u001b[0m                                  Traceback (most recent call last)",
      "Input \u001b[0;32mIn [79]\u001b[0m, in \u001b[0;36m<cell line: 1>\u001b[0;34m()\u001b[0m\n\u001b[0;32m----> 1\u001b[0m \u001b[38;5;28;43mdict\u001b[39;49m\u001b[43m[\u001b[49m\u001b[38;5;124;43m\"\u001b[39;49m\u001b[38;5;124;43mMohammad\u001b[39;49m\u001b[38;5;124;43m\"\u001b[39;49m\u001b[43m]\u001b[49m\n",
      "\u001b[0;31mKeyError\u001b[0m: 'Mohammad'"
     ]
    }
   ],
   "source": [
    "dict[\"Mohammad\"]"
   ]
  },
  {
   "cell_type": "code",
   "execution_count": 85,
   "id": "0b38561e-b71e-4e04-814c-0bfe11cf826f",
   "metadata": {},
   "outputs": [
    {
     "name": "stdout",
     "output_type": "stream",
     "text": [
      "None\n"
     ]
    }
   ],
   "source": [
    "print(dict.get(\"sfsfsdfs\", None))"
   ]
  },
  {
   "cell_type": "code",
   "execution_count": 81,
   "id": "24dc93df-80d8-4dbe-b879-0dc2f235615c",
   "metadata": {},
   "outputs": [
    {
     "name": "stdout",
     "output_type": "stream",
     "text": [
      "None\n"
     ]
    }
   ],
   "source": [
    "res = dict.get('Mohammad')\n",
    "print(res)"
   ]
  },
  {
   "cell_type": "code",
   "execution_count": 82,
   "id": "05983e62-512b-4f04-8fa1-762baf54c48f",
   "metadata": {},
   "outputs": [],
   "source": [
    "dict[\"Mohammad\"] = 188999"
   ]
  },
  {
   "cell_type": "code",
   "execution_count": 83,
   "id": "d881e8e0-b955-42c0-a62e-42e13b30ca29",
   "metadata": {},
   "outputs": [
    {
     "data": {
      "text/plain": [
       "{'Len': 155333,\n",
       " 'Lucas': 155744,\n",
       " 'Tom': 144467,\n",
       " 'Fritz': '155187',\n",
       " 'Ole': 133678,\n",
       " 'Felix': 133456,\n",
       " 'Florian': '111434',\n",
       " 'Mohammad': 188999}"
      ]
     },
     "execution_count": 83,
     "metadata": {},
     "output_type": "execute_result"
    }
   ],
   "source": [
    "dict"
   ]
  },
  {
   "cell_type": "code",
   "execution_count": 86,
   "id": "6a26bb56-8d0d-4b9f-8a36-db842d6626e6",
   "metadata": {},
   "outputs": [
    {
     "name": "stdout",
     "output_type": "stream",
     "text": [
      "1487234681\n",
      "True\n",
      "dict_keys(['Lucas', 'Len', 'Fritz', 'Ron', 'Ole'])\n",
      "dict_values([142311321, 1487234681, 21758123859, 1785931981, 282230942])\n",
      "dict_items([('Lucas', 142311321), ('Len', 1487234681), ('Fritz', 21758123859), ('Ron', 1785931981), ('Ole', 282230942)])\n"
     ]
    }
   ],
   "source": [
    "Telefonnummern = {'Lucas': 142311321, 'Len': 1487234681, 'Fritz': 21758123859,\n",
    "                  'Ron': 1785931981, 'Ole': 282230942}\n",
    "# Übung 1\n",
    "\n",
    "print(Telefonnummern['Len'])\n",
    "print('Lucas' in Telefonnummern)\n",
    "print(Telefonnummern.keys())\n",
    "print(Telefonnummern.values())\n",
    "print(Telefonnummern.items())"
   ]
  },
  {
   "cell_type": "code",
   "execution_count": 87,
   "id": "fe2277c3-854d-4833-8e70-0efe7cad93cb",
   "metadata": {},
   "outputs": [
    {
     "name": "stdout",
     "output_type": "stream",
     "text": [
      "None\n",
      "0\n",
      "{'Lucas': 142311321, 'Len': 1487234681, 'Fritz': 21758123859, 'Ron': 1785931981, 'Ole': 282230942, 'Tom': 1594516912}\n"
     ]
    }
   ],
   "source": [
    "\n",
    "# Übung 2\n",
    "\n",
    "print(Telefonnummern.get('Tom', None))\n",
    "print(Telefonnummern.get('Tom', 0))\n",
    "\n",
    "Telefonnummern['Tom'] = 1594516912\n",
    "print(Telefonnummern)"
   ]
  },
  {
   "cell_type": "code",
   "execution_count": 88,
   "id": "54ec5e96-2870-48c5-8534-53fcc4dab007",
   "metadata": {},
   "outputs": [
    {
     "name": "stdout",
     "output_type": "stream",
     "text": [
      "{'Lucas': 426933963, 'Len': 4461704043, 'Fritz': 65274371577, 'Ron': 5357795943, 'Ole': 846692826, 'Tom': 4783550736, 'Kaitlyn': 4242424242}\n",
      "{'Clara': 2122211, 'Vanessa': 24761, 'Erwin': 13912, 'Len': 1471}\n",
      "{'Clara': 2122211, 'Vanessa': 24761, 'Erwin': 13912, 'Len': 4461704043, 'Lucas': 426933963, 'Fritz': 65274371577, 'Ron': 5357795943, 'Ole': 846692826, 'Tom': 4783550736, 'Kaitlyn': 4242424242}\n"
     ]
    }
   ],
   "source": [
    "# Übung 3\n",
    "\n",
    "for k, v in Telefonnummern.items():\n",
    "    Telefonnummern[k] = v + v * 2\n",
    "Telefonnummern['Kaitlyn'] = 4242424242\n",
    "print(Telefonnummern)\n",
    "\n",
    "Telefonbuch = {'Clara': 2122211, 'Vanessa': 24761, 'Erwin': 13912, 'Len': 1471}\n",
    "print(Telefonbuch)\n",
    "Telefonbuch.update(Telefonnummern)\n",
    "print(Telefonbuch)\n"
   ]
  },
  {
   "cell_type": "code",
   "execution_count": 89,
   "id": "1f0ab837-911d-47ea-b1e7-427c49cd4bfc",
   "metadata": {},
   "outputs": [
    {
     "name": "stdout",
     "output_type": "stream",
     "text": [
      "{'Clara': 2122211, 'Vanessa': 24761, 'Erwin': 13912, 'Len': 4461704043, 'Lucas': 426933963, 'Fritz': 65274371577, 'Ron': 5357795943, 'Ole': 846692826, 'Kaitlyn': 4242424242}\n",
      "{'Clara': 2122211, 'Vanessa': 24761, 'Erwin': 13912, 'Len': 4461704043, 'Lucas': 426933963, 'Fritz': 65274371577, 'Ron': 5357795943, 'Ole': 846692826}\n",
      "Vanessa\n",
      "24761\n",
      "{'Clara': 2122211, 'Erwin': 13912, 'Len': 4461704043, 'Lucas': 426933963, 'Fritz': 65274371577, 'Ron': 5357795943, 'Ole': 846692826}\n"
     ]
    }
   ],
   "source": [
    "# Übung 4\n",
    "\n",
    "del Telefonbuch['Tom']\n",
    "print(Telefonbuch)\n",
    "\n",
    "Telefonbuch.pop('Kaitlyn')\n",
    "print(Telefonbuch)\n",
    "\n",
    "\n",
    "for k, v in Telefonbuch.items():\n",
    "    if v == Telefonbuch['Vanessa']:\n",
    "        print(k)\n",
    "        print(Telefonbuch[k])\n",
    "        del Telefonbuch[k]\n",
    "        break\n",
    "    else:\n",
    "        continue\n",
    "print(Telefonbuch)"
   ]
  },
  {
   "cell_type": "code",
   "execution_count": 91,
   "id": "a251a80e-9b77-4fa0-b845-7d020342271a",
   "metadata": {},
   "outputs": [],
   "source": [
    "# Übung 5\n",
    "import time\n",
    "x = 0\n",
    "L1 = []\n",
    "D1 = {}\n",
    "while x < 10000:\n",
    "    D1[x] = x\n",
    "    L1.append(x)\n",
    "    x = x + 1"
   ]
  },
  {
   "cell_type": "code",
   "execution_count": 92,
   "id": "88d4a6d9-0f1f-4aaf-94e2-d2a2a7b28579",
   "metadata": {},
   "outputs": [
    {
     "name": "stdout",
     "output_type": "stream",
     "text": [
      "Dictionary:\n",
      "0.000109678\n",
      "List:\n",
      "0.0001475\n"
     ]
    }
   ],
   "source": [
    "# Dictionary\n",
    "start = time.perf_counter_ns()\n",
    "5000 in D1\n",
    "end = time.perf_counter_ns()\n",
    "print('Dictionary:')\n",
    "print((end - start) / 1e9)\n",
    "\n",
    "# List\n",
    "start = time.perf_counter_ns()\n",
    "5000 in L1\n",
    "end = time.perf_counter_ns()\n",
    "print('List:')\n",
    "print((end - start) / 1e9)"
   ]
  },
  {
   "cell_type": "code",
   "execution_count": null,
   "id": "83aa760d-c898-4f23-b1a8-995f2b01adab",
   "metadata": {},
   "outputs": [],
   "source": []
  },
  {
   "cell_type": "code",
   "execution_count": null,
   "id": "f868c597-b78c-4434-9e07-81d5a5bbf0bc",
   "metadata": {},
   "outputs": [],
   "source": []
  }
 ],
 "metadata": {
  "kernelspec": {
   "display_name": "Python 3.10",
   "language": "python",
   "name": "python310"
  },
  "language_info": {
   "codemirror_mode": {
    "name": "ipython",
    "version": 3
   },
   "file_extension": ".py",
   "mimetype": "text/x-python",
   "name": "python",
   "nbconvert_exporter": "python",
   "pygments_lexer": "ipython3",
   "version": "3.10.4"
  }
 },
 "nbformat": 4,
 "nbformat_minor": 5
}
