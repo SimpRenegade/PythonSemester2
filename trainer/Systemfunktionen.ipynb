{
 "cells": [
  {
   "cell_type": "code",
   "execution_count": 1,
   "id": "fdf46938-9994-4878-b708-06e9dec46b86",
   "metadata": {},
   "outputs": [],
   "source": [
    "import sys"
   ]
  },
  {
   "cell_type": "code",
   "execution_count": 2,
   "id": "eaf7edc0-2c92-426d-a643-b0be1c2c4a7d",
   "metadata": {},
   "outputs": [
    {
     "data": {
      "text/plain": [
       "96"
      ]
     },
     "execution_count": 2,
     "metadata": {},
     "output_type": "execute_result"
    }
   ],
   "source": [
    "len(dir(sys))"
   ]
  },
  {
   "cell_type": "code",
   "execution_count": 3,
   "id": "64948788-776d-4f9b-bd35-d7612d9c9d38",
   "metadata": {},
   "outputs": [
    {
     "data": {
      "text/plain": [
       "''"
      ]
     },
     "execution_count": 3,
     "metadata": {},
     "output_type": "execute_result"
    }
   ],
   "source": [
    "sys.abiflags"
   ]
  },
  {
   "cell_type": "code",
   "execution_count": 4,
   "id": "61bce312-ca53-4421-8e89-3856ebb47690",
   "metadata": {},
   "outputs": [
    {
     "data": {
      "text/plain": [
       "1013"
      ]
     },
     "execution_count": 4,
     "metadata": {},
     "output_type": "execute_result"
    }
   ],
   "source": [
    "sys.api_version"
   ]
  },
  {
   "cell_type": "code",
   "execution_count": 5,
   "id": "ae9b708e-9bce-4ec6-8166-ad2df24dcf81",
   "metadata": {},
   "outputs": [
    {
     "data": {
      "text/plain": [
       "['/opt/mambaforge/envs/python310/lib/python3.10/site-packages/ipykernel_launcher.py',\n",
       " '-f',\n",
       " '/home/pya_trainer_master/.local/share/jupyter/runtime/kernel-d2276f7c-afe6-42f9-aa1f-f58de10ef105.json']"
      ]
     },
     "execution_count": 5,
     "metadata": {},
     "output_type": "execute_result"
    }
   ],
   "source": [
    "sys.argv"
   ]
  },
  {
   "cell_type": "code",
   "execution_count": 6,
   "id": "2a445b88-e8ad-4334-9f68-3397b218a7b1",
   "metadata": {},
   "outputs": [
    {
     "data": {
      "text/plain": [
       "'/opt/mambaforge/envs/python310'"
      ]
     },
     "execution_count": 6,
     "metadata": {},
     "output_type": "execute_result"
    }
   ],
   "source": [
    "sys.base_prefix"
   ]
  },
  {
   "cell_type": "code",
   "execution_count": 7,
   "id": "a1eb7f7d-4ac4-4933-99af-b5066f4511d5",
   "metadata": {},
   "outputs": [
    {
     "data": {
      "text/plain": [
       "('_abc',\n",
       " '_ast',\n",
       " '_codecs',\n",
       " '_collections',\n",
       " '_functools',\n",
       " '_imp',\n",
       " '_io',\n",
       " '_locale',\n",
       " '_operator',\n",
       " '_signal',\n",
       " '_sre',\n",
       " '_stat',\n",
       " '_string',\n",
       " '_symtable',\n",
       " '_thread',\n",
       " '_tracemalloc',\n",
       " '_warnings',\n",
       " '_weakref',\n",
       " 'atexit',\n",
       " 'builtins',\n",
       " 'errno',\n",
       " 'faulthandler',\n",
       " 'gc',\n",
       " 'itertools',\n",
       " 'marshal',\n",
       " 'posix',\n",
       " 'pwd',\n",
       " 'sys',\n",
       " 'time',\n",
       " 'xxsubtype')"
      ]
     },
     "execution_count": 7,
     "metadata": {},
     "output_type": "execute_result"
    }
   ],
   "source": [
    "sys.builtin_module_names"
   ]
  },
  {
   "cell_type": "code",
   "execution_count": 8,
   "id": "2851e006-4a42-46b3-8dac-4dca95f8dff9",
   "metadata": {},
   "outputs": [
    {
     "data": {
      "text/plain": [
       "\u001b[0;31mType:\u001b[0m        module\n",
       "\u001b[0;31mString form:\u001b[0m <module 'sys' (built-in)>\n",
       "\u001b[0;31mDocstring:\u001b[0m  \n",
       "This module provides access to some objects used or maintained by the\n",
       "interpreter and to functions that interact strongly with the interpreter.\n",
       "\n",
       "Dynamic objects:\n",
       "\n",
       "argv -- command line arguments; argv[0] is the script pathname if known\n",
       "path -- module search path; path[0] is the script directory, else ''\n",
       "modules -- dictionary of loaded modules\n",
       "\n",
       "displayhook -- called to show results in an interactive session\n",
       "excepthook -- called to handle any uncaught exception other than SystemExit\n",
       "  To customize printing in an interactive session or to install a custom\n",
       "  top-level exception handler, assign other functions to replace these.\n",
       "\n",
       "stdin -- standard input file object; used by input()\n",
       "stdout -- standard output file object; used by print()\n",
       "stderr -- standard error object; used for error messages\n",
       "  By assigning other file objects (or objects that behave like files)\n",
       "  to these, it is possible to redirect all of the interpreter's I/O.\n",
       "\n",
       "last_type -- type of last uncaught exception\n",
       "last_value -- value of last uncaught exception\n",
       "last_traceback -- traceback of last uncaught exception\n",
       "  These three are only available in an interactive session after a\n",
       "  traceback has been printed.\n",
       "\n",
       "Static objects:\n",
       "\n",
       "builtin_module_names -- tuple of module names built into this interpreter\n",
       "copyright -- copyright notice pertaining to this interpreter\n",
       "exec_prefix -- prefix used to find the machine-specific Python library\n",
       "executable -- absolute path of the executable binary of the Python interpreter\n",
       "float_info -- a named tuple with information about the float implementation.\n",
       "float_repr_style -- string indicating the style of repr() output for floats\n",
       "hash_info -- a named tuple with information about the hash algorithm.\n",
       "hexversion -- version information encoded as a single integer\n",
       "implementation -- Python implementation information.\n",
       "int_info -- a named tuple with information about the int implementation.\n",
       "maxsize -- the largest supported length of containers.\n",
       "maxunicode -- the value of the largest Unicode code point\n",
       "platform -- platform identifier\n",
       "prefix -- prefix used to find the Python library\n",
       "thread_info -- a named tuple with information about the thread implementation.\n",
       "version -- the version of this interpreter as a string\n",
       "version_info -- version information as a named tuple\n",
       "__stdin__ -- the original stdin; don't touch!\n",
       "__stdout__ -- the original stdout; don't touch!\n",
       "__stderr__ -- the original stderr; don't touch!\n",
       "__displayhook__ -- the original displayhook; don't touch!\n",
       "__excepthook__ -- the original excepthook; don't touch!\n",
       "\n",
       "Functions:\n",
       "\n",
       "displayhook() -- print an object to the screen, and save it in builtins._\n",
       "excepthook() -- print an exception and its traceback to sys.stderr\n",
       "exc_info() -- return thread-safe information about the current exception\n",
       "exit() -- exit the interpreter by raising SystemExit\n",
       "getdlopenflags() -- returns flags to be used for dlopen() calls\n",
       "getprofile() -- get the global profiling function\n",
       "getrefcount() -- return the reference count for an object (plus one :-)\n",
       "getrecursionlimit() -- return the max recursion depth for the interpreter\n",
       "getsizeof() -- return the size of an object in bytes\n",
       "gettrace() -- get the global debug tracing function\n",
       "setdlopenflags() -- set the flags to be used for dlopen() calls\n",
       "setprofile() -- set the global profiling function\n",
       "setrecursionlimit() -- set the max recursion depth for the interpreter\n",
       "settrace() -- set the global debug tracing function\n"
      ]
     },
     "metadata": {},
     "output_type": "display_data"
    }
   ],
   "source": [
    "sys??"
   ]
  },
  {
   "cell_type": "code",
   "execution_count": 9,
   "id": "7102d4c0-b8e6-4105-8ece-15deb4ebaa99",
   "metadata": {},
   "outputs": [
    {
     "data": {
      "text/plain": [
       "'little'"
      ]
     },
     "execution_count": 9,
     "metadata": {},
     "output_type": "execute_result"
    }
   ],
   "source": [
    "sys.byteorder"
   ]
  },
  {
   "cell_type": "code",
   "execution_count": 10,
   "id": "f8941286-5ff9-42ad-95b5-a2c6e99c7342",
   "metadata": {},
   "outputs": [
    {
     "data": {
      "text/plain": [
       "False"
      ]
     },
     "execution_count": 10,
     "metadata": {},
     "output_type": "execute_result"
    }
   ],
   "source": [
    "sys.dont_write_bytecode"
   ]
  },
  {
   "cell_type": "code",
   "execution_count": 11,
   "id": "dfd631bd-5f03-48cd-bde1-fd9e44d901fb",
   "metadata": {},
   "outputs": [
    {
     "data": {
      "text/plain": [
       "'/opt/mambaforge/envs/python310/bin/python'"
      ]
     },
     "execution_count": 11,
     "metadata": {},
     "output_type": "execute_result"
    }
   ],
   "source": [
    "sys.executable"
   ]
  },
  {
   "cell_type": "code",
   "execution_count": 12,
   "id": "1e10f543-efa3-44e8-88c4-1959ce087dc8",
   "metadata": {},
   "outputs": [
    {
     "ename": "AttributeError",
     "evalue": "module 'sys' has no attribute 'getcheckinterval'",
     "output_type": "error",
     "traceback": [
      "\u001b[0;31m---------------------------------------------------------------------------\u001b[0m",
      "\u001b[0;31mAttributeError\u001b[0m                            Traceback (most recent call last)",
      "Input \u001b[0;32mIn [12]\u001b[0m, in \u001b[0;36m<cell line: 1>\u001b[0;34m()\u001b[0m\n\u001b[0;32m----> 1\u001b[0m \u001b[43msys\u001b[49m\u001b[38;5;241;43m.\u001b[39;49m\u001b[43mgetcheckinterval\u001b[49m()\n",
      "\u001b[0;31mAttributeError\u001b[0m: module 'sys' has no attribute 'getcheckinterval'"
     ]
    }
   ],
   "source": [
    "sys.getcheckinterval()"
   ]
  },
  {
   "cell_type": "code",
   "execution_count": 13,
   "id": "529c439b-fe62-4e72-9944-e2c27c3f5f2e",
   "metadata": {},
   "outputs": [
    {
     "data": {
      "text/plain": [
       "0.005"
      ]
     },
     "execution_count": 13,
     "metadata": {},
     "output_type": "execute_result"
    }
   ],
   "source": [
    "sys.getswitchinterval()"
   ]
  },
  {
   "cell_type": "code",
   "execution_count": 14,
   "id": "5a6bea1a-f6a9-4726-90fd-d907552f4222",
   "metadata": {},
   "outputs": [
    {
     "data": {
      "text/plain": [
       "11795"
      ]
     },
     "execution_count": 14,
     "metadata": {},
     "output_type": "execute_result"
    }
   ],
   "source": [
    "sys.getrefcount(1)"
   ]
  },
  {
   "cell_type": "code",
   "execution_count": 15,
   "id": "bfe8e2a7-d47f-4ccd-ad1d-47da5097a747",
   "metadata": {},
   "outputs": [
    {
     "data": {
      "text/plain": [
       "946"
      ]
     },
     "execution_count": 15,
     "metadata": {},
     "output_type": "execute_result"
    }
   ],
   "source": [
    "len(sys.modules)"
   ]
  },
  {
   "cell_type": "code",
   "execution_count": 16,
   "id": "32700745-004f-470f-a340-c9e76af0c3b9",
   "metadata": {},
   "outputs": [
    {
     "data": {
      "text/plain": [
       "True"
      ]
     },
     "execution_count": 16,
     "metadata": {},
     "output_type": "execute_result"
    }
   ],
   "source": [
    "'sys' in sys.modules"
   ]
  },
  {
   "cell_type": "code",
   "execution_count": 17,
   "id": "bfcba00e-5d97-4701-9b91-7d18f36bd20b",
   "metadata": {},
   "outputs": [
    {
     "data": {
      "text/plain": [
       "'linux'"
      ]
     },
     "execution_count": 17,
     "metadata": {},
     "output_type": "execute_result"
    }
   ],
   "source": [
    "sys.platform"
   ]
  },
  {
   "cell_type": "code",
   "execution_count": 18,
   "id": "7b7f354e-73c6-4103-9d4a-20caaaadfef7",
   "metadata": {},
   "outputs": [
    {
     "data": {
      "text/plain": [
       "'3.10.4 | packaged by conda-forge | (main, Mar 24 2022, 17:38:57) [GCC 10.3.0]'"
      ]
     },
     "execution_count": 18,
     "metadata": {},
     "output_type": "execute_result"
    }
   ],
   "source": [
    "sys.version"
   ]
  },
  {
   "cell_type": "code",
   "execution_count": 19,
   "id": "4f52e485-5453-4a20-bbeb-2126a71ceb66",
   "metadata": {},
   "outputs": [
    {
     "data": {
      "text/plain": [
       "sys.version_info(major=3, minor=10, micro=4, releaselevel='final', serial=0)"
      ]
     },
     "execution_count": 19,
     "metadata": {},
     "output_type": "execute_result"
    }
   ],
   "source": [
    "sys.version_info"
   ]
  },
  {
   "cell_type": "code",
   "execution_count": 20,
   "id": "ca00207b-39ca-47ac-aba8-2acd50a78378",
   "metadata": {},
   "outputs": [
    {
     "data": {
      "text/plain": [
       "3"
      ]
     },
     "execution_count": 20,
     "metadata": {},
     "output_type": "execute_result"
    }
   ],
   "source": [
    "sys.version_info.major"
   ]
  },
  {
   "cell_type": "code",
   "execution_count": 21,
   "id": "e4dcbc5c-c89c-4d21-8be9-f665191d2b0d",
   "metadata": {},
   "outputs": [
    {
     "data": {
      "text/plain": [
       "sys.thread_info(name='pthread', lock='semaphore', version='NPTL 2.31')"
      ]
     },
     "execution_count": 21,
     "metadata": {},
     "output_type": "execute_result"
    }
   ],
   "source": [
    "sys.thread_info"
   ]
  },
  {
   "cell_type": "code",
   "execution_count": 22,
   "id": "cbba2120-1023-46f0-9d79-5d22599c3f74",
   "metadata": {},
   "outputs": [],
   "source": [
    "import os"
   ]
  },
  {
   "cell_type": "code",
   "execution_count": 23,
   "id": "6200210e-add6-4932-801a-619dffc1efae",
   "metadata": {},
   "outputs": [
    {
     "data": {
      "text/plain": [
       "354"
      ]
     },
     "execution_count": 23,
     "metadata": {},
     "output_type": "execute_result"
    }
   ],
   "source": [
    "len(dir(os))"
   ]
  },
  {
   "cell_type": "code",
   "execution_count": 24,
   "id": "0afd2650-9815-49f6-a88a-81b174f67126",
   "metadata": {},
   "outputs": [
    {
     "data": {
      "text/plain": [
       "'/home/pya_trainer_master/data'"
      ]
     },
     "execution_count": 24,
     "metadata": {},
     "output_type": "execute_result"
    }
   ],
   "source": [
    "os.getcwd()"
   ]
  },
  {
   "cell_type": "code",
   "execution_count": 25,
   "id": "0e0df597-76da-4a8f-b9dd-33ba05aa45e2",
   "metadata": {},
   "outputs": [
    {
     "data": {
      "text/plain": [
       "\u001b[0;31mSignature:\u001b[0m \u001b[0mos\u001b[0m\u001b[0;34m.\u001b[0m\u001b[0mchdir\u001b[0m\u001b[0;34m(\u001b[0m\u001b[0mpath\u001b[0m\u001b[0;34m)\u001b[0m\u001b[0;34m\u001b[0m\u001b[0;34m\u001b[0m\u001b[0m\n",
       "\u001b[0;31mDocstring:\u001b[0m\n",
       "Change the current working directory to the specified path.\n",
       "\n",
       "path may always be specified as a string.\n",
       "On some platforms, path may also be specified as an open file descriptor.\n",
       "  If this functionality is unavailable, using it raises an exception.\n",
       "\u001b[0;31mType:\u001b[0m      builtin_function_or_method\n"
      ]
     },
     "metadata": {},
     "output_type": "display_data"
    }
   ],
   "source": [
    "os.chdir?"
   ]
  },
  {
   "cell_type": "code",
   "execution_count": 26,
   "id": "27756ae0-dc26-46ff-8410-c344ffc957fc",
   "metadata": {},
   "outputs": [
    {
     "data": {
      "text/plain": [
       "8"
      ]
     },
     "execution_count": 26,
     "metadata": {},
     "output_type": "execute_result"
    }
   ],
   "source": [
    "os.cpu_count()"
   ]
  },
  {
   "cell_type": "code",
   "execution_count": 27,
   "id": "13e0e6f1-a18a-41f5-b60f-6476c8f6eb92",
   "metadata": {},
   "outputs": [
    {
     "data": {
      "text/plain": [
       "['data3.txt',\n",
       " 'mitte.py',\n",
       " 'Entscheidungen.ipynb',\n",
       " 'source.zip',\n",
       " 't4.txt',\n",
       " 'IO.ipynb',\n",
       " 'Scoping.ipynb',\n",
       " 't3.txt',\n",
       " 'Mengen.ipynb',\n",
       " '.virtual_documents',\n",
       " 't1.txt',\n",
       " 'Anweisungen.ipynb',\n",
       " 'materials',\n",
       " 'listmath',\n",
       " 'Sequenzen.ipynb',\n",
       " 'Schleifen.ipynb',\n",
       " 'liste.pcl',\n",
       " 'generatoren',\n",
       " 'Systemfunktionen.ipynb',\n",
       " '.ipynb_checkpoints',\n",
       " 'pylintrc',\n",
       " 'helloworld.py',\n",
       " 'Objekte.ipynb',\n",
       " 'scoping.py',\n",
       " 'show_sys_path.py',\n",
       " '__pycache__',\n",
       " 'data2.txt',\n",
       " 'Pakete.ipynb',\n",
       " 'numpy_test.py',\n",
       " 'Dictionarys.ipynb',\n",
       " 'Syntax.ipynb',\n",
       " 'io',\n",
       " 'frage.py',\n",
       " 'Iteratoren.ipynb',\n",
       " 'Funktionen.ipynb',\n",
       " 'Ausnahmen.ipynb',\n",
       " 'shared',\n",
       " 'Datentypen.ipynb',\n",
       " 't2.txt',\n",
       " 'Strings.ipynb',\n",
       " 'Einführung.ipynb',\n",
       " 'Klassen.ipynb',\n",
       " 'admin',\n",
       " 'data.txt',\n",
       " 'Listen.ipynb']"
      ]
     },
     "execution_count": 27,
     "metadata": {},
     "output_type": "execute_result"
    }
   ],
   "source": [
    "os.listdir()"
   ]
  },
  {
   "cell_type": "code",
   "execution_count": 29,
   "id": "12c35df5-df60-4b37-8947-bc671ca878fa",
   "metadata": {},
   "outputs": [
    {
     "data": {
      "text/plain": [
       "\u001b[0;31mSignature:\u001b[0m \u001b[0mos\u001b[0m\u001b[0;34m.\u001b[0m\u001b[0mwalk\u001b[0m\u001b[0;34m(\u001b[0m\u001b[0mtop\u001b[0m\u001b[0;34m,\u001b[0m \u001b[0mtopdown\u001b[0m\u001b[0;34m=\u001b[0m\u001b[0;32mTrue\u001b[0m\u001b[0;34m,\u001b[0m \u001b[0monerror\u001b[0m\u001b[0;34m=\u001b[0m\u001b[0;32mNone\u001b[0m\u001b[0;34m,\u001b[0m \u001b[0mfollowlinks\u001b[0m\u001b[0;34m=\u001b[0m\u001b[0;32mFalse\u001b[0m\u001b[0;34m)\u001b[0m\u001b[0;34m\u001b[0m\u001b[0;34m\u001b[0m\u001b[0m\n",
       "\u001b[0;31mDocstring:\u001b[0m\n",
       "Directory tree generator.\n",
       "\n",
       "For each directory in the directory tree rooted at top (including top\n",
       "itself, but excluding '.' and '..'), yields a 3-tuple\n",
       "\n",
       "    dirpath, dirnames, filenames\n",
       "\n",
       "dirpath is a string, the path to the directory.  dirnames is a list of\n",
       "the names of the subdirectories in dirpath (excluding '.' and '..').\n",
       "filenames is a list of the names of the non-directory files in dirpath.\n",
       "Note that the names in the lists are just names, with no path components.\n",
       "To get a full path (which begins with top) to a file or directory in\n",
       "dirpath, do os.path.join(dirpath, name).\n",
       "\n",
       "If optional arg 'topdown' is true or not specified, the triple for a\n",
       "directory is generated before the triples for any of its subdirectories\n",
       "(directories are generated top down).  If topdown is false, the triple\n",
       "for a directory is generated after the triples for all of its\n",
       "subdirectories (directories are generated bottom up).\n",
       "\n",
       "When topdown is true, the caller can modify the dirnames list in-place\n",
       "(e.g., via del or slice assignment), and walk will only recurse into the\n",
       "subdirectories whose names remain in dirnames; this can be used to prune the\n",
       "search, or to impose a specific order of visiting.  Modifying dirnames when\n",
       "topdown is false has no effect on the behavior of os.walk(), since the\n",
       "directories in dirnames have already been generated by the time dirnames\n",
       "itself is generated. No matter the value of topdown, the list of\n",
       "subdirectories is retrieved before the tuples for the directory and its\n",
       "subdirectories are generated.\n",
       "\n",
       "By default errors from the os.scandir() call are ignored.  If\n",
       "optional arg 'onerror' is specified, it should be a function; it\n",
       "will be called with one argument, an OSError instance.  It can\n",
       "report the error to continue with the walk, or raise the exception\n",
       "to abort the walk.  Note that the filename is available as the\n",
       "filename attribute of the exception object.\n",
       "\n",
       "By default, os.walk does not follow symbolic links to subdirectories on\n",
       "systems that support them.  In order to get this functionality, set the\n",
       "optional argument 'followlinks' to true.\n",
       "\n",
       "Caution:  if you pass a relative pathname for top, don't change the\n",
       "current working directory between resumptions of walk.  walk never\n",
       "changes the current directory, and assumes that the client doesn't\n",
       "either.\n",
       "\n",
       "Example:\n",
       "\n",
       "import os\n",
       "from os.path import join, getsize\n",
       "for root, dirs, files in os.walk('python/Lib/email'):\n",
       "    print(root, \"consumes\", end=\"\")\n",
       "    print(sum(getsize(join(root, name)) for name in files), end=\"\")\n",
       "    print(\"bytes in\", len(files), \"non-directory files\")\n",
       "    if 'CVS' in dirs:\n",
       "        dirs.remove('CVS')  # don't visit CVS directories\n",
       "\u001b[0;31mFile:\u001b[0m      /opt/mambaforge/envs/python310/lib/python3.10/os.py\n",
       "\u001b[0;31mType:\u001b[0m      function\n"
      ]
     },
     "metadata": {},
     "output_type": "display_data"
    }
   ],
   "source": [
    "os.walk?"
   ]
  },
  {
   "cell_type": "code",
   "execution_count": 30,
   "id": "7ff4fb9c-4cea-4525-bcb5-add5bba40cf1",
   "metadata": {},
   "outputs": [
    {
     "data": {
      "text/plain": [
       "'a/b'"
      ]
     },
     "execution_count": 30,
     "metadata": {},
     "output_type": "execute_result"
    }
   ],
   "source": [
    "os.path.join('a', 'b')"
   ]
  },
  {
   "cell_type": "code",
   "execution_count": 31,
   "id": "b2cc096a-bf28-4e09-ac78-fd0fc37b7c3e",
   "metadata": {},
   "outputs": [],
   "source": [
    "p = 'C:\\tmp'"
   ]
  },
  {
   "cell_type": "code",
   "execution_count": 32,
   "id": "b0f67c9d-22a4-40cc-a52a-37402edfc9a4",
   "metadata": {},
   "outputs": [
    {
     "data": {
      "text/plain": [
       "'C:\\tmp'"
      ]
     },
     "execution_count": 32,
     "metadata": {},
     "output_type": "execute_result"
    }
   ],
   "source": [
    "p"
   ]
  },
  {
   "cell_type": "code",
   "execution_count": 33,
   "id": "ddde3311-a372-4474-bb0d-018fcc5ae1e3",
   "metadata": {},
   "outputs": [
    {
     "name": "stdout",
     "output_type": "stream",
     "text": [
      "C:\tmp\n"
     ]
    }
   ],
   "source": [
    "print(p)"
   ]
  },
  {
   "cell_type": "code",
   "execution_count": 34,
   "id": "83886e11-eba8-4ccc-8976-62869781db7a",
   "metadata": {},
   "outputs": [
    {
     "name": "stdout",
     "output_type": "stream",
     "text": [
      "C:\\tmp\n"
     ]
    }
   ],
   "source": [
    "print('C:\\\\tmp')"
   ]
  },
  {
   "cell_type": "code",
   "execution_count": 35,
   "id": "c538bea8-0e23-4c91-b2cb-202ba1289484",
   "metadata": {},
   "outputs": [
    {
     "name": "stdout",
     "output_type": "stream",
     "text": [
      "C:\\tmp\n"
     ]
    }
   ],
   "source": [
    "print(r'C:\\tmp')"
   ]
  },
  {
   "cell_type": "code",
   "execution_count": 36,
   "id": "69c4d89c-519f-494c-bd31-19cc3d5accf1",
   "metadata": {},
   "outputs": [],
   "source": [
    "from pathlib import Path"
   ]
  },
  {
   "cell_type": "code",
   "execution_count": 37,
   "id": "cee1d0da-30af-419d-a9c0-94deb05fb115",
   "metadata": {},
   "outputs": [],
   "source": [
    "p = Path()"
   ]
  },
  {
   "cell_type": "code",
   "execution_count": 38,
   "id": "65e7530c-94a6-4fed-8485-83af3aab54b1",
   "metadata": {},
   "outputs": [
    {
     "data": {
      "text/plain": [
       "PosixPath('.')"
      ]
     },
     "execution_count": 38,
     "metadata": {},
     "output_type": "execute_result"
    }
   ],
   "source": [
    "p"
   ]
  },
  {
   "cell_type": "code",
   "execution_count": 39,
   "id": "5699ed7a-e431-4f0f-a188-d375aff96dac",
   "metadata": {},
   "outputs": [
    {
     "data": {
      "text/plain": [
       "PosixPath('/home/pya_trainer_master/data')"
      ]
     },
     "execution_count": 39,
     "metadata": {},
     "output_type": "execute_result"
    }
   ],
   "source": [
    "p.resolve()"
   ]
  },
  {
   "cell_type": "code",
   "execution_count": 40,
   "id": "feb3b294-af2e-4647-b15e-a1ced456787a",
   "metadata": {},
   "outputs": [
    {
     "data": {
      "text/plain": [
       "PosixPath('/home/pya_trainer_master/data/xyz')"
      ]
     },
     "execution_count": 40,
     "metadata": {},
     "output_type": "execute_result"
    }
   ],
   "source": [
    "p.resolve() / 'xyz'"
   ]
  },
  {
   "cell_type": "code",
   "execution_count": 41,
   "id": "c0f988c5-efd3-4be3-87ad-e27e14c646da",
   "metadata": {},
   "outputs": [
    {
     "data": {
      "text/plain": [
       "108"
      ]
     },
     "execution_count": 41,
     "metadata": {},
     "output_type": "execute_result"
    }
   ],
   "source": [
    "len(dir(p))"
   ]
  },
  {
   "cell_type": "code",
   "execution_count": 42,
   "id": "4c794ad8-7403-4f7a-af5b-926485daa6f8",
   "metadata": {},
   "outputs": [],
   "source": [
    "import shutil"
   ]
  },
  {
   "cell_type": "code",
   "execution_count": 43,
   "id": "d01b1270-6443-4789-b97e-7ae46ee73f2a",
   "metadata": {},
   "outputs": [
    {
     "data": {
      "text/plain": [
       "\u001b[0;31mSignature:\u001b[0m \u001b[0mshutil\u001b[0m\u001b[0;34m.\u001b[0m\u001b[0mcopy\u001b[0m\u001b[0;34m(\u001b[0m\u001b[0msrc\u001b[0m\u001b[0;34m,\u001b[0m \u001b[0mdst\u001b[0m\u001b[0;34m,\u001b[0m \u001b[0;34m*\u001b[0m\u001b[0;34m,\u001b[0m \u001b[0mfollow_symlinks\u001b[0m\u001b[0;34m=\u001b[0m\u001b[0;32mTrue\u001b[0m\u001b[0;34m)\u001b[0m\u001b[0;34m\u001b[0m\u001b[0;34m\u001b[0m\u001b[0m\n",
       "\u001b[0;31mDocstring:\u001b[0m\n",
       "Copy data and mode bits (\"cp src dst\"). Return the file's destination.\n",
       "\n",
       "The destination may be a directory.\n",
       "\n",
       "If follow_symlinks is false, symlinks won't be followed. This\n",
       "resembles GNU's \"cp -P src dst\".\n",
       "\n",
       "If source and destination are the same file, a SameFileError will be\n",
       "raised.\n",
       "\u001b[0;31mFile:\u001b[0m      /opt/mambaforge/envs/python310/lib/python3.10/shutil.py\n",
       "\u001b[0;31mType:\u001b[0m      function\n"
      ]
     },
     "metadata": {},
     "output_type": "display_data"
    }
   ],
   "source": [
    "shutil.copy?"
   ]
  },
  {
   "cell_type": "code",
   "execution_count": 44,
   "id": "49e6d1db-9b13-4c18-a985-1dc3a6f206c7",
   "metadata": {},
   "outputs": [
    {
     "name": "stdout",
     "output_type": "stream",
     "text": [
      "Usage: cp [OPTION]... [-T] SOURCE DEST\n",
      "  or:  cp [OPTION]... SOURCE... DIRECTORY\n",
      "  or:  cp [OPTION]... -t DIRECTORY SOURCE...\n",
      "Copy SOURCE to DEST, or multiple SOURCE(s) to DIRECTORY.\n",
      "\n",
      "Mandatory arguments to long options are mandatory for short options too.\n",
      "  -a, --archive                same as -dR --preserve=all\n",
      "      --attributes-only        don't copy the file data, just the attributes\n",
      "      --backup[=CONTROL]       make a backup of each existing destination file\n",
      "  -b                           like --backup but does not accept an argument\n",
      "      --copy-contents          copy contents of special files when recursive\n",
      "  -d                           same as --no-dereference --preserve=links\n",
      "  -f, --force                  if an existing destination file cannot be\n",
      "                                 opened, remove it and try again (this option\n",
      "                                 is ignored when the -n option is also used)\n",
      "  -i, --interactive            prompt before overwrite (overrides a previous -n\n",
      "                                  option)\n",
      "  -H                           follow command-line symbolic links in SOURCE\n",
      "  -l, --link                   hard link files instead of copying\n",
      "  -L, --dereference            always follow symbolic links in SOURCE\n",
      "  -n, --no-clobber             do not overwrite an existing file (overrides\n",
      "                                 a previous -i option)\n",
      "  -P, --no-dereference         never follow symbolic links in SOURCE\n",
      "  -p                           same as --preserve=mode,ownership,timestamps\n",
      "      --preserve[=ATTR_LIST]   preserve the specified attributes (default:\n",
      "                                 mode,ownership,timestamps), if possible\n",
      "                                 additional attributes: context, links, xattr,\n",
      "                                 all\n",
      "      --no-preserve=ATTR_LIST  don't preserve the specified attributes\n",
      "      --parents                use full source file name under DIRECTORY\n",
      "  -R, -r, --recursive          copy directories recursively\n",
      "      --reflink[=WHEN]         control clone/CoW copies. See below\n",
      "      --remove-destination     remove each existing destination file before\n",
      "                                 attempting to open it (contrast with --force)\n",
      "      --sparse=WHEN            control creation of sparse files. See below\n",
      "      --strip-trailing-slashes  remove any trailing slashes from each SOURCE\n",
      "                                 argument\n",
      "  -s, --symbolic-link          make symbolic links instead of copying\n",
      "  -S, --suffix=SUFFIX          override the usual backup suffix\n",
      "  -t, --target-directory=DIRECTORY  copy all SOURCE arguments into DIRECTORY\n",
      "  -T, --no-target-directory    treat DEST as a normal file\n",
      "  -u, --update                 copy only when the SOURCE file is newer\n",
      "                                 than the destination file or when the\n",
      "                                 destination file is missing\n",
      "  -v, --verbose                explain what is being done\n",
      "  -x, --one-file-system        stay on this file system\n",
      "  -Z                           set SELinux security context of destination\n",
      "                                 file to default type\n",
      "      --context[=CTX]          like -Z, or if CTX is specified then set the\n",
      "                                 SELinux or SMACK security context to CTX\n",
      "      --help     display this help and exit\n",
      "      --version  output version information and exit\n",
      "\n",
      "By default, sparse SOURCE files are detected by a crude heuristic and the\n",
      "corresponding DEST file is made sparse as well.  That is the behavior\n",
      "selected by --sparse=auto.  Specify --sparse=always to create a sparse DEST\n",
      "file whenever the SOURCE file contains a long enough sequence of zero bytes.\n",
      "Use --sparse=never to inhibit creation of sparse files.\n",
      "\n",
      "When --reflink[=always] is specified, perform a lightweight copy, where the\n",
      "data blocks are copied only when modified.  If this is not possible the copy\n",
      "fails, or if --reflink=auto is specified, fall back to a standard copy.\n",
      "Use --reflink=never to ensure a standard copy is performed.\n",
      "\n",
      "The backup suffix is '~', unless set with --suffix or SIMPLE_BACKUP_SUFFIX.\n",
      "The version control method may be selected via the --backup option or through\n",
      "the VERSION_CONTROL environment variable.  Here are the values:\n",
      "\n",
      "  none, off       never make backups (even if --backup is given)\n",
      "  numbered, t     make numbered backups\n",
      "  existing, nil   numbered if numbered backups exist, simple otherwise\n",
      "  simple, never   always make simple backups\n",
      "\n",
      "As a special case, cp makes a backup of SOURCE when the force and backup\n",
      "options are given and SOURCE and DEST are the same name for an existing,\n",
      "regular file.\n",
      "\n",
      "GNU coreutils online help: <https://www.gnu.org/software/coreutils/>\n",
      "Report any translation bugs to <https://translationproject.org/team/>\n",
      "Full documentation <https://www.gnu.org/software/coreutils/cp>\n",
      "or available locally via: info '(coreutils) cp invocation'\n"
     ]
    }
   ],
   "source": [
    "!cp --help"
   ]
  },
  {
   "cell_type": "code",
   "execution_count": 45,
   "id": "404eee8e-a33b-4ad0-9b37-e77b00591e7f",
   "metadata": {},
   "outputs": [
    {
     "data": {
      "text/plain": [
       "'/opt/mambaforge/envs/python310/bin/python'"
      ]
     },
     "execution_count": 45,
     "metadata": {},
     "output_type": "execute_result"
    }
   ],
   "source": [
    "shutil.which('python')"
   ]
  },
  {
   "cell_type": "code",
   "execution_count": 47,
   "id": "2416b2fb-db38-4180-81a1-176d764aee15",
   "metadata": {},
   "outputs": [
    {
     "data": {
      "text/plain": [
       "'/home/user14/data'"
      ]
     },
     "execution_count": 47,
     "metadata": {},
     "output_type": "execute_result"
    }
   ],
   "source": [
    "os.path.join('/home', 'user14', 'data')"
   ]
  },
  {
   "cell_type": "code",
   "execution_count": 1,
   "id": "8422003d-50e1-4483-b18b-05868c21a48d",
   "metadata": {},
   "outputs": [
    {
     "name": "stdout",
     "output_type": "stream",
     "text": [
      "./data3.txt\n",
      "./mitte.py\n",
      "./Entscheidungen.ipynb\n",
      "./source.zip\n",
      "./t4.txt\n",
      "./IO.ipynb\n",
      "./Scoping.ipynb\n",
      "./t3.txt\n",
      "./Mengen.ipynb\n",
      "./t1.txt\n",
      "./Anweisungen.ipynb\n",
      "./Sequenzen.ipynb\n",
      "./Schleifen.ipynb\n",
      "./liste.pcl\n",
      "./Systemfunktionen.ipynb\n",
      "./pylintrc\n",
      "./helloworld.py\n",
      "./Objekte.ipynb\n",
      "./scoping.py\n",
      "./show_sys_path.py\n",
      "./data2.txt\n",
      "./Pakete.ipynb\n",
      "./numpy_test.py\n",
      "./Dictionarys.ipynb\n",
      "./Syntax.ipynb\n",
      "./frage.py\n",
      "./Iteratoren.ipynb\n",
      "./Funktionen.ipynb\n",
      "./Ausnahmen.ipynb\n",
      "./Datentypen.ipynb\n",
      "./t2.txt\n",
      "./Strings.ipynb\n",
      "./Einführung.ipynb\n",
      "./Klassen.ipynb\n",
      "./data.txt\n",
      "./Listen.ipynb\n",
      "./materials/Python_Mike_Müller.pdf\n",
      "./listmath/__init__.py\n",
      "./listmath/math/arithmetics.py\n",
      "./listmath/math/trigonometrics.py\n",
      "./listmath/math/__init__.py\n",
      "./listmath/math/__pycache__/arithmetics.cpython-310.pyc\n",
      "./listmath/math/__pycache__/__init__.cpython-310.pyc\n",
      "./listmath/cmath/arithmetics.py\n",
      "./listmath/cmath/trigonometrics.py\n",
      "./listmath/cmath/__init__.py\n",
      "./listmath/cmath/__pycache__/arithmetics.cpython-310.pyc\n",
      "./listmath/cmath/__pycache__/__init__.cpython-310.pyc\n",
      "./listmath/__pycache__/__init__.cpython-310.pyc\n",
      "./generatoren/gen_mem.py\n",
      "./generatoren/compr_mem.py\n",
      "./generatoren/measure_mem.py\n",
      "./generatoren/__pycache__/measure_mem.cpython-310.pyc\n",
      "./__pycache__/numpy.cpython-310.pyc\n",
      "./io/argv.py\n",
      "./io/noend3.py\n",
      "./io/noend_nobreak3.py\n",
      "./io/write.py\n",
      "./io/use_argparse.py\n",
      "./io/data.txt\n",
      "./io/interactive3.py\n",
      "./admin/admin_guide.pdf\n"
     ]
    }
   ],
   "source": [
    "import os\n",
    "from os.path import join, getatime\n",
    "import time\n",
    "now = time.time()\n",
    "\n",
    "for root, dirs, files in os.walk('.'):\n",
    "    skip = False\n",
    "    for file in files:\n",
    "        file = join(root, file)\n",
    "        for name in ['.ipynb_checkpoints', '.virtual_documents']:\n",
    "            if name in file:\n",
    "                skip = True\n",
    "                break\n",
    "        if skip:\n",
    "            continue\n",
    "        skip = False\n",
    "        if getatime(file) - now < 86_400:\n",
    "            print(file)"
   ]
  },
  {
   "cell_type": "code",
   "execution_count": null,
   "id": "05f81f32-8012-407e-b5a8-39626bb84808",
   "metadata": {},
   "outputs": [],
   "source": []
  },
  {
   "cell_type": "code",
   "execution_count": null,
   "id": "586e7420-353e-455d-a561-74f7689277e2",
   "metadata": {},
   "outputs": [],
   "source": []
  }
 ],
 "metadata": {
  "kernelspec": {
   "display_name": "Python 3.10",
   "language": "python",
   "name": "python310"
  },
  "language_info": {
   "codemirror_mode": {
    "name": "ipython",
    "version": 3
   },
   "file_extension": ".py",
   "mimetype": "text/x-python",
   "name": "python",
   "nbconvert_exporter": "python",
   "pygments_lexer": "ipython3",
   "version": "3.10.4"
  }
 },
 "nbformat": 4,
 "nbformat_minor": 5
}
