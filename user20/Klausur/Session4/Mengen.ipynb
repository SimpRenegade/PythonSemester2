{
 "cells": [
  {
   "cell_type": "code",
   "execution_count": 1,
   "id": "c41dffbf-6b40-4a73-8ca5-652ec3114dba",
   "metadata": {},
   "outputs": [],
   "source": [
    "s1 = {4, 3, 2, 4, 5, 1, 2, 3, 4}"
   ]
  },
  {
   "cell_type": "code",
   "execution_count": 2,
   "id": "2630b3e7-b647-4242-b20f-e614fce5ceed",
   "metadata": {},
   "outputs": [
    {
     "data": {
      "text/plain": [
       "{1, 2, 3, 4, 5}"
      ]
     },
     "execution_count": 2,
     "metadata": {},
     "output_type": "execute_result"
    }
   ],
   "source": [
    "s1"
   ]
  },
  {
   "cell_type": "code",
   "execution_count": 3,
   "id": "3bf074c6-a18b-4309-a0d6-43306abd2888",
   "metadata": {},
   "outputs": [],
   "source": [
    "s2 = set([5, 7, 8, 6, 4, 5, 6, 7, 8])"
   ]
  },
  {
   "cell_type": "code",
   "execution_count": 4,
   "id": "8aa827e1-d58f-45ca-8c3a-be32dbcfc145",
   "metadata": {},
   "outputs": [
    {
     "data": {
      "text/plain": [
       "{4, 5, 6, 7, 8}"
      ]
     },
     "execution_count": 4,
     "metadata": {},
     "output_type": "execute_result"
    }
   ],
   "source": [
    "s2"
   ]
  },
  {
   "cell_type": "code",
   "execution_count": 5,
   "id": "cc682e8f-3106-4f8d-9d1d-62675717b993",
   "metadata": {},
   "outputs": [
    {
     "data": {
      "text/plain": [
       "{'a', 'b', 'c'}"
      ]
     },
     "execution_count": 5,
     "metadata": {},
     "output_type": "execute_result"
    }
   ],
   "source": [
    "set('abc')"
   ]
  },
  {
   "cell_type": "code",
   "execution_count": 6,
   "id": "69dd6769-4ba6-417f-adc9-5b1536df4a35",
   "metadata": {},
   "outputs": [
    {
     "data": {
      "text/plain": [
       "{4, 5}"
      ]
     },
     "execution_count": 6,
     "metadata": {},
     "output_type": "execute_result"
    }
   ],
   "source": [
    "s1.intersection(s2)"
   ]
  },
  {
   "cell_type": "code",
   "execution_count": 7,
   "id": "05ebd365-0827-43ff-9b80-5f5084f026de",
   "metadata": {},
   "outputs": [
    {
     "data": {
      "text/plain": [
       "{1, 2, 3, 4, 5}"
      ]
     },
     "execution_count": 7,
     "metadata": {},
     "output_type": "execute_result"
    }
   ],
   "source": [
    "s1"
   ]
  },
  {
   "cell_type": "code",
   "execution_count": 8,
   "id": "546f07d3-e116-4ed5-89e8-2395b181aae5",
   "metadata": {},
   "outputs": [
    {
     "data": {
      "text/plain": [
       "{4, 5, 6, 7, 8}"
      ]
     },
     "execution_count": 8,
     "metadata": {},
     "output_type": "execute_result"
    }
   ],
   "source": [
    "s2"
   ]
  },
  {
   "cell_type": "code",
   "execution_count": 9,
   "id": "1f382f25-184c-4653-90a1-593ac0d5bb57",
   "metadata": {},
   "outputs": [
    {
     "data": {
      "text/plain": [
       "{1, 2, 3}"
      ]
     },
     "execution_count": 9,
     "metadata": {},
     "output_type": "execute_result"
    }
   ],
   "source": [
    "s1 - s2"
   ]
  },
  {
   "cell_type": "code",
   "execution_count": 10,
   "id": "079d6d06-5ccd-48f5-8ac8-985b3dbad141",
   "metadata": {},
   "outputs": [
    {
     "data": {
      "text/plain": [
       "{6, 7, 8}"
      ]
     },
     "execution_count": 10,
     "metadata": {},
     "output_type": "execute_result"
    }
   ],
   "source": [
    "s2 - s1"
   ]
  },
  {
   "cell_type": "code",
   "execution_count": 11,
   "id": "c37d001b-ddb6-4046-bbd9-f81afc340a82",
   "metadata": {},
   "outputs": [
    {
     "ename": "TypeError",
     "evalue": "unhashable type: 'list'",
     "output_type": "error",
     "traceback": [
      "\u001b[0;31m---------------------------------------------------------------------------\u001b[0m",
      "\u001b[0;31mTypeError\u001b[0m                                 Traceback (most recent call last)",
      "Input \u001b[0;32mIn [11]\u001b[0m, in \u001b[0;36m<cell line: 1>\u001b[0;34m()\u001b[0m\n\u001b[0;32m----> 1\u001b[0m {[\u001b[38;5;241m1\u001b[39m, \u001b[38;5;241m2\u001b[39m, \u001b[38;5;241m3\u001b[39m], \u001b[38;5;241m2\u001b[39m}\n",
      "\u001b[0;31mTypeError\u001b[0m: unhashable type: 'list'"
     ]
    }
   ],
   "source": [
    "{[1, 2, 3], 2}"
   ]
  },
  {
   "cell_type": "code",
   "execution_count": 12,
   "id": "c6e62b56-d8fd-4657-930e-f557acb42221",
   "metadata": {},
   "outputs": [
    {
     "data": {
      "text/plain": [
       "{(1, 2, 3), 2}"
      ]
     },
     "execution_count": 12,
     "metadata": {},
     "output_type": "execute_result"
    }
   ],
   "source": [
    "{(1, 2, 3), 2}"
   ]
  },
  {
   "cell_type": "code",
   "execution_count": 13,
   "id": "7d24b36b-8a09-4bc9-b9e3-51cfc6f1410d",
   "metadata": {},
   "outputs": [
    {
     "data": {
      "text/plain": [
       "{4, 5}"
      ]
     },
     "execution_count": 13,
     "metadata": {},
     "output_type": "execute_result"
    }
   ],
   "source": [
    "s1.intersection(s2)"
   ]
  },
  {
   "cell_type": "code",
   "execution_count": 14,
   "id": "b2940835-9c36-4751-9bd8-d0766b02aa08",
   "metadata": {},
   "outputs": [
    {
     "data": {
      "text/plain": [
       "{4, 5}"
      ]
     },
     "execution_count": 14,
     "metadata": {},
     "output_type": "execute_result"
    }
   ],
   "source": [
    "s1 & s2"
   ]
  },
  {
   "cell_type": "code",
   "execution_count": 15,
   "id": "112c758c-d8b2-497b-a420-20d9a9fa0a00",
   "metadata": {},
   "outputs": [
    {
     "data": {
      "text/plain": [
       "{1, 2, 3, 4, 5, 6, 7, 8}"
      ]
     },
     "execution_count": 15,
     "metadata": {},
     "output_type": "execute_result"
    }
   ],
   "source": [
    "s1 | s2"
   ]
  },
  {
   "cell_type": "code",
   "execution_count": 16,
   "id": "c02e4ba3-3c62-4644-a16a-d292be4c32dd",
   "metadata": {},
   "outputs": [
    {
     "data": {
      "text/plain": [
       "{1, 2, 3, 4, 5, 6, 7, 8}"
      ]
     },
     "execution_count": 16,
     "metadata": {},
     "output_type": "execute_result"
    }
   ],
   "source": [
    "s1.union(s2)"
   ]
  },
  {
   "cell_type": "code",
   "execution_count": 17,
   "id": "8572c5f5-59ed-4489-83b1-78aa388ef473",
   "metadata": {},
   "outputs": [
    {
     "data": {
      "text/plain": [
       "5"
      ]
     },
     "execution_count": 17,
     "metadata": {},
     "output_type": "execute_result"
    }
   ],
   "source": [
    "len(s1)"
   ]
  },
  {
   "cell_type": "code",
   "execution_count": 18,
   "id": "3c1921e9-f4ff-4127-8817-fee051d4119d",
   "metadata": {},
   "outputs": [
    {
     "data": {
      "text/plain": [
       "True"
      ]
     },
     "execution_count": 18,
     "metadata": {},
     "output_type": "execute_result"
    }
   ],
   "source": [
    "1 in s1"
   ]
  },
  {
   "cell_type": "code",
   "execution_count": 19,
   "id": "b4db67f2-6b39-4bc8-a7c5-5c259f95572c",
   "metadata": {},
   "outputs": [],
   "source": [
    "s3 = {1, 3}"
   ]
  },
  {
   "cell_type": "code",
   "execution_count": 20,
   "id": "77578e57-2176-4247-b9f0-5842007585a9",
   "metadata": {},
   "outputs": [
    {
     "data": {
      "text/plain": [
       "True"
      ]
     },
     "execution_count": 20,
     "metadata": {},
     "output_type": "execute_result"
    }
   ],
   "source": [
    "s3 <= s1"
   ]
  },
  {
   "cell_type": "code",
   "execution_count": 21,
   "id": "3ce67852-71bd-4dcd-9bcd-104e3fcbca5c",
   "metadata": {},
   "outputs": [
    {
     "data": {
      "text/plain": [
       "True"
      ]
     },
     "execution_count": 21,
     "metadata": {},
     "output_type": "execute_result"
    }
   ],
   "source": [
    "s3.issubset(s1)"
   ]
  },
  {
   "cell_type": "code",
   "execution_count": 22,
   "id": "50a45ef6-245c-4eb4-91f4-461ac3318c23",
   "metadata": {},
   "outputs": [
    {
     "data": {
      "text/plain": [
       "{1, 3}"
      ]
     },
     "execution_count": 22,
     "metadata": {},
     "output_type": "execute_result"
    }
   ],
   "source": [
    "s3"
   ]
  },
  {
   "cell_type": "code",
   "execution_count": 29,
   "id": "d9722c71-89d0-4d14-b075-54195ca4a617",
   "metadata": {},
   "outputs": [
    {
     "data": {
      "text/plain": [
       "True"
      ]
     },
     "execution_count": 29,
     "metadata": {},
     "output_type": "execute_result"
    }
   ],
   "source": [
    "s1 <= s1"
   ]
  },
  {
   "cell_type": "code",
   "execution_count": 30,
   "id": "41f20025-bb8b-41fb-9f4f-e743f0fb9c74",
   "metadata": {},
   "outputs": [
    {
     "data": {
      "text/plain": [
       "False"
      ]
     },
     "execution_count": 30,
     "metadata": {},
     "output_type": "execute_result"
    }
   ],
   "source": [
    "s1 < s1"
   ]
  },
  {
   "cell_type": "code",
   "execution_count": 31,
   "id": "395bd50c-e761-4368-868e-072f60294214",
   "metadata": {},
   "outputs": [
    {
     "data": {
      "text/plain": [
       "True"
      ]
     },
     "execution_count": 31,
     "metadata": {},
     "output_type": "execute_result"
    }
   ],
   "source": [
    "s3 < s1"
   ]
  },
  {
   "cell_type": "code",
   "execution_count": 23,
   "id": "8bc5563e-52e3-417e-b0a2-b0b74c152047",
   "metadata": {},
   "outputs": [
    {
     "data": {
      "text/plain": [
       "{1, 2, 3, 4, 5}"
      ]
     },
     "execution_count": 23,
     "metadata": {},
     "output_type": "execute_result"
    }
   ],
   "source": [
    "s1"
   ]
  },
  {
   "cell_type": "code",
   "execution_count": 24,
   "id": "4be6d51e-953f-4aed-b1c0-d407a4484ad4",
   "metadata": {},
   "outputs": [],
   "source": [
    "L = [4, 5, 2, 1, 3, 6, 7, 1, 5, 3]"
   ]
  },
  {
   "cell_type": "code",
   "execution_count": 25,
   "id": "03582db8-d7a0-4a65-8d37-ac13bde093fd",
   "metadata": {},
   "outputs": [
    {
     "data": {
      "text/plain": [
       "[4, 5, 2, 1, 3, 6, 7, 1, 5, 3]"
      ]
     },
     "execution_count": 25,
     "metadata": {},
     "output_type": "execute_result"
    }
   ],
   "source": [
    "L"
   ]
  },
  {
   "cell_type": "code",
   "execution_count": 26,
   "id": "dad208e5-d102-435b-97af-11825dde4eec",
   "metadata": {},
   "outputs": [
    {
     "data": {
      "text/plain": [
       "[1, 2, 3, 4, 5, 6, 7]"
      ]
     },
     "execution_count": 26,
     "metadata": {},
     "output_type": "execute_result"
    }
   ],
   "source": [
    "list(set(L))"
   ]
  },
  {
   "cell_type": "code",
   "execution_count": 27,
   "id": "8733dfc9-0937-4a4b-ad1e-7c10802fe90b",
   "metadata": {},
   "outputs": [],
   "source": [
    "res = []\n",
    "seen = set()\n",
    "for x in L:\n",
    "    if x not in seen:\n",
    "        seen.add(x)\n",
    "        res.append(x)"
   ]
  },
  {
   "cell_type": "code",
   "execution_count": 28,
   "id": "e316dea5-b5c4-4b8c-8b30-276db2595068",
   "metadata": {},
   "outputs": [
    {
     "data": {
      "text/plain": [
       "[4, 5, 2, 1, 3, 6, 7]"
      ]
     },
     "execution_count": 28,
     "metadata": {},
     "output_type": "execute_result"
    }
   ],
   "source": [
    "res"
   ]
  },
  {
   "cell_type": "code",
   "execution_count": 32,
   "id": "b976116f-fd3b-45a1-b92a-2b82688e4cae",
   "metadata": {},
   "outputs": [],
   "source": [
    "s2.remove(4)"
   ]
  },
  {
   "cell_type": "code",
   "execution_count": 33,
   "id": "6e9972c2-8d6e-4188-8ad0-2d735b0f1e9e",
   "metadata": {},
   "outputs": [
    {
     "data": {
      "text/plain": [
       "{5, 6, 7, 8}"
      ]
     },
     "execution_count": 33,
     "metadata": {},
     "output_type": "execute_result"
    }
   ],
   "source": [
    "s2"
   ]
  },
  {
   "cell_type": "code",
   "execution_count": 34,
   "id": "7ea53553-2922-4e92-9ea0-fbcb1c778a37",
   "metadata": {},
   "outputs": [
    {
     "ename": "KeyError",
     "evalue": "4",
     "output_type": "error",
     "traceback": [
      "\u001b[0;31m---------------------------------------------------------------------------\u001b[0m",
      "\u001b[0;31mKeyError\u001b[0m                                  Traceback (most recent call last)",
      "Input \u001b[0;32mIn [34]\u001b[0m, in \u001b[0;36m<cell line: 1>\u001b[0;34m()\u001b[0m\n\u001b[0;32m----> 1\u001b[0m \u001b[43ms2\u001b[49m\u001b[38;5;241;43m.\u001b[39;49m\u001b[43mremove\u001b[49m\u001b[43m(\u001b[49m\u001b[38;5;241;43m4\u001b[39;49m\u001b[43m)\u001b[49m\n",
      "\u001b[0;31mKeyError\u001b[0m: 4"
     ]
    }
   ],
   "source": [
    "s2.remove(4)"
   ]
  },
  {
   "cell_type": "code",
   "execution_count": 35,
   "id": "ad2e84a3-5e5f-4135-96b5-958933d5628d",
   "metadata": {},
   "outputs": [],
   "source": [
    "s2.discard(4)"
   ]
  },
  {
   "cell_type": "code",
   "execution_count": 36,
   "id": "857b84e1-d34a-4012-a24c-afb992758f83",
   "metadata": {},
   "outputs": [
    {
     "data": {
      "text/plain": [
       "\u001b[0;31mDocstring:\u001b[0m Return True if two sets have a null intersection.\n",
       "\u001b[0;31mType:\u001b[0m      builtin_function_or_method\n"
      ]
     },
     "metadata": {},
     "output_type": "display_data"
    }
   ],
   "source": [
    "s2.isdisjoint?"
   ]
  },
  {
   "cell_type": "code",
   "execution_count": 37,
   "id": "4ea80f5f-1d6d-4f3b-9d43-7424c50ed6b0",
   "metadata": {},
   "outputs": [],
   "source": [
    "fz = frozenset(s1)"
   ]
  },
  {
   "cell_type": "code",
   "execution_count": 38,
   "id": "0d8c6b5b-1d7a-46d5-8519-5e0ab5d9beb7",
   "metadata": {},
   "outputs": [
    {
     "ename": "AttributeError",
     "evalue": "'frozenset' object has no attribute 'add'",
     "output_type": "error",
     "traceback": [
      "\u001b[0;31m---------------------------------------------------------------------------\u001b[0m",
      "\u001b[0;31mAttributeError\u001b[0m                            Traceback (most recent call last)",
      "Input \u001b[0;32mIn [38]\u001b[0m, in \u001b[0;36m<cell line: 1>\u001b[0;34m()\u001b[0m\n\u001b[0;32m----> 1\u001b[0m \u001b[43mfz\u001b[49m\u001b[38;5;241;43m.\u001b[39;49m\u001b[43madd\u001b[49m(\u001b[38;5;241m4\u001b[39m)\n",
      "\u001b[0;31mAttributeError\u001b[0m: 'frozenset' object has no attribute 'add'"
     ]
    }
   ],
   "source": [
    "fz.add(4)"
   ]
  },
  {
   "cell_type": "code",
   "execution_count": 40,
   "id": "d0e81063-b24f-4965-805e-5cacf86e680b",
   "metadata": {},
   "outputs": [],
   "source": [
    "mf = set(dir(fz))\n",
    "ms = set(dir(s1))"
   ]
  },
  {
   "cell_type": "code",
   "execution_count": 41,
   "id": "e8cc2380-3e2d-42b2-9f4c-55f2dfed4af8",
   "metadata": {},
   "outputs": [
    {
     "data": {
      "text/plain": [
       "{'__iand__',\n",
       " '__ior__',\n",
       " '__isub__',\n",
       " '__ixor__',\n",
       " 'add',\n",
       " 'clear',\n",
       " 'difference_update',\n",
       " 'discard',\n",
       " 'intersection_update',\n",
       " 'pop',\n",
       " 'remove',\n",
       " 'symmetric_difference_update',\n",
       " 'update'}"
      ]
     },
     "execution_count": 41,
     "metadata": {},
     "output_type": "execute_result"
    }
   ],
   "source": [
    "ms - mf"
   ]
  },
  {
   "cell_type": "code",
   "execution_count": 42,
   "id": "f46d26fc-b188-44f0-bb93-adc908ecd10c",
   "metadata": {},
   "outputs": [
    {
     "data": {
      "text/plain": [
       "set()"
      ]
     },
     "execution_count": 42,
     "metadata": {},
     "output_type": "execute_result"
    }
   ],
   "source": [
    "mf - ms"
   ]
  },
  {
   "cell_type": "code",
   "execution_count": 43,
   "id": "9a057fc0-61ad-4d5e-b021-2321d898bc8c",
   "metadata": {},
   "outputs": [],
   "source": [
    "bus = set(['Tom', 'Fritz', 'Ole'])\n",
    "rad = set(['Len', 'Fritz', 'Ron'])"
   ]
  },
  {
   "cell_type": "code",
   "execution_count": 44,
   "id": "5befb106-9c62-4f41-b2f9-56d466b7e6e7",
   "metadata": {},
   "outputs": [
    {
     "data": {
      "text/plain": [
       "{'Fritz'}"
      ]
     },
     "execution_count": 44,
     "metadata": {},
     "output_type": "execute_result"
    }
   ],
   "source": [
    "bus & rad"
   ]
  },
  {
   "cell_type": "code",
   "execution_count": 45,
   "id": "247bad2d-8693-4371-973d-5b7d0ade5066",
   "metadata": {},
   "outputs": [
    {
     "data": {
      "text/plain": [
       "{'Ole', 'Tom'}"
      ]
     },
     "execution_count": 45,
     "metadata": {},
     "output_type": "execute_result"
    }
   ],
   "source": [
    "bus - rad"
   ]
  },
  {
   "cell_type": "code",
   "execution_count": 46,
   "id": "85ed2d3c-b434-4380-ac15-455f4f6d34c0",
   "metadata": {},
   "outputs": [
    {
     "data": {
      "text/plain": [
       "{'Len', 'Ron'}"
      ]
     },
     "execution_count": 46,
     "metadata": {},
     "output_type": "execute_result"
    }
   ],
   "source": [
    "rad - bus"
   ]
  },
  {
   "cell_type": "code",
   "execution_count": 47,
   "id": "c2805c33-9463-4d55-b4ab-73298ab8bbba",
   "metadata": {},
   "outputs": [
    {
     "data": {
      "text/plain": [
       "{'Fritz', 'Len', 'Ole', 'Ron', 'Tom'}"
      ]
     },
     "execution_count": 47,
     "metadata": {},
     "output_type": "execute_result"
    }
   ],
   "source": [
    "rad | bus"
   ]
  },
  {
   "cell_type": "code",
   "execution_count": 48,
   "id": "3d0f1d76-064f-45be-9ad8-f6dd2291489f",
   "metadata": {},
   "outputs": [
    {
     "data": {
      "text/plain": [
       "False"
      ]
     },
     "execution_count": 48,
     "metadata": {},
     "output_type": "execute_result"
    }
   ],
   "source": [
    "rad <= bus"
   ]
  },
  {
   "cell_type": "code",
   "execution_count": 49,
   "id": "0dfeec07-4775-4b1d-97c0-d543c1c12313",
   "metadata": {},
   "outputs": [],
   "source": [
    "heute = {'Tom', 'Fritz'}"
   ]
  },
  {
   "cell_type": "code",
   "execution_count": 50,
   "id": "1da59c47-860b-44fe-87de-848dd50814d1",
   "metadata": {},
   "outputs": [
    {
     "data": {
      "text/plain": [
       "False"
      ]
     },
     "execution_count": 50,
     "metadata": {},
     "output_type": "execute_result"
    }
   ],
   "source": [
    "heute < rad"
   ]
  },
  {
   "cell_type": "code",
   "execution_count": 51,
   "id": "2a12fdf7-229f-4fd2-9fef-69d178bb5165",
   "metadata": {},
   "outputs": [
    {
     "data": {
      "text/plain": [
       "True"
      ]
     },
     "execution_count": 51,
     "metadata": {},
     "output_type": "execute_result"
    }
   ],
   "source": [
    "heute < bus"
   ]
  },
  {
   "cell_type": "code",
   "execution_count": 52,
   "id": "977f4d64-6f42-49c3-9b5b-c5354493e9a7",
   "metadata": {},
   "outputs": [
    {
     "ename": "TypeError",
     "evalue": "unhashable type: 'set'",
     "output_type": "error",
     "traceback": [
      "\u001b[0;31m---------------------------------------------------------------------------\u001b[0m",
      "\u001b[0;31mTypeError\u001b[0m                                 Traceback (most recent call last)",
      "Input \u001b[0;32mIn [52]\u001b[0m, in \u001b[0;36m<cell line: 1>\u001b[0;34m()\u001b[0m\n\u001b[0;32m----> 1\u001b[0m mm \u001b[38;5;241m=\u001b[39m {rad, bus}\n",
      "\u001b[0;31mTypeError\u001b[0m: unhashable type: 'set'"
     ]
    }
   ],
   "source": [
    "mm = {rad, bus}"
   ]
  },
  {
   "cell_type": "code",
   "execution_count": 53,
   "id": "25e38985-ba25-44b5-a42b-f36128c43855",
   "metadata": {},
   "outputs": [],
   "source": [
    "rad_static = frozenset(rad)\n",
    "bus_static = frozenset(bus)"
   ]
  },
  {
   "cell_type": "code",
   "execution_count": 54,
   "id": "bbbd8d00-19c9-4a85-97b6-0f44748d019b",
   "metadata": {},
   "outputs": [],
   "source": [
    "mm = {rad_static, bus_static}"
   ]
  },
  {
   "cell_type": "code",
   "execution_count": 55,
   "id": "1dc971ed-71ed-40f3-8023-97c8adca9431",
   "metadata": {},
   "outputs": [
    {
     "data": {
      "text/plain": [
       "{frozenset({'Fritz', 'Len', 'Ron'}), frozenset({'Fritz', 'Ole', 'Tom'})}"
      ]
     },
     "execution_count": 55,
     "metadata": {},
     "output_type": "execute_result"
    }
   ],
   "source": [
    "mm"
   ]
  },
  {
   "cell_type": "code",
   "execution_count": 56,
   "id": "95ad28a6-0460-4a07-9cf0-56983552cb0b",
   "metadata": {},
   "outputs": [],
   "source": [
    "mm2 = {rad_static}"
   ]
  },
  {
   "cell_type": "code",
   "execution_count": 57,
   "id": "eac235ed-b93f-4a0a-b367-db8fc2f110c4",
   "metadata": {},
   "outputs": [
    {
     "data": {
      "text/plain": [
       "{frozenset({'Fritz', 'Len', 'Ron'})}"
      ]
     },
     "execution_count": 57,
     "metadata": {},
     "output_type": "execute_result"
    }
   ],
   "source": [
    "mm2"
   ]
  },
  {
   "cell_type": "code",
   "execution_count": 58,
   "id": "7906fdff-5b21-4fd3-8ec7-1e270c419f75",
   "metadata": {},
   "outputs": [
    {
     "data": {
      "text/plain": [
       "{frozenset({'Fritz', 'Len', 'Ron'})}"
      ]
     },
     "execution_count": 58,
     "metadata": {},
     "output_type": "execute_result"
    }
   ],
   "source": [
    "mm2 & mm"
   ]
  },
  {
   "cell_type": "code",
   "execution_count": null,
   "id": "5f794458-25b5-4c47-83cf-0008b0bc784e",
   "metadata": {},
   "outputs": [],
   "source": []
  },
  {
   "cell_type": "code",
   "execution_count": 60,
   "id": "e4722ede-361e-42d1-add3-508539f900c9",
   "metadata": {},
   "outputs": [
    {
     "name": "stdout",
     "output_type": "stream",
     "text": [
      "5.86 ms ± 516 µs per loop (mean ± std. dev. of 7 runs, 100 loops each)\n",
      "88.7 ns ± 3.9 ns per loop (mean ± std. dev. of 7 runs, 10,000,000 loops each)\n",
      "79.4 ns ± 3.66 ns per loop (mean ± std. dev. of 7 runs, 10,000,000 loops each)\n",
      "66094.29459817334\n",
      "0.8950412777260927\n"
     ]
    }
   ],
   "source": [
    "n = 1_000_000\n",
    "target = n // 2\n",
    "L = list(range(n))\n",
    "d = dict.fromkeys(L)\n",
    "s = set(L)\n",
    "\n",
    "tl = %timeit -o target in L\n",
    "td = %timeit -o target in d\n",
    "ts = %timeit -o target in s\n",
    "print(tl.average / td.average)\n",
    "print(ts.average / td.average)"
   ]
  },
  {
   "cell_type": "code",
   "execution_count": null,
   "id": "587318a4-41a8-4be8-af66-524c50263aca",
   "metadata": {},
   "outputs": [],
   "source": []
  }
 ],
 "metadata": {
  "kernelspec": {
   "display_name": "Python 3.10",
   "language": "python",
   "name": "python310"
  },
  "language_info": {
   "codemirror_mode": {
    "name": "ipython",
    "version": 3
   },
   "file_extension": ".py",
   "mimetype": "text/x-python",
   "name": "python",
   "nbconvert_exporter": "python",
   "pygments_lexer": "ipython3",
   "version": "3.10.4"
  }
 },
 "nbformat": 4,
 "nbformat_minor": 5
}
