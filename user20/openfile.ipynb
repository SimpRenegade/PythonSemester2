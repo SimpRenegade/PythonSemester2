{
 "cells": [
  {
   "cell_type": "code",
   "execution_count": 145,
   "id": "a6341570-4b7b-4222-93bc-7b8bc693221d",
   "metadata": {},
   "outputs": [
    {
     "name": "stdin",
     "output_type": "stream",
     "text": [
      "Bitte geben Sie Ihren Namen ein:  tomas\n"
     ]
    }
   ],
   "source": [
    "eingabe = input(\"Bitte geben Sie Ihren Namen ein: \")"
   ]
  },
  {
   "cell_type": "code",
   "execution_count": 146,
   "id": "74afabb2-665a-4953-b76a-10b42c0fd0bf",
   "metadata": {},
   "outputs": [
    {
     "name": "stdin",
     "output_type": "stream",
     "text": [
      "Bitte geben Sie Ihren Namen ein:  tomas\n",
      "Bitte geben Sie Ihren Namen ein:  tomas\n",
      "Bitte geben Sie Ihren Namen ein:  end\n"
     ]
    }
   ],
   "source": [
    "while(eingabe != \"end\"):\n",
    "    eingabe = input(\"Bitte geben Sie Ihren Namen ein: \")"
   ]
  },
  {
   "cell_type": "code",
   "execution_count": 190,
   "id": "3ce1c724-1ce0-4d27-9398-bb183a216318",
   "metadata": {},
   "outputs": [],
   "source": [
    "fobj = open(\"text.txt\", \"w\")"
   ]
  },
  {
   "cell_type": "code",
   "execution_count": 191,
   "id": "befda311-0c47-4a28-8e53-9ea29a3da207",
   "metadata": {},
   "outputs": [
    {
     "data": {
      "text/plain": [
       "<_io.TextIOWrapper name='text.txt' mode='w' encoding='UTF-8'>"
      ]
     },
     "execution_count": 191,
     "metadata": {},
     "output_type": "execute_result"
    }
   ],
   "source": [
    "fobj"
   ]
  },
  {
   "cell_type": "code",
   "execution_count": 192,
   "id": "b4e2296a-cfc6-4002-998f-25767b7092a9",
   "metadata": {},
   "outputs": [
    {
     "data": {
      "text/plain": [
       "True"
      ]
     },
     "execution_count": 192,
     "metadata": {},
     "output_type": "execute_result"
    }
   ],
   "source": [
    "fobj.writable()"
   ]
  },
  {
   "cell_type": "code",
   "execution_count": 193,
   "id": "ed5e4591-a69a-408e-b777-e1437b4af4c2",
   "metadata": {},
   "outputs": [
    {
     "data": {
      "text/plain": [
       "4"
      ]
     },
     "execution_count": 193,
     "metadata": {},
     "output_type": "execute_result"
    }
   ],
   "source": [
    "fobj.write(\"test\")"
   ]
  },
  {
   "cell_type": "code",
   "execution_count": 194,
   "id": "7da7fa9e-d867-4a2e-b08f-aa1d83818bbf",
   "metadata": {},
   "outputs": [],
   "source": [
    "with open(\"text.txt\") as fobj:\n",
    "    data = fobj.read()"
   ]
  },
  {
   "cell_type": "code",
   "execution_count": 195,
   "id": "598edbf7-f1af-404d-89a9-24e0f4741335",
   "metadata": {},
   "outputs": [
    {
     "data": {
      "text/plain": [
       "''"
      ]
     },
     "execution_count": 195,
     "metadata": {},
     "output_type": "execute_result"
    }
   ],
   "source": [
    "data"
   ]
  },
  {
   "cell_type": "code",
   "execution_count": 196,
   "id": "3107a4a6-5c4f-42a8-b536-22a5abf85ac0",
   "metadata": {},
   "outputs": [],
   "source": [
    "with open('text.txt', 'w') as f:\n",
    "    f.write('readme')"
   ]
  },
  {
   "cell_type": "code",
   "execution_count": 197,
   "id": "2c1cd122-0b55-4c77-bbd9-f2709ad0466f",
   "metadata": {},
   "outputs": [],
   "source": [
    "fobj.close()"
   ]
  },
  {
   "cell_type": "code",
   "execution_count": 198,
   "id": "bd2915ad-e7c4-43dd-abfd-550594d768d0",
   "metadata": {},
   "outputs": [],
   "source": [
    "fobjr = open(\"text.txt\", \"r\")"
   ]
  },
  {
   "cell_type": "code",
   "execution_count": 199,
   "id": "05c198c6-3f90-41b8-a3af-052825699167",
   "metadata": {},
   "outputs": [
    {
     "data": {
      "text/plain": [
       "'readme'"
      ]
     },
     "execution_count": 199,
     "metadata": {},
     "output_type": "execute_result"
    }
   ],
   "source": [
    "fobjr.read()"
   ]
  },
  {
   "cell_type": "code",
   "execution_count": 200,
   "id": "549233b0-606b-4bfa-ac23-e113879b7307",
   "metadata": {},
   "outputs": [
    {
     "name": "stdin",
     "output_type": "stream",
     "text": [
      "Bitte geben Sie Ihren Namen ein:  dd\n"
     ]
    }
   ],
   "source": [
    "eingabe = input(\"Bitte geben Sie Ihren Namen ein: \")"
   ]
  },
  {
   "cell_type": "code",
   "execution_count": 201,
   "id": "d0279fb8-4387-4e47-8fef-599815ad811d",
   "metadata": {},
   "outputs": [
    {
     "name": "stdin",
     "output_type": "stream",
     "text": [
      "Bitte geben Sie Ihren Namen ein:  dfdf\n",
      "Bitte geben Sie Ihren Namen ein:  end\n"
     ]
    }
   ],
   "source": [
    "while(eingabe != \"end\"):\n",
    "    eingabe = input(\"Bitte geben Sie Ihren Namen ein: \")"
   ]
  },
  {
   "cell_type": "code",
   "execution_count": 218,
   "id": "1b76fadf-0995-48db-9744-2b14dab54b7c",
   "metadata": {},
   "outputs": [],
   "source": [
    "einsbiszehn = open(\"einsbiszehn.txt\", \"w\")"
   ]
  },
  {
   "cell_type": "code",
   "execution_count": 219,
   "id": "bc03e72a-32e6-44d1-a2c7-ea27dfd204da",
   "metadata": {},
   "outputs": [],
   "source": [
    "for x in range(1, 11, 1):\n",
    "    if x == 10:\n",
    "        xstr = str(x)\n",
    "        einsbiszehn.write(xstr)\n",
    "    else:\n",
    "        xstr = str(x)\n",
    "        einsbiszehn.write(xstr + \"\\n\")"
   ]
  },
  {
   "cell_type": "code",
   "execution_count": 309,
   "id": "19b3322e-dd60-40b0-92f3-331dfbf4db81",
   "metadata": {},
   "outputs": [],
   "source": [
    "einsbiszehn.close()"
   ]
  },
  {
   "cell_type": "code",
   "execution_count": 310,
   "id": "2bd8c9d2-dcd1-40d5-90af-762645d0f3aa",
   "metadata": {},
   "outputs": [],
   "source": [
    "lesen = open(\"einsbiszehn.txt\", \"r\")"
   ]
  },
  {
   "cell_type": "code",
   "execution_count": 311,
   "id": "02ac8505-c212-4b79-81d7-e8d2871fe4ed",
   "metadata": {},
   "outputs": [],
   "source": [
    "l1 = []"
   ]
  },
  {
   "cell_type": "code",
   "execution_count": 258,
   "id": "33cc61ee-9bb5-4baa-b742-76109edd6ff3",
   "metadata": {},
   "outputs": [
    {
     "name": "stdout",
     "output_type": "stream",
     "text": [
      "1\n",
      "2\n",
      "3\n",
      "4\n",
      "5\n",
      "6\n",
      "7\n",
      "8\n",
      "9\n",
      "10\n"
     ]
    }
   ],
   "source": [
    "with open(\"einsbiszehn.txt\", \"r\") as readobj:\n",
    "    for line in readobj:\n",
    "        if readobj.read() != None:\n",
    "            print(lesen.read())"
   ]
  },
  {
   "cell_type": "code",
   "execution_count": 278,
   "id": "59339b06-a150-4769-88f1-10c351530245",
   "metadata": {},
   "outputs": [
    {
     "name": "stdout",
     "output_type": "stream",
     "text": [
      "1\n",
      "\n"
     ]
    }
   ],
   "source": [
    "with open(\"einsbiszehn.txt\", \"r\") as readobj:\n",
    "    for line in readobj:\n",
    "        if readobj.read() != None:\n",
    "            line = line + readobj.read()\n",
    "    print(line)"
   ]
  },
  {
   "cell_type": "code",
   "execution_count": 315,
   "id": "598c1c7d-af17-41ae-a302-ab00329fd9db",
   "metadata": {},
   "outputs": [],
   "source": [
    "with open(\"einsbiszehn.txt\", \"r\") as readobj:\n",
    "    for line in readobj:\n",
    "        line = readobj.read()\n",
    "        l1.append(line)"
   ]
  },
  {
   "cell_type": "code",
   "execution_count": 316,
   "id": "c6dd760a-bbfb-492b-a93e-48603b343864",
   "metadata": {},
   "outputs": [
    {
     "name": "stdout",
     "output_type": "stream",
     "text": [
      "2\n",
      "3\n",
      "4\n",
      "5\n",
      "6\n",
      "7\n",
      "8\n",
      "9\n",
      "10\n",
      "2\n",
      "3\n",
      "4\n",
      "5\n",
      "6\n",
      "7\n",
      "8\n",
      "9\n",
      "10\n"
     ]
    }
   ],
   "source": [
    "for x in l1:\n",
    "    print(x)"
   ]
  },
  {
   "cell_type": "code",
   "execution_count": 318,
   "id": "b0f183eb-df05-47d8-9e80-a880d137c5c6",
   "metadata": {},
   "outputs": [],
   "source": [
    "readobj.close()"
   ]
  },
  {
   "cell_type": "code",
   "execution_count": null,
   "id": "1b1154b4-cc07-4cd2-ae25-1c8b44139e3c",
   "metadata": {},
   "outputs": [],
   "source": []
  },
  {
   "cell_type": "code",
   "execution_count": null,
   "id": "dc96e781-6203-41ff-b585-6084c360720e",
   "metadata": {},
   "outputs": [],
   "source": []
  },
  {
   "cell_type": "code",
   "execution_count": null,
   "id": "e3cb1989-23a9-47c2-963b-8114b8c2e987",
   "metadata": {},
   "outputs": [],
   "source": []
  }
 ],
 "metadata": {
  "kernelspec": {
   "display_name": "Python 3.10",
   "language": "python",
   "name": "python310"
  },
  "language_info": {
   "codemirror_mode": {
    "name": "ipython",
    "version": 3
   },
   "file_extension": ".py",
   "mimetype": "text/x-python",
   "name": "python",
   "nbconvert_exporter": "python",
   "pygments_lexer": "ipython3",
   "version": "3.10.4"
  }
 },
 "nbformat": 4,
 "nbformat_minor": 5
}
