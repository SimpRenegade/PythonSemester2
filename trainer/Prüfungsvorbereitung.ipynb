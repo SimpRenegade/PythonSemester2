{
 "cells": [
  {
   "cell_type": "code",
   "execution_count": 1,
   "id": "05949e68-63a0-4cf7-93b1-dd0eccd3d4f4",
   "metadata": {},
   "outputs": [],
   "source": [
    "t = (1, 2, 3)\n",
    "L = [1, 2, 3]"
   ]
  },
  {
   "cell_type": "code",
   "execution_count": 2,
   "id": "0732909a-f7ee-42ba-bce3-035f34cbaf3a",
   "metadata": {},
   "outputs": [
    {
     "data": {
      "text/plain": [
       "['__add__',\n",
       " '__class__',\n",
       " '__class_getitem__',\n",
       " '__contains__',\n",
       " '__delattr__',\n",
       " '__dir__',\n",
       " '__doc__',\n",
       " '__eq__',\n",
       " '__format__',\n",
       " '__ge__',\n",
       " '__getattribute__',\n",
       " '__getitem__',\n",
       " '__getnewargs__',\n",
       " '__gt__',\n",
       " '__hash__',\n",
       " '__init__',\n",
       " '__init_subclass__',\n",
       " '__iter__',\n",
       " '__le__',\n",
       " '__len__',\n",
       " '__lt__',\n",
       " '__mul__',\n",
       " '__ne__',\n",
       " '__new__',\n",
       " '__reduce__',\n",
       " '__reduce_ex__',\n",
       " '__repr__',\n",
       " '__rmul__',\n",
       " '__setattr__',\n",
       " '__sizeof__',\n",
       " '__str__',\n",
       " '__subclasshook__',\n",
       " 'count',\n",
       " 'index']"
      ]
     },
     "execution_count": 2,
     "metadata": {},
     "output_type": "execute_result"
    }
   ],
   "source": [
    "dir(t)"
   ]
  },
  {
   "cell_type": "code",
   "execution_count": 3,
   "id": "8fa72123-403a-4198-bcfa-eff1b3b6d926",
   "metadata": {},
   "outputs": [
    {
     "data": {
      "text/plain": [
       "['__add__',\n",
       " '__class__',\n",
       " '__class_getitem__',\n",
       " '__contains__',\n",
       " '__delattr__',\n",
       " '__delitem__',\n",
       " '__dir__',\n",
       " '__doc__',\n",
       " '__eq__',\n",
       " '__format__',\n",
       " '__ge__',\n",
       " '__getattribute__',\n",
       " '__getitem__',\n",
       " '__gt__',\n",
       " '__hash__',\n",
       " '__iadd__',\n",
       " '__imul__',\n",
       " '__init__',\n",
       " '__init_subclass__',\n",
       " '__iter__',\n",
       " '__le__',\n",
       " '__len__',\n",
       " '__lt__',\n",
       " '__mul__',\n",
       " '__ne__',\n",
       " '__new__',\n",
       " '__reduce__',\n",
       " '__reduce_ex__',\n",
       " '__repr__',\n",
       " '__reversed__',\n",
       " '__rmul__',\n",
       " '__setattr__',\n",
       " '__setitem__',\n",
       " '__sizeof__',\n",
       " '__str__',\n",
       " '__subclasshook__',\n",
       " 'append',\n",
       " 'clear',\n",
       " 'copy',\n",
       " 'count',\n",
       " 'extend',\n",
       " 'index',\n",
       " 'insert',\n",
       " 'pop',\n",
       " 'remove',\n",
       " 'reverse',\n",
       " 'sort']"
      ]
     },
     "execution_count": 3,
     "metadata": {},
     "output_type": "execute_result"
    }
   ],
   "source": [
    "dir(L)"
   ]
  },
  {
   "cell_type": "code",
   "execution_count": 4,
   "id": "f9c2c5d9-f305-4048-919b-3c953a62fb3a",
   "metadata": {},
   "outputs": [
    {
     "data": {
      "text/plain": [
       "34"
      ]
     },
     "execution_count": 4,
     "metadata": {},
     "output_type": "execute_result"
    }
   ],
   "source": [
    "len(dir(t))"
   ]
  },
  {
   "cell_type": "code",
   "execution_count": 5,
   "id": "14a29804-531e-4cf7-a3a5-05a1feb35cac",
   "metadata": {},
   "outputs": [
    {
     "data": {
      "text/plain": [
       "47"
      ]
     },
     "execution_count": 5,
     "metadata": {},
     "output_type": "execute_result"
    }
   ],
   "source": [
    "len(dir(L))"
   ]
  },
  {
   "cell_type": "code",
   "execution_count": 6,
   "id": "fc894d4b-7f41-4bb4-aea5-d0566307ca67",
   "metadata": {},
   "outputs": [],
   "source": [
    "al = set(dir(L))\n",
    "at = set(dir(t))"
   ]
  },
  {
   "cell_type": "code",
   "execution_count": 7,
   "id": "8449c2c8-c64b-4045-a330-caece84d4ec0",
   "metadata": {},
   "outputs": [
    {
     "data": {
      "text/plain": [
       "{'__delitem__',\n",
       " '__iadd__',\n",
       " '__imul__',\n",
       " '__reversed__',\n",
       " '__setitem__',\n",
       " 'append',\n",
       " 'clear',\n",
       " 'copy',\n",
       " 'extend',\n",
       " 'insert',\n",
       " 'pop',\n",
       " 'remove',\n",
       " 'reverse',\n",
       " 'sort'}"
      ]
     },
     "execution_count": 7,
     "metadata": {},
     "output_type": "execute_result"
    }
   ],
   "source": [
    "al - at"
   ]
  },
  {
   "cell_type": "code",
   "execution_count": 8,
   "id": "7f67e10c-777e-4d83-81e0-ac8b802903c4",
   "metadata": {},
   "outputs": [
    {
     "data": {
      "text/plain": [
       "14"
      ]
     },
     "execution_count": 8,
     "metadata": {},
     "output_type": "execute_result"
    }
   ],
   "source": [
    "len(al - at)"
   ]
  },
  {
   "cell_type": "code",
   "execution_count": 9,
   "id": "ae2ecab4-65de-44ae-85b5-7f12997b9a57",
   "metadata": {},
   "outputs": [
    {
     "data": {
      "text/plain": [
       "{'__getnewargs__'}"
      ]
     },
     "execution_count": 9,
     "metadata": {},
     "output_type": "execute_result"
    }
   ],
   "source": [
    "at - al"
   ]
  },
  {
   "cell_type": "code",
   "execution_count": 10,
   "id": "c534c68c-5b6e-4ee5-8f71-a72bbb62ed68",
   "metadata": {},
   "outputs": [
    {
     "data": {
      "text/plain": [
       "1"
      ]
     },
     "execution_count": 10,
     "metadata": {},
     "output_type": "execute_result"
    }
   ],
   "source": [
    "t[0]"
   ]
  },
  {
   "cell_type": "code",
   "execution_count": 11,
   "id": "a0b454aa-f796-4ede-a831-acbda66db3d8",
   "metadata": {},
   "outputs": [
    {
     "data": {
      "text/plain": [
       "(1, 2)"
      ]
     },
     "execution_count": 11,
     "metadata": {},
     "output_type": "execute_result"
    }
   ],
   "source": [
    "t[:2]"
   ]
  },
  {
   "cell_type": "code",
   "execution_count": 12,
   "id": "ba325576-a00d-45d1-9d81-ad64ba2669de",
   "metadata": {},
   "outputs": [
    {
     "data": {
      "text/plain": [
       "(1, 2)"
      ]
     },
     "execution_count": 12,
     "metadata": {},
     "output_type": "execute_result"
    }
   ],
   "source": [
    "t[0:2:1]"
   ]
  },
  {
   "cell_type": "code",
   "execution_count": 14,
   "id": "71ca89d3-bd8c-4667-a595-df075679e814",
   "metadata": {},
   "outputs": [
    {
     "data": {
      "text/plain": [
       "33"
      ]
     },
     "execution_count": 14,
     "metadata": {},
     "output_type": "execute_result"
    }
   ],
   "source": [
    "len(al.intersection(at))"
   ]
  },
  {
   "cell_type": "code",
   "execution_count": 15,
   "id": "17d2450c-113f-4874-af39-d43d63b56a5a",
   "metadata": {},
   "outputs": [
    {
     "data": {
      "text/plain": [
       "\u001b[0;31mInit signature:\u001b[0m \u001b[0mrange\u001b[0m\u001b[0;34m(\u001b[0m\u001b[0mself\u001b[0m\u001b[0;34m,\u001b[0m \u001b[0;34m/\u001b[0m\u001b[0;34m,\u001b[0m \u001b[0;34m*\u001b[0m\u001b[0margs\u001b[0m\u001b[0;34m,\u001b[0m \u001b[0;34m**\u001b[0m\u001b[0mkwargs\u001b[0m\u001b[0;34m)\u001b[0m\u001b[0;34m\u001b[0m\u001b[0;34m\u001b[0m\u001b[0m\n",
       "\u001b[0;31mDocstring:\u001b[0m     \n",
       "range(stop) -> range object\n",
       "range(start, stop[, step]) -> range object\n",
       "\n",
       "Return an object that produces a sequence of integers from start (inclusive)\n",
       "to stop (exclusive) by step.  range(i, j) produces i, i+1, i+2, ..., j-1.\n",
       "start defaults to 0, and stop is omitted!  range(4) produces 0, 1, 2, 3.\n",
       "These are exactly the valid indices for a list of 4 elements.\n",
       "When step is given, it specifies the increment (or decrement).\n",
       "\u001b[0;31mType:\u001b[0m           type\n",
       "\u001b[0;31mSubclasses:\u001b[0m     \n"
      ]
     },
     "metadata": {},
     "output_type": "display_data"
    }
   ],
   "source": [
    "range?"
   ]
  },
  {
   "cell_type": "code",
   "execution_count": 16,
   "id": "f349f5c4-a17a-47c1-93c2-e6d51c23a4b7",
   "metadata": {},
   "outputs": [],
   "source": [
    "t = tuple(range(2, 11))"
   ]
  },
  {
   "cell_type": "code",
   "execution_count": 17,
   "id": "44b096d1-0b39-4418-b672-94031416fbe1",
   "metadata": {},
   "outputs": [
    {
     "data": {
      "text/plain": [
       "(2, 3, 4, 5, 6, 7, 8, 9, 10)"
      ]
     },
     "execution_count": 17,
     "metadata": {},
     "output_type": "execute_result"
    }
   ],
   "source": [
    "t"
   ]
  },
  {
   "cell_type": "code",
   "execution_count": 18,
   "id": "186c38d3-0c42-4441-b7c3-9d5acc3fb429",
   "metadata": {},
   "outputs": [
    {
     "data": {
      "text/plain": [
       "(4, 5)"
      ]
     },
     "execution_count": 18,
     "metadata": {},
     "output_type": "execute_result"
    }
   ],
   "source": [
    "t[2:4]"
   ]
  },
  {
   "cell_type": "code",
   "execution_count": 19,
   "id": "8515db1a-6032-4659-8cb6-c07a8a6052d6",
   "metadata": {},
   "outputs": [
    {
     "data": {
      "text/plain": [
       "(4, 5, 6, 7, 8, 9, 10)"
      ]
     },
     "execution_count": 19,
     "metadata": {},
     "output_type": "execute_result"
    }
   ],
   "source": [
    "t[2:200]"
   ]
  },
  {
   "cell_type": "code",
   "execution_count": 20,
   "id": "51a6a266-9667-45f3-8a72-452e0b193f86",
   "metadata": {},
   "outputs": [
    {
     "ename": "IndexError",
     "evalue": "tuple index out of range",
     "output_type": "error",
     "traceback": [
      "\u001b[0;31m---------------------------------------------------------------------------\u001b[0m",
      "\u001b[0;31mIndexError\u001b[0m                                Traceback (most recent call last)",
      "Input \u001b[0;32mIn [20]\u001b[0m, in \u001b[0;36m<cell line: 1>\u001b[0;34m()\u001b[0m\n\u001b[0;32m----> 1\u001b[0m \u001b[43mt\u001b[49m\u001b[43m[\u001b[49m\u001b[38;5;241;43m200\u001b[39;49m\u001b[43m]\u001b[49m\n",
      "\u001b[0;31mIndexError\u001b[0m: tuple index out of range"
     ]
    }
   ],
   "source": [
    "t[200]"
   ]
  },
  {
   "cell_type": "markdown",
   "id": "98631397-b399-410f-8779-2ed653962c2d",
   "metadata": {},
   "source": [
    "* Bitte listen Sie alle Ihnen bekannten Nutzungen von Klammern in Python auf!\n",
    "* Bennen Sie den jeweilgen Kontext.\n",
    "* Geben jeweils ein kurzes Code-Beispiel."
   ]
  },
  {
   "cell_type": "markdown",
   "id": "451d4d92-fe78-4519-8171-9198f681f1dc",
   "metadata": {},
   "source": [
    "# Klammern"
   ]
  },
  {
   "cell_type": "markdown",
   "id": "cd3ea633-0478-46d9-8c5a-5b7aa34bd863",
   "metadata": {},
   "source": [
    "## Eckige Klammern"
   ]
  },
  {
   "cell_type": "markdown",
   "id": "e9b93a01-ee3e-43f1-af88-7f11fe03efd7",
   "metadata": {},
   "source": [
    "* indizieren"
   ]
  },
  {
   "cell_type": "code",
   "execution_count": 87,
   "id": "82054c1c-faf7-49a2-889c-bcc1c4c52fd7",
   "metadata": {},
   "outputs": [
    {
     "data": {
      "text/plain": [
       "0"
      ]
     },
     "execution_count": 87,
     "metadata": {},
     "output_type": "execute_result"
    }
   ],
   "source": [
    "t = tuple(range(3))\n",
    "t[0]"
   ]
  },
  {
   "cell_type": "markdown",
   "id": "76475da6-e915-4762-8dc7-ee7fede9641d",
   "metadata": {},
   "source": [
    "* Dict-Schlüssel-Zugriff"
   ]
  },
  {
   "cell_type": "code",
   "execution_count": 88,
   "id": "ea98ff2b-54c3-4060-b520-a8d12dbf3263",
   "metadata": {},
   "outputs": [
    {
     "data": {
      "text/plain": [
       "100"
      ]
     },
     "execution_count": 88,
     "metadata": {},
     "output_type": "execute_result"
    }
   ],
   "source": [
    "d = {'a': 100}\n",
    "d['a']"
   ]
  },
  {
   "cell_type": "markdown",
   "id": "f8eaf207-f0bc-4e42-84b2-56bbfa42227e",
   "metadata": {},
   "source": [
    "* Liste anlegen"
   ]
  },
  {
   "cell_type": "code",
   "execution_count": 28,
   "id": "0cb1c8ad-c79f-44ac-98e7-7e18c2903196",
   "metadata": {},
   "outputs": [],
   "source": [
    "L = [1, 2, 3]"
   ]
  },
  {
   "cell_type": "markdown",
   "id": "f3dce0e7-2b03-4de6-9aad-3dee521601b9",
   "metadata": {},
   "source": [
    "* Slicing"
   ]
  },
  {
   "cell_type": "code",
   "execution_count": 29,
   "id": "3a5efc50-038a-4087-970b-467afa58de01",
   "metadata": {},
   "outputs": [
    {
     "data": {
      "text/plain": [
       "[1, 2]"
      ]
     },
     "execution_count": 29,
     "metadata": {},
     "output_type": "execute_result"
    }
   ],
   "source": [
    "L[:2]"
   ]
  },
  {
   "cell_type": "markdown",
   "id": "eff727e1-b718-455b-869b-f91c31f16372",
   "metadata": {},
   "source": [
    "* List Comprehensions"
   ]
  },
  {
   "cell_type": "code",
   "execution_count": 30,
   "id": "27f66a1c-dd93-4039-9b8c-ca5e4d594ae1",
   "metadata": {},
   "outputs": [
    {
     "data": {
      "text/plain": [
       "[10, 11, 12, 13, 14, 15, 16, 17, 18, 19]"
      ]
     },
     "execution_count": 30,
     "metadata": {},
     "output_type": "execute_result"
    }
   ],
   "source": [
    "[x + 10 for x in range(10)]"
   ]
  },
  {
   "cell_type": "markdown",
   "id": "79ee934f-da11-4361-b28c-ef951da72ff2",
   "metadata": {},
   "source": [
    "## Geschweifte Klammern"
   ]
  },
  {
   "cell_type": "markdown",
   "id": "80aa75a9-614f-416b-a81e-4e3d9faaaa97",
   "metadata": {},
   "source": [
    "* Dictionary"
   ]
  },
  {
   "cell_type": "code",
   "execution_count": 32,
   "id": "37b199a6-6fb1-4d06-bc3f-511485574ac3",
   "metadata": {},
   "outputs": [],
   "source": [
    "d = {'a': 100}"
   ]
  },
  {
   "cell_type": "markdown",
   "id": "2aee6772-c82f-4e43-9ac1-58aa4bfb4743",
   "metadata": {},
   "source": [
    "* String-Platzhalter für `f`-Strings und `.format`"
   ]
  },
  {
   "cell_type": "code",
   "execution_count": 34,
   "id": "5ae0cda2-d801-4303-950f-be4dfbd770a8",
   "metadata": {},
   "outputs": [
    {
     "data": {
      "text/plain": [
       "'Wert: 100'"
      ]
     },
     "execution_count": 34,
     "metadata": {},
     "output_type": "execute_result"
    }
   ],
   "source": [
    "a = 100\n",
    "f'Wert: {a}'"
   ]
  },
  {
   "cell_type": "markdown",
   "id": "d726649c-7310-4937-bfd8-d4c4abd5ff01",
   "metadata": {},
   "source": [
    "* Mengen / Sets"
   ]
  },
  {
   "cell_type": "code",
   "execution_count": 35,
   "id": "e1668337-daa9-4130-88ab-48712ca5d53d",
   "metadata": {},
   "outputs": [
    {
     "data": {
      "text/plain": [
       "{1, 2, 3}"
      ]
     },
     "execution_count": 35,
     "metadata": {},
     "output_type": "execute_result"
    }
   ],
   "source": [
    "{1, 2, 3}"
   ]
  },
  {
   "cell_type": "markdown",
   "id": "f2b64dc5-c339-4b99-a556-a546a1f2e41c",
   "metadata": {},
   "source": [
    "## Runde Klammern"
   ]
  },
  {
   "cell_type": "markdown",
   "id": "82cc4025-06f3-47bb-9f9d-7ec208135fe7",
   "metadata": {},
   "source": [
    "* Tupel anlegen"
   ]
  },
  {
   "cell_type": "code",
   "execution_count": 23,
   "id": "9ecc6539-403f-4260-9e8f-4519045a55ee",
   "metadata": {},
   "outputs": [],
   "source": [
    "t = (1, 2, 3)"
   ]
  },
  {
   "cell_type": "markdown",
   "id": "7405acba-6f7d-4b39-847c-2a96e5d7381b",
   "metadata": {},
   "source": [
    "* Call (\"Funktionsaufruf\", Instanziierung)"
   ]
  },
  {
   "cell_type": "code",
   "execution_count": 24,
   "id": "0798aeaf-1938-4c35-8102-54c9c42a40dc",
   "metadata": {},
   "outputs": [
    {
     "name": "stdout",
     "output_type": "stream",
     "text": [
      "Hallo\n"
     ]
    }
   ],
   "source": [
    "print('Hallo')"
   ]
  },
  {
   "cell_type": "code",
   "execution_count": 25,
   "id": "33dfb378-5d52-435f-a9bb-823ab5ba180f",
   "metadata": {},
   "outputs": [
    {
     "data": {
      "text/plain": [
       "range(0, 10)"
      ]
     },
     "execution_count": 25,
     "metadata": {},
     "output_type": "execute_result"
    }
   ],
   "source": [
    "range(10)"
   ]
  },
  {
   "cell_type": "markdown",
   "id": "7c6617d8-ab1d-4d11-9c4c-570a003c4725",
   "metadata": {},
   "source": [
    "* Vererbung"
   ]
  },
  {
   "cell_type": "code",
   "execution_count": 26,
   "id": "7b081d73-b3e2-424e-852b-d286cbcb90d5",
   "metadata": {},
   "outputs": [],
   "source": [
    "class MyClass(object):\n",
    "    pass"
   ]
  },
  {
   "cell_type": "markdown",
   "id": "c35e98ed-e1ea-46a6-9c34-ca96c2a62d24",
   "metadata": {},
   "source": [
    "* Generatorausdrücke"
   ]
  },
  {
   "cell_type": "code",
   "execution_count": 27,
   "id": "faf8682f-d66c-4bdd-bdcb-dda92258ed73",
   "metadata": {},
   "outputs": [
    {
     "data": {
      "text/plain": [
       "<generator object <genexpr> at 0x7efd34be0740>"
      ]
     },
     "execution_count": 27,
     "metadata": {},
     "output_type": "execute_result"
    }
   ],
   "source": [
    "(x + 10 for x in range(10))"
   ]
  },
  {
   "cell_type": "markdown",
   "id": "f3c0a704-0508-4a00-8100-b7e1881ee480",
   "metadata": {},
   "source": [
    "* mehrere Ausnahmen abfangen"
   ]
  },
  {
   "cell_type": "code",
   "execution_count": 37,
   "id": "760eef81-f565-4e9c-acc8-7a9eb7dcf6fa",
   "metadata": {},
   "outputs": [
    {
     "name": "stdout",
     "output_type": "stream",
     "text": [
      "geht nicht\n"
     ]
    }
   ],
   "source": [
    "try:\n",
    "    1 / 0\n",
    "except (ZeroDivisionError, AttributeError):\n",
    "    print('geht nicht')"
   ]
  },
  {
   "cell_type": "markdown",
   "id": "2fa5d48f-c492-4356-b511-7ed341d6a4d1",
   "metadata": {},
   "source": [
    "* `with` mit mehreren Objekten"
   ]
  },
  {
   "cell_type": "code",
   "execution_count": 42,
   "id": "ea0afe69-d8a3-4f6f-9bf0-2df07c3ec186",
   "metadata": {},
   "outputs": [],
   "source": [
    "with (open('data.txt') as fobj_in,\n",
    "      open('out.txt', 'w') as fobj_out):\n",
    "    for line in fobj_in:\n",
    "        fobj_out.write(line)"
   ]
  },
  {
   "cell_type": "code",
   "execution_count": 41,
   "id": "1b27ab13-31f0-4e5c-ad93-c7d3670d554f",
   "metadata": {},
   "outputs": [
    {
     "data": {
      "text/plain": [
       "Zeile 1\n",
       "Zeile 2\n",
       "Zeile 3\n",
       "\n",
       "Zeile 5\n",
       "Zeile 6\n",
       "Zeile 7\n",
       "\n",
       "Zeile 9\n"
      ]
     },
     "metadata": {},
     "output_type": "display_data"
    }
   ],
   "source": [
    "%less out.txt"
   ]
  },
  {
   "cell_type": "code",
   "execution_count": 44,
   "id": "91f15004-db32-4cb6-91bd-d751f746b520",
   "metadata": {},
   "outputs": [
    {
     "data": {
      "text/plain": [
       "[1, 2, 3]"
      ]
     },
     "execution_count": 44,
     "metadata": {},
     "output_type": "execute_result"
    }
   ],
   "source": [
    "L"
   ]
  },
  {
   "cell_type": "code",
   "execution_count": 45,
   "id": "e988151a-21d2-4bb1-8a52-b09fe8256ce9",
   "metadata": {},
   "outputs": [
    {
     "data": {
      "text/plain": [
       "\u001b[0;31mSignature:\u001b[0m \u001b[0mL\u001b[0m\u001b[0;34m.\u001b[0m\u001b[0mappend\u001b[0m\u001b[0;34m(\u001b[0m\u001b[0mobject\u001b[0m\u001b[0;34m,\u001b[0m \u001b[0;34m/\u001b[0m\u001b[0;34m)\u001b[0m\u001b[0;34m\u001b[0m\u001b[0;34m\u001b[0m\u001b[0m\n",
       "\u001b[0;31mDocstring:\u001b[0m Append object to the end of the list.\n",
       "\u001b[0;31mType:\u001b[0m      builtin_function_or_method\n"
      ]
     },
     "metadata": {},
     "output_type": "display_data"
    }
   ],
   "source": [
    "L.append?"
   ]
  },
  {
   "cell_type": "code",
   "execution_count": 48,
   "id": "0817883d-9af4-4b6a-85ad-58a6b8d5153a",
   "metadata": {},
   "outputs": [],
   "source": [
    "data = []\n",
    "for x in range(2, 12):\n",
    "    try:\n",
    "        data.append(x + 37)\n",
    "    except ZeroDivisionError:\n",
    "        pass"
   ]
  },
  {
   "cell_type": "code",
   "execution_count": 47,
   "id": "7e9ccee7-ef93-4ca4-a4d7-6ccfed3dbcfd",
   "metadata": {},
   "outputs": [
    {
     "data": {
      "text/plain": [
       "[39, 40, 41, 42, 43, 44, 45, 46, 47, 48]"
      ]
     },
     "execution_count": 47,
     "metadata": {},
     "output_type": "execute_result"
    }
   ],
   "source": [
    "data"
   ]
  },
  {
   "cell_type": "code",
   "execution_count": 49,
   "id": "8b635986-52dd-4a1b-90d0-858c21d9644f",
   "metadata": {},
   "outputs": [],
   "source": [
    "def convert(value):\n",
    "    try:\n",
    "        return value + 37\n",
    "    except ZeroDivisionError:\n",
    "        return"
   ]
  },
  {
   "cell_type": "code",
   "execution_count": 54,
   "id": "29ab50b9-437b-4f83-b0b0-f0cb2eb8bca4",
   "metadata": {},
   "outputs": [],
   "source": [
    "data = [convert(x) for x in range(2, 11) if convert(x) is not None]"
   ]
  },
  {
   "cell_type": "code",
   "execution_count": 53,
   "id": "a4b72673-736b-445b-88f3-aac8f5412f67",
   "metadata": {},
   "outputs": [
    {
     "data": {
      "text/plain": [
       "[39, 40, 41, 42, 43, 44, 45, 46, 47]"
      ]
     },
     "execution_count": 53,
     "metadata": {},
     "output_type": "execute_result"
    }
   ],
   "source": [
    "data"
   ]
  },
  {
   "cell_type": "code",
   "execution_count": 57,
   "id": "1c2868dc-4e40-49f1-9425-44902119b4f2",
   "metadata": {},
   "outputs": [
    {
     "data": {
      "text/plain": [
       "[39, 40, 41, 42, 43, 44, 45, 46, 47]"
      ]
     },
     "execution_count": 57,
     "metadata": {},
     "output_type": "execute_result"
    }
   ],
   "source": [
    "[res for x in range(2, 11) if (res := convert(x)) is not None]"
   ]
  },
  {
   "cell_type": "code",
   "execution_count": 58,
   "id": "e3d37299-da1a-4102-b03e-00d4c587fa97",
   "metadata": {},
   "outputs": [
    {
     "data": {
      "text/plain": [
       "[1, 2, 3]"
      ]
     },
     "execution_count": 58,
     "metadata": {},
     "output_type": "execute_result"
    }
   ],
   "source": [
    "L"
   ]
  },
  {
   "cell_type": "code",
   "execution_count": 59,
   "id": "140fd35e-5c78-4146-8b9c-4885c840f51e",
   "metadata": {},
   "outputs": [],
   "source": [
    "L.append(4)"
   ]
  },
  {
   "cell_type": "code",
   "execution_count": 60,
   "id": "93795f2c-b434-4614-8bc6-224854952f93",
   "metadata": {},
   "outputs": [
    {
     "data": {
      "text/plain": [
       "[1, 2, 3, 4]"
      ]
     },
     "execution_count": 60,
     "metadata": {},
     "output_type": "execute_result"
    }
   ],
   "source": [
    "L"
   ]
  },
  {
   "cell_type": "code",
   "execution_count": 61,
   "id": "fe4dc974-ea6d-40a5-81a6-6941c057aff4",
   "metadata": {},
   "outputs": [],
   "source": [
    "L.extend(range(2, 6))"
   ]
  },
  {
   "cell_type": "code",
   "execution_count": 62,
   "id": "0b975d6c-9d7e-4bd7-826a-648b2839d9dd",
   "metadata": {},
   "outputs": [
    {
     "data": {
      "text/plain": [
       "[1, 2, 3, 4, 2, 3, 4, 5]"
      ]
     },
     "execution_count": 62,
     "metadata": {},
     "output_type": "execute_result"
    }
   ],
   "source": [
    "L"
   ]
  },
  {
   "cell_type": "code",
   "execution_count": 63,
   "id": "dc3152b7-efc5-4b63-b9d3-51615eb14b1f",
   "metadata": {},
   "outputs": [],
   "source": [
    "d = {'a': 100, 'b': 200, 'c': 300}"
   ]
  },
  {
   "cell_type": "code",
   "execution_count": 64,
   "id": "284aa15e-3c99-40a5-acbf-24ca5dc8c6a3",
   "metadata": {},
   "outputs": [
    {
     "data": {
      "text/plain": [
       "{'a': 100, 'b': 200, 'c': 300}"
      ]
     },
     "execution_count": 64,
     "metadata": {},
     "output_type": "execute_result"
    }
   ],
   "source": [
    "d"
   ]
  },
  {
   "cell_type": "code",
   "execution_count": 65,
   "id": "a05f9bb7-3039-4329-9efa-b821d86bfce0",
   "metadata": {},
   "outputs": [
    {
     "data": {
      "text/plain": [
       "{'a': 100, 'b': 200, 'c': 300}"
      ]
     },
     "execution_count": 65,
     "metadata": {},
     "output_type": "execute_result"
    }
   ],
   "source": [
    "locals()['d']"
   ]
  },
  {
   "cell_type": "code",
   "execution_count": 66,
   "id": "cbe167f9-2535-4288-82b9-50c64e3be560",
   "metadata": {},
   "outputs": [
    {
     "data": {
      "text/plain": [
       "True"
      ]
     },
     "execution_count": 66,
     "metadata": {},
     "output_type": "execute_result"
    }
   ],
   "source": [
    "locals() is globals()"
   ]
  },
  {
   "cell_type": "code",
   "execution_count": 67,
   "id": "18d97c9d-b9be-442a-9b8a-2ed767cf42a9",
   "metadata": {},
   "outputs": [
    {
     "data": {
      "text/plain": [
       "{}"
      ]
     },
     "execution_count": 67,
     "metadata": {},
     "output_type": "execute_result"
    }
   ],
   "source": [
    "dict()"
   ]
  },
  {
   "cell_type": "code",
   "execution_count": 68,
   "id": "41106e67-842e-4193-b11f-d8519770291d",
   "metadata": {},
   "outputs": [
    {
     "data": {
      "text/plain": [
       "[]"
      ]
     },
     "execution_count": 68,
     "metadata": {},
     "output_type": "execute_result"
    }
   ],
   "source": [
    "list()"
   ]
  },
  {
   "cell_type": "code",
   "execution_count": 69,
   "id": "10008898-f747-40ae-afc4-f6d3094f070e",
   "metadata": {},
   "outputs": [
    {
     "data": {
      "text/plain": [
       "()"
      ]
     },
     "execution_count": 69,
     "metadata": {},
     "output_type": "execute_result"
    }
   ],
   "source": [
    "tuple()"
   ]
  },
  {
   "cell_type": "code",
   "execution_count": 70,
   "id": "bea75e61-2f43-4fc3-ba96-0ad9535689cc",
   "metadata": {},
   "outputs": [
    {
     "data": {
      "text/plain": [
       "0"
      ]
     },
     "execution_count": 70,
     "metadata": {},
     "output_type": "execute_result"
    }
   ],
   "source": [
    "int()"
   ]
  },
  {
   "cell_type": "code",
   "execution_count": 71,
   "id": "ab070d4b-ad67-4b46-aaff-89b988c3b616",
   "metadata": {},
   "outputs": [
    {
     "data": {
      "text/plain": [
       "set()"
      ]
     },
     "execution_count": 71,
     "metadata": {},
     "output_type": "execute_result"
    }
   ],
   "source": [
    "set()"
   ]
  },
  {
   "cell_type": "code",
   "execution_count": 72,
   "id": "73cfa992-38c2-4c8a-99b3-31355bc9e1d9",
   "metadata": {},
   "outputs": [
    {
     "data": {
      "text/plain": [
       "[2, 3, 4, 5, 6, 7, 8, 9, 10]"
      ]
     },
     "execution_count": 72,
     "metadata": {},
     "output_type": "execute_result"
    }
   ],
   "source": [
    "list(range(2, 11))"
   ]
  },
  {
   "cell_type": "code",
   "execution_count": 73,
   "id": "85feedfc-6875-4e4a-a951-6db561e9fc57",
   "metadata": {},
   "outputs": [
    {
     "data": {
      "text/plain": [
       "{0: 0, 1: 1, 2: 2, 3: 3, 4: 4, 5: 5, 6: 6, 7: 7, 8: 8, 9: 9}"
      ]
     },
     "execution_count": 73,
     "metadata": {},
     "output_type": "execute_result"
    }
   ],
   "source": [
    "dict(zip(range(10), range(10)))"
   ]
  },
  {
   "cell_type": "code",
   "execution_count": 74,
   "id": "c377b3de-0d82-48d9-99b2-6440e2549899",
   "metadata": {},
   "outputs": [],
   "source": [
    "dates = {(2022, 8, 19): 100}"
   ]
  },
  {
   "cell_type": "code",
   "execution_count": 75,
   "id": "9e3bbb38-88da-4d24-9c91-ff12ce43cb1f",
   "metadata": {},
   "outputs": [
    {
     "data": {
      "text/plain": [
       "{(2022, 8, 19): 100}"
      ]
     },
     "execution_count": 75,
     "metadata": {},
     "output_type": "execute_result"
    }
   ],
   "source": [
    "dates"
   ]
  },
  {
   "cell_type": "code",
   "execution_count": 76,
   "id": "8ce17241-e7f0-4661-9f06-a2ba323bc741",
   "metadata": {},
   "outputs": [],
   "source": [
    "import datetime"
   ]
  },
  {
   "cell_type": "code",
   "execution_count": 77,
   "id": "0a4c8701-02fc-4ddc-8104-08c05f118436",
   "metadata": {},
   "outputs": [],
   "source": [
    "h = datetime.date.today()"
   ]
  },
  {
   "cell_type": "code",
   "execution_count": 78,
   "id": "77155c0d-0e91-4139-b573-b27f2722124c",
   "metadata": {},
   "outputs": [
    {
     "data": {
      "text/plain": [
       "datetime.date(2022, 8, 19)"
      ]
     },
     "execution_count": 78,
     "metadata": {},
     "output_type": "execute_result"
    }
   ],
   "source": [
    "h"
   ]
  },
  {
   "cell_type": "code",
   "execution_count": 79,
   "id": "8a1c9280-3927-4a95-904f-37f01da22789",
   "metadata": {},
   "outputs": [
    {
     "data": {
      "text/plain": [
       "{datetime.date(2022, 8, 19): 100}"
      ]
     },
     "execution_count": 79,
     "metadata": {},
     "output_type": "execute_result"
    }
   ],
   "source": [
    "{h: 100}"
   ]
  },
  {
   "cell_type": "code",
   "execution_count": 80,
   "id": "f227dd02-8f05-4e27-a944-798bfb3ceae8",
   "metadata": {},
   "outputs": [],
   "source": [
    "dl = {12: 100, 127575: 200}"
   ]
  },
  {
   "cell_type": "code",
   "execution_count": 81,
   "id": "a4c7a7ef-faf7-4cd3-8097-33269009a6a8",
   "metadata": {},
   "outputs": [
    {
     "data": {
      "text/plain": [
       "100"
      ]
     },
     "execution_count": 81,
     "metadata": {},
     "output_type": "execute_result"
    }
   ],
   "source": [
    "dl[12]"
   ]
  },
  {
   "cell_type": "code",
   "execution_count": 82,
   "id": "db383e48-d61c-40a7-907c-9a47519774fc",
   "metadata": {},
   "outputs": [
    {
     "data": {
      "text/plain": [
       "100"
      ]
     },
     "execution_count": 82,
     "metadata": {},
     "output_type": "execute_result"
    }
   ],
   "source": [
    "dl.get(12)"
   ]
  },
  {
   "cell_type": "code",
   "execution_count": 83,
   "id": "b46ea2fb-5f92-4cf9-becd-6162f5b59c48",
   "metadata": {},
   "outputs": [],
   "source": [
    "dl.get(8989)"
   ]
  },
  {
   "cell_type": "code",
   "execution_count": 84,
   "id": "119953fb-0cef-4f87-a211-64f441f853a2",
   "metadata": {},
   "outputs": [],
   "source": [
    "dl.get(h)"
   ]
  },
  {
   "cell_type": "code",
   "execution_count": 85,
   "id": "64655352-081b-4a24-b723-16d44ba42fe4",
   "metadata": {},
   "outputs": [
    {
     "data": {
      "text/plain": [
       "1"
      ]
     },
     "execution_count": 85,
     "metadata": {},
     "output_type": "execute_result"
    }
   ],
   "source": [
    "L[0]"
   ]
  },
  {
   "cell_type": "code",
   "execution_count": 86,
   "id": "de3cfa86-e227-4479-a595-8e0894fdf664",
   "metadata": {},
   "outputs": [
    {
     "data": {
      "text/plain": [
       "100"
      ]
     },
     "execution_count": 86,
     "metadata": {},
     "output_type": "execute_result"
    }
   ],
   "source": [
    "dl[12]"
   ]
  },
  {
   "cell_type": "code",
   "execution_count": 89,
   "id": "82a953cb-4603-4b68-9b66-21b7c49a591f",
   "metadata": {},
   "outputs": [],
   "source": [
    "s = set()"
   ]
  },
  {
   "cell_type": "code",
   "execution_count": 92,
   "id": "39417031-0dd8-4d46-822d-53cb94436986",
   "metadata": {},
   "outputs": [],
   "source": [
    "def f():\n",
    "    \"\"\"Doc-String\n",
    "\n",
    "    Beschreibt was die Funktion tut.\n",
    "    \"\"\"\n",
    "    return"
   ]
  },
  {
   "cell_type": "code",
   "execution_count": 91,
   "id": "1308fa15-6a08-4a1c-afe0-89422604badd",
   "metadata": {},
   "outputs": [
    {
     "data": {
      "text/plain": [
       "True"
      ]
     },
     "execution_count": 91,
     "metadata": {},
     "output_type": "execute_result"
    }
   ],
   "source": [
    "callable(f)"
   ]
  },
  {
   "cell_type": "code",
   "execution_count": 93,
   "id": "ea17e138-4ae8-41e9-85f4-aa43d112bcae",
   "metadata": {},
   "outputs": [
    {
     "data": {
      "text/plain": [
       "[<function __main__.f()>, <function __main__.f()>]"
      ]
     },
     "execution_count": 93,
     "metadata": {},
     "output_type": "execute_result"
    }
   ],
   "source": [
    "[f, f]"
   ]
  },
  {
   "cell_type": "code",
   "execution_count": 94,
   "id": "9b79e82d-90e7-4ae3-af7b-85d7abe986b4",
   "metadata": {},
   "outputs": [
    {
     "data": {
      "text/plain": [
       "{<function __main__.f()>: <function __main__.f()>}"
      ]
     },
     "execution_count": 94,
     "metadata": {},
     "output_type": "execute_result"
    }
   ],
   "source": [
    "{f: f}"
   ]
  },
  {
   "cell_type": "code",
   "execution_count": 98,
   "id": "ec385161-5ab4-439c-a063-d721b5c135de",
   "metadata": {},
   "outputs": [
    {
     "name": "stdout",
     "output_type": "stream",
     "text": [
      "Zeile 1\n",
      "\n",
      "Zeile 2\n",
      "\n",
      "Zeile 3\n",
      "\n",
      "\n",
      "\n",
      "Zeile 5\n",
      "\n",
      "Zeile 6\n",
      "\n",
      "Zeile 7\n",
      "\n",
      "\n",
      "\n",
      "Zeile 9\n",
      "\n"
     ]
    }
   ],
   "source": [
    "with open('data.txt') as fobj:\n",
    "    fobj.read()\n",
    "    fobj.seek(0)\n",
    "    for line in fobj:\n",
    "        print(line)"
   ]
  },
  {
   "cell_type": "code",
   "execution_count": 99,
   "id": "329d12ae-c873-4856-a328-c7b322d4751f",
   "metadata": {},
   "outputs": [
    {
     "data": {
      "text/plain": [
       "\u001b[0;31mSignature:\u001b[0m \u001b[0mfobj\u001b[0m\u001b[0;34m.\u001b[0m\u001b[0mseek\u001b[0m\u001b[0;34m(\u001b[0m\u001b[0mcookie\u001b[0m\u001b[0;34m,\u001b[0m \u001b[0mwhence\u001b[0m\u001b[0;34m=\u001b[0m\u001b[0;36m0\u001b[0m\u001b[0;34m,\u001b[0m \u001b[0;34m/\u001b[0m\u001b[0;34m)\u001b[0m\u001b[0;34m\u001b[0m\u001b[0;34m\u001b[0m\u001b[0m\n",
       "\u001b[0;31mDocstring:\u001b[0m\n",
       "Change stream position.\n",
       "\n",
       "Change the stream position to the given byte offset. The offset is\n",
       "interpreted relative to the position indicated by whence.  Values\n",
       "for whence are:\n",
       "\n",
       "* 0 -- start of stream (the default); offset should be zero or positive\n",
       "* 1 -- current stream position; offset may be negative\n",
       "* 2 -- end of stream; offset is usually negative\n",
       "\n",
       "Return the new absolute position.\n",
       "\u001b[0;31mType:\u001b[0m      builtin_function_or_method\n"
      ]
     },
     "metadata": {},
     "output_type": "display_data"
    }
   ],
   "source": [
    "fobj.seek?"
   ]
  },
  {
   "cell_type": "code",
   "execution_count": 97,
   "id": "b1389835-d822-4844-8448-60aafe6a58d7",
   "metadata": {},
   "outputs": [
    {
     "data": {
      "text/plain": [
       "Zeile 1\n",
       "Zeile 2\n",
       "Zeile 3\n",
       "\n",
       "Zeile 5\n",
       "Zeile 6\n",
       "Zeile 7\n",
       "\n",
       "Zeile 9\n"
      ]
     },
     "metadata": {},
     "output_type": "display_data"
    }
   ],
   "source": [
    "%less data.txt"
   ]
  },
  {
   "cell_type": "code",
   "execution_count": 105,
   "id": "e89fd8eb-82a8-4735-be83-53dc5a1ffdb9",
   "metadata": {},
   "outputs": [],
   "source": [
    "class A:\n",
    "\n",
    "    def __init__(self, value):\n",
    "        self.value = value\n",
    "\n",
    "    def meth(self, value2):\n",
    "        return self.value + value2"
   ]
  },
  {
   "cell_type": "code",
   "execution_count": 106,
   "id": "2155c444-0cb0-4564-9acc-f7bfa18fdfa5",
   "metadata": {},
   "outputs": [],
   "source": [
    "a1 = A(10)"
   ]
  },
  {
   "cell_type": "code",
   "execution_count": 107,
   "id": "4e05b6d1-cf0e-49db-a8f2-94d9de68d2ed",
   "metadata": {},
   "outputs": [
    {
     "data": {
      "text/plain": [
       "10"
      ]
     },
     "execution_count": 107,
     "metadata": {},
     "output_type": "execute_result"
    }
   ],
   "source": [
    "a1.value"
   ]
  },
  {
   "cell_type": "code",
   "execution_count": 108,
   "id": "0ec8d1f9-57b4-4ac8-bf24-000071b9e062",
   "metadata": {},
   "outputs": [
    {
     "data": {
      "text/plain": [
       "33"
      ]
     },
     "execution_count": 108,
     "metadata": {},
     "output_type": "execute_result"
    }
   ],
   "source": [
    "a1.meth(23)"
   ]
  },
  {
   "cell_type": "code",
   "execution_count": 109,
   "id": "d2708eae-53dd-4f69-867b-eb9ac4a8efb3",
   "metadata": {},
   "outputs": [
    {
     "data": {
      "text/plain": [
       "33"
      ]
     },
     "execution_count": 109,
     "metadata": {},
     "output_type": "execute_result"
    }
   ],
   "source": [
    "A.meth(a1, 23)"
   ]
  },
  {
   "cell_type": "code",
   "execution_count": 111,
   "id": "3d11399d-f0bd-440a-8036-019cb9ea6b31",
   "metadata": {},
   "outputs": [],
   "source": [
    "a2 = A(20)"
   ]
  },
  {
   "cell_type": "code",
   "execution_count": 112,
   "id": "fb900ff7-d569-4874-bca1-73ace68acfb6",
   "metadata": {},
   "outputs": [
    {
     "data": {
      "text/plain": [
       "20"
      ]
     },
     "execution_count": 112,
     "metadata": {},
     "output_type": "execute_result"
    }
   ],
   "source": [
    "a2.value"
   ]
  },
  {
   "cell_type": "code",
   "execution_count": 113,
   "id": "a4a58cb7-3b45-4853-b00a-46195d6664ee",
   "metadata": {},
   "outputs": [
    {
     "data": {
      "text/plain": [
       "43"
      ]
     },
     "execution_count": 113,
     "metadata": {},
     "output_type": "execute_result"
    }
   ],
   "source": [
    "A.meth(a2, 23)"
   ]
  },
  {
   "cell_type": "code",
   "execution_count": null,
   "id": "366e0c71-22ca-4b02-a225-ec13ce6e1e2a",
   "metadata": {},
   "outputs": [],
   "source": []
  },
  {
   "cell_type": "code",
   "execution_count": 110,
   "id": "fbcff14f-7934-4968-934c-d17290d79782",
   "metadata": {},
   "outputs": [
    {
     "data": {
      "text/plain": [
       "mappingproxy({'__module__': '__main__',\n",
       "              '__init__': <function __main__.A.__init__(self, value)>,\n",
       "              'meth': <function __main__.A.meth(self, value2)>,\n",
       "              '__dict__': <attribute '__dict__' of 'A' objects>,\n",
       "              '__weakref__': <attribute '__weakref__' of 'A' objects>,\n",
       "              '__doc__': None})"
      ]
     },
     "execution_count": 110,
     "metadata": {},
     "output_type": "execute_result"
    }
   ],
   "source": [
    "A.__dict__"
   ]
  },
  {
   "cell_type": "code",
   "execution_count": 114,
   "id": "45de5ed4-4a9f-4b8f-a6e2-1cea9b4c4f78",
   "metadata": {},
   "outputs": [],
   "source": [
    "o = object()"
   ]
  },
  {
   "cell_type": "code",
   "execution_count": 115,
   "id": "ddc20a4f-c9bc-4acc-9d68-e36ad960ecff",
   "metadata": {},
   "outputs": [
    {
     "data": {
      "text/plain": [
       "<object at 0x7efd344a42c0>"
      ]
     },
     "execution_count": 115,
     "metadata": {},
     "output_type": "execute_result"
    }
   ],
   "source": [
    "o"
   ]
  },
  {
   "cell_type": "code",
   "execution_count": 116,
   "id": "e5bcb9a7-a877-4950-963d-ea1b457489f8",
   "metadata": {},
   "outputs": [
    {
     "ename": "AttributeError",
     "evalue": "'object' object has no attribute 'value'",
     "output_type": "error",
     "traceback": [
      "\u001b[0;31m---------------------------------------------------------------------------\u001b[0m",
      "\u001b[0;31mAttributeError\u001b[0m                            Traceback (most recent call last)",
      "Input \u001b[0;32mIn [116]\u001b[0m, in \u001b[0;36m<cell line: 1>\u001b[0;34m()\u001b[0m\n\u001b[0;32m----> 1\u001b[0m o\u001b[38;5;241m.\u001b[39mvalue \u001b[38;5;241m=\u001b[39m \u001b[38;5;241m100\u001b[39m\n",
      "\u001b[0;31mAttributeError\u001b[0m: 'object' object has no attribute 'value'"
     ]
    }
   ],
   "source": [
    "o.value = 100"
   ]
  },
  {
   "cell_type": "code",
   "execution_count": 117,
   "id": "0d642d9c-bfb4-40da-bc20-13da0001ec25",
   "metadata": {},
   "outputs": [],
   "source": [
    "L = []"
   ]
  },
  {
   "cell_type": "code",
   "execution_count": 118,
   "id": "74fb7e21-954f-402b-b999-561689363469",
   "metadata": {},
   "outputs": [
    {
     "ename": "AttributeError",
     "evalue": "'list' object has no attribute 'value'",
     "output_type": "error",
     "traceback": [
      "\u001b[0;31m---------------------------------------------------------------------------\u001b[0m",
      "\u001b[0;31mAttributeError\u001b[0m                            Traceback (most recent call last)",
      "Input \u001b[0;32mIn [118]\u001b[0m, in \u001b[0;36m<cell line: 1>\u001b[0;34m()\u001b[0m\n\u001b[0;32m----> 1\u001b[0m L\u001b[38;5;241m.\u001b[39mvalue \u001b[38;5;241m=\u001b[39m \u001b[38;5;241m100\u001b[39m\n",
      "\u001b[0;31mAttributeError\u001b[0m: 'list' object has no attribute 'value'"
     ]
    }
   ],
   "source": [
    "L.value = 100"
   ]
  },
  {
   "cell_type": "code",
   "execution_count": 119,
   "id": "db1389e1-3365-4ca9-93a3-0812fd6b3605",
   "metadata": {},
   "outputs": [],
   "source": [
    "class B:\n",
    "    pass"
   ]
  },
  {
   "cell_type": "code",
   "execution_count": 120,
   "id": "c5357bdf-52cc-4a49-801c-7f58727c2f1c",
   "metadata": {},
   "outputs": [],
   "source": [
    "b1 = B()"
   ]
  },
  {
   "cell_type": "code",
   "execution_count": 121,
   "id": "4752cd5d-b141-4bab-9add-d8dc39b0bbb0",
   "metadata": {},
   "outputs": [],
   "source": [
    "b1.value = 100"
   ]
  },
  {
   "cell_type": "code",
   "execution_count": 122,
   "id": "e75c7aef-9a11-4b2b-b4ff-2ebd7388589c",
   "metadata": {},
   "outputs": [
    {
     "data": {
      "text/plain": [
       "123"
      ]
     },
     "execution_count": 122,
     "metadata": {},
     "output_type": "execute_result"
    }
   ],
   "source": [
    "A.meth(b1, 23)"
   ]
  },
  {
   "cell_type": "code",
   "execution_count": 123,
   "id": "57d09168-942e-4e2d-8798-ac831cf21a39",
   "metadata": {},
   "outputs": [
    {
     "data": {
      "text/plain": [
       "True"
      ]
     },
     "execution_count": 123,
     "metadata": {},
     "output_type": "execute_result"
    }
   ],
   "source": [
    "isinstance(A, object)"
   ]
  },
  {
   "cell_type": "code",
   "execution_count": 124,
   "id": "8ad937f6-8599-4a0e-95ba-4ee97ebfafb9",
   "metadata": {},
   "outputs": [
    {
     "data": {
      "text/plain": [
       "True"
      ]
     },
     "execution_count": 124,
     "metadata": {},
     "output_type": "execute_result"
    }
   ],
   "source": [
    "isinstance(A.meth, object)"
   ]
  },
  {
   "cell_type": "code",
   "execution_count": 126,
   "id": "c02d0466-3db5-4107-bc33-bad1db2d850d",
   "metadata": {},
   "outputs": [
    {
     "data": {
      "text/plain": [
       "['meth']"
      ]
     },
     "execution_count": 126,
     "metadata": {},
     "output_type": "execute_result"
    }
   ],
   "source": [
    "[name for name in dir(A) if not name.startswith('__')]"
   ]
  },
  {
   "cell_type": "markdown",
   "id": "2c8c5abf-23fb-4428-a8d2-9dab83f4eb05",
   "metadata": {},
   "source": [
    "# Pause bis 11:55 Uhr"
   ]
  },
  {
   "cell_type": "code",
   "execution_count": null,
   "id": "d6eb344f-d2c6-4398-be51-a8aceb8bd413",
   "metadata": {},
   "outputs": [],
   "source": []
  }
 ],
 "metadata": {
  "kernelspec": {
   "display_name": "Python 3.10",
   "language": "python",
   "name": "python310"
  },
  "language_info": {
   "codemirror_mode": {
    "name": "ipython",
    "version": 3
   },
   "file_extension": ".py",
   "mimetype": "text/x-python",
   "name": "python",
   "nbconvert_exporter": "python",
   "pygments_lexer": "ipython3",
   "version": "3.10.4"
  }
 },
 "nbformat": 4,
 "nbformat_minor": 5
}
