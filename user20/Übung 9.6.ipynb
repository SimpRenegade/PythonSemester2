{
 "cells": [
  {
   "cell_type": "markdown",
   "id": "4e350e7f-76a7-4435-a195-01b5f6b0fb47",
   "metadata": {},
   "source": [
    "### Übung 1"
   ]
  },
  {
   "cell_type": "code",
   "execution_count": 86,
   "id": "5755cbdd-1898-4680-8fe5-d64b75a9d037",
   "metadata": {},
   "outputs": [],
   "source": [
    "L = list(range(0, 13))"
   ]
  },
  {
   "cell_type": "code",
   "execution_count": 87,
   "id": "41519668-6770-44d1-bfe3-c2b78112128b",
   "metadata": {},
   "outputs": [
    {
     "data": {
      "text/plain": [
       "[0, 1, 2, 3, 4, 5, 6, 7, 8, 9, 10, 11, 12]"
      ]
     },
     "execution_count": 87,
     "metadata": {},
     "output_type": "execute_result"
    }
   ],
   "source": [
    "L"
   ]
  },
  {
   "cell_type": "code",
   "execution_count": 88,
   "id": "1a8bca44-4a2f-4a6a-8f54-3e12a99f5c00",
   "metadata": {},
   "outputs": [],
   "source": [
    "L[0:1] = [23]"
   ]
  },
  {
   "cell_type": "code",
   "execution_count": 89,
   "id": "a14cef52-1b0f-43fd-a13f-c30dd8706c0e",
   "metadata": {},
   "outputs": [
    {
     "data": {
      "text/plain": [
       "[23, 1, 2, 3, 4, 5, 6, 7, 8, 9, 10, 11, 12]"
      ]
     },
     "execution_count": 89,
     "metadata": {},
     "output_type": "execute_result"
    }
   ],
   "source": [
    "L"
   ]
  },
  {
   "cell_type": "markdown",
   "id": "7d3a578b-c2a2-4493-8113-ef5f847d06cc",
   "metadata": {},
   "source": [
    "### Übung 2"
   ]
  },
  {
   "cell_type": "code",
   "execution_count": 90,
   "id": "a0314b47-657a-4cdd-ac21-fa7aa1744c45",
   "metadata": {},
   "outputs": [],
   "source": [
    "del L[2:7]"
   ]
  },
  {
   "cell_type": "code",
   "execution_count": 91,
   "id": "de18e8c5-44bd-469e-8d4f-23e642d3a80e",
   "metadata": {},
   "outputs": [
    {
     "data": {
      "text/plain": [
       "[23, 1, 7, 8, 9, 10, 11, 12]"
      ]
     },
     "execution_count": 91,
     "metadata": {},
     "output_type": "execute_result"
    }
   ],
   "source": [
    "L"
   ]
  },
  {
   "cell_type": "code",
   "execution_count": 92,
   "id": "74ea87f1-dd9b-4f98-b406-2aef1b1689fe",
   "metadata": {},
   "outputs": [],
   "source": [
    "L[3:6] = [34, 45, 67, 89, 45, 23, 34, 56]"
   ]
  },
  {
   "cell_type": "code",
   "execution_count": 93,
   "id": "d174aa8e-a767-4bab-9edc-89c8bfd6d590",
   "metadata": {},
   "outputs": [
    {
     "data": {
      "text/plain": [
       "[23, 1, 7, 34, 45, 67, 89, 45, 23, 34, 56, 11, 12]"
      ]
     },
     "execution_count": 93,
     "metadata": {},
     "output_type": "execute_result"
    }
   ],
   "source": [
    "L"
   ]
  },
  {
   "cell_type": "markdown",
   "id": "03c20d86-3b0d-475e-874a-c5c1ff20228e",
   "metadata": {},
   "source": [
    "### Übung 3"
   ]
  },
  {
   "cell_type": "code",
   "execution_count": 94,
   "id": "844806b3-46fb-4d95-8e3d-ffc68bdece15",
   "metadata": {},
   "outputs": [],
   "source": [
    "L1 = L"
   ]
  },
  {
   "cell_type": "code",
   "execution_count": 95,
   "id": "34ad02b9-a20b-4d35-ab96-bbf62beddc90",
   "metadata": {},
   "outputs": [],
   "source": [
    "L2 = L"
   ]
  },
  {
   "cell_type": "code",
   "execution_count": 96,
   "id": "5850d848-2bdd-4d87-81a6-82f66107a1a4",
   "metadata": {},
   "outputs": [],
   "source": [
    "L1.append(5)"
   ]
  },
  {
   "cell_type": "code",
   "execution_count": 97,
   "id": "b6650a1b-0eaa-4d38-8754-52fd1ce1a553",
   "metadata": {},
   "outputs": [],
   "source": [
    "L1.append(6)"
   ]
  },
  {
   "cell_type": "code",
   "execution_count": 98,
   "id": "34aac43d-6e2b-49c0-82a4-740ed31e9d91",
   "metadata": {},
   "outputs": [],
   "source": [
    "L1.append(7)"
   ]
  },
  {
   "cell_type": "code",
   "execution_count": 99,
   "id": "aa2b071e-c93f-47f0-bd5c-542799ff1ba8",
   "metadata": {},
   "outputs": [],
   "source": [
    "L1.append(8)"
   ]
  },
  {
   "cell_type": "code",
   "execution_count": 100,
   "id": "1e9b3a8e-fa17-41da-86d4-5b7be6f767da",
   "metadata": {},
   "outputs": [],
   "source": [
    "L1.append(9)"
   ]
  },
  {
   "cell_type": "code",
   "execution_count": 101,
   "id": "400c9ca5-95b8-4622-81ee-bd502a975c89",
   "metadata": {},
   "outputs": [
    {
     "data": {
      "text/plain": [
       "[23, 1, 7, 34, 45, 67, 89, 45, 23, 34, 56, 11, 12, 5, 6, 7, 8, 9]"
      ]
     },
     "execution_count": 101,
     "metadata": {},
     "output_type": "execute_result"
    }
   ],
   "source": [
    "L1"
   ]
  },
  {
   "cell_type": "code",
   "execution_count": 102,
   "id": "7039f698-cf6d-499e-8f2f-625a4f174b60",
   "metadata": {},
   "outputs": [],
   "source": [
    "L3 = [1, 2, 3, 4, 5]"
   ]
  },
  {
   "cell_type": "code",
   "execution_count": 103,
   "id": "a907e577-ffe9-40dc-9eca-a99ab449b21f",
   "metadata": {},
   "outputs": [],
   "source": [
    "L2.extend(L3)"
   ]
  },
  {
   "cell_type": "code",
   "execution_count": 104,
   "id": "ec688935-a3c7-4711-aabb-0635be052271",
   "metadata": {},
   "outputs": [
    {
     "data": {
      "text/plain": [
       "[23,\n",
       " 1,\n",
       " 7,\n",
       " 34,\n",
       " 45,\n",
       " 67,\n",
       " 89,\n",
       " 45,\n",
       " 23,\n",
       " 34,\n",
       " 56,\n",
       " 11,\n",
       " 12,\n",
       " 5,\n",
       " 6,\n",
       " 7,\n",
       " 8,\n",
       " 9,\n",
       " 1,\n",
       " 2,\n",
       " 3,\n",
       " 4,\n",
       " 5]"
      ]
     },
     "execution_count": 104,
     "metadata": {},
     "output_type": "execute_result"
    }
   ],
   "source": [
    "L2"
   ]
  },
  {
   "cell_type": "markdown",
   "id": "4a409d97-2239-4ffb-b9d6-be632427100c",
   "metadata": {},
   "source": [
    "### Übung 4"
   ]
  },
  {
   "cell_type": "code",
   "execution_count": 105,
   "id": "96120065-4bbb-44e8-abf3-4f9c23d03667",
   "metadata": {},
   "outputs": [
    {
     "data": {
      "text/plain": [
       "[23,\n",
       " 1,\n",
       " 7,\n",
       " 34,\n",
       " 45,\n",
       " 67,\n",
       " 89,\n",
       " 45,\n",
       " 23,\n",
       " 34,\n",
       " 56,\n",
       " 11,\n",
       " 12,\n",
       " 5,\n",
       " 6,\n",
       " 7,\n",
       " 8,\n",
       " 9,\n",
       " 1,\n",
       " 2,\n",
       " 3,\n",
       " 4,\n",
       " 5]"
      ]
     },
     "execution_count": 105,
     "metadata": {},
     "output_type": "execute_result"
    }
   ],
   "source": [
    "L1"
   ]
  },
  {
   "cell_type": "code",
   "execution_count": 106,
   "id": "54bc33dd-946c-4508-946e-6a46dc845bfc",
   "metadata": {},
   "outputs": [],
   "source": [
    "del L1[-1]"
   ]
  },
  {
   "cell_type": "code",
   "execution_count": null,
   "id": "59b24ec0-aa9d-4f66-ad0d-aa1d92b3bdea",
   "metadata": {},
   "outputs": [],
   "source": []
  },
  {
   "cell_type": "code",
   "execution_count": 107,
   "id": "368c1b52-9f89-4aa5-a93f-1c27355e1e88",
   "metadata": {},
   "outputs": [],
   "source": [
    "L1.remove(4)"
   ]
  },
  {
   "cell_type": "code",
   "execution_count": 108,
   "id": "b3848451-8f4f-41b4-873d-19e696a5ea82",
   "metadata": {},
   "outputs": [
    {
     "data": {
      "text/plain": [
       "[23, 1, 7, 34, 45, 67, 89, 45, 23, 34, 56, 11, 12, 5, 6, 7, 8, 9, 1, 2, 3]"
      ]
     },
     "execution_count": 108,
     "metadata": {},
     "output_type": "execute_result"
    }
   ],
   "source": [
    "L1"
   ]
  },
  {
   "cell_type": "code",
   "execution_count": 109,
   "id": "afa56a34-e05d-488b-8117-374ebac6ed0a",
   "metadata": {},
   "outputs": [
    {
     "data": {
      "text/plain": [
       "3"
      ]
     },
     "execution_count": 109,
     "metadata": {},
     "output_type": "execute_result"
    }
   ],
   "source": [
    "L1.pop()"
   ]
  },
  {
   "cell_type": "code",
   "execution_count": 110,
   "id": "aa98c81a-eaf5-4d8e-8908-07b394469785",
   "metadata": {},
   "outputs": [
    {
     "data": {
      "text/plain": [
       "[23, 1, 7, 34, 45, 67, 89, 45, 23, 34, 56, 11, 12, 5, 6, 7, 8, 9, 1, 2]"
      ]
     },
     "execution_count": 110,
     "metadata": {},
     "output_type": "execute_result"
    }
   ],
   "source": [
    "L1"
   ]
  },
  {
   "cell_type": "markdown",
   "id": "420aab6d-11dc-4e35-9828-0322ebc20c6e",
   "metadata": {},
   "source": [
    "### Übung 5"
   ]
  },
  {
   "cell_type": "code",
   "execution_count": 111,
   "id": "1b04defc-dc4c-4c7f-bd86-9e7fa6032fa9",
   "metadata": {},
   "outputs": [],
   "source": [
    "L1.reverse()"
   ]
  },
  {
   "cell_type": "code",
   "execution_count": 112,
   "id": "f7004cbc-763f-4af3-b99d-29abe9d8a813",
   "metadata": {},
   "outputs": [
    {
     "data": {
      "text/plain": [
       "[2, 1, 9, 8, 7, 6, 5, 12, 11, 56, 34, 23, 45, 89, 67, 45, 34, 7, 1, 23]"
      ]
     },
     "execution_count": 112,
     "metadata": {},
     "output_type": "execute_result"
    }
   ],
   "source": [
    "L1"
   ]
  },
  {
   "cell_type": "markdown",
   "id": "8a9db820-9ccf-4532-b36b-ab1cc10b3f83",
   "metadata": {},
   "source": [
    "### Übung 6"
   ]
  },
  {
   "cell_type": "code",
   "execution_count": 113,
   "id": "d8ba952f-4b54-4c59-af2d-c8516efe7869",
   "metadata": {},
   "outputs": [
    {
     "data": {
      "text/plain": [
       "[2, 1, 9, 8, 7, 6, 5, 12, 11, 56, 34, 23, 45, 89, 67, 45, 34, 7, 1, 23]"
      ]
     },
     "execution_count": 113,
     "metadata": {},
     "output_type": "execute_result"
    }
   ],
   "source": [
    "L2"
   ]
  },
  {
   "cell_type": "code",
   "execution_count": 114,
   "id": "76783d2a-a96b-4aad-9be7-4e562278af26",
   "metadata": {},
   "outputs": [
    {
     "data": {
      "text/plain": [
       "[1, 2, 3, 4, 5]"
      ]
     },
     "execution_count": 114,
     "metadata": {},
     "output_type": "execute_result"
    }
   ],
   "source": [
    "L3"
   ]
  },
  {
   "cell_type": "code",
   "execution_count": 115,
   "id": "2387985d-ba0b-4239-8139-f58c70fcf56b",
   "metadata": {},
   "outputs": [],
   "source": [
    "L4 = list(zip(L1, L3))"
   ]
  },
  {
   "cell_type": "code",
   "execution_count": 116,
   "id": "1d823f06-2fab-48a0-a681-282deef65bc5",
   "metadata": {
    "tags": []
   },
   "outputs": [
    {
     "data": {
      "text/plain": [
       "[(2, 1), (1, 2), (9, 3), (8, 4), (7, 5)]"
      ]
     },
     "execution_count": 116,
     "metadata": {},
     "output_type": "execute_result"
    }
   ],
   "source": [
    "L4"
   ]
  },
  {
   "cell_type": "markdown",
   "id": "cc4117ec-c595-4d25-b1ee-46fae7ca4be2",
   "metadata": {},
   "source": [
    "### Übung 7"
   ]
  },
  {
   "cell_type": "code",
   "execution_count": 132,
   "id": "5d2adf6b-b47f-4061-b17a-38ba6ca09906",
   "metadata": {},
   "outputs": [
    {
     "data": {
      "text/plain": [
       "[2, 1, 9, 8, 7, 6, 5, 12, 11, 56, 34, 23, 45, 89, 67, 45, 34, 7, 1, 23]"
      ]
     },
     "execution_count": 132,
     "metadata": {},
     "output_type": "execute_result"
    }
   ],
   "source": [
    "L1"
   ]
  },
  {
   "cell_type": "code",
   "execution_count": 137,
   "id": "e5d61d4e-a766-4cd3-aabf-da51f1176074",
   "metadata": {},
   "outputs": [],
   "source": [
    "L5 = []\n",
    "for x in L1:\n",
    "    L5.append(x * 10)"
   ]
  },
  {
   "cell_type": "code",
   "execution_count": 138,
   "id": "7aaec34c-ca11-41f9-860c-2b19f76d3088",
   "metadata": {},
   "outputs": [],
   "source": [
    "L6 = []"
   ]
  },
  {
   "cell_type": "code",
   "execution_count": 139,
   "id": "929af972-1f59-4867-9531-ac3e1de8501d",
   "metadata": {},
   "outputs": [
    {
     "data": {
      "text/plain": [
       "False"
      ]
     },
     "execution_count": 139,
     "metadata": {},
     "output_type": "execute_result"
    }
   ],
   "source": [
    "L6 = (x * 10 for x in L1)\n",
    "L6 == L1"
   ]
  },
  {
   "cell_type": "markdown",
   "id": "97507adb-522b-439a-928b-eefbd2006e4c",
   "metadata": {},
   "source": [
    "### Übung 8"
   ]
  },
  {
   "cell_type": "code",
   "execution_count": 130,
   "id": "678a8cf1-c006-42e8-b0d6-50a6ac2f59ba",
   "metadata": {},
   "outputs": [],
   "source": [
    "def my_sort(value):\n",
    "    if value % 2 == 0:\n",
    "        return 0\n",
    "    elif value % 2 == 1:\n",
    "        return 1"
   ]
  },
  {
   "cell_type": "code",
   "execution_count": 131,
   "id": "bb354ff0-af26-4e47-b9ea-ddfd692860bf",
   "metadata": {},
   "outputs": [
    {
     "data": {
      "text/plain": [
       "[2, 8, 6, 12, 56, 34, 34, 1, 9, 7, 5, 11, 23, 45, 89, 67, 45, 7, 1, 23]"
      ]
     },
     "execution_count": 131,
     "metadata": {},
     "output_type": "execute_result"
    }
   ],
   "source": [
    "sorted(L1, key = my_sort)"
   ]
  },
  {
   "cell_type": "code",
   "execution_count": 125,
   "id": "5b2742ad-f53c-4f9d-b48e-b9962b37058d",
   "metadata": {},
   "outputs": [
    {
     "data": {
      "text/plain": [
       "[2, 6, 8, 12, 34, 34, 56, 1, 1, 5, 7, 7, 9, 11, 23, 23, 45, 45, 67, 89]"
      ]
     },
     "execution_count": 125,
     "metadata": {},
     "output_type": "execute_result"
    }
   ],
   "source": [
    "sorted(L, key=lambda x: (x%2, x))"
   ]
  },
  {
   "cell_type": "code",
   "execution_count": null,
   "id": "7758083e-ce06-44fb-acbf-6a17de16c039",
   "metadata": {},
   "outputs": [],
   "source": []
  }
 ],
 "metadata": {
  "kernelspec": {
   "display_name": "Python 3.10",
   "language": "python",
   "name": "python310"
  },
  "language_info": {
   "codemirror_mode": {
    "name": "ipython",
    "version": 3
   },
   "file_extension": ".py",
   "mimetype": "text/x-python",
   "name": "python",
   "nbconvert_exporter": "python",
   "pygments_lexer": "ipython3",
   "version": "3.10.4"
  }
 },
 "nbformat": 4,
 "nbformat_minor": 5
}
