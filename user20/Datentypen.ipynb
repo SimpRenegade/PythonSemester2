{
 "cells": [
  {
   "cell_type": "markdown",
   "id": "29e46e99-8427-48a5-83ff-8b83e7054b20",
   "metadata": {},
   "source": [
    "#Einfache Datentypen"
   ]
  },
  {
   "cell_type": "code",
   "execution_count": 37,
   "id": "5e34eecd-62f2-4f28-b84b-054d04ff24d6",
   "metadata": {},
   "outputs": [
    {
     "data": {
      "text/plain": [
       "int"
      ]
     },
     "execution_count": 37,
     "metadata": {},
     "output_type": "execute_result"
    }
   ],
   "source": [
    "type(1)"
   ]
  },
  {
   "cell_type": "code",
   "execution_count": 38,
   "id": "1065ebf6-7ac1-4b46-a400-8b8df7b523b5",
   "metadata": {},
   "outputs": [
    {
     "data": {
      "text/plain": [
       "10000000000"
      ]
     },
     "execution_count": 38,
     "metadata": {},
     "output_type": "execute_result"
    }
   ],
   "source": [
    "10 ** 10"
   ]
  },
  {
   "cell_type": "code",
   "execution_count": 39,
   "id": "f10b52c8-5ece-4901-88b3-4bf4be3057c1",
   "metadata": {},
   "outputs": [],
   "source": [
    "import sys"
   ]
  },
  {
   "cell_type": "code",
   "execution_count": 40,
   "id": "46051a9a-f170-47a4-81db-57ba91a59271",
   "metadata": {},
   "outputs": [
    {
     "data": {
      "text/plain": [
       "9223372036854775807"
      ]
     },
     "execution_count": 40,
     "metadata": {},
     "output_type": "execute_result"
    }
   ],
   "source": [
    "sys.maxsize"
   ]
  },
  {
   "cell_type": "code",
   "execution_count": 41,
   "id": "f8b74537-92ce-4bf6-b625-69997a734e9c",
   "metadata": {},
   "outputs": [
    {
     "data": {
      "text/plain": [
       "9223372036854775807"
      ]
     },
     "execution_count": 41,
     "metadata": {},
     "output_type": "execute_result"
    }
   ],
   "source": [
    "2 ** 63 - 1"
   ]
  },
  {
   "cell_type": "code",
   "execution_count": 42,
   "id": "61d62db6-53d4-45cf-a5fa-ce9823fb1dd7",
   "metadata": {},
   "outputs": [
    {
     "data": {
      "text/plain": [
       "10000000000000000000000000000000000000000000000000000000000000000000000000000000000000000000000000000"
      ]
     },
     "execution_count": 42,
     "metadata": {},
     "output_type": "execute_result"
    }
   ],
   "source": [
    "10 ** 100"
   ]
  },
  {
   "cell_type": "code",
   "execution_count": 43,
   "id": "39233ca5-b930-43f0-90f7-ff00eb83e647",
   "metadata": {},
   "outputs": [
    {
     "data": {
      "text/plain": [
       "float"
      ]
     },
     "execution_count": 43,
     "metadata": {},
     "output_type": "execute_result"
    }
   ],
   "source": [
    "type(1.6)"
   ]
  },
  {
   "cell_type": "code",
   "execution_count": 44,
   "id": "0baf30da-7628-4e2e-9236-45c8842c334a",
   "metadata": {},
   "outputs": [
    {
     "data": {
      "text/plain": [
       "sys.float_info(max=1.7976931348623157e+308, max_exp=1024, max_10_exp=308, min=2.2250738585072014e-308, min_exp=-1021, min_10_exp=-307, dig=15, mant_dig=53, epsilon=2.220446049250313e-16, radix=2, rounds=1)"
      ]
     },
     "execution_count": 44,
     "metadata": {},
     "output_type": "execute_result"
    }
   ],
   "source": [
    "sys.float_info"
   ]
  },
  {
   "cell_type": "code",
   "execution_count": 45,
   "id": "bae86cf3-63c5-4fbb-b097-1bc88d32644b",
   "metadata": {},
   "outputs": [
    {
     "data": {
      "text/plain": [
       "(7+15j)"
      ]
     },
     "execution_count": 45,
     "metadata": {},
     "output_type": "execute_result"
    }
   ],
   "source": [
    "#Komplexe Zahlen \"j\"\n",
    "2 + 6j + 5 + 9j"
   ]
  },
  {
   "cell_type": "code",
   "execution_count": 46,
   "id": "3d67b748-e21c-40c7-a758-e4baa43719ad",
   "metadata": {},
   "outputs": [],
   "source": [
    "None"
   ]
  },
  {
   "cell_type": "code",
   "execution_count": 47,
   "id": "f8a03e5f-33a3-4c0b-b184-5dd2b02f91d9",
   "metadata": {},
   "outputs": [
    {
     "data": {
      "text/plain": [
       "True"
      ]
     },
     "execution_count": 47,
     "metadata": {},
     "output_type": "execute_result"
    }
   ],
   "source": [
    "a = None\n",
    "a is None"
   ]
  },
  {
   "cell_type": "code",
   "execution_count": 48,
   "id": "2dbbd48a-20cd-47fa-9c9e-70dc8f42ae8c",
   "metadata": {},
   "outputs": [
    {
     "data": {
      "text/plain": [
       "True"
      ]
     },
     "execution_count": 48,
     "metadata": {},
     "output_type": "execute_result"
    }
   ],
   "source": [
    "bool(1 == 1)"
   ]
  },
  {
   "cell_type": "code",
   "execution_count": 49,
   "id": "34ce3175-a1ff-4356-9287-e5df41afb619",
   "metadata": {},
   "outputs": [
    {
     "data": {
      "text/plain": [
       "False"
      ]
     },
     "execution_count": 49,
     "metadata": {},
     "output_type": "execute_result"
    }
   ],
   "source": [
    "bool(0)"
   ]
  },
  {
   "cell_type": "code",
   "execution_count": 50,
   "id": "20e63ce6-cd1e-43db-b20e-1977cbaba3d5",
   "metadata": {},
   "outputs": [],
   "source": [
    "#Kollektionen\n",
    "#Sequenzen\n",
    "l = [1, 2, 3] #Liste\n",
    "t = (1, 2, 3) #Tupel\n",
    "s = \"1, 2, 3\" #String\n"
   ]
  },
  {
   "cell_type": "markdown",
   "id": "2cb575db-6f8e-430b-bab8-7d71f4486ae0",
   "metadata": {},
   "source": [
    "# Dictionarys\n",
    "Items in dem Dictionary"
   ]
  },
  {
   "cell_type": "code",
   "execution_count": 51,
   "id": "9eb9bdea-8fa5-4098-b1b3-d3ce94817288",
   "metadata": {},
   "outputs": [
    {
     "data": {
      "text/plain": [
       "100"
      ]
     },
     "execution_count": 51,
     "metadata": {},
     "output_type": "execute_result"
    }
   ],
   "source": [
    "d = {\"a\" : 100, \"b\" : 200, \"c\" : 300}\n",
    "d\n",
    "d[\"a\"]"
   ]
  },
  {
   "cell_type": "markdown",
   "id": "9f7b092f-c170-4283-8e00-a2a93932f779",
   "metadata": {},
   "source": [
    "# Mengen / Sets\n",
    "# Eigene Datentypen"
   ]
  },
  {
   "cell_type": "code",
   "execution_count": 52,
   "id": "fc64d1e6-46a3-4077-a2cc-cc772085b405",
   "metadata": {},
   "outputs": [
    {
     "data": {
      "text/plain": [
       "['a', 'b', 'c']"
      ]
     },
     "execution_count": 52,
     "metadata": {},
     "output_type": "execute_result"
    }
   ],
   "source": [
    "list(\"abc\")"
   ]
  },
  {
   "cell_type": "code",
   "execution_count": 53,
   "id": "aa72f29d-d05f-4abc-b009-ae34d875a849",
   "metadata": {},
   "outputs": [
    {
     "data": {
      "text/plain": [
       "'abcdefghijk'"
      ]
     },
     "execution_count": 53,
     "metadata": {},
     "output_type": "execute_result"
    }
   ],
   "source": [
    "s = \"abcdefghijk\"\n",
    "s"
   ]
  },
  {
   "cell_type": "code",
   "execution_count": 54,
   "id": "b044e6f0-679c-4683-b179-b67c47941862",
   "metadata": {},
   "outputs": [
    {
     "data": {
      "text/plain": [
       "True"
      ]
     },
     "execution_count": 54,
     "metadata": {},
     "output_type": "execute_result"
    }
   ],
   "source": [
    "\"a\" in s"
   ]
  },
  {
   "cell_type": "code",
   "execution_count": 55,
   "id": "7e5f0ba5-61ee-4ce3-ad4f-e6878cb1db2f",
   "metadata": {},
   "outputs": [
    {
     "data": {
      "text/plain": [
       "True"
      ]
     },
     "execution_count": 55,
     "metadata": {},
     "output_type": "execute_result"
    }
   ],
   "source": [
    "t = (1, 2, 3)\n",
    "1 in t"
   ]
  },
  {
   "cell_type": "code",
   "execution_count": 56,
   "id": "7ceacdba-9666-4daf-aa76-27db0d459234",
   "metadata": {},
   "outputs": [
    {
     "data": {
      "text/plain": [
       "False"
      ]
     },
     "execution_count": 56,
     "metadata": {},
     "output_type": "execute_result"
    }
   ],
   "source": [
    "(1, 2) in t"
   ]
  },
  {
   "cell_type": "code",
   "execution_count": 57,
   "id": "b06a001f-c036-45f4-8665-eeffa9baf0e6",
   "metadata": {},
   "outputs": [
    {
     "data": {
      "text/plain": [
       "True"
      ]
     },
     "execution_count": 57,
     "metadata": {},
     "output_type": "execute_result"
    }
   ],
   "source": [
    "\"hijk\" in s"
   ]
  },
  {
   "cell_type": "code",
   "execution_count": 58,
   "id": "516583fc-a4c3-430d-a8ac-430a0cbd1988",
   "metadata": {},
   "outputs": [
    {
     "data": {
      "text/plain": [
       "7"
      ]
     },
     "execution_count": 58,
     "metadata": {},
     "output_type": "execute_result"
    }
   ],
   "source": [
    "s.index(\"h\")"
   ]
  },
  {
   "cell_type": "code",
   "execution_count": 59,
   "id": "53198e11-8c13-4d0d-beea-cec68319a8d9",
   "metadata": {},
   "outputs": [
    {
     "data": {
      "text/plain": [
       "(1, 2, 3)"
      ]
     },
     "execution_count": 59,
     "metadata": {},
     "output_type": "execute_result"
    }
   ],
   "source": [
    "t"
   ]
  },
  {
   "cell_type": "code",
   "execution_count": 64,
   "id": "9b58ee79-208d-4a07-b3c5-55fd86c933e2",
   "metadata": {},
   "outputs": [
    {
     "data": {
      "text/plain": [
       "[1, 2, 3, [1, 2, 3], [1, 2, 3], [1, 2, 3], 1, 3, 4]"
      ]
     },
     "execution_count": 64,
     "metadata": {},
     "output_type": "execute_result"
    }
   ],
   "source": [
    "l.append([1, 2, 3])\n",
    "l\n",
    "l.extend([1, 3, 4])\n",
    "l"
   ]
  },
  {
   "cell_type": "code",
   "execution_count": 70,
   "id": "b12d65e9-12bc-428c-aaee-696e873e3a60",
   "metadata": {},
   "outputs": [
    {
     "name": "stdout",
     "output_type": "stream",
     "text": [
      "4 6 100\n",
      "5 7 200\n",
      "6 8 444\n"
     ]
    }
   ],
   "source": [
    "for x1, x2, x3 in zip(\"456\", \"678\", [100, 200, 444], strict=True):\n",
    "    print(x1, x2, x3)"
   ]
  },
  {
   "cell_type": "code",
   "execution_count": null,
   "id": "976da27f-3d9d-441a-b113-58cd393a9bb8",
   "metadata": {},
   "outputs": [],
   "source": []
  }
 ],
 "metadata": {
  "kernelspec": {
   "display_name": "Python 3.10",
   "language": "python",
   "name": "python310"
  },
  "language_info": {
   "codemirror_mode": {
    "name": "ipython",
    "version": 3
   },
   "file_extension": ".py",
   "mimetype": "text/x-python",
   "name": "python",
   "nbconvert_exporter": "python",
   "pygments_lexer": "ipython3",
   "version": "3.10.4"
  }
 },
 "nbformat": 4,
 "nbformat_minor": 5
}
