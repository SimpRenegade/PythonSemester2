{
 "cells": [
  {
   "cell_type": "code",
   "execution_count": 1,
   "id": "4d792b57-a126-4495-bc67-59a1309ac74c",
   "metadata": {},
   "outputs": [
    {
     "ename": "ZeroDivisionError",
     "evalue": "division by zero",
     "output_type": "error",
     "traceback": [
      "\u001b[0;31m---------------------------------------------------------------------------\u001b[0m",
      "\u001b[0;31mZeroDivisionError\u001b[0m                         Traceback (most recent call last)",
      "Input \u001b[0;32mIn [1]\u001b[0m, in \u001b[0;36m<cell line: 1>\u001b[0;34m()\u001b[0m\n\u001b[0;32m----> 1\u001b[0m \u001b[38;5;241;43m1\u001b[39;49m\u001b[43m \u001b[49m\u001b[38;5;241;43m/\u001b[39;49m\u001b[43m \u001b[49m\u001b[38;5;241;43m0\u001b[39;49m\n",
      "\u001b[0;31mZeroDivisionError\u001b[0m: division by zero"
     ]
    }
   ],
   "source": [
    "1 / 0"
   ]
  },
  {
   "cell_type": "code",
   "execution_count": 2,
   "id": "071809f7-e241-4d56-8bb4-fbcb85f09c67",
   "metadata": {},
   "outputs": [],
   "source": [
    "import sys"
   ]
  },
  {
   "cell_type": "code",
   "execution_count": 3,
   "id": "b6c49acb-679e-4470-b82a-fe7038e4db21",
   "metadata": {},
   "outputs": [
    {
     "name": "stdout",
     "output_type": "stream",
     "text": [
      "Hallo"
     ]
    },
    {
     "data": {
      "text/plain": [
       "5"
      ]
     },
     "execution_count": 3,
     "metadata": {},
     "output_type": "execute_result"
    }
   ],
   "source": [
    "sys.stdout.write('Hallo')"
   ]
  },
  {
   "cell_type": "code",
   "execution_count": 4,
   "id": "db987135-1cea-4063-8edb-998f43cefbf8",
   "metadata": {},
   "outputs": [
    {
     "name": "stderr",
     "output_type": "stream",
     "text": [
      "Hallo"
     ]
    },
    {
     "data": {
      "text/plain": [
       "5"
      ]
     },
     "execution_count": 4,
     "metadata": {},
     "output_type": "execute_result"
    }
   ],
   "source": [
    "sys.stderr.write('Hallo')"
   ]
  },
  {
   "cell_type": "code",
   "execution_count": 5,
   "id": "783bfc25-c097-4ee0-bdd1-b0745ac4e3b5",
   "metadata": {},
   "outputs": [
    {
     "data": {
      "text/plain": [
       "<ipykernel.iostream.OutStream at 0x7f35c5f99d80>"
      ]
     },
     "execution_count": 5,
     "metadata": {},
     "output_type": "execute_result"
    }
   ],
   "source": [
    "sys.stderr"
   ]
  },
  {
   "cell_type": "code",
   "execution_count": null,
   "id": "bead3240-c3e8-44f0-8a68-89ffe7a70f84",
   "metadata": {},
   "outputs": [],
   "source": [
    "sys.stderr??"
   ]
  },
  {
   "cell_type": "code",
   "execution_count": 7,
   "id": "3747590e-e29a-4b5d-a947-477f17c4e82b",
   "metadata": {},
   "outputs": [
    {
     "ename": "ZeroDivisionError",
     "evalue": "division by zero",
     "output_type": "error",
     "traceback": [
      "\u001b[0;31m---------------------------------------------------------------------------\u001b[0m",
      "\u001b[0;31mZeroDivisionError\u001b[0m                         Traceback (most recent call last)",
      "Input \u001b[0;32mIn [7]\u001b[0m, in \u001b[0;36m<cell line: 4>\u001b[0;34m()\u001b[0m\n\u001b[1;32m      1\u001b[0m a \u001b[38;5;241m=\u001b[39m \u001b[38;5;241m1\u001b[39m\n\u001b[1;32m      2\u001b[0m b \u001b[38;5;241m=\u001b[39m \u001b[38;5;241m0\u001b[39m\n\u001b[0;32m----> 4\u001b[0m \u001b[43ma\u001b[49m\u001b[43m \u001b[49m\u001b[38;5;241;43m/\u001b[39;49m\u001b[43m \u001b[49m\u001b[43mb\u001b[49m\n",
      "\u001b[0;31mZeroDivisionError\u001b[0m: division by zero"
     ]
    }
   ],
   "source": [
    "a = 1\n",
    "b = 0\n",
    "\n",
    "a / b"
   ]
  },
  {
   "cell_type": "code",
   "execution_count": 8,
   "id": "efcb7620-ffec-4b5a-a01f-be1ece3e2f35",
   "metadata": {},
   "outputs": [
    {
     "name": "stdout",
     "output_type": "stream",
     "text": [
      "geht nicht\n"
     ]
    }
   ],
   "source": [
    "a = 1\n",
    "b = 0\n",
    "\n",
    "try:\n",
    "    a / b\n",
    "except ZeroDivisionError:\n",
    "    print('geht nicht')"
   ]
  },
  {
   "cell_type": "code",
   "execution_count": 13,
   "id": "f8837929-d6d6-4c85-b5de-6170224fbc34",
   "metadata": {},
   "outputs": [
    {
     "name": "stdout",
     "output_type": "stream",
     "text": [
      "geht nicht\n",
      "division by zero\n",
      "<class 'ZeroDivisionError'>\n"
     ]
    },
    {
     "data": {
      "text/plain": [
       "ZeroDivisionError"
      ]
     },
     "execution_count": 13,
     "metadata": {},
     "output_type": "execute_result"
    }
   ],
   "source": [
    "a = 1\n",
    "b = 0\n",
    "\n",
    "try:\n",
    "    a / b\n",
    "except ZeroDivisionError as err:\n",
    "    print('geht nicht')\n",
    "    print(err)\n",
    "    print(type(err))\n",
    "    e = err\n",
    "type(e)"
   ]
  },
  {
   "cell_type": "code",
   "execution_count": 10,
   "id": "6bbab150-a985-4fd0-8219-1c2d98e6fe85",
   "metadata": {},
   "outputs": [
    {
     "data": {
      "text/plain": [
       "type"
      ]
     },
     "execution_count": 10,
     "metadata": {},
     "output_type": "execute_result"
    }
   ],
   "source": [
    "type(ZeroDivisionError)"
   ]
  },
  {
   "cell_type": "code",
   "execution_count": 14,
   "id": "e491dbb0-1981-4d88-8cce-85705801dd72",
   "metadata": {},
   "outputs": [],
   "source": [
    "def divide(a, b):\n",
    "    try:\n",
    "        return a / b\n",
    "    except ZeroDivisionError:\n",
    "        print('geht nicht')"
   ]
  },
  {
   "cell_type": "code",
   "execution_count": 15,
   "id": "81ed9733-108d-46d0-9b33-5c285f552845",
   "metadata": {},
   "outputs": [
    {
     "name": "stdout",
     "output_type": "stream",
     "text": [
      "geht nicht\n"
     ]
    }
   ],
   "source": [
    "divide(1, 0)"
   ]
  },
  {
   "cell_type": "code",
   "execution_count": 16,
   "id": "a86739d2-6bd0-400d-a480-cb86802998d6",
   "metadata": {},
   "outputs": [
    {
     "data": {
      "text/plain": [
       "0.1"
      ]
     },
     "execution_count": 16,
     "metadata": {},
     "output_type": "execute_result"
    }
   ],
   "source": [
    "divide(1, 10)"
   ]
  },
  {
   "cell_type": "code",
   "execution_count": 17,
   "id": "0f27ca82-0db0-494b-aee1-e01999358cce",
   "metadata": {},
   "outputs": [
    {
     "data": {
      "text/plain": [
       "5.1"
      ]
     },
     "execution_count": 17,
     "metadata": {},
     "output_type": "execute_result"
    }
   ],
   "source": [
    "divide(1, 10) + 5"
   ]
  },
  {
   "cell_type": "code",
   "execution_count": 18,
   "id": "9b55d1c2-97a0-4d33-b1f6-3151784ed8dc",
   "metadata": {},
   "outputs": [
    {
     "name": "stdout",
     "output_type": "stream",
     "text": [
      "geht nicht\n"
     ]
    },
    {
     "ename": "TypeError",
     "evalue": "unsupported operand type(s) for +: 'NoneType' and 'int'",
     "output_type": "error",
     "traceback": [
      "\u001b[0;31m---------------------------------------------------------------------------\u001b[0m",
      "\u001b[0;31mTypeError\u001b[0m                                 Traceback (most recent call last)",
      "Input \u001b[0;32mIn [18]\u001b[0m, in \u001b[0;36m<cell line: 1>\u001b[0;34m()\u001b[0m\n\u001b[0;32m----> 1\u001b[0m \u001b[43mdivide\u001b[49m\u001b[43m(\u001b[49m\u001b[38;5;241;43m1\u001b[39;49m\u001b[43m,\u001b[49m\u001b[43m \u001b[49m\u001b[38;5;241;43m0\u001b[39;49m\u001b[43m)\u001b[49m\u001b[43m \u001b[49m\u001b[38;5;241;43m+\u001b[39;49m\u001b[43m \u001b[49m\u001b[38;5;241;43m5\u001b[39;49m\n",
      "\u001b[0;31mTypeError\u001b[0m: unsupported operand type(s) for +: 'NoneType' and 'int'"
     ]
    }
   ],
   "source": [
    "divide(1, 0) + 5"
   ]
  },
  {
   "cell_type": "code",
   "execution_count": 19,
   "id": "08dd8e35-6956-478c-a740-ea3bff172408",
   "metadata": {},
   "outputs": [],
   "source": [
    "def divide(a, b):\n",
    "    try:\n",
    "        return a / b\n",
    "    except ZeroDivisionError:\n",
    "        print('geht nicht')\n",
    "    finally:\n",
    "        print('immer')"
   ]
  },
  {
   "cell_type": "code",
   "execution_count": 20,
   "id": "cea38f49-26e4-406a-ab9a-84ab62d71199",
   "metadata": {},
   "outputs": [
    {
     "name": "stdout",
     "output_type": "stream",
     "text": [
      "geht nicht\n",
      "immer\n"
     ]
    }
   ],
   "source": [
    "divide(1, 0)"
   ]
  },
  {
   "cell_type": "code",
   "execution_count": 21,
   "id": "3e34493f-b87d-499a-abba-0eab156bd26a",
   "metadata": {},
   "outputs": [
    {
     "name": "stdout",
     "output_type": "stream",
     "text": [
      "immer\n"
     ]
    },
    {
     "data": {
      "text/plain": [
       "0.1"
      ]
     },
     "execution_count": 21,
     "metadata": {},
     "output_type": "execute_result"
    }
   ],
   "source": [
    "divide(1, 10)"
   ]
  },
  {
   "cell_type": "code",
   "execution_count": 22,
   "id": "9a606e8f-0fac-4ac9-8f6b-cc03cc5125c5",
   "metadata": {},
   "outputs": [
    {
     "ename": "NameError",
     "evalue": "name 'hfhf' is not defined",
     "output_type": "error",
     "traceback": [
      "\u001b[0;31m---------------------------------------------------------------------------\u001b[0m",
      "\u001b[0;31mNameError\u001b[0m                                 Traceback (most recent call last)",
      "Input \u001b[0;32mIn [22]\u001b[0m, in \u001b[0;36m<cell line: 1>\u001b[0;34m()\u001b[0m\n\u001b[0;32m----> 1\u001b[0m \u001b[43mhfhf\u001b[49m\n",
      "\u001b[0;31mNameError\u001b[0m: name 'hfhf' is not defined"
     ]
    }
   ],
   "source": [
    "hfhf"
   ]
  },
  {
   "cell_type": "code",
   "execution_count": 23,
   "id": "90dff662-3519-48d8-b3e9-f0e5215cb26d",
   "metadata": {},
   "outputs": [
    {
     "name": "stdout",
     "output_type": "stream",
     "text": [
      "geht nicht\n"
     ]
    }
   ],
   "source": [
    "a = 1\n",
    "b = 0\n",
    "\n",
    "try:\n",
    "    a / b\n",
    "    xyz\n",
    "except ZeroDivisionError:\n",
    "    print('geht nicht')"
   ]
  },
  {
   "cell_type": "code",
   "execution_count": 24,
   "id": "97c50bdf-01ea-4714-8e6d-70d40e4f5b0e",
   "metadata": {},
   "outputs": [
    {
     "ename": "NameError",
     "evalue": "name 'xyz' is not defined",
     "output_type": "error",
     "traceback": [
      "\u001b[0;31m---------------------------------------------------------------------------\u001b[0m",
      "\u001b[0;31mNameError\u001b[0m                                 Traceback (most recent call last)",
      "Input \u001b[0;32mIn [24]\u001b[0m, in \u001b[0;36m<cell line: 1>\u001b[0;34m()\u001b[0m\n\u001b[0;32m----> 1\u001b[0m \u001b[43mxyz\u001b[49m\n",
      "\u001b[0;31mNameError\u001b[0m: name 'xyz' is not defined"
     ]
    }
   ],
   "source": [
    "xyz"
   ]
  },
  {
   "cell_type": "code",
   "execution_count": 25,
   "id": "9c9936f0-1f61-4459-b4fe-94e63567ceb3",
   "metadata": {},
   "outputs": [
    {
     "name": "stdout",
     "output_type": "stream",
     "text": [
      "geht nicht\n"
     ]
    }
   ],
   "source": [
    "a = 1\n",
    "b = 0\n",
    "\n",
    "\n",
    "def divide2(a, b):\n",
    "    return a / b\n",
    "\n",
    "\n",
    "try:\n",
    "    divide2(a, b)\n",
    "    xyz\n",
    "except ZeroDivisionError:\n",
    "    print('geht nicht')"
   ]
  },
  {
   "cell_type": "code",
   "execution_count": 26,
   "id": "72d0111d-8773-4abe-9eb5-8cece1715895",
   "metadata": {},
   "outputs": [
    {
     "ename": "NameError",
     "evalue": "name 'xyz' is not defined",
     "output_type": "error",
     "traceback": [
      "\u001b[0;31m---------------------------------------------------------------------------\u001b[0m",
      "\u001b[0;31mNameError\u001b[0m                                 Traceback (most recent call last)",
      "Input \u001b[0;32mIn [26]\u001b[0m, in \u001b[0;36m<cell line: 4>\u001b[0;34m()\u001b[0m\n\u001b[1;32m      4\u001b[0m \u001b[38;5;28;01mtry\u001b[39;00m:\n\u001b[1;32m      5\u001b[0m     a \u001b[38;5;241m/\u001b[39m b\n\u001b[0;32m----> 6\u001b[0m     \u001b[43mxyz\u001b[49m\n\u001b[1;32m      7\u001b[0m \u001b[38;5;28;01mexcept\u001b[39;00m \u001b[38;5;167;01mZeroDivisionError\u001b[39;00m:\n\u001b[1;32m      8\u001b[0m     \u001b[38;5;28mprint\u001b[39m(\u001b[38;5;124m'\u001b[39m\u001b[38;5;124mgeht nicht\u001b[39m\u001b[38;5;124m'\u001b[39m)\n",
      "\u001b[0;31mNameError\u001b[0m: name 'xyz' is not defined"
     ]
    }
   ],
   "source": [
    "a = 1\n",
    "b = 10\n",
    "\n",
    "try:\n",
    "    a / b\n",
    "    xyz\n",
    "except ZeroDivisionError:\n",
    "    print('geht nicht')"
   ]
  },
  {
   "cell_type": "code",
   "execution_count": 29,
   "id": "965683e4-60c6-4b7f-86d9-3f8c45c1bbc5",
   "metadata": {},
   "outputs": [
    {
     "name": "stdout",
     "output_type": "stream",
     "text": [
      "geht nicht\n",
      "division by zero\n"
     ]
    }
   ],
   "source": [
    "a = 1\n",
    "b = 0\n",
    "\n",
    "try:\n",
    "    a / b\n",
    "    xyz\n",
    "except (ZeroDivisionError, NameError) as err:\n",
    "    print('geht nicht')\n",
    "    print(err)"
   ]
  },
  {
   "cell_type": "code",
   "execution_count": 31,
   "id": "a2d62597-ced4-478e-9424-858840c49475",
   "metadata": {},
   "outputs": [
    {
     "name": "stdout",
     "output_type": "stream",
     "text": [
      "name\n"
     ]
    }
   ],
   "source": [
    "a = 1\n",
    "b = 10\n",
    "\n",
    "try:\n",
    "    a / b\n",
    "    xyz\n",
    "except ZeroDivisionError:\n",
    "    print('zero')\n",
    "except NameError:\n",
    "    print('name')"
   ]
  },
  {
   "cell_type": "code",
   "execution_count": 32,
   "id": "58276ba5-34d9-4605-ba76-2bf7e3622432",
   "metadata": {},
   "outputs": [
    {
     "data": {
      "text/plain": [
       "[ZeroDivisionError, ArithmeticError, Exception, BaseException, object]"
      ]
     },
     "execution_count": 32,
     "metadata": {},
     "output_type": "execute_result"
    }
   ],
   "source": [
    "ZeroDivisionError.mro()"
   ]
  },
  {
   "cell_type": "code",
   "execution_count": 33,
   "id": "4c24041d-ea47-4648-9dfb-cd7cb086f6f8",
   "metadata": {},
   "outputs": [
    {
     "name": "stdout",
     "output_type": "stream",
     "text": [
      "arithm\n"
     ]
    }
   ],
   "source": [
    "a = 1\n",
    "b = 0\n",
    "\n",
    "try:\n",
    "    a / b\n",
    "except ArithmeticError:\n",
    "    print('arithm')\n",
    "except ZeroDivisionError:\n",
    "    print('zero')"
   ]
  },
  {
   "cell_type": "code",
   "execution_count": 34,
   "id": "0668bd87-c913-4733-85f8-4f90f284944f",
   "metadata": {},
   "outputs": [
    {
     "name": "stdout",
     "output_type": "stream",
     "text": [
      "zero\n"
     ]
    }
   ],
   "source": [
    "a = 1\n",
    "b = 0\n",
    "\n",
    "try:\n",
    "    a / b\n",
    "except ZeroDivisionError:\n",
    "    print('zero')\n",
    "except ArithmeticError:\n",
    "    print('arithm')"
   ]
  },
  {
   "cell_type": "code",
   "execution_count": 35,
   "id": "9596479d-a902-468b-85aa-6faf9e85a159",
   "metadata": {},
   "outputs": [
    {
     "ename": "ZeroDivisionError",
     "evalue": "von mir",
     "output_type": "error",
     "traceback": [
      "\u001b[0;31m---------------------------------------------------------------------------\u001b[0m",
      "\u001b[0;31mZeroDivisionError\u001b[0m                         Traceback (most recent call last)",
      "Input \u001b[0;32mIn [35]\u001b[0m, in \u001b[0;36m<cell line: 1>\u001b[0;34m()\u001b[0m\n\u001b[0;32m----> 1\u001b[0m \u001b[38;5;28;01mraise\u001b[39;00m \u001b[38;5;167;01mZeroDivisionError\u001b[39;00m(\u001b[38;5;124m'\u001b[39m\u001b[38;5;124mvon mir\u001b[39m\u001b[38;5;124m'\u001b[39m)\n",
      "\u001b[0;31mZeroDivisionError\u001b[0m: von mir"
     ]
    }
   ],
   "source": [
    "raise ZeroDivisionError('von mir')"
   ]
  },
  {
   "cell_type": "code",
   "execution_count": 37,
   "id": "fef1cfa2-c084-43fe-8380-659df4d08f23",
   "metadata": {},
   "outputs": [
    {
     "name": "stdout",
     "output_type": "stream",
     "text": [
      "geht nicht\n"
     ]
    },
    {
     "ename": "ZeroDivisionError",
     "evalue": "division by zero",
     "output_type": "error",
     "traceback": [
      "\u001b[0;31m---------------------------------------------------------------------------\u001b[0m",
      "\u001b[0;31mZeroDivisionError\u001b[0m                         Traceback (most recent call last)",
      "Input \u001b[0;32mIn [37]\u001b[0m, in \u001b[0;36m<cell line: 4>\u001b[0;34m()\u001b[0m\n\u001b[1;32m      2\u001b[0m b \u001b[38;5;241m=\u001b[39m \u001b[38;5;241m0\u001b[39m\n\u001b[1;32m      4\u001b[0m \u001b[38;5;28;01mtry\u001b[39;00m:\n\u001b[0;32m----> 5\u001b[0m     \u001b[43ma\u001b[49m\u001b[43m \u001b[49m\u001b[38;5;241;43m/\u001b[39;49m\u001b[43m \u001b[49m\u001b[43mb\u001b[49m\n\u001b[1;32m      6\u001b[0m \u001b[38;5;28;01mexcept\u001b[39;00m \u001b[38;5;167;01mZeroDivisionError\u001b[39;00m:\n\u001b[1;32m      7\u001b[0m     \u001b[38;5;28mprint\u001b[39m(\u001b[38;5;124m'\u001b[39m\u001b[38;5;124mgeht nicht\u001b[39m\u001b[38;5;124m'\u001b[39m)\n",
      "\u001b[0;31mZeroDivisionError\u001b[0m: division by zero"
     ]
    }
   ],
   "source": [
    "a = 1\n",
    "b = 0\n",
    "\n",
    "try:\n",
    "    a / b\n",
    "except ZeroDivisionError:\n",
    "    print('geht nicht')\n",
    "    raise"
   ]
  },
  {
   "cell_type": "code",
   "execution_count": 38,
   "id": "4408109d-173c-4cd6-ae58-c33b49ea8553",
   "metadata": {},
   "outputs": [],
   "source": [
    "class MyException(Exception):\n",
    "    pass"
   ]
  },
  {
   "cell_type": "code",
   "execution_count": 39,
   "id": "6f38f77c-c6a2-4c32-be0e-c00c48f6c64d",
   "metadata": {},
   "outputs": [
    {
     "ename": "MyException",
     "evalue": "von mir",
     "output_type": "error",
     "traceback": [
      "\u001b[0;31m---------------------------------------------------------------------------\u001b[0m",
      "\u001b[0;31mMyException\u001b[0m                               Traceback (most recent call last)",
      "Input \u001b[0;32mIn [39]\u001b[0m, in \u001b[0;36m<cell line: 1>\u001b[0;34m()\u001b[0m\n\u001b[0;32m----> 1\u001b[0m \u001b[38;5;28;01mraise\u001b[39;00m MyException(\u001b[38;5;124m'\u001b[39m\u001b[38;5;124mvon mir\u001b[39m\u001b[38;5;124m'\u001b[39m)\n",
      "\u001b[0;31mMyException\u001b[0m: von mir"
     ]
    }
   ],
   "source": [
    "raise MyException('von mir')"
   ]
  },
  {
   "cell_type": "code",
   "execution_count": 40,
   "id": "c1912899-94bd-49dd-a5ae-8e46b527c037",
   "metadata": {},
   "outputs": [],
   "source": [
    "x = 100"
   ]
  },
  {
   "cell_type": "code",
   "execution_count": 41,
   "id": "08e447e2-203d-42c5-ab86-b5621e0d4a98",
   "metadata": {},
   "outputs": [
    {
     "ename": "MyException",
     "evalue": "Wert: 100",
     "output_type": "error",
     "traceback": [
      "\u001b[0;31m---------------------------------------------------------------------------\u001b[0m",
      "\u001b[0;31mMyException\u001b[0m                               Traceback (most recent call last)",
      "Input \u001b[0;32mIn [41]\u001b[0m, in \u001b[0;36m<cell line: 1>\u001b[0;34m()\u001b[0m\n\u001b[0;32m----> 1\u001b[0m \u001b[38;5;28;01mraise\u001b[39;00m MyException(\u001b[38;5;124mf\u001b[39m\u001b[38;5;124m'\u001b[39m\u001b[38;5;124mWert: \u001b[39m\u001b[38;5;132;01m{\u001b[39;00mx\u001b[38;5;132;01m}\u001b[39;00m\u001b[38;5;124m'\u001b[39m)\n",
      "\u001b[0;31mMyException\u001b[0m: Wert: 100"
     ]
    }
   ],
   "source": [
    "raise MyException(f'Wert: {x}')"
   ]
  },
  {
   "cell_type": "markdown",
   "id": "fda6f785-8f92-440b-8d9a-6df4b31f20d4",
   "metadata": {},
   "source": [
    "# Pause bis 10 Uhr"
   ]
  },
  {
   "cell_type": "code",
   "execution_count": 42,
   "id": "74550faf-d2e2-467f-b949-675405702e6e",
   "metadata": {},
   "outputs": [],
   "source": [
    "d = {'a': 100}"
   ]
  },
  {
   "cell_type": "code",
   "execution_count": 43,
   "id": "3a4aaa55-9993-4a5d-a87c-d29537e96148",
   "metadata": {},
   "outputs": [
    {
     "ename": "KeyError",
     "evalue": "'b'",
     "output_type": "error",
     "traceback": [
      "\u001b[0;31m---------------------------------------------------------------------------\u001b[0m",
      "\u001b[0;31mKeyError\u001b[0m                                  Traceback (most recent call last)",
      "Input \u001b[0;32mIn [43]\u001b[0m, in \u001b[0;36m<cell line: 1>\u001b[0;34m()\u001b[0m\n\u001b[0;32m----> 1\u001b[0m \u001b[43md\u001b[49m\u001b[43m[\u001b[49m\u001b[38;5;124;43m'\u001b[39;49m\u001b[38;5;124;43mb\u001b[39;49m\u001b[38;5;124;43m'\u001b[39;49m\u001b[43m]\u001b[49m\n",
      "\u001b[0;31mKeyError\u001b[0m: 'b'"
     ]
    }
   ],
   "source": [
    "d['b']"
   ]
  },
  {
   "cell_type": "code",
   "execution_count": 46,
   "id": "6223e1c0-2136-4f43-a0ba-dbdd0af5543c",
   "metadata": {},
   "outputs": [
    {
     "data": {
      "text/plain": [
       "100"
      ]
     },
     "execution_count": 46,
     "metadata": {},
     "output_type": "execute_result"
    }
   ],
   "source": [
    "d.get('a')"
   ]
  },
  {
   "cell_type": "code",
   "execution_count": 44,
   "id": "86a5817d-4545-400a-b7b1-98cd96748952",
   "metadata": {},
   "outputs": [],
   "source": [
    "d.get('b')"
   ]
  },
  {
   "cell_type": "code",
   "execution_count": 45,
   "id": "9266d389-e3ba-46e6-9be1-3219482ea0be",
   "metadata": {},
   "outputs": [
    {
     "data": {
      "text/plain": [
       "999"
      ]
     },
     "execution_count": 45,
     "metadata": {},
     "output_type": "execute_result"
    }
   ],
   "source": [
    "d.get('b', 999)"
   ]
  },
  {
   "cell_type": "code",
   "execution_count": 48,
   "id": "78a13486-d98e-4bae-bac8-7f3fe38844c1",
   "metadata": {},
   "outputs": [],
   "source": [
    "def my_get(dic, key, default=None):\n",
    "    try:\n",
    "        return dic[key]\n",
    "    except KeyError:\n",
    "        return default"
   ]
  },
  {
   "cell_type": "code",
   "execution_count": 49,
   "id": "58576aab-4d92-4a15-8f5b-d93829d9a295",
   "metadata": {},
   "outputs": [
    {
     "data": {
      "text/plain": [
       "100"
      ]
     },
     "execution_count": 49,
     "metadata": {},
     "output_type": "execute_result"
    }
   ],
   "source": [
    "my_get(d, 'a')"
   ]
  },
  {
   "cell_type": "code",
   "execution_count": 51,
   "id": "ca1f8016-208d-4857-9857-dbcec3037262",
   "metadata": {},
   "outputs": [],
   "source": [
    "my_get(d, 'b')"
   ]
  },
  {
   "cell_type": "code",
   "execution_count": 52,
   "id": "ef58e478-7332-46df-9bc5-c57247e47f4d",
   "metadata": {},
   "outputs": [
    {
     "data": {
      "text/plain": [
       "999"
      ]
     },
     "execution_count": 52,
     "metadata": {},
     "output_type": "execute_result"
    }
   ],
   "source": [
    "my_get(d, 'b', 999)"
   ]
  },
  {
   "cell_type": "code",
   "execution_count": 47,
   "id": "e188cfa2-065d-4a71-a8f1-4452f32de75c",
   "metadata": {},
   "outputs": [
    {
     "ename": "KeyError",
     "evalue": "'b'",
     "output_type": "error",
     "traceback": [
      "\u001b[0;31m---------------------------------------------------------------------------\u001b[0m",
      "\u001b[0;31mKeyError\u001b[0m                                  Traceback (most recent call last)",
      "Input \u001b[0;32mIn [47]\u001b[0m, in \u001b[0;36m<cell line: 1>\u001b[0;34m()\u001b[0m\n\u001b[0;32m----> 1\u001b[0m \u001b[43md\u001b[49m\u001b[43m[\u001b[49m\u001b[38;5;124;43m'\u001b[39;49m\u001b[38;5;124;43mb\u001b[39;49m\u001b[38;5;124;43m'\u001b[39;49m\u001b[43m]\u001b[49m\n",
      "\u001b[0;31mKeyError\u001b[0m: 'b'"
     ]
    }
   ],
   "source": [
    "d['b']"
   ]
  },
  {
   "cell_type": "code",
   "execution_count": 53,
   "id": "e5dee910-b8a5-487c-b1d4-c6faaf098b2e",
   "metadata": {},
   "outputs": [],
   "source": [
    "def my_get2(dic, key, default=None):\n",
    "    if key in dic:\n",
    "        return dic[key]\n",
    "    return default"
   ]
  },
  {
   "cell_type": "code",
   "execution_count": 54,
   "id": "52064219-4c2b-44e9-b5f7-58009ce24c34",
   "metadata": {},
   "outputs": [
    {
     "data": {
      "text/plain": [
       "100"
      ]
     },
     "execution_count": 54,
     "metadata": {},
     "output_type": "execute_result"
    }
   ],
   "source": [
    "my_get2(d, 'a')"
   ]
  },
  {
   "cell_type": "code",
   "execution_count": 55,
   "id": "96a47014-be15-49c3-96e2-1798bf6b78aa",
   "metadata": {},
   "outputs": [],
   "source": [
    "my_get2(d, 'b')"
   ]
  },
  {
   "cell_type": "code",
   "execution_count": 56,
   "id": "afbf8ad8-ebf9-4e43-a8bb-ebb8513e9a70",
   "metadata": {},
   "outputs": [
    {
     "data": {
      "text/plain": [
       "999"
      ]
     },
     "execution_count": 56,
     "metadata": {},
     "output_type": "execute_result"
    }
   ],
   "source": [
    "my_get2(d, 'b', 999)"
   ]
  },
  {
   "cell_type": "code",
   "execution_count": 57,
   "id": "24d1f59e-7cab-4671-ba64-4aff67f470ab",
   "metadata": {},
   "outputs": [
    {
     "data": {
      "text/plain": [
       "\u001b[0;31mSignature:\u001b[0m \u001b[0md\u001b[0m\u001b[0;34m.\u001b[0m\u001b[0mget\u001b[0m\u001b[0;34m(\u001b[0m\u001b[0mkey\u001b[0m\u001b[0;34m,\u001b[0m \u001b[0mdefault\u001b[0m\u001b[0;34m=\u001b[0m\u001b[0;32mNone\u001b[0m\u001b[0;34m,\u001b[0m \u001b[0;34m/\u001b[0m\u001b[0;34m)\u001b[0m\u001b[0;34m\u001b[0m\u001b[0;34m\u001b[0m\u001b[0m\n",
       "\u001b[0;31mDocstring:\u001b[0m Return the value for key if key is in the dictionary, else default.\n",
       "\u001b[0;31mType:\u001b[0m      builtin_function_or_method\n"
      ]
     },
     "metadata": {},
     "output_type": "display_data"
    }
   ],
   "source": [
    "d.get??"
   ]
  },
  {
   "cell_type": "code",
   "execution_count": null,
   "id": "2751fb27-d979-403a-a26d-297d684aed9c",
   "metadata": {},
   "outputs": [],
   "source": []
  }
 ],
 "metadata": {
  "kernelspec": {
   "display_name": "Python 3.10",
   "language": "python",
   "name": "python310"
  },
  "language_info": {
   "codemirror_mode": {
    "name": "ipython",
    "version": 3
   },
   "file_extension": ".py",
   "mimetype": "text/x-python",
   "name": "python",
   "nbconvert_exporter": "python",
   "pygments_lexer": "ipython3",
   "version": "3.10.4"
  }
 },
 "nbformat": 4,
 "nbformat_minor": 5
}
