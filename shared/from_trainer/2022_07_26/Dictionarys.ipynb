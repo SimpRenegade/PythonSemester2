{
 "cells": [
  {
   "cell_type": "code",
   "execution_count": 1,
   "id": "60b8c249-c03a-4a80-959c-ec2009e09390",
   "metadata": {},
   "outputs": [],
   "source": [
    "d = {'a': 100, 'b': 200, 'c': 300}"
   ]
  },
  {
   "cell_type": "code",
   "execution_count": 2,
   "id": "57ca6cd3-6066-4f9b-8f64-1889e6ea610e",
   "metadata": {},
   "outputs": [
    {
     "data": {
      "text/plain": [
       "{'a': 100, 'b': 200, 'c': 300}"
      ]
     },
     "execution_count": 2,
     "metadata": {},
     "output_type": "execute_result"
    }
   ],
   "source": [
    "d"
   ]
  },
  {
   "cell_type": "code",
   "execution_count": 4,
   "id": "5a40b5e4-7330-492d-b7fa-b54f69453ca0",
   "metadata": {},
   "outputs": [
    {
     "data": {
      "text/plain": [
       "100"
      ]
     },
     "execution_count": 4,
     "metadata": {},
     "output_type": "execute_result"
    }
   ],
   "source": [
    "d['a']"
   ]
  },
  {
   "cell_type": "code",
   "execution_count": 5,
   "id": "79aee493-112b-4d83-9842-d81b0ff8cd7b",
   "metadata": {},
   "outputs": [
    {
     "data": {
      "text/plain": [
       "3"
      ]
     },
     "execution_count": 5,
     "metadata": {},
     "output_type": "execute_result"
    }
   ],
   "source": [
    "len(d)"
   ]
  },
  {
   "cell_type": "code",
   "execution_count": 6,
   "id": "10141617-a26a-4cfa-8c7a-27da25df9976",
   "metadata": {},
   "outputs": [],
   "source": [
    "d['a'] = 1000"
   ]
  },
  {
   "cell_type": "code",
   "execution_count": 7,
   "id": "9bf6f309-970f-4b6f-8a72-b3022c85069b",
   "metadata": {},
   "outputs": [
    {
     "data": {
      "text/plain": [
       "{'a': 1000, 'b': 200, 'c': 300}"
      ]
     },
     "execution_count": 7,
     "metadata": {},
     "output_type": "execute_result"
    }
   ],
   "source": [
    "d"
   ]
  },
  {
   "cell_type": "code",
   "execution_count": 8,
   "id": "455e0764-c76b-4106-8884-371fad0d61c5",
   "metadata": {},
   "outputs": [],
   "source": [
    "del d['b']"
   ]
  },
  {
   "cell_type": "code",
   "execution_count": 9,
   "id": "fda0d765-1768-4572-8064-87bed7d156ec",
   "metadata": {},
   "outputs": [
    {
     "data": {
      "text/plain": [
       "{'a': 1000, 'c': 300}"
      ]
     },
     "execution_count": 9,
     "metadata": {},
     "output_type": "execute_result"
    }
   ],
   "source": [
    "d"
   ]
  },
  {
   "cell_type": "code",
   "execution_count": 10,
   "id": "3154187f-e0c3-4db1-a18e-66087de18c36",
   "metadata": {},
   "outputs": [],
   "source": [
    "d['b'] = 2000"
   ]
  },
  {
   "cell_type": "code",
   "execution_count": 11,
   "id": "51982277-a9c5-432e-bfd8-b9ea4360ac63",
   "metadata": {},
   "outputs": [
    {
     "data": {
      "text/plain": [
       "{'a': 1000, 'c': 300, 'b': 2000}"
      ]
     },
     "execution_count": 11,
     "metadata": {},
     "output_type": "execute_result"
    }
   ],
   "source": [
    "d"
   ]
  },
  {
   "cell_type": "code",
   "execution_count": 12,
   "id": "6273a8d2-3f00-4657-8751-496b01663de0",
   "metadata": {},
   "outputs": [],
   "source": [
    "d['x'] = 3000"
   ]
  },
  {
   "cell_type": "code",
   "execution_count": 13,
   "id": "ea6b34f7-5364-41d1-b7fa-509cf2bfdd5a",
   "metadata": {},
   "outputs": [
    {
     "data": {
      "text/plain": [
       "{'a': 1000, 'c': 300, 'b': 2000, 'x': 3000}"
      ]
     },
     "execution_count": 13,
     "metadata": {},
     "output_type": "execute_result"
    }
   ],
   "source": [
    "d"
   ]
  },
  {
   "cell_type": "code",
   "execution_count": 14,
   "id": "3f97ce31-eaa3-4b93-a6b1-6dbbe245590f",
   "metadata": {},
   "outputs": [
    {
     "data": {
      "text/plain": [
       "True"
      ]
     },
     "execution_count": 14,
     "metadata": {},
     "output_type": "execute_result"
    }
   ],
   "source": [
    "'a' in d"
   ]
  },
  {
   "cell_type": "code",
   "execution_count": 15,
   "id": "8b7ebe0b-bc96-45cb-a711-7e9dd35bc7aa",
   "metadata": {},
   "outputs": [
    {
     "data": {
      "text/plain": [
       "False"
      ]
     },
     "execution_count": 15,
     "metadata": {},
     "output_type": "execute_result"
    }
   ],
   "source": [
    "1000 in d"
   ]
  },
  {
   "cell_type": "code",
   "execution_count": 16,
   "id": "03b73ed8-43a8-43ae-9633-bfca881cd77d",
   "metadata": {},
   "outputs": [
    {
     "data": {
      "text/plain": [
       "dict_keys(['a', 'c', 'b', 'x'])"
      ]
     },
     "execution_count": 16,
     "metadata": {},
     "output_type": "execute_result"
    }
   ],
   "source": [
    "d.keys()"
   ]
  },
  {
   "cell_type": "code",
   "execution_count": 17,
   "id": "36f3708e-2cc3-4aa7-b89f-cdb286123482",
   "metadata": {},
   "outputs": [
    {
     "data": {
      "text/plain": [
       "dict_values([1000, 300, 2000, 3000])"
      ]
     },
     "execution_count": 17,
     "metadata": {},
     "output_type": "execute_result"
    }
   ],
   "source": [
    "d.values()"
   ]
  },
  {
   "cell_type": "code",
   "execution_count": 18,
   "id": "eed58d2e-01f4-4176-84b2-a231edc110d1",
   "metadata": {},
   "outputs": [
    {
     "data": {
      "text/plain": [
       "dict_items([('a', 1000), ('c', 300), ('b', 2000), ('x', 3000)])"
      ]
     },
     "execution_count": 18,
     "metadata": {},
     "output_type": "execute_result"
    }
   ],
   "source": [
    "d.items()"
   ]
  },
  {
   "cell_type": "code",
   "execution_count": 19,
   "id": "b8d10c6b-1dc2-4b5d-9df9-f9948c9bf02a",
   "metadata": {},
   "outputs": [],
   "source": [
    "k = d.keys()"
   ]
  },
  {
   "cell_type": "code",
   "execution_count": 20,
   "id": "d6083e83-cff5-49bc-a5e3-4ffe40db0b46",
   "metadata": {},
   "outputs": [
    {
     "data": {
      "text/plain": [
       "dict_keys(['a', 'c', 'b', 'x'])"
      ]
     },
     "execution_count": 20,
     "metadata": {},
     "output_type": "execute_result"
    }
   ],
   "source": [
    "k"
   ]
  },
  {
   "cell_type": "code",
   "execution_count": 22,
   "id": "31d9a4b3-b27e-41b8-a825-be0838d72cd0",
   "metadata": {},
   "outputs": [],
   "source": [
    "d['y'] = 5000"
   ]
  },
  {
   "cell_type": "code",
   "execution_count": 23,
   "id": "3d6ce071-d250-448d-9906-89a4d4a83a84",
   "metadata": {},
   "outputs": [
    {
     "data": {
      "text/plain": [
       "dict_keys(['a', 'c', 'b', 'x', 'y'])"
      ]
     },
     "execution_count": 23,
     "metadata": {},
     "output_type": "execute_result"
    }
   ],
   "source": [
    "k"
   ]
  },
  {
   "cell_type": "code",
   "execution_count": 24,
   "id": "f1f62249-5e31-4736-b46f-317d68d036e1",
   "metadata": {},
   "outputs": [
    {
     "data": {
      "text/plain": [
       "['a', 'c', 'b', 'x', 'y']"
      ]
     },
     "execution_count": 24,
     "metadata": {},
     "output_type": "execute_result"
    }
   ],
   "source": [
    "list(k)"
   ]
  },
  {
   "cell_type": "code",
   "execution_count": 25,
   "id": "896c4837-f25d-4d61-800e-2c0d7eba83c5",
   "metadata": {},
   "outputs": [
    {
     "data": {
      "text/plain": [
       "\u001b[0;31mDocstring:\u001b[0m D.clear() -> None.  Remove all items from D.\n",
       "\u001b[0;31mType:\u001b[0m      builtin_function_or_method\n"
      ]
     },
     "metadata": {},
     "output_type": "display_data"
    }
   ],
   "source": [
    "d.clear?"
   ]
  },
  {
   "cell_type": "code",
   "execution_count": 26,
   "id": "4735df41-4e6f-4edd-ab47-ae0af3f1a2f3",
   "metadata": {},
   "outputs": [],
   "source": [
    "neu = {'a': 1234, 'ö': 5678}"
   ]
  },
  {
   "cell_type": "code",
   "execution_count": 27,
   "id": "d0f9ce21-dc2a-4d57-8b4c-76311237fabf",
   "metadata": {},
   "outputs": [],
   "source": [
    "d2 = d.copy()"
   ]
  },
  {
   "cell_type": "code",
   "execution_count": 28,
   "id": "8c33658d-55c0-4e30-ab1d-6063937cc9a4",
   "metadata": {},
   "outputs": [
    {
     "data": {
      "text/plain": [
       "\u001b[0;31mDocstring:\u001b[0m D.copy() -> a shallow copy of D\n",
       "\u001b[0;31mType:\u001b[0m      builtin_function_or_method\n"
      ]
     },
     "metadata": {},
     "output_type": "display_data"
    }
   ],
   "source": [
    "d.copy?"
   ]
  },
  {
   "cell_type": "code",
   "execution_count": 29,
   "id": "be854982-c42b-4164-b3ca-b78fa934c424",
   "metadata": {},
   "outputs": [],
   "source": [
    "import copy"
   ]
  },
  {
   "cell_type": "code",
   "execution_count": 30,
   "id": "f2df06b2-5a2a-40ff-a993-29829ae13d8e",
   "metadata": {},
   "outputs": [
    {
     "data": {
      "text/plain": [
       "\u001b[0;31mSignature:\u001b[0m \u001b[0mcopy\u001b[0m\u001b[0;34m.\u001b[0m\u001b[0mdeepcopy\u001b[0m\u001b[0;34m(\u001b[0m\u001b[0mx\u001b[0m\u001b[0;34m,\u001b[0m \u001b[0mmemo\u001b[0m\u001b[0;34m=\u001b[0m\u001b[0;32mNone\u001b[0m\u001b[0;34m,\u001b[0m \u001b[0m_nil\u001b[0m\u001b[0;34m=\u001b[0m\u001b[0;34m[\u001b[0m\u001b[0;34m]\u001b[0m\u001b[0;34m)\u001b[0m\u001b[0;34m\u001b[0m\u001b[0;34m\u001b[0m\u001b[0m\n",
       "\u001b[0;31mDocstring:\u001b[0m\n",
       "Deep copy operation on arbitrary Python objects.\n",
       "\n",
       "See the module's __doc__ string for more info.\n",
       "\u001b[0;31mFile:\u001b[0m      /opt/mambaforge/envs/python310/lib/python3.10/copy.py\n",
       "\u001b[0;31mType:\u001b[0m      function\n"
      ]
     },
     "metadata": {},
     "output_type": "display_data"
    }
   ],
   "source": [
    "copy.deepcopy?"
   ]
  },
  {
   "cell_type": "code",
   "execution_count": 31,
   "id": "762bb613-1b5c-4195-8288-26c31808ef10",
   "metadata": {},
   "outputs": [
    {
     "data": {
      "text/plain": [
       "\u001b[0;31mType:\u001b[0m        module\n",
       "\u001b[0;31mString form:\u001b[0m <module 'copy' from '/opt/mambaforge/envs/python310/lib/python3.10/copy.py'>\n",
       "\u001b[0;31mFile:\u001b[0m        /opt/mambaforge/envs/python310/lib/python3.10/copy.py\n",
       "\u001b[0;31mDocstring:\u001b[0m  \n",
       "Generic (shallow and deep) copying operations.\n",
       "\n",
       "Interface summary:\n",
       "\n",
       "        import copy\n",
       "\n",
       "        x = copy.copy(y)        # make a shallow copy of y\n",
       "        x = copy.deepcopy(y)    # make a deep copy of y\n",
       "\n",
       "For module specific errors, copy.Error is raised.\n",
       "\n",
       "The difference between shallow and deep copying is only relevant for\n",
       "compound objects (objects that contain other objects, like lists or\n",
       "class instances).\n",
       "\n",
       "- A shallow copy constructs a new compound object and then (to the\n",
       "  extent possible) inserts *the same objects* into it that the\n",
       "  original contains.\n",
       "\n",
       "- A deep copy constructs a new compound object and then, recursively,\n",
       "  inserts *copies* into it of the objects found in the original.\n",
       "\n",
       "Two problems often exist with deep copy operations that don't exist\n",
       "with shallow copy operations:\n",
       "\n",
       " a) recursive objects (compound objects that, directly or indirectly,\n",
       "    contain a reference to themselves) may cause a recursive loop\n",
       "\n",
       " b) because deep copy copies *everything* it may copy too much, e.g.\n",
       "    administrative data structures that should be shared even between\n",
       "    copies\n",
       "\n",
       "Python's deep copy operation avoids these problems by:\n",
       "\n",
       " a) keeping a table of objects already copied during the current\n",
       "    copying pass\n",
       "\n",
       " b) letting user-defined classes override the copying operation or the\n",
       "    set of components copied\n",
       "\n",
       "This version does not copy types like module, class, function, method,\n",
       "nor stack trace, stack frame, nor file, socket, window, nor any\n",
       "similar types.\n",
       "\n",
       "Classes can use the same interfaces to control copying that they use\n",
       "to control pickling: they can define methods called __getinitargs__(),\n",
       "__getstate__() and __setstate__().  See the documentation for module\n",
       "\"pickle\" for information on these methods.\n"
      ]
     },
     "metadata": {},
     "output_type": "display_data"
    }
   ],
   "source": [
    "copy?"
   ]
  },
  {
   "cell_type": "code",
   "execution_count": 32,
   "id": "bd1426e7-edd4-4d8a-bd51-8ae1d5914064",
   "metadata": {},
   "outputs": [
    {
     "data": {
      "text/plain": [
       "{'a': 1000, 'c': 300, 'b': 2000, 'x': 3000, 'y': 5000}"
      ]
     },
     "execution_count": 32,
     "metadata": {},
     "output_type": "execute_result"
    }
   ],
   "source": [
    "d2"
   ]
  },
  {
   "cell_type": "code",
   "execution_count": 33,
   "id": "824cec38-8bfb-4615-a962-c1d05aa704f6",
   "metadata": {},
   "outputs": [
    {
     "data": {
      "text/plain": [
       "{'a': 1000, 'c': 300, 'b': 2000, 'x': 3000, 'y': 5000}"
      ]
     },
     "execution_count": 33,
     "metadata": {},
     "output_type": "execute_result"
    }
   ],
   "source": [
    "d"
   ]
  },
  {
   "cell_type": "code",
   "execution_count": 34,
   "id": "4e388e9f-5991-4ca4-b3be-4eb84cef0777",
   "metadata": {},
   "outputs": [
    {
     "data": {
      "text/plain": [
       "True"
      ]
     },
     "execution_count": 34,
     "metadata": {},
     "output_type": "execute_result"
    }
   ],
   "source": [
    "d == d2"
   ]
  },
  {
   "cell_type": "code",
   "execution_count": 35,
   "id": "89bf4ba9-4878-4446-b7b0-c15ca0785431",
   "metadata": {},
   "outputs": [
    {
     "data": {
      "text/plain": [
       "False"
      ]
     },
     "execution_count": 35,
     "metadata": {},
     "output_type": "execute_result"
    }
   ],
   "source": [
    "d is d2"
   ]
  },
  {
   "cell_type": "code",
   "execution_count": 36,
   "id": "ea120760-143a-4402-8117-6b2f23792dd3",
   "metadata": {},
   "outputs": [],
   "source": [
    "d3 = d"
   ]
  },
  {
   "cell_type": "code",
   "execution_count": 37,
   "id": "a4d8ec16-2bc3-421a-9907-45c6d729648c",
   "metadata": {},
   "outputs": [
    {
     "data": {
      "text/plain": [
       "{'a': 1000, 'c': 300, 'b': 2000, 'x': 3000, 'y': 5000}"
      ]
     },
     "execution_count": 37,
     "metadata": {},
     "output_type": "execute_result"
    }
   ],
   "source": [
    "d3"
   ]
  },
  {
   "cell_type": "code",
   "execution_count": 38,
   "id": "f50b2941-141a-4696-9b7b-10acb017a6fb",
   "metadata": {},
   "outputs": [
    {
     "data": {
      "text/plain": [
       "True"
      ]
     },
     "execution_count": 38,
     "metadata": {},
     "output_type": "execute_result"
    }
   ],
   "source": [
    "d == d3"
   ]
  },
  {
   "cell_type": "code",
   "execution_count": 39,
   "id": "305dfaaa-a92f-426d-8c7d-33481c295c9d",
   "metadata": {},
   "outputs": [
    {
     "data": {
      "text/plain": [
       "True"
      ]
     },
     "execution_count": 39,
     "metadata": {},
     "output_type": "execute_result"
    }
   ],
   "source": [
    "d is d3"
   ]
  },
  {
   "cell_type": "code",
   "execution_count": 40,
   "id": "ca8e37f7-89d0-4d58-9db6-2afcdef87b7f",
   "metadata": {},
   "outputs": [],
   "source": [
    "a = 1"
   ]
  },
  {
   "cell_type": "code",
   "execution_count": 41,
   "id": "51b9232c-2855-4328-bd48-2a15c0274299",
   "metadata": {},
   "outputs": [
    {
     "data": {
      "text/plain": [
       "1"
      ]
     },
     "execution_count": 41,
     "metadata": {},
     "output_type": "execute_result"
    }
   ],
   "source": [
    "a"
   ]
  },
  {
   "cell_type": "code",
   "execution_count": 42,
   "id": "dd665388-74ee-497b-8500-9f730117adeb",
   "metadata": {},
   "outputs": [
    {
     "data": {
      "text/plain": [
       "1"
      ]
     },
     "execution_count": 42,
     "metadata": {},
     "output_type": "execute_result"
    }
   ],
   "source": [
    "int('1')"
   ]
  },
  {
   "cell_type": "code",
   "execution_count": 43,
   "id": "79089efd-081a-47a8-9afd-8ef2a442e60d",
   "metadata": {},
   "outputs": [],
   "source": [
    "b = [1, 2, 3]"
   ]
  },
  {
   "cell_type": "code",
   "execution_count": 44,
   "id": "ae4c0258-66b3-4cc8-8333-ecaf38d55f90",
   "metadata": {},
   "outputs": [
    {
     "data": {
      "text/plain": [
       "[1, 2, 3]"
      ]
     },
     "execution_count": 44,
     "metadata": {},
     "output_type": "execute_result"
    }
   ],
   "source": [
    "b"
   ]
  },
  {
   "cell_type": "code",
   "execution_count": 45,
   "id": "667b2bae-9d00-43b1-8a91-36813df06d6c",
   "metadata": {},
   "outputs": [
    {
     "data": {
      "text/plain": [
       "[1, 2, 3]"
      ]
     },
     "execution_count": 45,
     "metadata": {},
     "output_type": "execute_result"
    }
   ],
   "source": [
    "list(range(1, 4))"
   ]
  },
  {
   "cell_type": "code",
   "execution_count": 46,
   "id": "4f9e7d77-d277-4f43-9b6e-0e0524ed8052",
   "metadata": {},
   "outputs": [
    {
     "data": {
      "text/plain": [
       "{'a': 1234, 'ö': 5678}"
      ]
     },
     "execution_count": 46,
     "metadata": {},
     "output_type": "execute_result"
    }
   ],
   "source": [
    "neu"
   ]
  },
  {
   "cell_type": "code",
   "execution_count": 47,
   "id": "479f23be-7ad2-4dfb-b14c-0987ba751f50",
   "metadata": {},
   "outputs": [
    {
     "data": {
      "text/plain": [
       "{'a': 1000, 'c': 300, 'b': 2000, 'x': 3000, 'y': 5000}"
      ]
     },
     "execution_count": 47,
     "metadata": {},
     "output_type": "execute_result"
    }
   ],
   "source": [
    "d"
   ]
  },
  {
   "cell_type": "code",
   "execution_count": 48,
   "id": "63d217cb-88e3-4cbb-be70-2ea945877423",
   "metadata": {},
   "outputs": [
    {
     "data": {
      "text/plain": [
       "{'a': 1000, 'c': 300, 'b': 2000, 'x': 3000, 'y': 5000}"
      ]
     },
     "execution_count": 48,
     "metadata": {},
     "output_type": "execute_result"
    }
   ],
   "source": [
    "d2"
   ]
  },
  {
   "cell_type": "code",
   "execution_count": 49,
   "id": "d9c95422-8599-47f0-8074-d84493312a41",
   "metadata": {},
   "outputs": [],
   "source": [
    "d.update(neu)"
   ]
  },
  {
   "cell_type": "code",
   "execution_count": 50,
   "id": "80d9e551-b830-4301-836d-c21c4a6764cd",
   "metadata": {},
   "outputs": [
    {
     "data": {
      "text/plain": [
       "{'a': 1234, 'c': 300, 'b': 2000, 'x': 3000, 'y': 5000, 'ö': 5678}"
      ]
     },
     "execution_count": 50,
     "metadata": {},
     "output_type": "execute_result"
    }
   ],
   "source": [
    "d"
   ]
  },
  {
   "cell_type": "code",
   "execution_count": 51,
   "id": "0417ff24-d992-4654-a607-b42479e9f36b",
   "metadata": {},
   "outputs": [
    {
     "data": {
      "text/plain": [
       "{'a': 1000, 'c': 300, 'b': 2000, 'x': 3000, 'y': 5000}"
      ]
     },
     "execution_count": 51,
     "metadata": {},
     "output_type": "execute_result"
    }
   ],
   "source": [
    "d2"
   ]
  },
  {
   "cell_type": "code",
   "execution_count": 52,
   "id": "952fad01-0bc9-46dc-ba6f-1e830e0ceb8d",
   "metadata": {},
   "outputs": [],
   "source": [
    "for k, v in neu.items():\n",
    "    d2[k] = v"
   ]
  },
  {
   "cell_type": "code",
   "execution_count": 53,
   "id": "a8996863-bde8-4852-91c4-84770c8222e1",
   "metadata": {},
   "outputs": [
    {
     "data": {
      "text/plain": [
       "{'a': 1234, 'c': 300, 'b': 2000, 'x': 3000, 'y': 5000, 'ö': 5678}"
      ]
     },
     "execution_count": 53,
     "metadata": {},
     "output_type": "execute_result"
    }
   ],
   "source": [
    "d2"
   ]
  },
  {
   "cell_type": "code",
   "execution_count": 54,
   "id": "e0905af9-e2c5-405c-9808-9872b3819b3d",
   "metadata": {},
   "outputs": [
    {
     "data": {
      "text/plain": [
       "True"
      ]
     },
     "execution_count": 54,
     "metadata": {},
     "output_type": "execute_result"
    }
   ],
   "source": [
    "d2 == d"
   ]
  },
  {
   "cell_type": "code",
   "execution_count": 55,
   "id": "c5f1c3eb-75a2-46ad-b063-e7d2639e1002",
   "metadata": {},
   "outputs": [
    {
     "data": {
      "text/plain": [
       "dict_items([('a', 1234), ('ö', 5678)])"
      ]
     },
     "execution_count": 55,
     "metadata": {},
     "output_type": "execute_result"
    }
   ],
   "source": [
    "neu.items()"
   ]
  },
  {
   "cell_type": "code",
   "execution_count": 56,
   "id": "963bfa34-f245-4bda-9fce-2d7268e9a2f1",
   "metadata": {},
   "outputs": [
    {
     "data": {
      "text/plain": [
       "\u001b[0;31mDocstring:\u001b[0m\n",
       "D.update([E, ]**F) -> None.  Update D from dict/iterable E and F.\n",
       "If E is present and has a .keys() method, then does:  for k in E: D[k] = E[k]\n",
       "If E is present and lacks a .keys() method, then does:  for k, v in E: D[k] = v\n",
       "In either case, this is followed by: for k in F:  D[k] = F[k]\n",
       "\u001b[0;31mType:\u001b[0m      builtin_function_or_method\n"
      ]
     },
     "metadata": {},
     "output_type": "display_data"
    }
   ],
   "source": [
    "d.update?"
   ]
  },
  {
   "cell_type": "code",
   "execution_count": 57,
   "id": "199a6304-ce4a-44df-a663-0492e610229d",
   "metadata": {},
   "outputs": [
    {
     "data": {
      "text/plain": [
       "{}"
      ]
     },
     "execution_count": 57,
     "metadata": {},
     "output_type": "execute_result"
    }
   ],
   "source": [
    "dict()"
   ]
  },
  {
   "cell_type": "code",
   "execution_count": 58,
   "id": "a5a7ff4b-987c-461a-bb1b-5f38384ed737",
   "metadata": {},
   "outputs": [
    {
     "data": {
      "text/plain": [
       "[]"
      ]
     },
     "execution_count": 58,
     "metadata": {},
     "output_type": "execute_result"
    }
   ],
   "source": [
    "list()"
   ]
  },
  {
   "cell_type": "code",
   "execution_count": 59,
   "id": "7b580b43-208f-40bd-a3cf-15ecc178cf98",
   "metadata": {},
   "outputs": [
    {
     "data": {
      "text/plain": [
       "{'a': None, 'b': None, 'c': None}"
      ]
     },
     "execution_count": 59,
     "metadata": {},
     "output_type": "execute_result"
    }
   ],
   "source": [
    "dict.fromkeys('abc')"
   ]
  },
  {
   "cell_type": "code",
   "execution_count": 60,
   "id": "6bbaa3d5-452c-457f-8985-0575700fe346",
   "metadata": {},
   "outputs": [
    {
     "data": {
      "text/plain": [
       "{'a': 42, 'b': 42, 'c': 42}"
      ]
     },
     "execution_count": 60,
     "metadata": {},
     "output_type": "execute_result"
    }
   ],
   "source": [
    "dict.fromkeys('abc', 42)"
   ]
  },
  {
   "cell_type": "code",
   "execution_count": 61,
   "id": "b824c038-0c42-4929-ad44-8d908831c405",
   "metadata": {},
   "outputs": [],
   "source": [
    "res = {}\n",
    "v = 42\n",
    "for key in 'abc':\n",
    "    res[key] = v"
   ]
  },
  {
   "cell_type": "code",
   "execution_count": 62,
   "id": "48d56fa2-ae51-4889-a8f5-5ddbe6fd4f7d",
   "metadata": {},
   "outputs": [
    {
     "data": {
      "text/plain": [
       "{'a': 42, 'b': 42, 'c': 42}"
      ]
     },
     "execution_count": 62,
     "metadata": {},
     "output_type": "execute_result"
    }
   ],
   "source": [
    "res"
   ]
  },
  {
   "cell_type": "code",
   "execution_count": 63,
   "id": "c268afe9-29e8-44f7-8a6f-80104d0f1d74",
   "metadata": {},
   "outputs": [],
   "source": [
    "d7 = dict.fromkeys('abc', [])"
   ]
  },
  {
   "cell_type": "code",
   "execution_count": 64,
   "id": "e4afea4e-6626-46bf-96df-ef72c9f3823d",
   "metadata": {},
   "outputs": [
    {
     "data": {
      "text/plain": [
       "{'a': [], 'b': [], 'c': []}"
      ]
     },
     "execution_count": 64,
     "metadata": {},
     "output_type": "execute_result"
    }
   ],
   "source": [
    "d7"
   ]
  },
  {
   "cell_type": "code",
   "execution_count": 66,
   "id": "5f8b6728-52c4-4355-895e-01492ffa529e",
   "metadata": {},
   "outputs": [],
   "source": [
    "d7['a'].append(100)"
   ]
  },
  {
   "cell_type": "code",
   "execution_count": 67,
   "id": "dd6fd30e-27bc-4cfb-9a54-24b370901c2e",
   "metadata": {},
   "outputs": [
    {
     "data": {
      "text/plain": [
       "{'a': [100], 'b': [100], 'c': [100]}"
      ]
     },
     "execution_count": 67,
     "metadata": {},
     "output_type": "execute_result"
    }
   ],
   "source": [
    "d7"
   ]
  },
  {
   "cell_type": "code",
   "execution_count": 68,
   "id": "87236cc2-6087-4cf0-a639-11d916a3cb8d",
   "metadata": {},
   "outputs": [],
   "source": [
    "res = {}\n",
    "v = []\n",
    "for key in 'abc':\n",
    "    res[key] = v"
   ]
  },
  {
   "cell_type": "code",
   "execution_count": 69,
   "id": "4aee7c17-907a-4d49-a74a-d1005ac2e931",
   "metadata": {},
   "outputs": [
    {
     "data": {
      "text/plain": [
       "{'a': [], 'b': [], 'c': []}"
      ]
     },
     "execution_count": 69,
     "metadata": {},
     "output_type": "execute_result"
    }
   ],
   "source": [
    "res"
   ]
  },
  {
   "cell_type": "code",
   "execution_count": 70,
   "id": "a49b6d40-2ff1-4cc7-ac63-b55469e06b24",
   "metadata": {},
   "outputs": [],
   "source": [
    "res['a'].append(100)"
   ]
  },
  {
   "cell_type": "code",
   "execution_count": 71,
   "id": "b5fc5c6b-117d-4286-9062-f59d69a68808",
   "metadata": {},
   "outputs": [
    {
     "data": {
      "text/plain": [
       "{'a': [100], 'b': [100], 'c': [100]}"
      ]
     },
     "execution_count": 71,
     "metadata": {},
     "output_type": "execute_result"
    }
   ],
   "source": [
    "res"
   ]
  },
  {
   "cell_type": "code",
   "execution_count": 72,
   "id": "7f14590f-2aa2-44af-bd93-3731e6aba0dd",
   "metadata": {},
   "outputs": [],
   "source": [
    "res2 = {}\n",
    "for key in 'abc':\n",
    "    res2[key] = []"
   ]
  },
  {
   "cell_type": "code",
   "execution_count": 73,
   "id": "c4f5ae99-8e1f-4ad7-a801-a3489d06ddf6",
   "metadata": {},
   "outputs": [
    {
     "data": {
      "text/plain": [
       "{'a': [], 'b': [], 'c': []}"
      ]
     },
     "execution_count": 73,
     "metadata": {},
     "output_type": "execute_result"
    }
   ],
   "source": [
    "res2"
   ]
  },
  {
   "cell_type": "code",
   "execution_count": 74,
   "id": "205fc84a-d373-4bd6-bb6b-037ae571ac65",
   "metadata": {},
   "outputs": [],
   "source": [
    "res2['a'].append(100)"
   ]
  },
  {
   "cell_type": "code",
   "execution_count": 75,
   "id": "569b53b1-9fa2-4244-825e-6a58d0d3d257",
   "metadata": {},
   "outputs": [
    {
     "data": {
      "text/plain": [
       "{'a': [100], 'b': [], 'c': []}"
      ]
     },
     "execution_count": 75,
     "metadata": {},
     "output_type": "execute_result"
    }
   ],
   "source": [
    "res2"
   ]
  },
  {
   "cell_type": "code",
   "execution_count": 76,
   "id": "de8d03e9-e745-4111-99a1-8278a4a4f187",
   "metadata": {},
   "outputs": [
    {
     "data": {
      "text/plain": [
       "{'a': 1234, 'c': 300, 'b': 2000, 'x': 3000, 'y': 5000, 'ö': 5678}"
      ]
     },
     "execution_count": 76,
     "metadata": {},
     "output_type": "execute_result"
    }
   ],
   "source": [
    "d"
   ]
  },
  {
   "cell_type": "code",
   "execution_count": 77,
   "id": "1be2b58c-553d-452c-9ae9-e3875795e8d9",
   "metadata": {},
   "outputs": [
    {
     "data": {
      "text/plain": [
       "1234"
      ]
     },
     "execution_count": 77,
     "metadata": {},
     "output_type": "execute_result"
    }
   ],
   "source": [
    "d['a']"
   ]
  },
  {
   "cell_type": "code",
   "execution_count": 78,
   "id": "7bad8edc-3bf1-4103-b5c7-e85a482d70b3",
   "metadata": {},
   "outputs": [
    {
     "data": {
      "text/plain": [
       "1234"
      ]
     },
     "execution_count": 78,
     "metadata": {},
     "output_type": "execute_result"
    }
   ],
   "source": [
    "d.get('a')"
   ]
  },
  {
   "cell_type": "code",
   "execution_count": 79,
   "id": "ffe06edc-2411-4b2e-9169-5a5182f1c244",
   "metadata": {},
   "outputs": [
    {
     "ename": "KeyError",
     "evalue": "'aaa'",
     "output_type": "error",
     "traceback": [
      "\u001b[0;31m---------------------------------------------------------------------------\u001b[0m",
      "\u001b[0;31mKeyError\u001b[0m                                  Traceback (most recent call last)",
      "Input \u001b[0;32mIn [79]\u001b[0m, in \u001b[0;36m<cell line: 1>\u001b[0;34m()\u001b[0m\n\u001b[0;32m----> 1\u001b[0m \u001b[43md\u001b[49m\u001b[43m[\u001b[49m\u001b[38;5;124;43m'\u001b[39;49m\u001b[38;5;124;43maaa\u001b[39;49m\u001b[38;5;124;43m'\u001b[39;49m\u001b[43m]\u001b[49m\n",
      "\u001b[0;31mKeyError\u001b[0m: 'aaa'"
     ]
    }
   ],
   "source": [
    "d['aaa']"
   ]
  },
  {
   "cell_type": "code",
   "execution_count": 80,
   "id": "fe489548-2b4a-488d-a3ba-b0b36d871b8c",
   "metadata": {},
   "outputs": [],
   "source": [
    "d.get('aaa')"
   ]
  },
  {
   "cell_type": "code",
   "execution_count": 81,
   "id": "f25f01f2-fb1e-4fb3-a446-39748c613149",
   "metadata": {},
   "outputs": [
    {
     "data": {
      "text/plain": [
       "999"
      ]
     },
     "execution_count": 81,
     "metadata": {},
     "output_type": "execute_result"
    }
   ],
   "source": [
    "d.get('aaa', 999)"
   ]
  },
  {
   "cell_type": "code",
   "execution_count": 82,
   "id": "17246811-f0e6-4dbd-9ee6-143a265dfd88",
   "metadata": {},
   "outputs": [
    {
     "data": {
      "text/plain": [
       "\u001b[0;31mSignature:\u001b[0m \u001b[0md\u001b[0m\u001b[0;34m.\u001b[0m\u001b[0mget\u001b[0m\u001b[0;34m(\u001b[0m\u001b[0mkey\u001b[0m\u001b[0;34m,\u001b[0m \u001b[0mdefault\u001b[0m\u001b[0;34m=\u001b[0m\u001b[0;32mNone\u001b[0m\u001b[0;34m,\u001b[0m \u001b[0;34m/\u001b[0m\u001b[0;34m)\u001b[0m\u001b[0;34m\u001b[0m\u001b[0;34m\u001b[0m\u001b[0m\n",
       "\u001b[0;31mDocstring:\u001b[0m Return the value for key if key is in the dictionary, else default.\n",
       "\u001b[0;31mType:\u001b[0m      builtin_function_or_method\n"
      ]
     },
     "metadata": {},
     "output_type": "display_data"
    }
   ],
   "source": [
    "d.get?"
   ]
  },
  {
   "cell_type": "code",
   "execution_count": 83,
   "id": "20656513-2cce-4172-8cb6-8e832b92b9bc",
   "metadata": {},
   "outputs": [
    {
     "data": {
      "text/plain": [
       "<function sum(iterable, /, start=0)>"
      ]
     },
     "execution_count": 83,
     "metadata": {},
     "output_type": "execute_result"
    }
   ],
   "source": [
    "d.get('aaa', sum)"
   ]
  },
  {
   "cell_type": "code",
   "execution_count": 84,
   "id": "f49922a4-a51d-4ad8-a1eb-59b8ae17325a",
   "metadata": {},
   "outputs": [
    {
     "data": {
      "text/plain": [
       "1234"
      ]
     },
     "execution_count": 84,
     "metadata": {},
     "output_type": "execute_result"
    }
   ],
   "source": [
    "d.setdefault('a')"
   ]
  },
  {
   "cell_type": "code",
   "execution_count": 85,
   "id": "dda5d08e-6c48-491e-8d08-1ae70633c790",
   "metadata": {},
   "outputs": [
    {
     "data": {
      "text/plain": [
       "1234"
      ]
     },
     "execution_count": 85,
     "metadata": {},
     "output_type": "execute_result"
    }
   ],
   "source": [
    "d.setdefault('a', 999)"
   ]
  },
  {
   "cell_type": "code",
   "execution_count": 86,
   "id": "36896fae-28a1-424e-94b0-1b48cf3b09fa",
   "metadata": {},
   "outputs": [
    {
     "data": {
      "text/plain": [
       "{'a': 1234, 'c': 300, 'b': 2000, 'x': 3000, 'y': 5000, 'ö': 5678}"
      ]
     },
     "execution_count": 86,
     "metadata": {},
     "output_type": "execute_result"
    }
   ],
   "source": [
    "d"
   ]
  },
  {
   "cell_type": "code",
   "execution_count": 87,
   "id": "3b96d315-69fa-497c-b880-497b4a8daf79",
   "metadata": {},
   "outputs": [
    {
     "data": {
      "text/plain": [
       "999"
      ]
     },
     "execution_count": 87,
     "metadata": {},
     "output_type": "execute_result"
    }
   ],
   "source": [
    "d.setdefault('aaa', 999)"
   ]
  },
  {
   "cell_type": "code",
   "execution_count": 88,
   "id": "29f3c90a-d602-49ef-95ff-87a23303f8e9",
   "metadata": {},
   "outputs": [
    {
     "data": {
      "text/plain": [
       "{'a': 1234, 'c': 300, 'b': 2000, 'x': 3000, 'y': 5000, 'ö': 5678, 'aaa': 999}"
      ]
     },
     "execution_count": 88,
     "metadata": {},
     "output_type": "execute_result"
    }
   ],
   "source": [
    "d"
   ]
  },
  {
   "cell_type": "code",
   "execution_count": 89,
   "id": "79b7fe4a-6af9-40ac-aa12-97c5a9ec6489",
   "metadata": {},
   "outputs": [
    {
     "data": {
      "text/plain": [
       "\u001b[0;31mSignature:\u001b[0m \u001b[0md\u001b[0m\u001b[0;34m.\u001b[0m\u001b[0msetdefault\u001b[0m\u001b[0;34m(\u001b[0m\u001b[0mkey\u001b[0m\u001b[0;34m,\u001b[0m \u001b[0mdefault\u001b[0m\u001b[0;34m=\u001b[0m\u001b[0;32mNone\u001b[0m\u001b[0;34m,\u001b[0m \u001b[0;34m/\u001b[0m\u001b[0;34m)\u001b[0m\u001b[0;34m\u001b[0m\u001b[0;34m\u001b[0m\u001b[0m\n",
       "\u001b[0;31mDocstring:\u001b[0m\n",
       "Insert key with a value of default if key is not in the dictionary.\n",
       "\n",
       "Return the value for key if key is in the dictionary, else default.\n",
       "\u001b[0;31mType:\u001b[0m      builtin_function_or_method\n"
      ]
     },
     "metadata": {},
     "output_type": "display_data"
    }
   ],
   "source": [
    "d.setdefault?"
   ]
  },
  {
   "cell_type": "code",
   "execution_count": 90,
   "id": "efa06297-7859-4468-8d9a-23097fa229b7",
   "metadata": {},
   "outputs": [],
   "source": [
    "d8 = {}"
   ]
  },
  {
   "cell_type": "code",
   "execution_count": 91,
   "id": "d72e3fc7-aded-4fae-9d7a-c5b4d443e4d5",
   "metadata": {},
   "outputs": [],
   "source": [
    "d8.setdefault('a', []).append(1)"
   ]
  },
  {
   "cell_type": "code",
   "execution_count": 92,
   "id": "d19973d7-0a94-4e62-a715-aec7f9d77053",
   "metadata": {},
   "outputs": [
    {
     "data": {
      "text/plain": [
       "{'a': [1]}"
      ]
     },
     "execution_count": 92,
     "metadata": {},
     "output_type": "execute_result"
    }
   ],
   "source": [
    "d8"
   ]
  },
  {
   "cell_type": "code",
   "execution_count": 93,
   "id": "57f4acb6-8a69-4590-93c4-ed6dbf851df6",
   "metadata": {},
   "outputs": [],
   "source": [
    "d8.setdefault('a', []).append(2)"
   ]
  },
  {
   "cell_type": "code",
   "execution_count": 94,
   "id": "1f117499-a6ae-4b3a-8f17-5fa1b0570273",
   "metadata": {},
   "outputs": [
    {
     "data": {
      "text/plain": [
       "{'a': [1, 2]}"
      ]
     },
     "execution_count": 94,
     "metadata": {},
     "output_type": "execute_result"
    }
   ],
   "source": [
    "d8"
   ]
  },
  {
   "cell_type": "code",
   "execution_count": 95,
   "id": "bcb99512-c20b-4986-824c-61b2076c152c",
   "metadata": {},
   "outputs": [
    {
     "data": {
      "text/plain": [
       "1234"
      ]
     },
     "execution_count": 95,
     "metadata": {},
     "output_type": "execute_result"
    }
   ],
   "source": [
    "d.pop('a')"
   ]
  },
  {
   "cell_type": "code",
   "execution_count": 96,
   "id": "ec4d3b9a-e5e5-4d8f-8381-87c3e27040cd",
   "metadata": {},
   "outputs": [
    {
     "data": {
      "text/plain": [
       "{'c': 300, 'b': 2000, 'x': 3000, 'y': 5000, 'ö': 5678, 'aaa': 999}"
      ]
     },
     "execution_count": 96,
     "metadata": {},
     "output_type": "execute_result"
    }
   ],
   "source": [
    "d"
   ]
  },
  {
   "cell_type": "code",
   "execution_count": 97,
   "id": "91c20c3e-55f5-464f-9317-cbb1aee0072a",
   "metadata": {},
   "outputs": [
    {
     "data": {
      "text/plain": [
       "('aaa', 999)"
      ]
     },
     "execution_count": 97,
     "metadata": {},
     "output_type": "execute_result"
    }
   ],
   "source": [
    "d.popitem()"
   ]
  },
  {
   "cell_type": "code",
   "execution_count": 98,
   "id": "17e4aed6-fb4e-4476-a6c0-341a1a06fbde",
   "metadata": {},
   "outputs": [
    {
     "data": {
      "text/plain": [
       "\u001b[0;31mSignature:\u001b[0m \u001b[0md\u001b[0m\u001b[0;34m.\u001b[0m\u001b[0mpopitem\u001b[0m\u001b[0;34m(\u001b[0m\u001b[0;34m)\u001b[0m\u001b[0;34m\u001b[0m\u001b[0;34m\u001b[0m\u001b[0m\n",
       "\u001b[0;31mDocstring:\u001b[0m\n",
       "Remove and return a (key, value) pair as a 2-tuple.\n",
       "\n",
       "Pairs are returned in LIFO (last-in, first-out) order.\n",
       "Raises KeyError if the dict is empty.\n",
       "\u001b[0;31mType:\u001b[0m      builtin_function_or_method\n"
      ]
     },
     "metadata": {},
     "output_type": "display_data"
    }
   ],
   "source": [
    "d.popitem?"
   ]
  },
  {
   "cell_type": "code",
   "execution_count": 99,
   "id": "c51b7584-40c1-49cb-942d-65fdb37fd41a",
   "metadata": {},
   "outputs": [
    {
     "data": {
      "text/plain": [
       "{}"
      ]
     },
     "execution_count": 99,
     "metadata": {},
     "output_type": "execute_result"
    }
   ],
   "source": [
    "dict()"
   ]
  },
  {
   "cell_type": "code",
   "execution_count": 100,
   "id": "bd83418f-e64f-43fb-9d83-cd68feed50c2",
   "metadata": {},
   "outputs": [
    {
     "data": {
      "text/plain": [
       "{'a': 100, 'b': 200, 'c': 300}"
      ]
     },
     "execution_count": 100,
     "metadata": {},
     "output_type": "execute_result"
    }
   ],
   "source": [
    "dict([('a', 100), ('b', 200), ('c', 300)])"
   ]
  },
  {
   "cell_type": "code",
   "execution_count": 101,
   "id": "e0aa63a4-2e8d-48b1-9d61-c4eaed216506",
   "metadata": {},
   "outputs": [
    {
     "data": {
      "text/plain": [
       "{'a': 100, 'b': 200, 'c': 300}"
      ]
     },
     "execution_count": 101,
     "metadata": {},
     "output_type": "execute_result"
    }
   ],
   "source": [
    "keys = 'abc'\n",
    "values = [100, 200, 300]\n",
    "dict(zip(keys, values))"
   ]
  },
  {
   "cell_type": "code",
   "execution_count": 102,
   "id": "a442e0fc-15ab-4c19-b332-8a3bd0065adf",
   "metadata": {},
   "outputs": [
    {
     "ename": "TypeError",
     "evalue": "unhashable type: 'list'",
     "output_type": "error",
     "traceback": [
      "\u001b[0;31m---------------------------------------------------------------------------\u001b[0m",
      "\u001b[0;31mTypeError\u001b[0m                                 Traceback (most recent call last)",
      "Input \u001b[0;32mIn [102]\u001b[0m, in \u001b[0;36m<cell line: 1>\u001b[0;34m()\u001b[0m\n\u001b[0;32m----> 1\u001b[0m d[[\u001b[38;5;241m1\u001b[39m, \u001b[38;5;241m2\u001b[39m, \u001b[38;5;241m3\u001b[39m]] \u001b[38;5;241m=\u001b[39m \u001b[38;5;241m56\u001b[39m\n",
      "\u001b[0;31mTypeError\u001b[0m: unhashable type: 'list'"
     ]
    }
   ],
   "source": [
    "d[[1, 2, 3]] = 56"
   ]
  },
  {
   "cell_type": "code",
   "execution_count": 103,
   "id": "9a9d098e-066a-4fc4-981d-d400eac7aede",
   "metadata": {},
   "outputs": [],
   "source": [
    "d[(1, 2, 3)] = 56"
   ]
  },
  {
   "cell_type": "code",
   "execution_count": 104,
   "id": "3d8ddf20-1079-4107-8179-89c0f416a0a0",
   "metadata": {},
   "outputs": [
    {
     "data": {
      "text/plain": [
       "{'c': 300, 'b': 2000, 'x': 3000, 'y': 5000, 'ö': 5678, (1, 2, 3): 56}"
      ]
     },
     "execution_count": 104,
     "metadata": {},
     "output_type": "execute_result"
    }
   ],
   "source": [
    "d"
   ]
  },
  {
   "cell_type": "markdown",
   "id": "9f0e0d7f-0b65-4f46-97b5-69ed41b6bebd",
   "metadata": {},
   "source": [
    "# Pause bis 12:00 Uhr"
   ]
  },
  {
   "cell_type": "code",
   "execution_count": 105,
   "id": "ad85441a-f884-4e5a-9b3d-c8c4890a7520",
   "metadata": {},
   "outputs": [
    {
     "name": "stdout",
     "output_type": "stream",
     "text": [
      "13.5 ns ± 0.469 ns per loop (mean ± std. dev. of 7 runs, 100,000,000 loops each)\n"
     ]
    }
   ],
   "source": [
    "%timeit 1 + 1"
   ]
  },
  {
   "cell_type": "code",
   "execution_count": 106,
   "id": "35c97899-0ede-4287-be18-5028f66c5d6f",
   "metadata": {},
   "outputs": [],
   "source": [
    "import time"
   ]
  },
  {
   "cell_type": "code",
   "execution_count": 107,
   "id": "a67d9012-a585-4294-a395-846f0ee80956",
   "metadata": {},
   "outputs": [
    {
     "name": "stdout",
     "output_type": "stream",
     "text": [
      "1 s ± 71.4 µs per loop (mean ± std. dev. of 7 runs, 1 loop each)\n"
     ]
    }
   ],
   "source": [
    "%timeit time.sleep(1)"
   ]
  },
  {
   "cell_type": "code",
   "execution_count": 114,
   "id": "b632c0bb-e387-49e3-b6ca-ec3d3581166e",
   "metadata": {},
   "outputs": [
    {
     "name": "stdout",
     "output_type": "stream",
     "text": [
      "1487234681\n",
      "True\n",
      "dict_keys(['Lucas', 'Len', 'Fritz', 'Ron', 'Ole'])\n",
      "dict_values([142311321, 1487234681, 21758123859, 1785931981, 282230942])\n",
      "dict_items([('Lucas', 142311321), ('Len', 1487234681), ('Fritz', 21758123859), ('Ron', 1785931981), ('Ole', 282230942)])\n"
     ]
    }
   ],
   "source": [
    "Telefonnummern = {'Lucas': 142311321, 'Len': 1487234681, 'Fritz': 21758123859,\n",
    "                  'Ron': 1785931981, 'Ole': 282230942}\n",
    "# Übung 1\n",
    "\n",
    "print(Telefonnummern['Len'])\n",
    "print('Lucas' in Telefonnummern)\n",
    "print(Telefonnummern.keys())\n",
    "print(Telefonnummern.values())\n",
    "print(Telefonnummern.items())"
   ]
  },
  {
   "cell_type": "code",
   "execution_count": 110,
   "id": "216400b8-1563-40fe-a812-f7c6127b6c70",
   "metadata": {},
   "outputs": [
    {
     "name": "stdout",
     "output_type": "stream",
     "text": [
      "None\n",
      "0\n"
     ]
    }
   ],
   "source": [
    "print(Telefonnummern.get('Tom'))\n",
    "print(Telefonnummern.get('Tom', 0))"
   ]
  },
  {
   "cell_type": "code",
   "execution_count": 115,
   "id": "1b39e013-0d32-405c-abc1-f46b947cf872",
   "metadata": {},
   "outputs": [
    {
     "name": "stdout",
     "output_type": "stream",
     "text": [
      "{'Lucas': 426933963, 'Len': 4461704043, 'Fritz': 65274371577, 'Ron': 5357795943, 'Ole': 846692826, 'Kaitlyn': 4242424242}\n"
     ]
    }
   ],
   "source": [
    "for k, v in Telefonnummern.items():\n",
    "    Telefonnummern[k] = v + v * 2\n",
    "Telefonnummern['Kaitlyn'] = 4242424242\n",
    "print(Telefonnummern)"
   ]
  },
  {
   "cell_type": "code",
   "execution_count": 117,
   "id": "5fe11937-a93c-4ab1-96db-4e8e87dbb0eb",
   "metadata": {},
   "outputs": [
    {
     "name": "stdout",
     "output_type": "stream",
     "text": [
      "{'Clara': 2122211, 'Vanessa': 24761, 'Erwin': 13912, 'Len': 1471}\n"
     ]
    }
   ],
   "source": [
    "Telefonbuch = {'Clara': 2122211, 'Vanessa': 24761, 'Erwin': 13912, 'Len': 1471}\n",
    "print(Telefonbuch)\n",
    "Telefonbuch2 = Telefonbuch.copy()"
   ]
  },
  {
   "cell_type": "code",
   "execution_count": 118,
   "id": "3435bc24-f802-497b-8f96-8a2249f0376b",
   "metadata": {},
   "outputs": [
    {
     "name": "stdout",
     "output_type": "stream",
     "text": [
      "{'Clara': 2122211, 'Vanessa': 24761, 'Erwin': 13912, 'Len': 4461704043, 'Lucas': 426933963, 'Fritz': 65274371577, 'Ron': 5357795943, 'Ole': 846692826, 'Kaitlyn': 4242424242}\n"
     ]
    }
   ],
   "source": [
    "Telefonbuch.update(Telefonnummern)\n",
    "print(Telefonbuch)"
   ]
  },
  {
   "cell_type": "code",
   "execution_count": 119,
   "id": "2de907a9-71af-4e0f-8dc6-e7593263d093",
   "metadata": {},
   "outputs": [
    {
     "data": {
      "text/plain": [
       "{'Clara': 2122211, 'Vanessa': 24761, 'Erwin': 13912, 'Len': 1471}"
      ]
     },
     "execution_count": 119,
     "metadata": {},
     "output_type": "execute_result"
    }
   ],
   "source": [
    "Telefonbuch2"
   ]
  },
  {
   "cell_type": "code",
   "execution_count": 120,
   "id": "9c336c17-ae7e-4697-ac2f-dc40e1961006",
   "metadata": {},
   "outputs": [],
   "source": [
    "for name, nummer in Telefonnummern.items():\n",
    "    Telefonbuch2[name] = nummer"
   ]
  },
  {
   "cell_type": "code",
   "execution_count": 121,
   "id": "a68a025f-fc24-4710-a604-9a809c2683f3",
   "metadata": {},
   "outputs": [
    {
     "data": {
      "text/plain": [
       "True"
      ]
     },
     "execution_count": 121,
     "metadata": {},
     "output_type": "execute_result"
    }
   ],
   "source": [
    "Telefonbuch == Telefonbuch2"
   ]
  },
  {
   "cell_type": "code",
   "execution_count": 123,
   "id": "f327c769-f051-411c-87f7-366c959bd04b",
   "metadata": {},
   "outputs": [
    {
     "name": "stdout",
     "output_type": "stream",
     "text": [
      "{'Vanessa': 24761, 'Erwin': 13912, 'Len': 4461704043, 'Lucas': 426933963, 'Fritz': 65274371577, 'Ron': 5357795943, 'Ole': 846692826, 'Kaitlyn': 4242424242}\n",
      "4242424242\n",
      "{'Vanessa': 24761, 'Erwin': 13912, 'Len': 4461704043, 'Lucas': 426933963, 'Fritz': 65274371577, 'Ron': 5357795943, 'Ole': 846692826}\n"
     ]
    }
   ],
   "source": [
    "del Telefonbuch['Clara']\n",
    "print(Telefonbuch)\n",
    "\n",
    "print(Telefonbuch.pop('Kaitlyn'))\n",
    "print(Telefonbuch)"
   ]
  },
  {
   "cell_type": "code",
   "execution_count": 133,
   "id": "ce5946a2-c323-4c6d-af16-c340befe66ba",
   "metadata": {},
   "outputs": [
    {
     "name": "stdout",
     "output_type": "stream",
     "text": [
      "Dictionary:\n",
      "2.7799999999999997e-10\n",
      "List:\n",
      "5.13658e-06\n"
     ]
    }
   ],
   "source": [
    "import time\n",
    "\n",
    "n = 1_000_000\n",
    "target = n // 2\n",
    "L1 = []\n",
    "D1 = {}\n",
    "for x in range(n):\n",
    "    D1[x] = x\n",
    "    L1.append(x)\n",
    "\n",
    "# Dictionary\n",
    "for _ in range(1000):\n",
    "    start = time.perf_counter_ns()\n",
    "    target in D1\n",
    "    end = time.perf_counter_ns()\n",
    "print('Dictionary:')\n",
    "print((end - start) / 1e9 / 1_000) \n",
    "\n",
    "# List\n",
    "for _ in range(1000):\n",
    "    start = time.perf_counter_ns()\n",
    "    target in L1\n",
    "    end = time.perf_counter_ns()\n",
    "print('List:')\n",
    "print((end - start) / 1e9 / 1_000)\n"
   ]
  },
  {
   "cell_type": "code",
   "execution_count": 128,
   "id": "c6ea531c-1d45-4b63-97bf-bde665d07048",
   "metadata": {},
   "outputs": [
    {
     "data": {
      "text/plain": [
       "[0, 1, 2, 3, 4, 5, 6, 7, 8, 9]"
      ]
     },
     "execution_count": 128,
     "metadata": {},
     "output_type": "execute_result"
    }
   ],
   "source": [
    "L1"
   ]
  },
  {
   "cell_type": "code",
   "execution_count": 129,
   "id": "cb3db317-5b1e-4a49-9c85-24f0b2d65606",
   "metadata": {},
   "outputs": [
    {
     "data": {
      "text/plain": [
       "{0: 0, 1: 1, 2: 2, 3: 3, 4: 4, 5: 5, 6: 6, 7: 7, 8: 8, 9: 9}"
      ]
     },
     "execution_count": 129,
     "metadata": {},
     "output_type": "execute_result"
    }
   ],
   "source": [
    "D1"
   ]
  },
  {
   "cell_type": "code",
   "execution_count": 154,
   "id": "387b430a-3124-404c-bd5e-3af8394bf170",
   "metadata": {},
   "outputs": [],
   "source": [
    "n = 1_000_000\n",
    "target = n // 2\n",
    "L = list(range(n))\n",
    "d = dict.fromkeys(L)"
   ]
  },
  {
   "cell_type": "code",
   "execution_count": 155,
   "id": "da4f141a-64b0-4db0-8bb2-67e755b428c7",
   "metadata": {},
   "outputs": [
    {
     "name": "stdout",
     "output_type": "stream",
     "text": [
      "5.82 ms ± 382 µs per loop (mean ± std. dev. of 7 runs, 100 loops each)\n"
     ]
    }
   ],
   "source": [
    "tl = %timeit -o target in L"
   ]
  },
  {
   "cell_type": "code",
   "execution_count": 156,
   "id": "a2321618-9355-4d4f-93f6-4e168a1fe828",
   "metadata": {},
   "outputs": [
    {
     "name": "stdout",
     "output_type": "stream",
     "text": [
      "108 ns ± 14.8 ns per loop (mean ± std. dev. of 7 runs, 10,000,000 loops each)\n"
     ]
    }
   ],
   "source": [
    "td = %timeit -o target in d"
   ]
  },
  {
   "cell_type": "code",
   "execution_count": 157,
   "id": "2eea529a-b959-475c-834b-89567eca2243",
   "metadata": {},
   "outputs": [
    {
     "data": {
      "text/plain": [
       "54097.53752488316"
      ]
     },
     "execution_count": 157,
     "metadata": {},
     "output_type": "execute_result"
    }
   ],
   "source": [
    "tl.average / td.average"
   ]
  },
  {
   "cell_type": "code",
   "execution_count": 146,
   "id": "4c828b26-3622-4961-ad61-fce9f3af2678",
   "metadata": {},
   "outputs": [
    {
     "data": {
      "text/plain": [
       "50.0"
      ]
     },
     "execution_count": 146,
     "metadata": {},
     "output_type": "execute_result"
    }
   ],
   "source": [
    "n / 2"
   ]
  },
  {
   "cell_type": "code",
   "execution_count": 137,
   "id": "ccc28a09-8ab4-4cbe-abec-700617373f62",
   "metadata": {},
   "outputs": [
    {
     "data": {
      "text/plain": [
       "4.5"
      ]
     },
     "execution_count": 137,
     "metadata": {},
     "output_type": "execute_result"
    }
   ],
   "source": [
    "9 / 2"
   ]
  },
  {
   "cell_type": "code",
   "execution_count": 138,
   "id": "bc46d4be-2322-4eee-abeb-d8b05ab73c23",
   "metadata": {},
   "outputs": [
    {
     "data": {
      "text/plain": [
       "4"
      ]
     },
     "execution_count": 138,
     "metadata": {},
     "output_type": "execute_result"
    }
   ],
   "source": [
    "9 // 2"
   ]
  },
  {
   "cell_type": "code",
   "execution_count": 158,
   "id": "9b373b24-c51f-4aba-bd89-de158fde2658",
   "metadata": {},
   "outputs": [
    {
     "data": {
      "text/plain": [
       "\u001b[0;31mDocstring:\u001b[0m\n",
       "Time execution of a Python statement or expression\n",
       "\n",
       "Usage, in line mode:\n",
       "  %timeit [-n<N> -r<R> [-t|-c] -q -p<P> -o] statement\n",
       "or in cell mode:\n",
       "  %%timeit [-n<N> -r<R> [-t|-c] -q -p<P> -o] setup_code\n",
       "  code\n",
       "  code...\n",
       "\n",
       "Time execution of a Python statement or expression using the timeit\n",
       "module.  This function can be used both as a line and cell magic:\n",
       "\n",
       "- In line mode you can time a single-line statement (though multiple\n",
       "  ones can be chained with using semicolons).\n",
       "\n",
       "- In cell mode, the statement in the first line is used as setup code\n",
       "  (executed but not timed) and the body of the cell is timed.  The cell\n",
       "  body has access to any variables created in the setup code.\n",
       "\n",
       "Options:\n",
       "-n<N>: execute the given statement <N> times in a loop. If <N> is not\n",
       "provided, <N> is determined so as to get sufficient accuracy.\n",
       "\n",
       "-r<R>: number of repeats <R>, each consisting of <N> loops, and take the\n",
       "best result.\n",
       "Default: 7\n",
       "\n",
       "-t: use time.time to measure the time, which is the default on Unix.\n",
       "This function measures wall time.\n",
       "\n",
       "-c: use time.clock to measure the time, which is the default on\n",
       "Windows and measures wall time. On Unix, resource.getrusage is used\n",
       "instead and returns the CPU user time.\n",
       "\n",
       "-p<P>: use a precision of <P> digits to display the timing result.\n",
       "Default: 3\n",
       "\n",
       "-q: Quiet, do not print result.\n",
       "\n",
       "-o: return a TimeitResult that can be stored in a variable to inspect\n",
       "    the result in more details.\n",
       "\n",
       ".. versionchanged:: 7.3\n",
       "    User variables are no longer expanded,\n",
       "    the magic line is always left unmodified.\n",
       "\n",
       "Examples\n",
       "--------\n",
       "::\n",
       "\n",
       "  In [1]: %timeit pass\n",
       "  8.26 ns ± 0.12 ns per loop (mean ± std. dev. of 7 runs, 100000000 loops each)\n",
       "\n",
       "  In [2]: u = None\n",
       "\n",
       "  In [3]: %timeit u is None\n",
       "  29.9 ns ± 0.643 ns per loop (mean ± std. dev. of 7 runs, 10000000 loops each)\n",
       "\n",
       "  In [4]: %timeit -r 4 u == None\n",
       "\n",
       "  In [5]: import time\n",
       "\n",
       "  In [6]: %timeit -n1 time.sleep(2)\n",
       "\n",
       "The times reported by %timeit will be slightly higher than those\n",
       "reported by the timeit.py script when variables are accessed. This is\n",
       "due to the fact that %timeit executes the statement in the namespace\n",
       "of the shell, compared with timeit.py, which uses a single setup\n",
       "statement to import function or create variables. Generally, the bias\n",
       "does not matter as long as results from timeit.py are not mixed with\n",
       "those from %timeit.\n",
       "\u001b[0;31mFile:\u001b[0m      /opt/mambaforge/envs/python310/lib/python3.10/site-packages/IPython/core/magics/execution.py\n"
      ]
     },
     "metadata": {},
     "output_type": "display_data"
    }
   ],
   "source": [
    "%timeit?"
   ]
  },
  {
   "cell_type": "code",
   "execution_count": 159,
   "id": "977ca8e5-6088-4ee6-b644-9bfc02148c16",
   "metadata": {},
   "outputs": [
    {
     "data": {
      "text/plain": [
       "[0.5656204707920551,\n",
       " 0.53866514749825,\n",
       " 0.60802554897964,\n",
       " 0.5774263180792332,\n",
       " 0.6323564555495977,\n",
       " 0.6256512645632029,\n",
       " 0.5280686300247908]"
      ]
     },
     "execution_count": 159,
     "metadata": {},
     "output_type": "execute_result"
    }
   ],
   "source": [
    "tl.all_runs"
   ]
  },
  {
   "cell_type": "code",
   "execution_count": 160,
   "id": "c2a48d58-1e40-463a-9436-ef8209bf4cd3",
   "metadata": {},
   "outputs": [
    {
     "data": {
      "text/plain": [
       "0.005822591193552528"
      ]
     },
     "execution_count": 160,
     "metadata": {},
     "output_type": "execute_result"
    }
   ],
   "source": [
    "tl.average"
   ]
  },
  {
   "cell_type": "code",
   "execution_count": 161,
   "id": "69469387-b3e6-4c1b-b146-cd8ad59f81a6",
   "metadata": {},
   "outputs": [],
   "source": [
    "import sys"
   ]
  },
  {
   "cell_type": "code",
   "execution_count": 162,
   "id": "52a1919c-135a-460b-9a70-fac5063f8428",
   "metadata": {},
   "outputs": [
    {
     "data": {
      "text/plain": [
       "8000056"
      ]
     },
     "execution_count": 162,
     "metadata": {},
     "output_type": "execute_result"
    }
   ],
   "source": [
    "sys.getsizeof(L)"
   ]
  },
  {
   "cell_type": "code",
   "execution_count": 163,
   "id": "4ee22c5a-ad6c-4f45-95d3-e3a61c57204f",
   "metadata": {},
   "outputs": [
    {
     "data": {
      "text/plain": [
       "41943136"
      ]
     },
     "execution_count": 163,
     "metadata": {},
     "output_type": "execute_result"
    }
   ],
   "source": [
    "sys.getsizeof(d)"
   ]
  },
  {
   "cell_type": "code",
   "execution_count": 164,
   "id": "30575046-7b1f-41dd-92c3-f854534603e5",
   "metadata": {},
   "outputs": [
    {
     "data": {
      "text/plain": [
       "5.2428553000129"
      ]
     },
     "execution_count": 164,
     "metadata": {},
     "output_type": "execute_result"
    }
   ],
   "source": [
    "sys.getsizeof(d) / sys.getsizeof(L)"
   ]
  },
  {
   "cell_type": "code",
   "execution_count": null,
   "id": "6a2ad442-9712-46a6-8575-56b98fc5aa12",
   "metadata": {},
   "outputs": [],
   "source": []
  }
 ],
 "metadata": {
  "kernelspec": {
   "display_name": "Python 3.10",
   "language": "python",
   "name": "python310"
  },
  "language_info": {
   "codemirror_mode": {
    "name": "ipython",
    "version": 3
   },
   "file_extension": ".py",
   "mimetype": "text/x-python",
   "name": "python",
   "nbconvert_exporter": "python",
   "pygments_lexer": "ipython3",
   "version": "3.10.4"
  }
 },
 "nbformat": 4,
 "nbformat_minor": 5
}
