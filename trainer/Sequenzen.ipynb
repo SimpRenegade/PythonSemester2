{
 "cells": [
  {
   "cell_type": "code",
   "execution_count": 1,
   "id": "e8df9564-3846-4c4b-baeb-f58f61a7a694",
   "metadata": {},
   "outputs": [],
   "source": [
    "s = 'abcdefghijk'"
   ]
  },
  {
   "cell_type": "code",
   "execution_count": 2,
   "id": "10168b17-42b6-43bf-a8fd-8d9893d8ed6f",
   "metadata": {},
   "outputs": [
    {
     "data": {
      "text/plain": [
       "'abcdefghijk'"
      ]
     },
     "execution_count": 2,
     "metadata": {},
     "output_type": "execute_result"
    }
   ],
   "source": [
    "s"
   ]
  },
  {
   "cell_type": "code",
   "execution_count": 3,
   "id": "52d632f0-0d22-41a0-9bc4-b707249d4103",
   "metadata": {},
   "outputs": [
    {
     "data": {
      "text/plain": [
       "True"
      ]
     },
     "execution_count": 3,
     "metadata": {},
     "output_type": "execute_result"
    }
   ],
   "source": [
    "'a' in s"
   ]
  },
  {
   "cell_type": "code",
   "execution_count": 4,
   "id": "d6bf0669-b8ba-4769-80cf-938fbbefd5d0",
   "metadata": {},
   "outputs": [
    {
     "data": {
      "text/plain": [
       "True"
      ]
     },
     "execution_count": 4,
     "metadata": {},
     "output_type": "execute_result"
    }
   ],
   "source": [
    "'abc' in s"
   ]
  },
  {
   "cell_type": "code",
   "execution_count": 5,
   "id": "01c72a6f-b33b-4a32-a31f-aa025d0451fe",
   "metadata": {},
   "outputs": [],
   "source": [
    "t = (1, 2, 3)"
   ]
  },
  {
   "cell_type": "code",
   "execution_count": 6,
   "id": "24a566c8-ceac-44da-af9d-d1a1ca202580",
   "metadata": {},
   "outputs": [
    {
     "data": {
      "text/plain": [
       "True"
      ]
     },
     "execution_count": 6,
     "metadata": {},
     "output_type": "execute_result"
    }
   ],
   "source": [
    "1 in t"
   ]
  },
  {
   "cell_type": "code",
   "execution_count": 7,
   "id": "0e0853fa-31c0-4d0c-bc72-7e0a9a7542d3",
   "metadata": {},
   "outputs": [
    {
     "data": {
      "text/plain": [
       "False"
      ]
     },
     "execution_count": 7,
     "metadata": {},
     "output_type": "execute_result"
    }
   ],
   "source": [
    "(1, 2) in t"
   ]
  },
  {
   "cell_type": "code",
   "execution_count": 8,
   "id": "d5660096-a218-4ae4-977b-c3cbf9776748",
   "metadata": {},
   "outputs": [
    {
     "data": {
      "text/plain": [
       "False"
      ]
     },
     "execution_count": 8,
     "metadata": {},
     "output_type": "execute_result"
    }
   ],
   "source": [
    "'ac' in s"
   ]
  },
  {
   "cell_type": "code",
   "execution_count": 9,
   "id": "e614bfad-d3a2-4f7a-87ca-c53096de1dfd",
   "metadata": {},
   "outputs": [
    {
     "data": {
      "text/plain": [
       "True"
      ]
     },
     "execution_count": 9,
     "metadata": {},
     "output_type": "execute_result"
    }
   ],
   "source": [
    "'ac' not in s"
   ]
  },
  {
   "cell_type": "code",
   "execution_count": 10,
   "id": "fdfd75ae-771e-4b27-8c24-69c2e4bef35f",
   "metadata": {},
   "outputs": [
    {
     "data": {
      "text/plain": [
       "True"
      ]
     },
     "execution_count": 10,
     "metadata": {},
     "output_type": "execute_result"
    }
   ],
   "source": [
    "s in s"
   ]
  },
  {
   "cell_type": "code",
   "execution_count": 11,
   "id": "54e3184b-834c-47a5-8dd5-8a3c8419f9db",
   "metadata": {},
   "outputs": [
    {
     "data": {
      "text/plain": [
       "'abcdefghijkabcdefghijk'"
      ]
     },
     "execution_count": 11,
     "metadata": {},
     "output_type": "execute_result"
    }
   ],
   "source": [
    "s + s"
   ]
  },
  {
   "cell_type": "code",
   "execution_count": 12,
   "id": "7577672d-7311-4d1c-b4db-eac1dd2aef08",
   "metadata": {},
   "outputs": [
    {
     "data": {
      "text/plain": [
       "(1, 2, 3, 1, 2, 3)"
      ]
     },
     "execution_count": 12,
     "metadata": {},
     "output_type": "execute_result"
    }
   ],
   "source": [
    "t + t"
   ]
  },
  {
   "cell_type": "code",
   "execution_count": 13,
   "id": "c6188fcd-6c91-4ad6-833e-496b4044a154",
   "metadata": {},
   "outputs": [
    {
     "data": {
      "text/plain": [
       "'abcdefghijkabcdefghijkabcdefghijk'"
      ]
     },
     "execution_count": 13,
     "metadata": {},
     "output_type": "execute_result"
    }
   ],
   "source": [
    "s * 3"
   ]
  },
  {
   "cell_type": "code",
   "execution_count": 14,
   "id": "2c2e70b9-22f9-4702-b5cf-a86c4caa5522",
   "metadata": {},
   "outputs": [
    {
     "data": {
      "text/plain": [
       "'################################################################################'"
      ]
     },
     "execution_count": 14,
     "metadata": {},
     "output_type": "execute_result"
    }
   ],
   "source": [
    "'#' * 80"
   ]
  },
  {
   "cell_type": "code",
   "execution_count": 15,
   "id": "8af46dc6-e374-4b78-94db-144180d30e8a",
   "metadata": {},
   "outputs": [
    {
     "data": {
      "text/plain": [
       "'a'"
      ]
     },
     "execution_count": 15,
     "metadata": {},
     "output_type": "execute_result"
    }
   ],
   "source": [
    "s[0]"
   ]
  },
  {
   "cell_type": "code",
   "execution_count": 16,
   "id": "e5bc98f3-dd21-4ff1-bc4f-e8728dc017a9",
   "metadata": {},
   "outputs": [
    {
     "data": {
      "text/plain": [
       "'b'"
      ]
     },
     "execution_count": 16,
     "metadata": {},
     "output_type": "execute_result"
    }
   ],
   "source": [
    "s[1]"
   ]
  },
  {
   "cell_type": "code",
   "execution_count": 17,
   "id": "59dabb2d-9a0a-4799-8b58-bb2862d5096d",
   "metadata": {},
   "outputs": [
    {
     "data": {
      "text/plain": [
       "'k'"
      ]
     },
     "execution_count": 17,
     "metadata": {},
     "output_type": "execute_result"
    }
   ],
   "source": [
    "s[-1]"
   ]
  },
  {
   "cell_type": "code",
   "execution_count": 18,
   "id": "6aea8f56-b5d7-424a-b4d9-a2c82b3a2291",
   "metadata": {},
   "outputs": [
    {
     "data": {
      "text/plain": [
       "0"
      ]
     },
     "execution_count": 18,
     "metadata": {},
     "output_type": "execute_result"
    }
   ],
   "source": [
    "-0"
   ]
  },
  {
   "cell_type": "code",
   "execution_count": 19,
   "id": "00d39d42-2b17-4d11-91b2-7f9bbcef6528",
   "metadata": {},
   "outputs": [
    {
     "data": {
      "text/plain": [
       "'k'"
      ]
     },
     "execution_count": 19,
     "metadata": {},
     "output_type": "execute_result"
    }
   ],
   "source": [
    "s[len(s) - 1]"
   ]
  },
  {
   "cell_type": "code",
   "execution_count": 20,
   "id": "d049860e-63fb-4f3c-8091-db0d106b937f",
   "metadata": {},
   "outputs": [
    {
     "ename": "IndexError",
     "evalue": "string index out of range",
     "output_type": "error",
     "traceback": [
      "\u001b[0;31m---------------------------------------------------------------------------\u001b[0m",
      "\u001b[0;31mIndexError\u001b[0m                                Traceback (most recent call last)",
      "Input \u001b[0;32mIn [20]\u001b[0m, in \u001b[0;36m<cell line: 1>\u001b[0;34m()\u001b[0m\n\u001b[0;32m----> 1\u001b[0m \u001b[43ms\u001b[49m\u001b[43m[\u001b[49m\u001b[38;5;28;43mlen\u001b[39;49m\u001b[43m(\u001b[49m\u001b[43ms\u001b[49m\u001b[43m)\u001b[49m\u001b[43m]\u001b[49m\n",
      "\u001b[0;31mIndexError\u001b[0m: string index out of range"
     ]
    }
   ],
   "source": [
    "s[len(s)]"
   ]
  },
  {
   "cell_type": "code",
   "execution_count": 21,
   "id": "13a470be-6366-4628-ba9e-56f1fcfcfc18",
   "metadata": {},
   "outputs": [
    {
     "data": {
      "text/plain": [
       "'j'"
      ]
     },
     "execution_count": 21,
     "metadata": {},
     "output_type": "execute_result"
    }
   ],
   "source": [
    "s[-2]"
   ]
  },
  {
   "cell_type": "code",
   "execution_count": 22,
   "id": "59d31150-57b7-40d3-b72d-35eb2c66e9f3",
   "metadata": {},
   "outputs": [
    {
     "data": {
      "text/plain": [
       "'abcdefghijk'"
      ]
     },
     "execution_count": 22,
     "metadata": {},
     "output_type": "execute_result"
    }
   ],
   "source": [
    "s"
   ]
  },
  {
   "cell_type": "code",
   "execution_count": 23,
   "id": "918c77d1-2bb1-4206-a4d8-73d31e58d39c",
   "metadata": {},
   "outputs": [
    {
     "data": {
      "text/plain": [
       "'cd'"
      ]
     },
     "execution_count": 23,
     "metadata": {},
     "output_type": "execute_result"
    }
   ],
   "source": [
    "s[2:4]"
   ]
  },
  {
   "cell_type": "code",
   "execution_count": 24,
   "id": "3578f24d-592e-4084-80cb-a5de135b561c",
   "metadata": {},
   "outputs": [
    {
     "data": {
      "text/plain": [
       "'cdef'"
      ]
     },
     "execution_count": 24,
     "metadata": {},
     "output_type": "execute_result"
    }
   ],
   "source": [
    "s[2:6]"
   ]
  },
  {
   "cell_type": "code",
   "execution_count": 25,
   "id": "3f437974-d230-46be-aae7-d2985a3be40e",
   "metadata": {},
   "outputs": [
    {
     "data": {
      "text/plain": [
       "'abcd'"
      ]
     },
     "execution_count": 25,
     "metadata": {},
     "output_type": "execute_result"
    }
   ],
   "source": [
    "s[:4]"
   ]
  },
  {
   "cell_type": "code",
   "execution_count": 26,
   "id": "2e24e0d2-c248-45a2-9cc2-c802160fca14",
   "metadata": {},
   "outputs": [
    {
     "data": {
      "text/plain": [
       "'efghijk'"
      ]
     },
     "execution_count": 26,
     "metadata": {},
     "output_type": "execute_result"
    }
   ],
   "source": [
    "s[4:]"
   ]
  },
  {
   "cell_type": "code",
   "execution_count": 27,
   "id": "c9433da6-de08-47c0-969d-7036afb52d4d",
   "metadata": {},
   "outputs": [
    {
     "data": {
      "text/plain": [
       "True"
      ]
     },
     "execution_count": 27,
     "metadata": {},
     "output_type": "execute_result"
    }
   ],
   "source": [
    "s[:4] + s[4:] == s"
   ]
  },
  {
   "cell_type": "code",
   "execution_count": 28,
   "id": "a5dabaea-9554-4797-bb36-9ef345c1dd21",
   "metadata": {},
   "outputs": [],
   "source": [
    "assert 1 == 1"
   ]
  },
  {
   "cell_type": "code",
   "execution_count": 29,
   "id": "d51ec19b-2867-4092-ad4a-289b59da5363",
   "metadata": {},
   "outputs": [
    {
     "ename": "AssertionError",
     "evalue": "",
     "output_type": "error",
     "traceback": [
      "\u001b[0;31m---------------------------------------------------------------------------\u001b[0m",
      "\u001b[0;31mAssertionError\u001b[0m                            Traceback (most recent call last)",
      "Input \u001b[0;32mIn [29]\u001b[0m, in \u001b[0;36m<cell line: 1>\u001b[0;34m()\u001b[0m\n\u001b[0;32m----> 1\u001b[0m \u001b[38;5;28;01massert\u001b[39;00m \u001b[38;5;241m1\u001b[39m \u001b[38;5;241m==\u001b[39m \u001b[38;5;241m2\u001b[39m\n",
      "\u001b[0;31mAssertionError\u001b[0m: "
     ]
    }
   ],
   "source": [
    "assert 1 == 2"
   ]
  },
  {
   "cell_type": "code",
   "execution_count": 44,
   "id": "3b6e5d7c-589d-4487-8a42-38168e222e17",
   "metadata": {},
   "outputs": [
    {
     "name": "stdout",
     "output_type": "stream",
     "text": [
      "  0              abcdefghijk\n",
      "  1 a            bcdefghijk\n",
      "  2 ab           cdefghijk\n",
      "  3 abc          defghijk\n",
      "  4 abcd         efghijk\n",
      "  5 abcde        fghijk\n",
      "  6 abcdef       ghijk\n",
      "  7 abcdefg      hijk\n",
      "  8 abcdefgh     ijk\n",
      "  9 abcdefghi    jk\n",
      " 10 abcdefghij   k\n",
      " 11 abcdefghijk  \n",
      " 12 abcdefghijk  \n",
      " 13 abcdefghijk  \n",
      " 14 abcdefghijk  \n"
     ]
    }
   ],
   "source": [
    "for n in range(15):\n",
    "    assert s[:n] + s[n:] == s\n",
    "    print(f'{n:3d} {s[:n]:12s} {s[n:]}')"
   ]
  },
  {
   "cell_type": "code",
   "execution_count": 45,
   "id": "2bdc3333-01bd-41c1-bff5-567141f0fda6",
   "metadata": {},
   "outputs": [
    {
     "ename": "IndexError",
     "evalue": "string index out of range",
     "output_type": "error",
     "traceback": [
      "\u001b[0;31m---------------------------------------------------------------------------\u001b[0m",
      "\u001b[0;31mIndexError\u001b[0m                                Traceback (most recent call last)",
      "Input \u001b[0;32mIn [45]\u001b[0m, in \u001b[0;36m<cell line: 1>\u001b[0;34m()\u001b[0m\n\u001b[0;32m----> 1\u001b[0m \u001b[43ms\u001b[49m\u001b[43m[\u001b[49m\u001b[38;5;241;43m15\u001b[39;49m\u001b[43m]\u001b[49m\n",
      "\u001b[0;31mIndexError\u001b[0m: string index out of range"
     ]
    }
   ],
   "source": [
    "s[15]"
   ]
  },
  {
   "cell_type": "code",
   "execution_count": 46,
   "id": "ba802f27-60b1-4101-afc2-88c3add456f7",
   "metadata": {},
   "outputs": [
    {
     "data": {
      "text/plain": [
       "''"
      ]
     },
     "execution_count": 46,
     "metadata": {},
     "output_type": "execute_result"
    }
   ],
   "source": [
    "s[15:17]"
   ]
  },
  {
   "cell_type": "code",
   "execution_count": 47,
   "id": "a5fe7f27-881b-48c3-b51b-371c1215417e",
   "metadata": {},
   "outputs": [
    {
     "data": {
      "text/plain": [
       "'abcdefghijk'"
      ]
     },
     "execution_count": 47,
     "metadata": {},
     "output_type": "execute_result"
    }
   ],
   "source": [
    "s[:15]"
   ]
  },
  {
   "cell_type": "code",
   "execution_count": 48,
   "id": "7d0dceed-29a9-4fb7-a9b8-b55ccb1e7871",
   "metadata": {},
   "outputs": [
    {
     "data": {
      "text/plain": [
       "'abcdefghijk'"
      ]
     },
     "execution_count": 48,
     "metadata": {},
     "output_type": "execute_result"
    }
   ],
   "source": [
    "s[:150]"
   ]
  },
  {
   "cell_type": "code",
   "execution_count": 49,
   "id": "8f14b7dc-e385-41d7-afb2-aad99a8153fc",
   "metadata": {},
   "outputs": [
    {
     "data": {
      "text/plain": [
       "'ceg'"
      ]
     },
     "execution_count": 49,
     "metadata": {},
     "output_type": "execute_result"
    }
   ],
   "source": [
    "s[2:8:2]"
   ]
  },
  {
   "cell_type": "code",
   "execution_count": 50,
   "id": "7dbe8726-5c70-4792-8b47-56378e89372f",
   "metadata": {},
   "outputs": [
    {
     "data": {
      "text/plain": [
       "'abcdefghijk'"
      ]
     },
     "execution_count": 50,
     "metadata": {},
     "output_type": "execute_result"
    }
   ],
   "source": [
    "s"
   ]
  },
  {
   "cell_type": "code",
   "execution_count": 51,
   "id": "ebe2b683-ee67-4d13-a0e3-895583e624da",
   "metadata": {},
   "outputs": [
    {
     "data": {
      "text/plain": [
       "'kjihgfedcba'"
      ]
     },
     "execution_count": 51,
     "metadata": {},
     "output_type": "execute_result"
    }
   ],
   "source": [
    "s[::-1]"
   ]
  },
  {
   "cell_type": "code",
   "execution_count": 52,
   "id": "2bc4dbfc-c9df-437f-933d-d2fab87fd4cc",
   "metadata": {},
   "outputs": [
    {
     "data": {
      "text/plain": [
       "''"
      ]
     },
     "execution_count": 52,
     "metadata": {},
     "output_type": "execute_result"
    }
   ],
   "source": [
    "s[2:8:-1]"
   ]
  },
  {
   "cell_type": "code",
   "execution_count": 53,
   "id": "8e78b9f2-7134-44cc-8abf-3cf78ba6d83d",
   "metadata": {},
   "outputs": [
    {
     "data": {
      "text/plain": [
       "'ihgfed'"
      ]
     },
     "execution_count": 53,
     "metadata": {},
     "output_type": "execute_result"
    }
   ],
   "source": [
    "s[8:2:-1]"
   ]
  },
  {
   "cell_type": "code",
   "execution_count": 55,
   "id": "9de328c0-f395-4f1a-b4e1-a4d3116368bc",
   "metadata": {},
   "outputs": [
    {
     "data": {
      "text/plain": [
       "'hgfedc'"
      ]
     },
     "execution_count": 55,
     "metadata": {},
     "output_type": "execute_result"
    }
   ],
   "source": [
    "s[2:8][::-1]"
   ]
  },
  {
   "cell_type": "code",
   "execution_count": 56,
   "id": "3245742e-d674-4213-887d-319e3e753fc7",
   "metadata": {},
   "outputs": [
    {
     "data": {
      "text/plain": [
       "'abcdefghijk'"
      ]
     },
     "execution_count": 56,
     "metadata": {},
     "output_type": "execute_result"
    }
   ],
   "source": [
    "s"
   ]
  },
  {
   "cell_type": "code",
   "execution_count": 57,
   "id": "c2f674dc-4f11-4e7e-874f-cc99a22f5f49",
   "metadata": {},
   "outputs": [
    {
     "data": {
      "text/plain": [
       "11"
      ]
     },
     "execution_count": 57,
     "metadata": {},
     "output_type": "execute_result"
    }
   ],
   "source": [
    "len(s)"
   ]
  },
  {
   "cell_type": "code",
   "execution_count": 58,
   "id": "bd3c2f50-2728-4ff3-a253-3e0a1bd0acdc",
   "metadata": {},
   "outputs": [
    {
     "data": {
      "text/plain": [
       "'a'"
      ]
     },
     "execution_count": 58,
     "metadata": {},
     "output_type": "execute_result"
    }
   ],
   "source": [
    "min(s)"
   ]
  },
  {
   "cell_type": "code",
   "execution_count": 59,
   "id": "6d57211f-6a81-410d-9050-0da9a53ed61a",
   "metadata": {},
   "outputs": [
    {
     "data": {
      "text/plain": [
       "'k'"
      ]
     },
     "execution_count": 59,
     "metadata": {},
     "output_type": "execute_result"
    }
   ],
   "source": [
    "max(s)"
   ]
  },
  {
   "cell_type": "code",
   "execution_count": 60,
   "id": "b5442cdb-3aba-415b-80e3-8dab11d09f32",
   "metadata": {},
   "outputs": [
    {
     "data": {
      "text/plain": [
       "1"
      ]
     },
     "execution_count": 60,
     "metadata": {},
     "output_type": "execute_result"
    }
   ],
   "source": [
    "s.count('e')"
   ]
  },
  {
   "cell_type": "code",
   "execution_count": 61,
   "id": "dbf7dd36-a9d5-4a62-bada-968791cebc87",
   "metadata": {},
   "outputs": [],
   "source": [
    "s2 = 'dergaerdere'"
   ]
  },
  {
   "cell_type": "code",
   "execution_count": 62,
   "id": "c6a5cd5d-9b72-4d12-8791-c93bf0caf24d",
   "metadata": {},
   "outputs": [
    {
     "data": {
      "text/plain": [
       "4"
      ]
     },
     "execution_count": 62,
     "metadata": {},
     "output_type": "execute_result"
    }
   ],
   "source": [
    "s2.count('e')"
   ]
  },
  {
   "cell_type": "code",
   "execution_count": 63,
   "id": "e32c3dc8-2caf-487c-b940-a7922e6d28a0",
   "metadata": {},
   "outputs": [
    {
     "data": {
      "text/plain": [
       "3"
      ]
     },
     "execution_count": 63,
     "metadata": {},
     "output_type": "execute_result"
    }
   ],
   "source": [
    "s2.count('e', 3)"
   ]
  },
  {
   "cell_type": "code",
   "execution_count": 64,
   "id": "80a3d197-8bc4-4339-ba07-7ba3253ecfd2",
   "metadata": {},
   "outputs": [
    {
     "data": {
      "text/plain": [
       "0"
      ]
     },
     "execution_count": 64,
     "metadata": {},
     "output_type": "execute_result"
    }
   ],
   "source": [
    "s2.count('e', 3, 5)"
   ]
  },
  {
   "cell_type": "code",
   "execution_count": 65,
   "id": "c6735890-e97a-484f-a9af-c6d9c5cc72c4",
   "metadata": {},
   "outputs": [
    {
     "data": {
      "text/plain": [
       "'dergaerdere'"
      ]
     },
     "execution_count": 65,
     "metadata": {},
     "output_type": "execute_result"
    }
   ],
   "source": [
    "s2"
   ]
  },
  {
   "cell_type": "code",
   "execution_count": 66,
   "id": "70209425-0e1f-4f2b-995a-a8e03f9b68f2",
   "metadata": {},
   "outputs": [
    {
     "data": {
      "text/plain": [
       "\u001b[0;31mDocstring:\u001b[0m\n",
       "S.count(sub[, start[, end]]) -> int\n",
       "\n",
       "Return the number of non-overlapping occurrences of substring sub in\n",
       "string S[start:end].  Optional arguments start and end are\n",
       "interpreted as in slice notation.\n",
       "\u001b[0;31mType:\u001b[0m      builtin_function_or_method\n"
      ]
     },
     "metadata": {},
     "output_type": "display_data"
    }
   ],
   "source": [
    "s2.count?"
   ]
  },
  {
   "cell_type": "code",
   "execution_count": 67,
   "id": "04eab71e-6d19-481b-b678-cf4efaead5ad",
   "metadata": {},
   "outputs": [
    {
     "data": {
      "text/plain": [
       "1"
      ]
     },
     "execution_count": 67,
     "metadata": {},
     "output_type": "execute_result"
    }
   ],
   "source": [
    "s2.index('e')"
   ]
  },
  {
   "cell_type": "code",
   "execution_count": 68,
   "id": "29de6939-9a11-4034-b0b7-bfacb9b22ed1",
   "metadata": {},
   "outputs": [
    {
     "data": {
      "text/plain": [
       "5"
      ]
     },
     "execution_count": 68,
     "metadata": {},
     "output_type": "execute_result"
    }
   ],
   "source": [
    "s2.index('e', 3)"
   ]
  },
  {
   "cell_type": "code",
   "execution_count": 69,
   "id": "a998d25f-6237-4b7b-a92d-5cb213dc10ed",
   "metadata": {},
   "outputs": [
    {
     "ename": "ValueError",
     "evalue": "substring not found",
     "output_type": "error",
     "traceback": [
      "\u001b[0;31m---------------------------------------------------------------------------\u001b[0m",
      "\u001b[0;31mValueError\u001b[0m                                Traceback (most recent call last)",
      "Input \u001b[0;32mIn [69]\u001b[0m, in \u001b[0;36m<cell line: 1>\u001b[0;34m()\u001b[0m\n\u001b[0;32m----> 1\u001b[0m \u001b[43ms2\u001b[49m\u001b[38;5;241;43m.\u001b[39;49m\u001b[43mindex\u001b[49m\u001b[43m(\u001b[49m\u001b[38;5;124;43m'\u001b[39;49m\u001b[38;5;124;43me\u001b[39;49m\u001b[38;5;124;43m'\u001b[39;49m\u001b[43m,\u001b[49m\u001b[43m \u001b[49m\u001b[38;5;241;43m3\u001b[39;49m\u001b[43m,\u001b[49m\u001b[43m \u001b[49m\u001b[38;5;241;43m5\u001b[39;49m\u001b[43m)\u001b[49m\n",
      "\u001b[0;31mValueError\u001b[0m: substring not found"
     ]
    }
   ],
   "source": [
    "s2.index('e', 3, 5)"
   ]
  },
  {
   "cell_type": "code",
   "execution_count": 70,
   "id": "94c042e6-bc53-4e14-85f4-4302d4a25a4d",
   "metadata": {},
   "outputs": [
    {
     "data": {
      "text/plain": [
       "('a', 'b', 'c')"
      ]
     },
     "execution_count": 70,
     "metadata": {},
     "output_type": "execute_result"
    }
   ],
   "source": [
    "tuple('abc')"
   ]
  },
  {
   "cell_type": "code",
   "execution_count": 71,
   "id": "6a6f1c87-a008-42e7-842b-e24bf92682ae",
   "metadata": {},
   "outputs": [],
   "source": [
    "t3 = tuple"
   ]
  },
  {
   "cell_type": "code",
   "execution_count": 72,
   "id": "cebe7afa-db97-48b6-88aa-5c11dc1ba31e",
   "metadata": {},
   "outputs": [
    {
     "data": {
      "text/plain": [
       "True"
      ]
     },
     "execution_count": 72,
     "metadata": {},
     "output_type": "execute_result"
    }
   ],
   "source": [
    "t3 is tuple"
   ]
  },
  {
   "cell_type": "code",
   "execution_count": 73,
   "id": "36496f39-4d45-47da-b3dc-0677f14f4aa5",
   "metadata": {},
   "outputs": [
    {
     "data": {
      "text/plain": [
       "type"
      ]
     },
     "execution_count": 73,
     "metadata": {},
     "output_type": "execute_result"
    }
   ],
   "source": [
    "type(tuple)"
   ]
  },
  {
   "cell_type": "code",
   "execution_count": 74,
   "id": "e9be3ef2-e3b6-46a1-b691-4e2ed9e8022b",
   "metadata": {},
   "outputs": [],
   "source": [
    "t = (1, 2, 3, 4, 5, 6, 7, 8, 9, 10, 'a', 'b', 'c', 1.34, 1.56, 1.78)"
   ]
  },
  {
   "cell_type": "code",
   "execution_count": 75,
   "id": "296b6484-8bb1-473b-a5e5-12be0aff53d1",
   "metadata": {},
   "outputs": [
    {
     "data": {
      "text/plain": [
       "(1, 2, 3, 4, 5, 6, 7, 8, 9, 10, 'a', 'b', 'c', 1.34, 1.56, 1.78)"
      ]
     },
     "execution_count": 75,
     "metadata": {},
     "output_type": "execute_result"
    }
   ],
   "source": [
    "t"
   ]
  },
  {
   "cell_type": "code",
   "execution_count": 76,
   "id": "e7180064-f1d2-4f96-90e8-b2d6eae37d3f",
   "metadata": {},
   "outputs": [
    {
     "data": {
      "text/plain": [
       "16"
      ]
     },
     "execution_count": 76,
     "metadata": {},
     "output_type": "execute_result"
    }
   ],
   "source": [
    "len(t)"
   ]
  },
  {
   "cell_type": "code",
   "execution_count": 77,
   "id": "e60a279a-015f-44dc-9256-776bb6e3d55c",
   "metadata": {},
   "outputs": [],
   "source": [
    "t2 = tuple(range(2, 17)) + (5.6, 'abc')"
   ]
  },
  {
   "cell_type": "code",
   "execution_count": 78,
   "id": "f1152bd0-7b52-45ee-8841-74b6815a4b38",
   "metadata": {},
   "outputs": [
    {
     "data": {
      "text/plain": [
       "(2, 3, 4, 5, 6, 7, 8, 9, 10, 11, 12, 13, 14, 15, 16, 5.6, 'abc')"
      ]
     },
     "execution_count": 78,
     "metadata": {},
     "output_type": "execute_result"
    }
   ],
   "source": [
    "t2"
   ]
  },
  {
   "cell_type": "code",
   "execution_count": 79,
   "id": "e544fd1c-03c3-4c22-9195-9129050da16e",
   "metadata": {},
   "outputs": [
    {
     "data": {
      "text/plain": [
       "2"
      ]
     },
     "execution_count": 79,
     "metadata": {},
     "output_type": "execute_result"
    }
   ],
   "source": [
    "t[1]"
   ]
  },
  {
   "cell_type": "code",
   "execution_count": 80,
   "id": "4a08f12d-b5a7-4a01-b840-644559601947",
   "metadata": {},
   "outputs": [
    {
     "data": {
      "text/plain": [
       "(2, 3, 4, 5, 6, 7, 8, 9, 10, 'a', 'b', 'c', 1.34, 1.56)"
      ]
     },
     "execution_count": 80,
     "metadata": {},
     "output_type": "execute_result"
    }
   ],
   "source": [
    "t[1:-1]"
   ]
  },
  {
   "cell_type": "code",
   "execution_count": 82,
   "id": "dc0fc924-a610-42f0-9a73-47aeee2f1c66",
   "metadata": {},
   "outputs": [
    {
     "name": "stdout",
     "output_type": "stream",
     "text": [
      "Pretty printing has been turned OFF\n"
     ]
    }
   ],
   "source": [
    "%pprint"
   ]
  },
  {
   "cell_type": "code",
   "execution_count": 83,
   "id": "315adbc0-9795-49ae-9d0c-63c94d2f2fc9",
   "metadata": {},
   "outputs": [
    {
     "data": {
      "text/plain": [
       "(1, 2, 3, 4, 5, 6, 7, 8, 9, 10, 'a', 'b', 'c', 1.34, 1.56, 1.78, 1, 2, 3, 4, 5, 6, 7, 8, 9, 10, 'a', 'b', 'c', 1.34, 1.56, 1.78, 1, 2, 3, 4, 5, 6, 7, 8, 9, 10, 'a', 'b', 'c', 1.34, 1.56, 1.78)"
      ]
     },
     "execution_count": 83,
     "metadata": {},
     "output_type": "execute_result"
    }
   ],
   "source": [
    "t + t + t"
   ]
  },
  {
   "cell_type": "code",
   "execution_count": 84,
   "id": "e13fbcea-614d-4b99-865f-5ac71fc45c44",
   "metadata": {},
   "outputs": [
    {
     "data": {
      "text/plain": [
       "(1, 2, 3, 4, 5, 6, 7, 8, 9, 10, 'a', 'b', 'c', 1.34, 1.56, 1.78, 1, 2, 3, 4, 5, 6, 7, 8, 9, 10, 'a', 'b', 'c', 1.34, 1.56, 1.78, 1, 2, 3, 4, 5, 6, 7, 8, 9, 10, 'a', 'b', 'c', 1.34, 1.56, 1.78)"
      ]
     },
     "execution_count": 84,
     "metadata": {},
     "output_type": "execute_result"
    }
   ],
   "source": [
    "t * 3"
   ]
  },
  {
   "cell_type": "code",
   "execution_count": 85,
   "id": "d2492bfa-f587-4270-ad1e-6f3ed5b11527",
   "metadata": {},
   "outputs": [
    {
     "data": {
      "text/plain": [
       "True"
      ]
     },
     "execution_count": 85,
     "metadata": {},
     "output_type": "execute_result"
    }
   ],
   "source": [
    "t + t + t == t * 3"
   ]
  },
  {
   "cell_type": "code",
   "execution_count": 87,
   "id": "1435e365-8014-4044-a0eb-1bd7eebb4dd1",
   "metadata": {},
   "outputs": [
    {
     "data": {
      "text/plain": [
       "(1.78, 1.56, 1.34, 'c', 'b', 'a', 10, 9, 8, 7, 6, 5, 4, 3, 2, 1)"
      ]
     },
     "execution_count": 87,
     "metadata": {},
     "output_type": "execute_result"
    }
   ],
   "source": [
    "t[::-1]"
   ]
  },
  {
   "cell_type": "code",
   "execution_count": 88,
   "id": "41183a51-aecb-46d1-98e3-6c6950135bab",
   "metadata": {},
   "outputs": [
    {
     "data": {
      "text/plain": [
       "(1, 3, 5, 7, 9, 'a', 'c', 1.56)"
      ]
     },
     "execution_count": 88,
     "metadata": {},
     "output_type": "execute_result"
    }
   ],
   "source": [
    "t[::2]"
   ]
  },
  {
   "cell_type": "code",
   "execution_count": 89,
   "id": "56c4804f-d85a-41ae-8506-d3962b73eb37",
   "metadata": {},
   "outputs": [
    {
     "data": {
      "text/plain": [
       "(2, 4, 6, 8, 10, 'b', 1.34, 1.78)"
      ]
     },
     "execution_count": 89,
     "metadata": {},
     "output_type": "execute_result"
    }
   ],
   "source": [
    "t[1::2]"
   ]
  },
  {
   "cell_type": "code",
   "execution_count": 90,
   "id": "b8f0104b-a98b-4bec-b3e5-175424f10ffe",
   "metadata": {},
   "outputs": [
    {
     "data": {
      "text/plain": [
       "True"
      ]
     },
     "execution_count": 90,
     "metadata": {},
     "output_type": "execute_result"
    }
   ],
   "source": [
    "'b' in t"
   ]
  },
  {
   "cell_type": "code",
   "execution_count": null,
   "id": "841a3d56-e52a-4774-b38c-3f5b843db565",
   "metadata": {},
   "outputs": [],
   "source": []
  }
 ],
 "metadata": {
  "kernelspec": {
   "display_name": "Python 3.10",
   "language": "python",
   "name": "python310"
  },
  "language_info": {
   "codemirror_mode": {
    "name": "ipython",
    "version": 3
   },
   "file_extension": ".py",
   "mimetype": "text/x-python",
   "name": "python",
   "nbconvert_exporter": "python",
   "pygments_lexer": "ipython3",
   "version": "3.10.4"
  }
 },
 "nbformat": 4,
 "nbformat_minor": 5
}
