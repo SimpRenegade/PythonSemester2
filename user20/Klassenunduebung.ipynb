{
 "cells": [
  {
   "cell_type": "markdown",
   "id": "8f3dd08d-a4d2-41ee-908d-294a59dcf4d7",
   "metadata": {},
   "source": [
    "# Übung 1-3"
   ]
  },
  {
   "cell_type": "code",
   "execution_count": 566,
   "id": "778b9676-0e51-40d0-9174-a967864524f3",
   "metadata": {},
   "outputs": [],
   "source": [
    "class Person:\n",
    "    def __init__(self, name, standort):\n",
    "        self.name = name\n",
    "        self.standort = standort\n",
    "        \n",
    "    def gehezu(self, standort):\n",
    "        self.standort = standort\n",
    "        \n",
    "    def __rshift__(self, standort):\n",
    "        self.gehezu(standort)"
   ]
  },
  {
   "cell_type": "code",
   "execution_count": 567,
   "id": "48ea8bc2-e6cc-47dc-b583-d184f2086f9e",
   "metadata": {},
   "outputs": [
    {
     "data": {
      "text/plain": [
       "'zu Hause'"
      ]
     },
     "execution_count": 567,
     "metadata": {},
     "output_type": "execute_result"
    }
   ],
   "source": [
    "person1 = Person('Fritz', 'zu Hause')\n",
    "person1.standort"
   ]
  },
  {
   "cell_type": "code",
   "execution_count": 568,
   "id": "0f3956eb-f2b5-4758-b4a0-2ad01fb7b1b4",
   "metadata": {},
   "outputs": [
    {
     "data": {
      "text/plain": [
       "'hunululu'"
      ]
     },
     "execution_count": 568,
     "metadata": {},
     "output_type": "execute_result"
    }
   ],
   "source": [
    "person1.standort = \"hunululu\"\n",
    "person1.standort"
   ]
  },
  {
   "cell_type": "code",
   "execution_count": 569,
   "id": "5bd9380c-a85f-4ad1-ba7d-9196a589de6c",
   "metadata": {},
   "outputs": [
    {
     "data": {
      "text/plain": [
       "'dummbatzhausen'"
      ]
     },
     "execution_count": 569,
     "metadata": {},
     "output_type": "execute_result"
    }
   ],
   "source": [
    "person1.gehezu(\"dummbatzhausen\")\n",
    "person1.standort"
   ]
  },
  {
   "cell_type": "code",
   "execution_count": 570,
   "id": "3fb7b300-aedf-4972-8be7-aedcc6c6761d",
   "metadata": {},
   "outputs": [
    {
     "data": {
      "text/plain": [
       "'Pöhla'"
      ]
     },
     "execution_count": 570,
     "metadata": {},
     "output_type": "execute_result"
    }
   ],
   "source": [
    "person1.gehezu(\"Pöhla\")\n",
    "person1.standort"
   ]
  },
  {
   "cell_type": "code",
   "execution_count": 571,
   "id": "ca67b116-c548-467a-ae73-c44f121cc13c",
   "metadata": {},
   "outputs": [
    {
     "data": {
      "text/plain": [
       "'Leipzig'"
      ]
     },
     "execution_count": 571,
     "metadata": {},
     "output_type": "execute_result"
    }
   ],
   "source": [
    "person1.gehezu(\"Leipzig\")\n",
    "person1.standort"
   ]
  },
  {
   "cell_type": "markdown",
   "id": "c9fdfdef-c819-4a18-af7a-26fd37764b44",
   "metadata": {},
   "source": [
    "# Übung Eingeschränkte Person"
   ]
  },
  {
   "cell_type": "code",
   "execution_count": 572,
   "id": "421066e9-91e7-440a-ab18-d4a2205d549f",
   "metadata": {},
   "outputs": [],
   "source": [
    "verboteneorte = [\"Mühlenberg\", \"Bautzen\"]\n",
    "message = \"Du darfst hier nicht hin!\"\n",
    "class Dontgoto(Exception):\n",
    "    pass\n",
    "class EingeschraenktePerson(Person):\n",
    "    def gehezu(self, standort):\n",
    "        if standort in verboteneorte:\n",
    "            raise Dontgoto\n",
    "        else:\n",
    "            self.standort = standort"
   ]
  },
  {
   "cell_type": "code",
   "execution_count": 573,
   "id": "a94143c0-8328-42ef-a184-8ab4a59f1fe0",
   "metadata": {},
   "outputs": [
    {
     "name": "stdout",
     "output_type": "stream",
     "text": [
      "Du darfst hier nicht hin!\n"
     ]
    }
   ],
   "source": [
    "eperson2 = EingeschraenktePerson(\"Eric\", \"Leipzig\")\n",
    "try:\n",
    "    eperson2.gehezu(\"Mühlenberg\")\n",
    "    eperson2.standor\n",
    "except Dontgoto:\n",
    "    print(message)"
   ]
  },
  {
   "cell_type": "code",
   "execution_count": 574,
   "id": "9b0cccec-e659-4c2b-a704-c806d0caf2d2",
   "metadata": {},
   "outputs": [
    {
     "data": {
      "text/plain": [
       "'Leipzig'"
      ]
     },
     "execution_count": 574,
     "metadata": {},
     "output_type": "execute_result"
    }
   ],
   "source": [
    "eperson2.standort"
   ]
  },
  {
   "cell_type": "code",
   "execution_count": 575,
   "id": "c0f46cea-0437-4388-8dd0-882c72aae88a",
   "metadata": {},
   "outputs": [
    {
     "name": "stdout",
     "output_type": "stream",
     "text": [
      "Dresden\n"
     ]
    }
   ],
   "source": [
    "try:\n",
    "    eperson2.gehezu(\"Dresden\")\n",
    "    print(eperson2.standort)\n",
    "except Dontgoto:\n",
    "    print(message)"
   ]
  },
  {
   "cell_type": "code",
   "execution_count": 576,
   "id": "6f0e96f7-eab2-478f-833c-2e2bf86fa6cd",
   "metadata": {},
   "outputs": [
    {
     "name": "stdout",
     "output_type": "stream",
     "text": [
      "Du darfst hier nicht hin!\n"
     ]
    }
   ],
   "source": [
    "try:\n",
    "    eperson2.gehezu(\"Bautzen\")\n",
    "    eperson2.standor\n",
    "except Dontgoto:\n",
    "    print(message)"
   ]
  },
  {
   "cell_type": "markdown",
   "id": "6b64ba61-6a6e-4f10-b31c-ac8c4576d5d5",
   "metadata": {},
   "source": [
    "# Übung 4 Vererbung"
   ]
  },
  {
   "cell_type": "code",
   "execution_count": 577,
   "id": "86887c53-1e11-4980-b1bf-1843f81285e3",
   "metadata": {},
   "outputs": [],
   "source": [
    "class BetriebsAuto:\n",
    "    \"\"\"Ein Betriebs-Auto mit Fahrtenbuch.\n",
    "    \"\"\"\n",
    "    def __init__(self, marke, farbe):\n",
    "        self.marke = marke\n",
    "        self.farbe = farbe\n",
    "        self.km_stand = 0\n",
    "        self.fahrten = []\n",
    "    def fahre(self, km):\n",
    "        \"\"\"Kilometerstand um `km` erhöhen.\"\"\"\n",
    "        self.km_stand += km\n",
    "        self.fahrten.append(km)"
   ]
  },
  {
   "cell_type": "code",
   "execution_count": 578,
   "id": "152d9852-f6f6-49b7-975b-464c724e189e",
   "metadata": {},
   "outputs": [
    {
     "data": {
      "text/plain": [
       "[]"
      ]
     },
     "execution_count": 578,
     "metadata": {},
     "output_type": "execute_result"
    }
   ],
   "source": [
    "betriebs_auto1 = BetriebsAuto('VW', 'rot')\n",
    "betriebs_auto1.fahrten"
   ]
  },
  {
   "cell_type": "code",
   "execution_count": 579,
   "id": "5e08b128-b55c-4ce5-8fee-af1a8111013b",
   "metadata": {},
   "outputs": [
    {
     "data": {
      "text/plain": [
       "[10]"
      ]
     },
     "execution_count": 579,
     "metadata": {},
     "output_type": "execute_result"
    }
   ],
   "source": [
    "betriebs_auto1.fahre(10)\n",
    "betriebs_auto1.fahrten"
   ]
  },
  {
   "cell_type": "code",
   "execution_count": 580,
   "id": "cd914fff-6f0e-4b5a-ad4e-9c2140e5e153",
   "metadata": {},
   "outputs": [
    {
     "data": {
      "text/plain": [
       "[10, 15]"
      ]
     },
     "execution_count": 580,
     "metadata": {},
     "output_type": "execute_result"
    }
   ],
   "source": [
    "betriebs_auto1.fahre(15)\n",
    "betriebs_auto1.fahrten"
   ]
  },
  {
   "cell_type": "code",
   "execution_count": 581,
   "id": "0950c438-2728-409b-8402-877c5283620b",
   "metadata": {},
   "outputs": [],
   "source": [
    "class LKW(BetriebsAuto):\n",
    "    def fahre(self, km):\n",
    "        #LKW muessen immer hin und zurueck fahren, deshalb wird die km-Anzahl verdoppelt.\n",
    "        self.km_stand += km * 2\n",
    "        self.fahrten.append(km * 2)"
   ]
  },
  {
   "cell_type": "code",
   "execution_count": 582,
   "id": "74ec8599-f878-4cc1-8a4a-7b6c13b73036",
   "metadata": {},
   "outputs": [],
   "source": [
    "lkw1 = LKW(\"Daimler\", \"Grau\")\n",
    "lkw1.fahre(20)"
   ]
  },
  {
   "cell_type": "code",
   "execution_count": 583,
   "id": "9f8c62f8-f67c-4fe8-be1f-c7bb92aa7c81",
   "metadata": {},
   "outputs": [
    {
     "data": {
      "text/plain": [
       "40"
      ]
     },
     "execution_count": 583,
     "metadata": {},
     "output_type": "execute_result"
    }
   ],
   "source": [
    "lkw1.km_stand"
   ]
  },
  {
   "cell_type": "code",
   "execution_count": 584,
   "id": "d402354b-5fd8-4144-98ee-2c8b0b1d1c63",
   "metadata": {},
   "outputs": [
    {
     "data": {
      "text/plain": [
       "[40]"
      ]
     },
     "execution_count": 584,
     "metadata": {},
     "output_type": "execute_result"
    }
   ],
   "source": [
    "lkw1.fahrten"
   ]
  },
  {
   "cell_type": "code",
   "execution_count": 585,
   "id": "d552abd3-f0fd-40ec-87c2-988845905f7a",
   "metadata": {},
   "outputs": [],
   "source": [
    "class LKW2(BetriebsAuto):\n",
    "    def fahre(self, km):\n",
    "        \"\"\" LKW muessen immer hin und zurueck fahren, deshalb wird\n",
    "        die km-Anzahl verdoppelt.\n",
    "        \"\"\"\n",
    "        super().fahre(km * 2)"
   ]
  },
  {
   "cell_type": "code",
   "execution_count": 586,
   "id": "dce2910f-0df3-482c-8e97-94dbc1712edf",
   "metadata": {},
   "outputs": [],
   "source": [
    "lkw2 = LKW2('Scania', 'blau')"
   ]
  },
  {
   "cell_type": "code",
   "execution_count": 587,
   "id": "e7696119-a47f-49cf-a1a8-a42dc6d6ed35",
   "metadata": {},
   "outputs": [
    {
     "data": {
      "text/plain": [
       "0"
      ]
     },
     "execution_count": 587,
     "metadata": {},
     "output_type": "execute_result"
    }
   ],
   "source": [
    "lkw2.km_stand"
   ]
  },
  {
   "cell_type": "code",
   "execution_count": 588,
   "id": "a1f9c689-2c0d-4d03-af89-496b324e8540",
   "metadata": {},
   "outputs": [
    {
     "data": {
      "text/plain": [
       "[]"
      ]
     },
     "execution_count": 588,
     "metadata": {},
     "output_type": "execute_result"
    }
   ],
   "source": [
    "lkw2.fahrten"
   ]
  },
  {
   "cell_type": "code",
   "execution_count": 589,
   "id": "fe5891cb-1f80-496e-ae9d-a3f2f0dccbf5",
   "metadata": {},
   "outputs": [],
   "source": [
    "lkw2.fahre(10)"
   ]
  },
  {
   "cell_type": "code",
   "execution_count": 590,
   "id": "41af0e4c-89c6-4e1a-8d9a-1cb64cb867c8",
   "metadata": {},
   "outputs": [
    {
     "data": {
      "text/plain": [
       "20"
      ]
     },
     "execution_count": 590,
     "metadata": {},
     "output_type": "execute_result"
    }
   ],
   "source": [
    "lkw2.km_stand"
   ]
  },
  {
   "cell_type": "code",
   "execution_count": 591,
   "id": "0671d3df-eb0f-47b7-b776-665b853f7b56",
   "metadata": {},
   "outputs": [
    {
     "data": {
      "text/plain": [
       "[20]"
      ]
     },
     "execution_count": 591,
     "metadata": {},
     "output_type": "execute_result"
    }
   ],
   "source": [
    "lkw2.fahrten"
   ]
  },
  {
   "cell_type": "code",
   "execution_count": 592,
   "id": "d1e380bf-9ef2-4a1b-935e-9476a5e86d13",
   "metadata": {},
   "outputs": [
    {
     "data": {
      "text/plain": [
       "[__main__.LKW2, __main__.BetriebsAuto, object]"
      ]
     },
     "execution_count": 592,
     "metadata": {},
     "output_type": "execute_result"
    }
   ],
   "source": [
    "LKW2.mro()"
   ]
  },
  {
   "cell_type": "markdown",
   "id": "876592d9-8d38-4dee-8547-aca583e7bdfd",
   "metadata": {},
   "source": [
    "# Überladen"
   ]
  },
  {
   "cell_type": "code",
   "execution_count": 593,
   "id": "917d77e8-a94c-4bb4-b869-3b7aba937f54",
   "metadata": {},
   "outputs": [],
   "source": [
    "class AddierbaresAuto:\n",
    "    \"\"\"Ein ganz einfaches Auto.\n",
    "    \"\"\"\n",
    "    def __init__(self, marke, farbe):\n",
    "        self.marke = marke\n",
    "        self.farbe = farbe\n",
    "        self.km_stand = 0\n",
    "    def fahre(self, km):\n",
    "        \"\"\"Kilometerstand um `km` erhöhen.\"\"\"\n",
    "        self.km_stand += km\n",
    "    def __add__(self, other):\n",
    "        return AddierbaresAuto(self.marke + other.marke, self.farbe + other.farbe)"
   ]
  },
  {
   "cell_type": "code",
   "execution_count": 594,
   "id": "ba252d23-9229-4fa1-89a5-13cdf4d0c77a",
   "metadata": {},
   "outputs": [
    {
     "data": {
      "text/plain": [
       "'VWBMW'"
      ]
     },
     "execution_count": 594,
     "metadata": {},
     "output_type": "execute_result"
    }
   ],
   "source": [
    "vw = AddierbaresAuto('VW', 'rot')\n",
    "bmw = AddierbaresAuto('BMW', 'schwarz')\n",
    "hybrid = vw + bmw\n",
    "hybrid.marke"
   ]
  },
  {
   "cell_type": "code",
   "execution_count": 595,
   "id": "6a26d5a2-98c0-4fef-a6c3-094fdbb5497e",
   "metadata": {},
   "outputs": [
    {
     "data": {
      "text/plain": [
       "'rotschwarz'"
      ]
     },
     "execution_count": 595,
     "metadata": {},
     "output_type": "execute_result"
    }
   ],
   "source": [
    "hybrid.farbe"
   ]
  },
  {
   "cell_type": "markdown",
   "id": "22a12559-8754-4381-ae82-1a8c5386e55a",
   "metadata": {},
   "source": [
    "# Übung Überladen"
   ]
  },
  {
   "cell_type": "code",
   "execution_count": 596,
   "id": "2aba18aa-529a-4cdb-b8a4-2aed63c82e37",
   "metadata": {},
   "outputs": [
    {
     "name": "stdout",
     "output_type": "stream",
     "text": [
      "zu Hause\n",
      "Len\n"
     ]
    }
   ],
   "source": [
    "person4 = Person('Len', 'zu Hause')\n",
    "print(person4.standort)\n",
    "print(person4.name)"
   ]
  },
  {
   "cell_type": "code",
   "execution_count": 597,
   "id": "1aafed0c-a561-48f7-b94d-c8ea0b292578",
   "metadata": {},
   "outputs": [
    {
     "data": {
      "text/plain": [
       "'hinter den sieben Bergen'"
      ]
     },
     "execution_count": 597,
     "metadata": {},
     "output_type": "execute_result"
    }
   ],
   "source": [
    "person4 >> 'hinter den sieben Bergen'\n",
    "person4.standort"
   ]
  },
  {
   "cell_type": "code",
   "execution_count": null,
   "id": "b4890f63-ed8c-4bcf-93dd-abd1d0965a07",
   "metadata": {},
   "outputs": [],
   "source": []
  },
  {
   "cell_type": "code",
   "execution_count": null,
   "id": "e33b6aea-3b01-4267-8fa3-85858dc4bda3",
   "metadata": {},
   "outputs": [],
   "source": []
  },
  {
   "cell_type": "code",
   "execution_count": null,
   "id": "1565ac78-a4f9-47f8-90d8-4a70c2112fa6",
   "metadata": {},
   "outputs": [],
   "source": []
  },
  {
   "cell_type": "code",
   "execution_count": null,
   "id": "0e0f7de0-83b2-4f9f-b690-59ace5357904",
   "metadata": {},
   "outputs": [],
   "source": []
  },
  {
   "cell_type": "code",
   "execution_count": null,
   "id": "a3146d90-7086-4196-b6c5-16ad7f3bc008",
   "metadata": {},
   "outputs": [],
   "source": []
  },
  {
   "cell_type": "code",
   "execution_count": null,
   "id": "be3cad10-f781-4e33-90d5-ff4754b36b7a",
   "metadata": {},
   "outputs": [],
   "source": []
  },
  {
   "cell_type": "code",
   "execution_count": null,
   "id": "6cf3fea8-6793-4e55-9c35-255dea43804a",
   "metadata": {},
   "outputs": [],
   "source": []
  }
 ],
 "metadata": {
  "kernelspec": {
   "display_name": "Python 3.10",
   "language": "python",
   "name": "python310"
  },
  "language_info": {
   "codemirror_mode": {
    "name": "ipython",
    "version": 3
   },
   "file_extension": ".py",
   "mimetype": "text/x-python",
   "name": "python",
   "nbconvert_exporter": "python",
   "pygments_lexer": "ipython3",
   "version": "3.10.4"
  }
 },
 "nbformat": 4,
 "nbformat_minor": 5
}
