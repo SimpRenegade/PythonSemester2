{
 "cells": [
  {
   "cell_type": "markdown",
   "id": "f08ccb84-ead1-49cc-82bb-496f9bc55062",
   "metadata": {},
   "source": [
    "# Aufgabe 1"
   ]
  },
  {
   "cell_type": "code",
   "execution_count": 1,
   "id": "09e55946-faae-4b68-a434-ab14204c9d28",
   "metadata": {},
   "outputs": [],
   "source": [
    "L1 = []\n",
    "L2 = []\n",
    "\n",
    "with open('coords.txt', 'r') as coords:\n",
    "    wb = coords.readlines()\n",
    "    for line in wb[1:]:\n",
    "        temp = line.split(\",\")\n",
    "        \n",
    "\n",
    "        L1.append(temp[0].strip())\n",
    "        L2.append(temp[1].strip())"
   ]
  },
  {
   "cell_type": "code",
   "execution_count": 3,
   "id": "19fff3f9-6772-4c3f-8778-234155c28346",
   "metadata": {},
   "outputs": [
    {
     "data": {
      "text/plain": [
       "['0.07330604878866975',\n",
       " '0.1661575819631842',\n",
       " '0.6995403090391857',\n",
       " '3.739693717843958',\n",
       " '4.6548452940121825']"
      ]
     },
     "execution_count": 3,
     "metadata": {},
     "output_type": "execute_result"
    }
   ],
   "source": [
    "L1[:5]"
   ]
  },
  {
   "cell_type": "code",
   "execution_count": 7,
   "id": "8fe908d9-b170-4923-b524-e61496519b3d",
   "metadata": {},
   "outputs": [],
   "source": [
    "def read_coords(file_name):\n",
    "    L1 = []\n",
    "    L2 = []\n",
    "\n",
    "    with open(file_name, 'r') as coords:\n",
    "        wb = coords.readlines()\n",
    "        for line in wb[1:]:\n",
    "            temp = [float(x) for x in line.split(\",\")]\n",
    "\n",
    "            L1.append(temp[0])\n",
    "            L2.append(temp[1])\n",
    "    return L1, L2"
   ]
  },
  {
   "cell_type": "code",
   "execution_count": 8,
   "id": "186d94b2-c86a-4db1-9deb-c4631ac7346c",
   "metadata": {},
   "outputs": [],
   "source": [
    "xs, ys = read_coords('coords.txt')"
   ]
  },
  {
   "cell_type": "code",
   "execution_count": 9,
   "id": "6db55228-3e52-485a-a758-28df0799ba24",
   "metadata": {},
   "outputs": [
    {
     "data": {
      "text/plain": [
       "[0.07330604878866975,\n",
       " 0.1661575819631842,\n",
       " 0.6995403090391857,\n",
       " 3.739693717843958,\n",
       " 4.6548452940121825]"
      ]
     },
     "execution_count": 9,
     "metadata": {},
     "output_type": "execute_result"
    }
   ],
   "source": [
    "xs[:5]"
   ]
  },
  {
   "cell_type": "code",
   "execution_count": 11,
   "id": "db6e9287-002c-4766-a4d5-85d0482af0de",
   "metadata": {},
   "outputs": [],
   "source": [
    "def read_coords(file_name):\n",
    "    xs = []\n",
    "    ys = []\n",
    "    with open(file_name, 'r') as coords:\n",
    "        wb = coords.readlines()\n",
    "        for line in wb[1:]:\n",
    "            x, y = [float(value) for value in line.split(\",\")]\n",
    "            xs.append(x)\n",
    "            ys.append(y)\n",
    "    return xs, ys"
   ]
  },
  {
   "cell_type": "code",
   "execution_count": 12,
   "id": "92f54258-ce24-485e-a093-511f663885a3",
   "metadata": {},
   "outputs": [
    {
     "data": {
      "text/plain": [
       "[0.07330604878866975,\n",
       " 0.1661575819631842,\n",
       " 0.6995403090391857,\n",
       " 3.739693717843958,\n",
       " 4.6548452940121825]"
      ]
     },
     "execution_count": 12,
     "metadata": {},
     "output_type": "execute_result"
    }
   ],
   "source": [
    "xs, ys = read_coords('coords.txt')\n",
    "xs[:5]"
   ]
  },
  {
   "cell_type": "code",
   "execution_count": 16,
   "id": "7a509ca1-9fe9-42a9-980e-00d183c6741b",
   "metadata": {},
   "outputs": [
    {
     "data": {
      "text/plain": [
       "[0.07330604878866975,\n",
       " 0.1661575819631842,\n",
       " 0.6995403090391857,\n",
       " 3.739693717843958,\n",
       " 4.6548452940121825]"
      ]
     },
     "execution_count": 16,
     "metadata": {},
     "output_type": "execute_result"
    }
   ],
   "source": [
    "def read_coords(file_name):\n",
    "    \"\"\"Read space-sperated columns into two list.\n",
    "\n",
    "    Returns two list with float of x and y coordinates.\n",
    "    \"\"\"\n",
    "    xs = []\n",
    "    ys = []\n",
    "    with open(file_name, 'r') as fobj:\n",
    "        next(fobj)\n",
    "        for line in fobj:\n",
    "            x, y = [float(value) for value in line.split(\",\")]\n",
    "            xs.append(x)\n",
    "            ys.append(y)\n",
    "    return xs, ys\n",
    "\n",
    "xs, ys = read_coords('coords.txt')\n",
    "xs[:5]"
   ]
  },
  {
   "cell_type": "code",
   "execution_count": 17,
   "id": "df147a53-268e-4e99-8cfa-cd9a2753473d",
   "metadata": {},
   "outputs": [
    {
     "data": {
      "text/plain": [
       "[0.07330604878866975,\n",
       " 0.1661575819631842,\n",
       " 0.6995403090391857,\n",
       " 3.739693717843958,\n",
       " 4.6548452940121825]"
      ]
     },
     "execution_count": 17,
     "metadata": {},
     "output_type": "execute_result"
    }
   ],
   "source": [
    "def read_coords(file_name):\n",
    "    \"\"\"Read space-sperated columns into two list.\n",
    "\n",
    "    Returns two list with float of x and y coordinates.\n",
    "    \"\"\"\n",
    "    xs = []\n",
    "    ys = []\n",
    "    with open(file_name, 'r') as fobj:\n",
    "        next(fobj)  # skip first line\n",
    "        for line in fobj:\n",
    "            x, y = line.split(\",\")\n",
    "            xs.append(float(x))\n",
    "            ys.append(float(y))\n",
    "    return xs, ys\n",
    "\n",
    "xs, ys = read_coords('coords.txt')\n",
    "xs[:5]"
   ]
  },
  {
   "cell_type": "markdown",
   "id": "80203314-cbe5-4585-b0a3-2ee63e177d06",
   "metadata": {},
   "source": [
    "# Aufgabe 2"
   ]
  },
  {
   "cell_type": "code",
   "execution_count": 18,
   "id": "0160b0df-ff0b-4501-9c84-31b06c26e06a",
   "metadata": {},
   "outputs": [],
   "source": [
    "def formatData(xList, yList):\n",
    "    coordinaten = open('coords.txt', \"r\").readlines()\n",
    "    keys = coordinaten[0].split(\",\")\n",
    "    x = keys[0]\n",
    "    y = keys[1].strip()\n",
    "\n",
    "    coordDic = {x: xList, y: yList}\n",
    "\n",
    "    return coordDic"
   ]
  },
  {
   "cell_type": "code",
   "execution_count": 21,
   "id": "cd3d3fa2-75aa-440c-9821-c9d438067ed4",
   "metadata": {},
   "outputs": [
    {
     "data": {
      "text/plain": [
       "{'X': [0.07330604878866975,\n",
       "  0.1661575819631842,\n",
       "  0.6995403090391857,\n",
       "  3.739693717843958,\n",
       "  4.6548452940121825,\n",
       "  5.800609928703754,\n",
       "  2.8739261867333927,\n",
       "  7.213831740018356,\n",
       "  5.326744862838446,\n",
       "  6.4738431697340655,\n",
       "  9.391058372638053,\n",
       "  1.6948694982714723,\n",
       "  1.5140093076206513,\n",
       "  4.430058552698293,\n",
       "  10.852231279914546,\n",
       "  0.8270875691175572,\n",
       "  2.751993939849164,\n",
       "  0.950355329431521,\n",
       "  3.2673577026468132,\n",
       "  15.357127440374532],\n",
       " 'Y': [0.8014226821067756,\n",
       "  1.800580523229894,\n",
       "  2.9428426511704133,\n",
       "  3.273789345607889,\n",
       "  3.2432474181215083,\n",
       "  2.2899099772482145,\n",
       "  6.851536185480562,\n",
       "  6.9884182899511025,\n",
       "  2.47894007512006,\n",
       "  8.064819056138258,\n",
       "  4.65542320269743,\n",
       "  3.5560225045761187,\n",
       "  3.1884934811256436,\n",
       "  2.25747312715163,\n",
       "  3.781204549788254,\n",
       "  2.845477430116926,\n",
       "  15.630578767457608,\n",
       "  15.883654177194524,\n",
       "  17.848028970597163,\n",
       "  12.3861418864545]}"
      ]
     },
     "execution_count": 21,
     "metadata": {},
     "output_type": "execute_result"
    }
   ],
   "source": [
    "formatData(*read_coords('coords.txt'))"
   ]
  },
  {
   "cell_type": "markdown",
   "id": "d14d5550-cf32-4d87-8ec3-e6d7e047ebaa",
   "metadata": {},
   "source": [
    "# Pause bis 10 Uhr"
   ]
  },
  {
   "cell_type": "code",
   "execution_count": 26,
   "id": "5568313c-5d29-4f9a-a677-a772ef2b9011",
   "metadata": {},
   "outputs": [],
   "source": [
    "def read_as_dict(fname):\n",
    "    data = {}\n",
    "    with open(fname) as fobj:\n",
    "        keys = [x.strip() for x in next(fobj).split(',')]\n",
    "        for key in keys:\n",
    "            data[key] = []\n",
    "        for line in fobj:\n",
    "            for key, value in zip(keys, line.split(',')):\n",
    "                data[key].append(float(value))\n",
    "    return data"
   ]
  },
  {
   "cell_type": "code",
   "execution_count": null,
   "id": "01e07ac8-e977-4db5-af19-4222a1611c0b",
   "metadata": {},
   "outputs": [],
   "source": [
    "read_as_dict('coords.txt')"
   ]
  },
  {
   "cell_type": "code",
   "execution_count": 28,
   "id": "c40ff1e1-aaab-452e-b74f-0e710801071e",
   "metadata": {},
   "outputs": [],
   "source": [
    "data = {}"
   ]
  },
  {
   "cell_type": "code",
   "execution_count": 29,
   "id": "bc2137ee-34eb-4b5c-8a74-c9658f81f730",
   "metadata": {},
   "outputs": [
    {
     "data": {
      "text/plain": [
       "{}"
      ]
     },
     "execution_count": 29,
     "metadata": {},
     "output_type": "execute_result"
    }
   ],
   "source": [
    "data"
   ]
  },
  {
   "cell_type": "code",
   "execution_count": 30,
   "id": "9bfa704c-473f-4133-8303-390ac141ddb7",
   "metadata": {},
   "outputs": [],
   "source": [
    "fname = 'coords.txt'"
   ]
  },
  {
   "cell_type": "code",
   "execution_count": 44,
   "id": "6bb9fd6e-a431-45fa-97b7-2c67d2bf8358",
   "metadata": {},
   "outputs": [],
   "source": [
    "fobj = open(fname)"
   ]
  },
  {
   "cell_type": "code",
   "execution_count": 45,
   "id": "a015ee4d-b41e-4afc-89d2-b45984e605cc",
   "metadata": {},
   "outputs": [],
   "source": [
    "keys = [x.strip() for x in next(fobj).split(',')]"
   ]
  },
  {
   "cell_type": "code",
   "execution_count": 34,
   "id": "0052092b-c5dc-494c-b330-c867f954ce0f",
   "metadata": {},
   "outputs": [
    {
     "data": {
      "text/plain": [
       "['X', 'Y']"
      ]
     },
     "execution_count": 34,
     "metadata": {},
     "output_type": "execute_result"
    }
   ],
   "source": [
    "keys"
   ]
  },
  {
   "cell_type": "code",
   "execution_count": 35,
   "id": "2a4273cc-79ce-4ce2-8f2a-d88d9c446ec4",
   "metadata": {},
   "outputs": [],
   "source": [
    "for key in keys:\n",
    "    data[key] = []"
   ]
  },
  {
   "cell_type": "code",
   "execution_count": 36,
   "id": "9338633e-cc8d-490e-b4fc-c26f8803e094",
   "metadata": {},
   "outputs": [
    {
     "data": {
      "text/plain": [
       "{'X': [], 'Y': []}"
      ]
     },
     "execution_count": 36,
     "metadata": {},
     "output_type": "execute_result"
    }
   ],
   "source": [
    "data"
   ]
  },
  {
   "cell_type": "code",
   "execution_count": 38,
   "id": "aa31b42c-57bf-4ad4-857b-8903acd28bc0",
   "metadata": {},
   "outputs": [],
   "source": [
    "data2 = {k: [] for k in keys}"
   ]
  },
  {
   "cell_type": "code",
   "execution_count": 39,
   "id": "b53e51f8-f1f4-49fd-ae5a-5b368ccc66fe",
   "metadata": {},
   "outputs": [],
   "source": [
    "for line in fobj:\n",
    "    pass"
   ]
  },
  {
   "cell_type": "code",
   "execution_count": 42,
   "id": "a9c3e352-9fd5-44c0-a120-6971bbb679ac",
   "metadata": {},
   "outputs": [
    {
     "data": {
      "text/plain": [
       "['15.357127440374532', ' 12.3861418864545\\n']"
      ]
     },
     "execution_count": 42,
     "metadata": {},
     "output_type": "execute_result"
    }
   ],
   "source": [
    "line.split(',')"
   ]
  },
  {
   "cell_type": "code",
   "execution_count": 47,
   "id": "c8cebb5d-83d9-402c-86a6-1a7dc0e58f25",
   "metadata": {},
   "outputs": [],
   "source": [
    "def read_as_dict(fname):\n",
    "    \"\"\"Read CSV file as dict of lists of floats.\"\"\"\n",
    "    with open(fname) as fobj:\n",
    "        keys = [x.strip() for x in next(fobj).split(',')]\n",
    "        data = {k: [] for k in keys}\n",
    "        for line in fobj:\n",
    "            for key, value in zip(keys, line.split(',')):\n",
    "                data[key].append(float(value))\n",
    "    return data"
   ]
  },
  {
   "cell_type": "code",
   "execution_count": 58,
   "id": "58450ca2-1a46-4e2f-aaf7-d78b37306cda",
   "metadata": {},
   "outputs": [],
   "source": [
    "data = read_as_dict('coords.txt')"
   ]
  },
  {
   "cell_type": "markdown",
   "id": "a5342e03-de64-431f-bda2-cd33f2fe106c",
   "metadata": {},
   "source": [
    "# Aufgabe 3"
   ]
  },
  {
   "cell_type": "code",
   "execution_count": 59,
   "id": "1f67ee7e-2367-4ef8-b18e-749913686012",
   "metadata": {},
   "outputs": [],
   "source": [
    "def sum_lists(xs, ys):\n",
    "    \"\"\"sums the values in two given lists\"\"\"\n",
    "    return(sum(xs), sum(ys))\n",
    "\n",
    "\n",
    "def sum_dict(data):\n",
    "    \"\"\"sums the values of the lists in a dictionary\"\"\"\n",
    "    keys = data.keys()\n",
    "    output = ()\n",
    "    for key in keys:\n",
    "        output = output + (sum(data[key]),)\n",
    "    return output"
   ]
  },
  {
   "cell_type": "code",
   "execution_count": 60,
   "id": "65686d47-b377-44ef-b0b5-5c4e7037b40d",
   "metadata": {},
   "outputs": [
    {
     "data": {
      "text/plain": [
       "True"
      ]
     },
     "execution_count": 60,
     "metadata": {},
     "output_type": "execute_result"
    }
   ],
   "source": [
    "sum_lists(xs, ys) == sum_dict(data) == (88.05864783223778, 120.76800430133447)"
   ]
  },
  {
   "cell_type": "code",
   "execution_count": 61,
   "id": "31bfbc99-64e9-4bc1-8392-8911bbe9f19c",
   "metadata": {},
   "outputs": [
    {
     "data": {
      "text/plain": [
       "(88.05864783223778, 120.76800430133447)"
      ]
     },
     "execution_count": 61,
     "metadata": {},
     "output_type": "execute_result"
    }
   ],
   "source": [
    "sum_lists(xs, ys)"
   ]
  },
  {
   "cell_type": "code",
   "execution_count": 62,
   "id": "8fb82f33-83d3-4dab-b0eb-7e61162f7b07",
   "metadata": {},
   "outputs": [
    {
     "data": {
      "text/plain": [
       "(88.05864783223778, 120.76800430133447)"
      ]
     },
     "execution_count": 62,
     "metadata": {},
     "output_type": "execute_result"
    }
   ],
   "source": [
    "sum_dict(data)"
   ]
  },
  {
   "cell_type": "code",
   "execution_count": 63,
   "id": "0ed12f2e-50ca-40e2-b259-d10c3aad9c9d",
   "metadata": {},
   "outputs": [
    {
     "name": "stdout",
     "output_type": "stream",
     "text": [
      "X\n",
      "Y\n"
     ]
    }
   ],
   "source": [
    "keys = data.keys()\n",
    "output = ()\n",
    "for key in keys:\n",
    "    print(key)\n",
    "    output = output + (sum(data[key]),)"
   ]
  },
  {
   "cell_type": "code",
   "execution_count": 54,
   "id": "cd5da1b9-3219-4bf2-9092-a0ae5b1deeee",
   "metadata": {},
   "outputs": [
    {
     "data": {
      "text/plain": [
       "(0, 0)"
      ]
     },
     "execution_count": 54,
     "metadata": {},
     "output_type": "execute_result"
    }
   ],
   "source": [
    "output"
   ]
  },
  {
   "cell_type": "code",
   "execution_count": 56,
   "id": "f423887e-b05a-400b-a5d8-8caa2ffa991c",
   "metadata": {},
   "outputs": [
    {
     "data": {
      "text/plain": [
       "[]"
      ]
     },
     "execution_count": 56,
     "metadata": {},
     "output_type": "execute_result"
    }
   ],
   "source": [
    "data[key]"
   ]
  },
  {
   "cell_type": "code",
   "execution_count": 57,
   "id": "2293bc28-809a-436e-9ac2-39fa8f342e31",
   "metadata": {},
   "outputs": [
    {
     "data": {
      "text/plain": [
       "{'X': [], 'Y': []}"
      ]
     },
     "execution_count": 57,
     "metadata": {},
     "output_type": "execute_result"
    }
   ],
   "source": [
    "data"
   ]
  },
  {
   "cell_type": "code",
   "execution_count": 64,
   "id": "a8e7e861-48ba-4740-8836-d2a436271cc1",
   "metadata": {},
   "outputs": [
    {
     "data": {
      "text/plain": [
       "dict_values([[0.07330604878866975, 0.1661575819631842, 0.6995403090391857, 3.739693717843958, 4.6548452940121825, 5.800609928703754, 2.8739261867333927, 7.213831740018356, 5.326744862838446, 6.4738431697340655, 9.391058372638053, 1.6948694982714723, 1.5140093076206513, 4.430058552698293, 10.852231279914546, 0.8270875691175572, 2.751993939849164, 0.950355329431521, 3.2673577026468132, 15.357127440374532], [0.8014226821067756, 1.800580523229894, 2.9428426511704133, 3.273789345607889, 3.2432474181215083, 2.2899099772482145, 6.851536185480562, 6.9884182899511025, 2.47894007512006, 8.064819056138258, 4.65542320269743, 3.5560225045761187, 3.1884934811256436, 2.25747312715163, 3.781204549788254, 2.845477430116926, 15.630578767457608, 15.883654177194524, 17.848028970597163, 12.3861418864545]])"
      ]
     },
     "execution_count": 64,
     "metadata": {},
     "output_type": "execute_result"
    }
   ],
   "source": [
    "data.values()"
   ]
  },
  {
   "cell_type": "code",
   "execution_count": 65,
   "id": "5ac08825-f7cb-4346-8cda-45e15b96699b",
   "metadata": {},
   "outputs": [],
   "source": [
    "def sum_dict(data):\n",
    "    return tuple(sum(value) for value in data.values())"
   ]
  },
  {
   "cell_type": "code",
   "execution_count": 66,
   "id": "be117aee-4ad2-4a99-a6f0-0e7e6154029d",
   "metadata": {},
   "outputs": [
    {
     "data": {
      "text/plain": [
       "(88.05864783223778, 120.76800430133447)"
      ]
     },
     "execution_count": 66,
     "metadata": {},
     "output_type": "execute_result"
    }
   ],
   "source": [
    "sum_dict(data)"
   ]
  },
  {
   "cell_type": "code",
   "execution_count": 67,
   "id": "75cfd121-4c32-4b4f-a999-265473097b94",
   "metadata": {},
   "outputs": [],
   "source": [
    "def sum_dict2(data):\n",
    "    return dict((key, sum(value)) for key, value in data.items())"
   ]
  },
  {
   "cell_type": "code",
   "execution_count": 68,
   "id": "0205b4d3-1fd3-49f6-8f14-cfb494b68c67",
   "metadata": {},
   "outputs": [
    {
     "data": {
      "text/plain": [
       "{'X': 88.05864783223778, 'Y': 120.76800430133447}"
      ]
     },
     "execution_count": 68,
     "metadata": {},
     "output_type": "execute_result"
    }
   ],
   "source": [
    "sum_dict2(data)"
   ]
  },
  {
   "cell_type": "code",
   "execution_count": 69,
   "id": "75a30cb2-e6e5-4fe8-9c75-c823320fe1ba",
   "metadata": {},
   "outputs": [],
   "source": [
    "import sys"
   ]
  },
  {
   "cell_type": "code",
   "execution_count": 70,
   "id": "b4de1cfa-b8e1-4483-9ab5-641261fb6949",
   "metadata": {},
   "outputs": [
    {
     "data": {
      "text/plain": [
       "'/home/pya_trainer_master/data/übung'"
      ]
     },
     "execution_count": 70,
     "metadata": {},
     "output_type": "execute_result"
    }
   ],
   "source": [
    "%pwd"
   ]
  },
  {
   "cell_type": "code",
   "execution_count": 71,
   "id": "b14e28b8-d618-4016-95d3-aeb7c1ae7b0c",
   "metadata": {},
   "outputs": [],
   "source": [
    "sys.path.append('/home/pya_trainer_master/data/shared')"
   ]
  },
  {
   "cell_type": "code",
   "execution_count": 72,
   "id": "cf22e227-dcaf-42e9-bab9-fead9820d797",
   "metadata": {},
   "outputs": [],
   "source": [
    "from klausurpackages import utils"
   ]
  },
  {
   "cell_type": "code",
   "execution_count": 73,
   "id": "5510b8d1-90b9-4397-bbac-42d3e2dd29e4",
   "metadata": {},
   "outputs": [
    {
     "data": {
      "text/plain": [
       "([0.07330604878866975,\n",
       "  0.1661575819631842,\n",
       "  0.6995403090391857,\n",
       "  3.739693717843958,\n",
       "  4.6548452940121825,\n",
       "  5.800609928703754,\n",
       "  2.8739261867333927,\n",
       "  7.213831740018356,\n",
       "  5.326744862838446,\n",
       "  6.4738431697340655,\n",
       "  9.391058372638053,\n",
       "  1.6948694982714723,\n",
       "  1.5140093076206513,\n",
       "  4.430058552698293,\n",
       "  10.852231279914546,\n",
       "  0.8270875691175572,\n",
       "  2.751993939849164,\n",
       "  0.950355329431521,\n",
       "  3.2673577026468132,\n",
       "  15.357127440374532],\n",
       " [0.8014226821067756,\n",
       "  1.800580523229894,\n",
       "  2.9428426511704133,\n",
       "  3.273789345607889,\n",
       "  3.2432474181215083,\n",
       "  2.2899099772482145,\n",
       "  6.851536185480562,\n",
       "  6.9884182899511025,\n",
       "  2.47894007512006,\n",
       "  8.064819056138258,\n",
       "  4.65542320269743,\n",
       "  3.5560225045761187,\n",
       "  3.1884934811256436,\n",
       "  2.25747312715163,\n",
       "  3.781204549788254,\n",
       "  2.845477430116926,\n",
       "  15.630578767457608,\n",
       "  15.883654177194524,\n",
       "  17.848028970597163,\n",
       "  12.3861418864545])"
      ]
     },
     "execution_count": 73,
     "metadata": {},
     "output_type": "execute_result"
    }
   ],
   "source": [
    "utils.read_coords('coords.txt')"
   ]
  },
  {
   "cell_type": "markdown",
   "id": "4f9df063-7225-4bd9-a6c3-95008782dc10",
   "metadata": {},
   "source": [
    "# Mittag bis 11:55"
   ]
  },
  {
   "cell_type": "code",
   "execution_count": 74,
   "id": "95ae665a-dbbb-4d7f-bf0b-c1635b212ba4",
   "metadata": {},
   "outputs": [],
   "source": [
    "%load_ext autoreload"
   ]
  },
  {
   "cell_type": "code",
   "execution_count": 75,
   "id": "8169c100-cf9c-4d1f-9aff-4141795060d4",
   "metadata": {},
   "outputs": [
    {
     "data": {
      "text/plain": [
       "\u001b[0;31mDocstring:\u001b[0m\n",
       "%autoreload => Reload modules automatically\n",
       "\n",
       "%autoreload\n",
       "Reload all modules (except those excluded by %aimport) automatically\n",
       "now.\n",
       "\n",
       "%autoreload 0\n",
       "Disable automatic reloading.\n",
       "\n",
       "%autoreload 1\n",
       "Reload all modules imported with %aimport every time before executing\n",
       "the Python code typed.\n",
       "\n",
       "%autoreload 2\n",
       "Reload all modules (except those excluded by %aimport) every time\n",
       "before executing the Python code typed.\n",
       "\n",
       "Reloading Python modules in a reliable way is in general\n",
       "difficult, and unexpected things may occur. %autoreload tries to\n",
       "work around common pitfalls by replacing function code objects and\n",
       "parts of classes previously in the module with new versions. This\n",
       "makes the following things to work:\n",
       "\n",
       "- Functions and classes imported via 'from xxx import foo' are upgraded\n",
       "  to new versions when 'xxx' is reloaded.\n",
       "\n",
       "- Methods and properties of classes are upgraded on reload, so that\n",
       "  calling 'c.foo()' on an object 'c' created before the reload causes\n",
       "  the new code for 'foo' to be executed.\n",
       "\n",
       "Some of the known remaining caveats are:\n",
       "\n",
       "- Replacing code objects does not always succeed: changing a @property\n",
       "  in a class to an ordinary method or a method to a member variable\n",
       "  can cause problems (but in old objects only).\n",
       "\n",
       "- Functions that are removed (eg. via monkey-patching) from a module\n",
       "  before it is reloaded are not upgraded.\n",
       "\n",
       "- C extension modules cannot be reloaded, and so cannot be\n",
       "  autoreloaded.\n",
       "\u001b[0;31mFile:\u001b[0m      /opt/mambaforge/envs/python310/lib/python3.10/site-packages/IPython/extensions/autoreload.py\n"
      ]
     },
     "metadata": {},
     "output_type": "display_data"
    }
   ],
   "source": [
    "%autoreload?"
   ]
  },
  {
   "cell_type": "markdown",
   "id": "ba01a7df-7291-4282-974c-e76ced05cded",
   "metadata": {},
   "source": [
    "# Aufgabe 5"
   ]
  },
  {
   "cell_type": "code",
   "execution_count": 78,
   "id": "107bea25-6fe9-4326-ad4e-8bec6eb8a2e9",
   "metadata": {},
   "outputs": [],
   "source": [
    "from math import sqrt\n",
    "\n",
    "class Coord:\n",
    "    \"\"\"Coordinate Class\n",
    "    \"\"\"\n",
    "    def __init__(self, x, y):\n",
    "        self.x = x\n",
    "        self.y = y\n",
    "        self.dist = sqrt(self.x ** 2 + self.y ** 2)"
   ]
  },
  {
   "cell_type": "code",
   "execution_count": 79,
   "id": "45ac2da5-e392-4ae3-bd0d-a0d16a9ebff0",
   "metadata": {},
   "outputs": [],
   "source": [
    "coord = Coord(2, 3)"
   ]
  },
  {
   "cell_type": "code",
   "execution_count": 80,
   "id": "72173d79-829e-468e-b908-9f219205a075",
   "metadata": {},
   "outputs": [
    {
     "data": {
      "text/plain": [
       "3.605551275463989"
      ]
     },
     "execution_count": 80,
     "metadata": {},
     "output_type": "execute_result"
    }
   ],
   "source": [
    "coord.dist"
   ]
  },
  {
   "cell_type": "code",
   "execution_count": 98,
   "id": "ebb65586-a69a-4623-a81c-8f518c9db386",
   "metadata": {},
   "outputs": [],
   "source": [
    "from math import hypot\n",
    "\n",
    "class Coord:\n",
    "    \"\"\"Coordinate Class\n",
    "    \"\"\"\n",
    "    def __init__(self, x, y):\n",
    "        self.x = x\n",
    "        self.y = y\n",
    "        self.dist = hypot(x, y)\n",
    "    def __repr__(self):\n",
    "        return f'{self.__class__.__name__}({self.x!r}, {self.y!r})'"
   ]
  },
  {
   "cell_type": "code",
   "execution_count": 99,
   "id": "ad45265c-41eb-42b7-b71d-494c29732f85",
   "metadata": {},
   "outputs": [
    {
     "data": {
      "text/plain": [
       "3.605551275463989"
      ]
     },
     "execution_count": 99,
     "metadata": {},
     "output_type": "execute_result"
    }
   ],
   "source": [
    "coord = Coord(2, 3)\n",
    "coord.dist"
   ]
  },
  {
   "cell_type": "code",
   "execution_count": 100,
   "id": "aaf2a121-6e64-4746-b3a5-2190f2cc5fcf",
   "metadata": {},
   "outputs": [
    {
     "data": {
      "text/plain": [
       "Coord(2, 3)"
      ]
     },
     "execution_count": 100,
     "metadata": {},
     "output_type": "execute_result"
    }
   ],
   "source": [
    "coord"
   ]
  },
  {
   "cell_type": "code",
   "execution_count": 101,
   "id": "e5a2f553-b5fd-42f4-b350-83363a1820e9",
   "metadata": {},
   "outputs": [],
   "source": [
    "coords = []\n",
    "for x, y in zip(xs, ys):\n",
    "    coords.append(Coord(x, y))"
   ]
  },
  {
   "cell_type": "code",
   "execution_count": 102,
   "id": "5b7c6039-eb16-4abd-b7ea-124d19d9934a",
   "metadata": {},
   "outputs": [
    {
     "data": {
      "text/plain": [
       "[Coord(0.07330604878866975, 0.8014226821067756),\n",
       " Coord(0.1661575819631842, 1.800580523229894),\n",
       " Coord(0.6995403090391857, 2.9428426511704133),\n",
       " Coord(3.739693717843958, 3.273789345607889),\n",
       " Coord(4.6548452940121825, 3.2432474181215083),\n",
       " Coord(5.800609928703754, 2.2899099772482145),\n",
       " Coord(2.8739261867333927, 6.851536185480562),\n",
       " Coord(7.213831740018356, 6.9884182899511025),\n",
       " Coord(5.326744862838446, 2.47894007512006),\n",
       " Coord(6.4738431697340655, 8.064819056138258),\n",
       " Coord(9.391058372638053, 4.65542320269743),\n",
       " Coord(1.6948694982714723, 3.5560225045761187),\n",
       " Coord(1.5140093076206513, 3.1884934811256436),\n",
       " Coord(4.430058552698293, 2.25747312715163),\n",
       " Coord(10.852231279914546, 3.781204549788254),\n",
       " Coord(0.8270875691175572, 2.845477430116926),\n",
       " Coord(2.751993939849164, 15.630578767457608),\n",
       " Coord(0.950355329431521, 15.883654177194524),\n",
       " Coord(3.2673577026468132, 17.848028970597163),\n",
       " Coord(15.357127440374532, 12.3861418864545)]"
      ]
     },
     "execution_count": 102,
     "metadata": {},
     "output_type": "execute_result"
    }
   ],
   "source": [
    "coords"
   ]
  },
  {
   "cell_type": "code",
   "execution_count": 103,
   "id": "6702ddc7-9ea5-4ab9-b1e8-f3991596b429",
   "metadata": {},
   "outputs": [],
   "source": [
    "coords = [Coord(x, y) for x, y in zip(xs, ys)]"
   ]
  },
  {
   "cell_type": "code",
   "execution_count": 104,
   "id": "76b90e7c-12fa-4420-80f4-ada5d5d566bb",
   "metadata": {},
   "outputs": [
    {
     "data": {
      "text/plain": [
       "[Coord(0.07330604878866975, 0.8014226821067756),\n",
       " Coord(0.1661575819631842, 1.800580523229894),\n",
       " Coord(0.6995403090391857, 2.9428426511704133),\n",
       " Coord(3.739693717843958, 3.273789345607889),\n",
       " Coord(4.6548452940121825, 3.2432474181215083),\n",
       " Coord(5.800609928703754, 2.2899099772482145),\n",
       " Coord(2.8739261867333927, 6.851536185480562),\n",
       " Coord(7.213831740018356, 6.9884182899511025),\n",
       " Coord(5.326744862838446, 2.47894007512006),\n",
       " Coord(6.4738431697340655, 8.064819056138258),\n",
       " Coord(9.391058372638053, 4.65542320269743),\n",
       " Coord(1.6948694982714723, 3.5560225045761187),\n",
       " Coord(1.5140093076206513, 3.1884934811256436),\n",
       " Coord(4.430058552698293, 2.25747312715163),\n",
       " Coord(10.852231279914546, 3.781204549788254),\n",
       " Coord(0.8270875691175572, 2.845477430116926),\n",
       " Coord(2.751993939849164, 15.630578767457608),\n",
       " Coord(0.950355329431521, 15.883654177194524),\n",
       " Coord(3.2673577026468132, 17.848028970597163),\n",
       " Coord(15.357127440374532, 12.3861418864545)]"
      ]
     },
     "execution_count": 104,
     "metadata": {},
     "output_type": "execute_result"
    }
   ],
   "source": [
    "coords"
   ]
  },
  {
   "cell_type": "code",
   "execution_count": 124,
   "id": "fad9dfee-6efd-42ba-96d1-b93121d4b150",
   "metadata": {},
   "outputs": [],
   "source": [
    "from math import sqrt\n",
    "\n",
    "class Coord:\n",
    "    \"\"\"Coordinate Class\n",
    "    \"\"\"\n",
    "    def __init__(self, x, y):\n",
    "        self.x = x\n",
    "        self.y = y\n",
    "        self.dist = sqrt(self.x ** 2 + self.y ** 2)\n",
    "\n",
    "    def __repr__(self):\n",
    "        return f'{self.__class__.__name__}({self.x!r}, {self.y!r})'\n",
    "\n",
    "    def __add__(self, other):\n",
    "        return self.__class__(self.x + other.x, self.y + other.y)"
   ]
  },
  {
   "cell_type": "code",
   "execution_count": 125,
   "id": "a046e085-2356-4f47-9106-9469f84e5336",
   "metadata": {},
   "outputs": [],
   "source": [
    "coord1 = Coord(2, 3)\n",
    "coord2 = Coord(5, 9)"
   ]
  },
  {
   "cell_type": "code",
   "execution_count": 126,
   "id": "41de8f60-2ef6-4036-b535-925ee89a361f",
   "metadata": {},
   "outputs": [],
   "source": [
    "coord3 = coord1 + coord2"
   ]
  },
  {
   "cell_type": "code",
   "execution_count": 127,
   "id": "b8d8b265-0a02-4639-a15c-f282afcf8155",
   "metadata": {},
   "outputs": [
    {
     "data": {
      "text/plain": [
       "13.892443989449804"
      ]
     },
     "execution_count": 127,
     "metadata": {},
     "output_type": "execute_result"
    }
   ],
   "source": [
    "coord3.dist"
   ]
  },
  {
   "cell_type": "code",
   "execution_count": 128,
   "id": "b9655b31-8512-451c-bdda-f2cb7e03ee25",
   "metadata": {},
   "outputs": [],
   "source": [
    "class CoordChild(Coord):\n",
    "    pass"
   ]
  },
  {
   "cell_type": "code",
   "execution_count": 129,
   "id": "61c2b85d-85f0-4d36-9a09-29da68370359",
   "metadata": {},
   "outputs": [
    {
     "data": {
      "text/plain": [
       "CoordChild(7, 12)"
      ]
     },
     "execution_count": 129,
     "metadata": {},
     "output_type": "execute_result"
    }
   ],
   "source": [
    "coord1 = CoordChild(2, 3)\n",
    "coord2 = CoordChild(5, 9)\n",
    "coord3 = coord1 + coord2\n",
    "coord3"
   ]
  },
  {
   "cell_type": "code",
   "execution_count": null,
   "id": "ff96829d-90b2-4d58-8922-24858cf59715",
   "metadata": {},
   "outputs": [],
   "source": []
  }
 ],
 "metadata": {
  "kernelspec": {
   "display_name": "Python 3.10",
   "language": "python",
   "name": "python310"
  },
  "language_info": {
   "codemirror_mode": {
    "name": "ipython",
    "version": 3
   },
   "file_extension": ".py",
   "mimetype": "text/x-python",
   "name": "python",
   "nbconvert_exporter": "python",
   "pygments_lexer": "ipython3",
   "version": "3.10.4"
  }
 },
 "nbformat": 4,
 "nbformat_minor": 5
}
