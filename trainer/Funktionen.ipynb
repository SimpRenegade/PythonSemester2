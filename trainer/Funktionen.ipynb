{
 "cells": [
  {
   "cell_type": "code",
   "execution_count": 2,
   "id": "fa14be1f-a7df-47fc-b477-39ed7c4dec36",
   "metadata": {},
   "outputs": [],
   "source": [
    "def add(x, y):\n",
    "    \"\"\"Add two objects.\"\"\"\n",
    "    return x + y"
   ]
  },
  {
   "cell_type": "code",
   "execution_count": 3,
   "id": "1aa0dd35-3a81-4ccd-9c52-9feb9dc44dd1",
   "metadata": {},
   "outputs": [
    {
     "data": {
      "text/plain": [
       "\u001b[0;31mSignature:\u001b[0m \u001b[0madd\u001b[0m\u001b[0;34m(\u001b[0m\u001b[0mx\u001b[0m\u001b[0;34m,\u001b[0m \u001b[0my\u001b[0m\u001b[0;34m)\u001b[0m\u001b[0;34m\u001b[0m\u001b[0;34m\u001b[0m\u001b[0m\n",
       "\u001b[0;31mDocstring:\u001b[0m Add two objects.\n",
       "\u001b[0;31mFile:\u001b[0m      /tmp/ipykernel_182714/1541875889.py\n",
       "\u001b[0;31mType:\u001b[0m      function\n"
      ]
     },
     "metadata": {},
     "output_type": "display_data"
    }
   ],
   "source": [
    "add?"
   ]
  },
  {
   "cell_type": "code",
   "execution_count": 4,
   "id": "be84cd94-f996-4393-8e6e-536e0ae536b3",
   "metadata": {},
   "outputs": [
    {
     "name": "stdout",
     "output_type": "stream",
     "text": [
      "Help on function add in module __main__:\n",
      "\n",
      "add(x, y)\n",
      "    Add two objects.\n",
      "\n"
     ]
    }
   ],
   "source": [
    "help(add)"
   ]
  },
  {
   "cell_type": "code",
   "execution_count": 5,
   "id": "a1b70316-9e81-4eed-98cd-79522b9d81e7",
   "metadata": {},
   "outputs": [
    {
     "data": {
      "text/plain": [
       "'Add two objects.'"
      ]
     },
     "execution_count": 5,
     "metadata": {},
     "output_type": "execute_result"
    }
   ],
   "source": [
    "add.__doc__"
   ]
  },
  {
   "cell_type": "code",
   "execution_count": 6,
   "id": "b6c6e7a7-16e3-434a-8122-97f85fcc91e0",
   "metadata": {},
   "outputs": [
    {
     "data": {
      "text/plain": [
       "9"
      ]
     },
     "execution_count": 6,
     "metadata": {},
     "output_type": "execute_result"
    }
   ],
   "source": [
    "add(4, 5)"
   ]
  },
  {
   "cell_type": "code",
   "execution_count": 7,
   "id": "146ccec7-afe4-4aa5-90c1-f135e4bed187",
   "metadata": {},
   "outputs": [
    {
     "data": {
      "text/plain": [
       "'abcxyz'"
      ]
     },
     "execution_count": 7,
     "metadata": {},
     "output_type": "execute_result"
    }
   ],
   "source": [
    "add('abc', 'xyz')"
   ]
  },
  {
   "cell_type": "code",
   "execution_count": 8,
   "id": "95ff7825-dc9f-4dc1-ac80-4701228086de",
   "metadata": {},
   "outputs": [
    {
     "data": {
      "text/plain": [
       "[1, 2, 3, 4, 5, 6]"
      ]
     },
     "execution_count": 8,
     "metadata": {},
     "output_type": "execute_result"
    }
   ],
   "source": [
    "add([1, 2, 3], [4, 5, 6])"
   ]
  },
  {
   "cell_type": "code",
   "execution_count": 9,
   "id": "92a05fe8-2310-4805-ae59-45a014f574ed",
   "metadata": {},
   "outputs": [
    {
     "ename": "TypeError",
     "evalue": "can only concatenate str (not \"int\") to str",
     "output_type": "error",
     "traceback": [
      "\u001b[0;31m---------------------------------------------------------------------------\u001b[0m",
      "\u001b[0;31mTypeError\u001b[0m                                 Traceback (most recent call last)",
      "Input \u001b[0;32mIn [9]\u001b[0m, in \u001b[0;36m<cell line: 1>\u001b[0;34m()\u001b[0m\n\u001b[0;32m----> 1\u001b[0m \u001b[43madd\u001b[49m\u001b[43m(\u001b[49m\u001b[38;5;124;43m'\u001b[39;49m\u001b[38;5;124;43mabc\u001b[39;49m\u001b[38;5;124;43m'\u001b[39;49m\u001b[43m,\u001b[49m\u001b[43m \u001b[49m\u001b[38;5;241;43m2\u001b[39;49m\u001b[43m)\u001b[49m\n",
      "Input \u001b[0;32mIn [2]\u001b[0m, in \u001b[0;36madd\u001b[0;34m(x, y)\u001b[0m\n\u001b[1;32m      1\u001b[0m \u001b[38;5;28;01mdef\u001b[39;00m \u001b[38;5;21madd\u001b[39m(x, y):\n\u001b[1;32m      2\u001b[0m     \u001b[38;5;124;03m\"\"\"Add two objects.\"\"\"\u001b[39;00m\n\u001b[0;32m----> 3\u001b[0m     \u001b[38;5;28;01mreturn\u001b[39;00m \u001b[43mx\u001b[49m\u001b[43m \u001b[49m\u001b[38;5;241;43m+\u001b[39;49m\u001b[43m \u001b[49m\u001b[43my\u001b[49m\n",
      "\u001b[0;31mTypeError\u001b[0m: can only concatenate str (not \"int\") to str"
     ]
    }
   ],
   "source": [
    "add('abc', 2)"
   ]
  },
  {
   "cell_type": "code",
   "execution_count": 10,
   "id": "2825b0b3-4d8a-4171-b9ba-e7c2e9e575d7",
   "metadata": {},
   "outputs": [
    {
     "ename": "TypeError",
     "evalue": "unsupported operand type(s) for +: 'int' and 'str'",
     "output_type": "error",
     "traceback": [
      "\u001b[0;31m---------------------------------------------------------------------------\u001b[0m",
      "\u001b[0;31mTypeError\u001b[0m                                 Traceback (most recent call last)",
      "Input \u001b[0;32mIn [10]\u001b[0m, in \u001b[0;36m<cell line: 1>\u001b[0;34m()\u001b[0m\n\u001b[0;32m----> 1\u001b[0m \u001b[43madd\u001b[49m\u001b[43m(\u001b[49m\u001b[38;5;241;43m2\u001b[39;49m\u001b[43m,\u001b[49m\u001b[43m \u001b[49m\u001b[38;5;124;43m'\u001b[39;49m\u001b[38;5;124;43mabc\u001b[39;49m\u001b[38;5;124;43m'\u001b[39;49m\u001b[43m)\u001b[49m\n",
      "Input \u001b[0;32mIn [2]\u001b[0m, in \u001b[0;36madd\u001b[0;34m(x, y)\u001b[0m\n\u001b[1;32m      1\u001b[0m \u001b[38;5;28;01mdef\u001b[39;00m \u001b[38;5;21madd\u001b[39m(x, y):\n\u001b[1;32m      2\u001b[0m     \u001b[38;5;124;03m\"\"\"Add two objects.\"\"\"\u001b[39;00m\n\u001b[0;32m----> 3\u001b[0m     \u001b[38;5;28;01mreturn\u001b[39;00m \u001b[43mx\u001b[49m\u001b[43m \u001b[49m\u001b[38;5;241;43m+\u001b[39;49m\u001b[43m \u001b[49m\u001b[43my\u001b[49m\n",
      "\u001b[0;31mTypeError\u001b[0m: unsupported operand type(s) for +: 'int' and 'str'"
     ]
    }
   ],
   "source": [
    "add(2, 'abc')"
   ]
  },
  {
   "cell_type": "code",
   "execution_count": 11,
   "id": "4cace950-353d-4d70-96b0-739d07929b35",
   "metadata": {},
   "outputs": [],
   "source": [
    "def show(text):\n",
    "    print('Ausgabe:', text)"
   ]
  },
  {
   "cell_type": "code",
   "execution_count": 12,
   "id": "9e791f6b-b075-4b50-840f-13dc022fc5d1",
   "metadata": {},
   "outputs": [
    {
     "name": "stdout",
     "output_type": "stream",
     "text": [
      "Ausgabe: Hallo\n"
     ]
    }
   ],
   "source": [
    "show('Hallo')"
   ]
  },
  {
   "cell_type": "code",
   "execution_count": 13,
   "id": "b7d890c6-3641-4ef4-a6c7-85f63cf53524",
   "metadata": {},
   "outputs": [
    {
     "name": "stdout",
     "output_type": "stream",
     "text": [
      "Ausgabe: Hallo\n"
     ]
    }
   ],
   "source": [
    "res = show('Hallo')"
   ]
  },
  {
   "cell_type": "code",
   "execution_count": 14,
   "id": "1141ed3a-202c-43d9-818a-6fb8dbe3cd6c",
   "metadata": {},
   "outputs": [
    {
     "name": "stdout",
     "output_type": "stream",
     "text": [
      "None\n"
     ]
    }
   ],
   "source": [
    "print(res)"
   ]
  },
  {
   "cell_type": "code",
   "execution_count": 15,
   "id": "e3a59b60-5e35-4c15-84fa-f3bda9b02f83",
   "metadata": {},
   "outputs": [],
   "source": [
    "def show(text):\n",
    "    print('Ausgabe:', text)\n",
    "    return None"
   ]
  },
  {
   "cell_type": "code",
   "execution_count": 16,
   "id": "7b559b8a-5945-40e0-936d-f544556c2487",
   "metadata": {},
   "outputs": [],
   "source": [
    "def show(text):\n",
    "    print('Ausgabe:', text)\n",
    "    return"
   ]
  },
  {
   "cell_type": "code",
   "execution_count": 17,
   "id": "dc663703-8dcd-457b-8f03-e48fb36b94dd",
   "metadata": {},
   "outputs": [
    {
     "data": {
      "text/plain": [
       "'abcxyz'"
      ]
     },
     "execution_count": 17,
     "metadata": {},
     "output_type": "execute_result"
    }
   ],
   "source": [
    "add(x='abc', y='xyz')"
   ]
  },
  {
   "cell_type": "code",
   "execution_count": 18,
   "id": "b1442088-997e-4b89-b3f0-fa6f710b7998",
   "metadata": {},
   "outputs": [
    {
     "data": {
      "text/plain": [
       "'abcxyz'"
      ]
     },
     "execution_count": 18,
     "metadata": {},
     "output_type": "execute_result"
    }
   ],
   "source": [
    "add(y='xyz', x='abc')"
   ]
  },
  {
   "cell_type": "code",
   "execution_count": 19,
   "id": "4f66a35c-5ccc-4011-905f-19c46c423dff",
   "metadata": {},
   "outputs": [
    {
     "data": {
      "text/plain": [
       "'xyzabc'"
      ]
     },
     "execution_count": 19,
     "metadata": {},
     "output_type": "execute_result"
    }
   ],
   "source": [
    "add('xyz', 'abc')"
   ]
  },
  {
   "cell_type": "code",
   "execution_count": 20,
   "id": "84cda4f0-1c56-42eb-99ad-32ec7ff47fdf",
   "metadata": {},
   "outputs": [
    {
     "data": {
      "text/plain": [
       "'abcxyz'"
      ]
     },
     "execution_count": 20,
     "metadata": {},
     "output_type": "execute_result"
    }
   ],
   "source": [
    "add('abc', y='xyz')"
   ]
  },
  {
   "cell_type": "code",
   "execution_count": 21,
   "id": "91988766-1857-449b-96a9-4fb61b7eedd8",
   "metadata": {},
   "outputs": [
    {
     "ename": "SyntaxError",
     "evalue": "positional argument follows keyword argument (1504085855.py, line 1)",
     "output_type": "error",
     "traceback": [
      "\u001b[0;36m  Input \u001b[0;32mIn [21]\u001b[0;36m\u001b[0m\n\u001b[0;31m    add(x='abc', 'xyz')\u001b[0m\n\u001b[0m                      ^\u001b[0m\n\u001b[0;31mSyntaxError\u001b[0m\u001b[0;31m:\u001b[0m positional argument follows keyword argument\n"
     ]
    }
   ],
   "source": [
    "add(x='abc', 'xyz')"
   ]
  },
  {
   "cell_type": "code",
   "execution_count": 22,
   "id": "f46530d7-7a4f-4d64-b84b-2983324ea223",
   "metadata": {},
   "outputs": [
    {
     "ename": "TypeError",
     "evalue": "add() got multiple values for argument 'x'",
     "output_type": "error",
     "traceback": [
      "\u001b[0;31m---------------------------------------------------------------------------\u001b[0m",
      "\u001b[0;31mTypeError\u001b[0m                                 Traceback (most recent call last)",
      "Input \u001b[0;32mIn [22]\u001b[0m, in \u001b[0;36m<cell line: 1>\u001b[0;34m()\u001b[0m\n\u001b[0;32m----> 1\u001b[0m \u001b[43madd\u001b[49m\u001b[43m(\u001b[49m\u001b[38;5;124;43m'\u001b[39;49m\u001b[38;5;124;43mxyz\u001b[39;49m\u001b[38;5;124;43m'\u001b[39;49m\u001b[43m,\u001b[49m\u001b[43m \u001b[49m\u001b[43mx\u001b[49m\u001b[38;5;241;43m=\u001b[39;49m\u001b[38;5;124;43m'\u001b[39;49m\u001b[38;5;124;43mabc\u001b[39;49m\u001b[38;5;124;43m'\u001b[39;49m\u001b[43m)\u001b[49m\n",
      "\u001b[0;31mTypeError\u001b[0m: add() got multiple values for argument 'x'"
     ]
    }
   ],
   "source": [
    "add('xyz', x='abc')"
   ]
  },
  {
   "cell_type": "code",
   "execution_count": 23,
   "id": "a53db0fb-29bc-4cf9-8284-036c271ff262",
   "metadata": {},
   "outputs": [
    {
     "name": "stdout",
     "output_type": "stream",
     "text": [
      "1 2 3\n"
     ]
    }
   ],
   "source": [
    "print(1, 2, 3)"
   ]
  },
  {
   "cell_type": "code",
   "execution_count": 24,
   "id": "5e8a6965-f295-4190-9b97-0020210edf4c",
   "metadata": {},
   "outputs": [
    {
     "name": "stdout",
     "output_type": "stream",
     "text": [
      "1, 2, 3\n"
     ]
    }
   ],
   "source": [
    "print(1, 2, 3, sep=', ')"
   ]
  },
  {
   "cell_type": "markdown",
   "id": "dcfc44ce-08bb-434e-8bcf-b4b39a1b08d2",
   "metadata": {},
   "source": [
    "# Pause bis 10 Uhr"
   ]
  },
  {
   "cell_type": "code",
   "execution_count": 25,
   "id": "5bc8de23-9786-456a-a436-8222466caa64",
   "metadata": {},
   "outputs": [],
   "source": [
    "def add_optional(x, y=0):\n",
    "    return x + y"
   ]
  },
  {
   "cell_type": "code",
   "execution_count": 26,
   "id": "657df198-d02c-4ddd-9ea1-8c7d40358e2b",
   "metadata": {},
   "outputs": [
    {
     "data": {
      "text/plain": [
       "7"
      ]
     },
     "execution_count": 26,
     "metadata": {},
     "output_type": "execute_result"
    }
   ],
   "source": [
    "add_optional(3, 4)"
   ]
  },
  {
   "cell_type": "code",
   "execution_count": 27,
   "id": "5ea5cb05-ec5f-4da4-b6f5-79e3ffe9e5d1",
   "metadata": {},
   "outputs": [
    {
     "data": {
      "text/plain": [
       "6"
      ]
     },
     "execution_count": 27,
     "metadata": {},
     "output_type": "execute_result"
    }
   ],
   "source": [
    "add_optional(6)"
   ]
  },
  {
   "cell_type": "code",
   "execution_count": 28,
   "id": "fb0e9242-a49f-442f-a914-83bd2d7d5341",
   "metadata": {},
   "outputs": [
    {
     "ename": "TypeError",
     "evalue": "add() missing 1 required positional argument: 'y'",
     "output_type": "error",
     "traceback": [
      "\u001b[0;31m---------------------------------------------------------------------------\u001b[0m",
      "\u001b[0;31mTypeError\u001b[0m                                 Traceback (most recent call last)",
      "Input \u001b[0;32mIn [28]\u001b[0m, in \u001b[0;36m<cell line: 1>\u001b[0;34m()\u001b[0m\n\u001b[0;32m----> 1\u001b[0m \u001b[43madd\u001b[49m\u001b[43m(\u001b[49m\u001b[38;5;241;43m6\u001b[39;49m\u001b[43m)\u001b[49m\n",
      "\u001b[0;31mTypeError\u001b[0m: add() missing 1 required positional argument: 'y'"
     ]
    }
   ],
   "source": [
    "add(6)"
   ]
  },
  {
   "cell_type": "code",
   "execution_count": 29,
   "id": "765eedae-6fd2-488c-b997-04a30556e3ee",
   "metadata": {},
   "outputs": [
    {
     "data": {
      "text/plain": [
       "'abcxyz'"
      ]
     },
     "execution_count": 29,
     "metadata": {},
     "output_type": "execute_result"
    }
   ],
   "source": [
    "add_optional('abc', 'xyz')"
   ]
  },
  {
   "cell_type": "code",
   "execution_count": 30,
   "id": "3616cee8-f1cd-4e03-8c57-4f2b51f13b17",
   "metadata": {},
   "outputs": [
    {
     "ename": "TypeError",
     "evalue": "can only concatenate str (not \"int\") to str",
     "output_type": "error",
     "traceback": [
      "\u001b[0;31m---------------------------------------------------------------------------\u001b[0m",
      "\u001b[0;31mTypeError\u001b[0m                                 Traceback (most recent call last)",
      "Input \u001b[0;32mIn [30]\u001b[0m, in \u001b[0;36m<cell line: 1>\u001b[0;34m()\u001b[0m\n\u001b[0;32m----> 1\u001b[0m \u001b[43madd_optional\u001b[49m\u001b[43m(\u001b[49m\u001b[38;5;124;43m'\u001b[39;49m\u001b[38;5;124;43mabc\u001b[39;49m\u001b[38;5;124;43m'\u001b[39;49m\u001b[43m)\u001b[49m\n",
      "Input \u001b[0;32mIn [25]\u001b[0m, in \u001b[0;36madd_optional\u001b[0;34m(x, y)\u001b[0m\n\u001b[1;32m      1\u001b[0m \u001b[38;5;28;01mdef\u001b[39;00m \u001b[38;5;21madd_optional\u001b[39m(x, y\u001b[38;5;241m=\u001b[39m\u001b[38;5;241m0\u001b[39m):\n\u001b[0;32m----> 2\u001b[0m     \u001b[38;5;28;01mreturn\u001b[39;00m \u001b[43mx\u001b[49m\u001b[43m \u001b[49m\u001b[38;5;241;43m+\u001b[39;49m\u001b[43m \u001b[49m\u001b[43my\u001b[49m\n",
      "\u001b[0;31mTypeError\u001b[0m: can only concatenate str (not \"int\") to str"
     ]
    }
   ],
   "source": [
    "add_optional('abc')"
   ]
  },
  {
   "cell_type": "code",
   "execution_count": 31,
   "id": "d93ecee0-13eb-4f1d-bb16-07f477cbc227",
   "metadata": {},
   "outputs": [],
   "source": [
    "def add_optional_better(x, y=None):\n",
    "    if y is None:\n",
    "        return x\n",
    "    return x + y"
   ]
  },
  {
   "cell_type": "code",
   "execution_count": 32,
   "id": "b0dd80a7-6ef2-4e82-bc7a-01e6c3b0f398",
   "metadata": {},
   "outputs": [
    {
     "data": {
      "text/plain": [
       "'abc'"
      ]
     },
     "execution_count": 32,
     "metadata": {},
     "output_type": "execute_result"
    }
   ],
   "source": [
    "add_optional_better('abc')"
   ]
  },
  {
   "cell_type": "code",
   "execution_count": 33,
   "id": "52912e01-4a34-40cb-92e0-44b5ff3d405a",
   "metadata": {},
   "outputs": [
    {
     "data": {
      "text/plain": [
       "[1, 2, 3]"
      ]
     },
     "execution_count": 33,
     "metadata": {},
     "output_type": "execute_result"
    }
   ],
   "source": [
    "add_optional_better([1, 2, 3])"
   ]
  },
  {
   "cell_type": "code",
   "execution_count": 34,
   "id": "8f93d449-63ce-4548-a84d-df7c41bf35b2",
   "metadata": {},
   "outputs": [
    {
     "data": {
      "text/plain": [
       "3"
      ]
     },
     "execution_count": 34,
     "metadata": {},
     "output_type": "execute_result"
    }
   ],
   "source": [
    "add_optional_better(1, 2)"
   ]
  },
  {
   "cell_type": "code",
   "execution_count": 35,
   "id": "c2be36f3-31a2-49db-8b60-9d40d3d826db",
   "metadata": {},
   "outputs": [],
   "source": [
    "def func(*args):\n",
    "    print(args)"
   ]
  },
  {
   "cell_type": "code",
   "execution_count": 36,
   "id": "8c9d4ba6-28a0-437e-96c4-c93e4fbb1c11",
   "metadata": {},
   "outputs": [
    {
     "name": "stdout",
     "output_type": "stream",
     "text": [
      "()\n"
     ]
    }
   ],
   "source": [
    "func()"
   ]
  },
  {
   "cell_type": "code",
   "execution_count": 37,
   "id": "970322ca-b250-4529-a65d-10856a91233e",
   "metadata": {},
   "outputs": [
    {
     "name": "stdout",
     "output_type": "stream",
     "text": [
      "(10,)\n"
     ]
    }
   ],
   "source": [
    "func(10)"
   ]
  },
  {
   "cell_type": "code",
   "execution_count": 38,
   "id": "4ad11aeb-60d0-455e-9a7e-b1a1ddf8dcd8",
   "metadata": {},
   "outputs": [
    {
     "data": {
      "text/plain": [
       "[10]"
      ]
     },
     "execution_count": 38,
     "metadata": {},
     "output_type": "execute_result"
    }
   ],
   "source": [
    "[10]"
   ]
  },
  {
   "cell_type": "code",
   "execution_count": 39,
   "id": "45bdafda-2cbd-4019-9308-1a7e6e12dd37",
   "metadata": {},
   "outputs": [
    {
     "data": {
      "text/plain": [
       "10"
      ]
     },
     "execution_count": 39,
     "metadata": {},
     "output_type": "execute_result"
    }
   ],
   "source": [
    "(10)"
   ]
  },
  {
   "cell_type": "code",
   "execution_count": 40,
   "id": "86e27344-2577-4e2d-8161-8e7e71afb3c3",
   "metadata": {},
   "outputs": [
    {
     "data": {
      "text/plain": [
       "9"
      ]
     },
     "execution_count": 40,
     "metadata": {},
     "output_type": "execute_result"
    }
   ],
   "source": [
    "(1 + 2) * 3"
   ]
  },
  {
   "cell_type": "code",
   "execution_count": 41,
   "id": "eebd22fa-d1dc-4b88-86c6-c7c6e0fc6b03",
   "metadata": {},
   "outputs": [
    {
     "data": {
      "text/plain": [
       "7"
      ]
     },
     "execution_count": 41,
     "metadata": {},
     "output_type": "execute_result"
    }
   ],
   "source": [
    "1 + 2 * 3"
   ]
  },
  {
   "cell_type": "code",
   "execution_count": 42,
   "id": "7ad0eb0e-5215-48f7-bfcf-945b20e09dd3",
   "metadata": {},
   "outputs": [
    {
     "data": {
      "text/plain": [
       "10"
      ]
     },
     "execution_count": 42,
     "metadata": {},
     "output_type": "execute_result"
    }
   ],
   "source": [
    "(((((((10)))))))"
   ]
  },
  {
   "cell_type": "code",
   "execution_count": 43,
   "id": "12999391-4107-4baf-af8e-e34e2245ab7c",
   "metadata": {},
   "outputs": [
    {
     "data": {
      "text/plain": [
       "(10,)"
      ]
     },
     "execution_count": 43,
     "metadata": {},
     "output_type": "execute_result"
    }
   ],
   "source": [
    "10,"
   ]
  },
  {
   "cell_type": "code",
   "execution_count": 44,
   "id": "6629f4e7-321f-4100-825b-40853f64d2b2",
   "metadata": {},
   "outputs": [
    {
     "name": "stdout",
     "output_type": "stream",
     "text": [
      "(10, 20)\n"
     ]
    }
   ],
   "source": [
    "func(10, 20)"
   ]
  },
  {
   "cell_type": "code",
   "execution_count": 45,
   "id": "1f54816f-3cee-4730-ae54-af02fdea331e",
   "metadata": {},
   "outputs": [],
   "source": [
    "def func(**kwargs):\n",
    "    print(kwargs)"
   ]
  },
  {
   "cell_type": "code",
   "execution_count": 46,
   "id": "27077847-9ce6-4ffe-9107-6dc51ba11537",
   "metadata": {},
   "outputs": [
    {
     "name": "stdout",
     "output_type": "stream",
     "text": [
      "{}\n"
     ]
    }
   ],
   "source": [
    "func()"
   ]
  },
  {
   "cell_type": "code",
   "execution_count": 47,
   "id": "accc89d6-c7c8-423e-af1b-e883f7ba7654",
   "metadata": {},
   "outputs": [
    {
     "name": "stdout",
     "output_type": "stream",
     "text": [
      "{'a': 10}\n"
     ]
    }
   ],
   "source": [
    "func(a=10)"
   ]
  },
  {
   "cell_type": "code",
   "execution_count": 48,
   "id": "b9c01dd9-61b9-412e-af2b-37332b60920a",
   "metadata": {},
   "outputs": [
    {
     "name": "stdout",
     "output_type": "stream",
     "text": [
      "{'a': 10, 'b': 20}\n"
     ]
    }
   ],
   "source": [
    "func(a=10, b=20)"
   ]
  },
  {
   "cell_type": "code",
   "execution_count": 49,
   "id": "0db86a57-642e-49eb-99ae-baefedc6e298",
   "metadata": {},
   "outputs": [],
   "source": [
    "def func(*args, **kwargs):\n",
    "    print(args)\n",
    "    print(kwargs)"
   ]
  },
  {
   "cell_type": "code",
   "execution_count": 50,
   "id": "5820a1d7-82ec-44d7-a825-40c2e5e97913",
   "metadata": {},
   "outputs": [
    {
     "name": "stdout",
     "output_type": "stream",
     "text": [
      "()\n",
      "{}\n"
     ]
    }
   ],
   "source": [
    "func()"
   ]
  },
  {
   "cell_type": "code",
   "execution_count": 51,
   "id": "07afc75a-73f6-422e-8709-cba4263608ab",
   "metadata": {},
   "outputs": [
    {
     "name": "stdout",
     "output_type": "stream",
     "text": [
      "(100, 200, 300)\n",
      "{'x': 1, 'y': 2, 'z': 3}\n"
     ]
    }
   ],
   "source": [
    "func(100, 200, 300, x=1, y=2, z=3)"
   ]
  },
  {
   "cell_type": "code",
   "execution_count": 52,
   "id": "6fcfaf1a-1ecc-41e7-908e-ee43e90c599f",
   "metadata": {},
   "outputs": [],
   "source": [
    "def call_func(func, *args, **kwargs):\n",
    "    print('rufe', func.__name__)\n",
    "    print(args)\n",
    "    print(kwargs)\n",
    "    return func(*args, **kwargs)"
   ]
  },
  {
   "cell_type": "code",
   "execution_count": 53,
   "id": "ddb8eb3b-92f7-442c-8f07-ad846c5f4fe7",
   "metadata": {},
   "outputs": [
    {
     "name": "stdout",
     "output_type": "stream",
     "text": [
      "rufe add\n",
      "(4, 5)\n",
      "{}\n"
     ]
    },
    {
     "data": {
      "text/plain": [
       "9"
      ]
     },
     "execution_count": 53,
     "metadata": {},
     "output_type": "execute_result"
    }
   ],
   "source": [
    "call_func(add, 4, 5)"
   ]
  },
  {
   "cell_type": "code",
   "execution_count": 54,
   "id": "010bf4c6-f653-41dc-bcba-2aabd405f345",
   "metadata": {},
   "outputs": [
    {
     "name": "stdout",
     "output_type": "stream",
     "text": [
      "rufe add\n",
      "(4,)\n",
      "{'y': 5}\n"
     ]
    },
    {
     "data": {
      "text/plain": [
       "9"
      ]
     },
     "execution_count": 54,
     "metadata": {},
     "output_type": "execute_result"
    }
   ],
   "source": [
    "call_func(add, 4, y=5)"
   ]
  },
  {
   "cell_type": "code",
   "execution_count": 55,
   "id": "09329902-af4c-4456-9d55-0bfefcffd57c",
   "metadata": {},
   "outputs": [],
   "source": [
    "t = (4, 5)"
   ]
  },
  {
   "cell_type": "code",
   "execution_count": 57,
   "id": "b4c28cb8-a26f-4fdf-aac3-fa08837bcf0c",
   "metadata": {},
   "outputs": [
    {
     "data": {
      "text/plain": [
       "9"
      ]
     },
     "execution_count": 57,
     "metadata": {},
     "output_type": "execute_result"
    }
   ],
   "source": [
    "add(*t)"
   ]
  },
  {
   "cell_type": "code",
   "execution_count": 58,
   "id": "78cc3d0f-15f6-448b-b276-0d9a8e6f5765",
   "metadata": {},
   "outputs": [],
   "source": [
    "L = list(range(2, 11))"
   ]
  },
  {
   "cell_type": "code",
   "execution_count": 59,
   "id": "7c4eb2c1-d280-4d0c-b7a7-8045976d9e94",
   "metadata": {},
   "outputs": [
    {
     "data": {
      "text/plain": [
       "[2, 3, 4, 5, 6, 7, 8, 9, 10]"
      ]
     },
     "execution_count": 59,
     "metadata": {},
     "output_type": "execute_result"
    }
   ],
   "source": [
    "L"
   ]
  },
  {
   "cell_type": "code",
   "execution_count": 60,
   "id": "5b5f4670-a74a-46c5-a38e-88f040126779",
   "metadata": {},
   "outputs": [
    {
     "name": "stdout",
     "output_type": "stream",
     "text": [
      "[2, 3, 4, 5, 6, 7, 8, 9, 10]\n"
     ]
    }
   ],
   "source": [
    "print(L)"
   ]
  },
  {
   "cell_type": "code",
   "execution_count": 61,
   "id": "38c70f2e-87cc-4c69-88b2-9a2d6d3ef0ba",
   "metadata": {},
   "outputs": [
    {
     "name": "stdout",
     "output_type": "stream",
     "text": [
      "2 3 4\n"
     ]
    }
   ],
   "source": [
    "print(L[0], L[1], L[2])"
   ]
  },
  {
   "cell_type": "code",
   "execution_count": 62,
   "id": "4d47e036-7cc3-42c6-ae96-50ded67480ee",
   "metadata": {},
   "outputs": [
    {
     "name": "stdout",
     "output_type": "stream",
     "text": [
      "2 3 4 5 6 7 8 9 10\n"
     ]
    }
   ],
   "source": [
    "print(*L)"
   ]
  },
  {
   "cell_type": "code",
   "execution_count": 63,
   "id": "38463e34-ca81-4a34-ab74-821d2fe2eb2b",
   "metadata": {},
   "outputs": [
    {
     "data": {
      "text/plain": [
       "\u001b[0;31mDocstring:\u001b[0m\n",
       "print(value, ..., sep=' ', end='\\n', file=sys.stdout, flush=False)\n",
       "\n",
       "Prints the values to a stream, or to sys.stdout by default.\n",
       "Optional keyword arguments:\n",
       "file:  a file-like object (stream); defaults to the current sys.stdout.\n",
       "sep:   string inserted between values, default a space.\n",
       "end:   string appended after the last value, default a newline.\n",
       "flush: whether to forcibly flush the stream.\n",
       "\u001b[0;31mType:\u001b[0m      builtin_function_or_method\n"
      ]
     },
     "metadata": {},
     "output_type": "display_data"
    }
   ],
   "source": [
    "print?"
   ]
  },
  {
   "cell_type": "code",
   "execution_count": 64,
   "id": "326eb46e-01e1-45c0-bd5d-0c75f23fd5d1",
   "metadata": {},
   "outputs": [
    {
     "name": "stdout",
     "output_type": "stream",
     "text": [
      "2#3#4#5#6#7#8#9#10\n"
     ]
    }
   ],
   "source": [
    "print(*L, sep='#')"
   ]
  },
  {
   "cell_type": "code",
   "execution_count": 65,
   "id": "21574710-50af-4007-a8da-fd29bedb2194",
   "metadata": {},
   "outputs": [],
   "source": [
    "opt = {'sep': '#'}"
   ]
  },
  {
   "cell_type": "code",
   "execution_count": 66,
   "id": "78cba86c-b5a3-4f0b-adcc-0e07081f7489",
   "metadata": {},
   "outputs": [
    {
     "name": "stdout",
     "output_type": "stream",
     "text": [
      "2#3#4#5#6#7#8#9#10\n"
     ]
    }
   ],
   "source": [
    "print(*L, **opt)"
   ]
  },
  {
   "cell_type": "code",
   "execution_count": 67,
   "id": "1d16b939-c4ae-48f9-98a2-3358132167bf",
   "metadata": {},
   "outputs": [],
   "source": [
    "def f1():\n",
    "    return 1\n",
    "\n",
    "\n",
    "def f2():\n",
    "    return 2"
   ]
  },
  {
   "cell_type": "code",
   "execution_count": 68,
   "id": "96b62bb6-0868-4fb3-be6d-41b8cc95c737",
   "metadata": {},
   "outputs": [],
   "source": [
    "fd = {'a': f1, 'b': f2}"
   ]
  },
  {
   "cell_type": "code",
   "execution_count": 69,
   "id": "3e216a91-f8b9-4119-af64-12782164b6e8",
   "metadata": {},
   "outputs": [
    {
     "data": {
      "text/plain": [
       "{'a': <function __main__.f1()>, 'b': <function __main__.f2()>}"
      ]
     },
     "execution_count": 69,
     "metadata": {},
     "output_type": "execute_result"
    }
   ],
   "source": [
    "fd"
   ]
  },
  {
   "cell_type": "code",
   "execution_count": 70,
   "id": "95fd2a5a-aeae-4499-8c87-1ca8fba16459",
   "metadata": {},
   "outputs": [
    {
     "data": {
      "text/plain": [
       "<function __main__.f1()>"
      ]
     },
     "execution_count": 70,
     "metadata": {},
     "output_type": "execute_result"
    }
   ],
   "source": [
    "fd['a']"
   ]
  },
  {
   "cell_type": "code",
   "execution_count": 71,
   "id": "4d3402de-92f1-469b-a39a-10e18b3e5065",
   "metadata": {},
   "outputs": [
    {
     "data": {
      "text/plain": [
       "1"
      ]
     },
     "execution_count": 71,
     "metadata": {},
     "output_type": "execute_result"
    }
   ],
   "source": [
    "fd['a']()"
   ]
  },
  {
   "cell_type": "code",
   "execution_count": 72,
   "id": "adbdf182-919e-42d8-8427-679b4d07f071",
   "metadata": {},
   "outputs": [],
   "source": [
    "def read_csv(file_name):\n",
    "    return 'csv'\n",
    "\n",
    "\n",
    "def read_xlsx(file_name):\n",
    "    return 'xlsx'\n",
    "\n",
    "\n",
    "def read_txt(file_name):\n",
    "    return 'txt'"
   ]
  },
  {
   "cell_type": "code",
   "execution_count": 73,
   "id": "367b394b-dc3d-4cb4-a777-faf0ca83712e",
   "metadata": {},
   "outputs": [],
   "source": [
    "readers = {\n",
    "    'csv': read_csv,\n",
    "    'txt': read_txt,\n",
    "    'xlsx': read_xlsx,\n",
    "}"
   ]
  },
  {
   "cell_type": "code",
   "execution_count": 74,
   "id": "49d1374d-6080-4837-9200-f3b1c855b085",
   "metadata": {},
   "outputs": [],
   "source": [
    "def read_file(file_name, readers=readers):\n",
    "    ext = file_name.split('.')[-1]\n",
    "    return readers[ext](file_name)"
   ]
  },
  {
   "cell_type": "code",
   "execution_count": 75,
   "id": "a82604c2-392b-43ae-a7b4-24d95e46d44a",
   "metadata": {},
   "outputs": [
    {
     "data": {
      "text/plain": [
       "'csv'"
      ]
     },
     "execution_count": 75,
     "metadata": {},
     "output_type": "execute_result"
    }
   ],
   "source": [
    "read_file('data.csv')"
   ]
  },
  {
   "cell_type": "code",
   "execution_count": 76,
   "id": "c311a803-fbf3-4c94-83a3-5e828e0e1387",
   "metadata": {},
   "outputs": [],
   "source": [
    "def zwei():\n",
    "    return 1, 2"
   ]
  },
  {
   "cell_type": "code",
   "execution_count": 77,
   "id": "b6d842cf-8c2f-4991-b821-2d4a53dc9c18",
   "metadata": {},
   "outputs": [],
   "source": [
    "a, b = zwei()"
   ]
  },
  {
   "cell_type": "code",
   "execution_count": 78,
   "id": "df2f523c-5576-469d-8fca-3f50377cdb18",
   "metadata": {},
   "outputs": [
    {
     "data": {
      "text/plain": [
       "1"
      ]
     },
     "execution_count": 78,
     "metadata": {},
     "output_type": "execute_result"
    }
   ],
   "source": [
    "a"
   ]
  },
  {
   "cell_type": "code",
   "execution_count": 79,
   "id": "e0368cbf-5df6-4c9e-bb50-a5d04e86eef2",
   "metadata": {},
   "outputs": [
    {
     "data": {
      "text/plain": [
       "2"
      ]
     },
     "execution_count": 79,
     "metadata": {},
     "output_type": "execute_result"
    }
   ],
   "source": [
    "b"
   ]
  },
  {
   "cell_type": "code",
   "execution_count": 80,
   "id": "a3d03100-d1d3-4fda-a926-8cbb95888776",
   "metadata": {},
   "outputs": [
    {
     "data": {
      "text/plain": [
       "(1, 2)"
      ]
     },
     "execution_count": 80,
     "metadata": {},
     "output_type": "execute_result"
    }
   ],
   "source": [
    "zwei()"
   ]
  },
  {
   "cell_type": "code",
   "execution_count": 81,
   "id": "ba634eea-002e-4fd1-bd18-3479f96cb91f",
   "metadata": {},
   "outputs": [
    {
     "data": {
      "text/plain": [
       "(1, 2)"
      ]
     },
     "execution_count": 81,
     "metadata": {},
     "output_type": "execute_result"
    }
   ],
   "source": [
    "1, 2"
   ]
  },
  {
   "cell_type": "code",
   "execution_count": 82,
   "id": "c18dc604-eb4b-46e4-bba1-890e71b3b4e6",
   "metadata": {},
   "outputs": [],
   "source": [
    "def limit10(value):\n",
    "    if value > 10:\n",
    "        return 10\n",
    "    return value"
   ]
  },
  {
   "cell_type": "code",
   "execution_count": 83,
   "id": "d4c39ae5-f7c4-49c7-aa49-1edbcb3caad9",
   "metadata": {},
   "outputs": [
    {
     "data": {
      "text/plain": [
       "10"
      ]
     },
     "execution_count": 83,
     "metadata": {},
     "output_type": "execute_result"
    }
   ],
   "source": [
    "limit10(23)"
   ]
  },
  {
   "cell_type": "code",
   "execution_count": 84,
   "id": "3f58b4f8-90c1-4ce8-91cf-79de211835c7",
   "metadata": {},
   "outputs": [
    {
     "data": {
      "text/plain": [
       "2"
      ]
     },
     "execution_count": 84,
     "metadata": {},
     "output_type": "execute_result"
    }
   ],
   "source": [
    "limit10(2)"
   ]
  },
  {
   "cell_type": "code",
   "execution_count": 85,
   "id": "030c9e9b-c7fc-4298-8b69-464a8ad54345",
   "metadata": {},
   "outputs": [],
   "source": [
    "import timeit"
   ]
  },
  {
   "cell_type": "code",
   "execution_count": 86,
   "id": "0a922a2b-0848-454e-8336-9961408adf8e",
   "metadata": {},
   "outputs": [],
   "source": [
    "start = timeit.default_timer()"
   ]
  },
  {
   "cell_type": "code",
   "execution_count": 87,
   "id": "fadf80da-d432-4686-a5e5-6373fdffc6c1",
   "metadata": {},
   "outputs": [
    {
     "data": {
      "text/plain": [
       "10432144.83932263"
      ]
     },
     "execution_count": 87,
     "metadata": {},
     "output_type": "execute_result"
    }
   ],
   "source": [
    "start"
   ]
  },
  {
   "cell_type": "code",
   "execution_count": 88,
   "id": "7dbd00a9-3fce-470c-a161-afebda321d92",
   "metadata": {},
   "outputs": [],
   "source": [
    "end = timeit.default_timer()"
   ]
  },
  {
   "cell_type": "code",
   "execution_count": 89,
   "id": "6789b726-d109-4822-b089-c4e6c86359e1",
   "metadata": {},
   "outputs": [
    {
     "data": {
      "text/plain": [
       "14.44479183293879"
      ]
     },
     "execution_count": 89,
     "metadata": {},
     "output_type": "execute_result"
    }
   ],
   "source": [
    "end - start"
   ]
  },
  {
   "cell_type": "code",
   "execution_count": 90,
   "id": "597f0609-deb9-4485-ab3c-b8adbb84d18b",
   "metadata": {},
   "outputs": [
    {
     "data": {
      "text/plain": [
       "6.165727972984314e-05"
      ]
     },
     "execution_count": 90,
     "metadata": {},
     "output_type": "execute_result"
    }
   ],
   "source": [
    "start = timeit.default_timer()\n",
    "end = timeit.default_timer()\n",
    "end - start"
   ]
  },
  {
   "cell_type": "code",
   "execution_count": 91,
   "id": "41dfb434-e470-49ee-9957-5feedaa23f53",
   "metadata": {},
   "outputs": [
    {
     "data": {
      "text/plain": [
       "1.0012795105576515"
      ]
     },
     "execution_count": 91,
     "metadata": {},
     "output_type": "execute_result"
    }
   ],
   "source": [
    "import time\n",
    "\n",
    "start = timeit.default_timer()\n",
    "time.sleep(1)\n",
    "end = timeit.default_timer()\n",
    "end - start"
   ]
  },
  {
   "cell_type": "markdown",
   "id": "63b4dd58-fd9c-4d31-855f-ea43dc666ea3",
   "metadata": {},
   "source": [
    "# Pause bis 12 Uhr"
   ]
  },
  {
   "cell_type": "code",
   "execution_count": 94,
   "id": "0e941876-6ddc-4b90-9df2-d7deb6db5c39",
   "metadata": {},
   "outputs": [],
   "source": [
    "def show():\n",
    "    for i in range(10):\n",
    "        print('Ausgabe:', i)"
   ]
  },
  {
   "cell_type": "code",
   "execution_count": 95,
   "id": "9364129d-daf5-472e-b849-e2cb21f608bd",
   "metadata": {},
   "outputs": [
    {
     "name": "stdout",
     "output_type": "stream",
     "text": [
      "Ausgabe: 0\n",
      "Ausgabe: 1\n",
      "Ausgabe: 2\n",
      "Ausgabe: 3\n",
      "Ausgabe: 4\n",
      "Ausgabe: 5\n",
      "Ausgabe: 6\n",
      "Ausgabe: 7\n",
      "Ausgabe: 8\n",
      "Ausgabe: 9\n"
     ]
    }
   ],
   "source": [
    "show()"
   ]
  },
  {
   "cell_type": "code",
   "execution_count": 96,
   "id": "c0e66ced-8750-4e5d-87d3-33afeb0d4c12",
   "metadata": {},
   "outputs": [],
   "source": [
    "def mal2(zahl):\n",
    "    \"\"\"Returns Zahl mal 2\"\"\"\n",
    "    return zahl * 2"
   ]
  },
  {
   "cell_type": "code",
   "execution_count": 97,
   "id": "ea71d214-4f27-4f88-a566-6d2b46b88a35",
   "metadata": {},
   "outputs": [
    {
     "data": {
      "text/plain": [
       "200"
      ]
     },
     "execution_count": 97,
     "metadata": {},
     "output_type": "execute_result"
    }
   ],
   "source": [
    "mal2(100)"
   ]
  },
  {
   "cell_type": "code",
   "execution_count": 98,
   "id": "7e3d4849-87a9-4140-8331-ccfb15119c69",
   "metadata": {},
   "outputs": [
    {
     "data": {
      "text/plain": [
       "'abcabc'"
      ]
     },
     "execution_count": 98,
     "metadata": {},
     "output_type": "execute_result"
    }
   ],
   "source": [
    "mal2('abc')"
   ]
  },
  {
   "cell_type": "code",
   "execution_count": 101,
   "id": "41e9ee58-3bdc-444a-af5a-be5d038de58a",
   "metadata": {},
   "outputs": [],
   "source": [
    "def arretmetischemittel(zahl1, zahl2, zahl3):\n",
    "    \"\"\"Arretmetishce Mittel wird gebildet\"\"\"\n",
    "    return (zahl1 + zahl2 + zahl3)/3"
   ]
  },
  {
   "cell_type": "code",
   "execution_count": 102,
   "id": "6932f6e7-7506-4cc4-ad1f-c1f974b72fb3",
   "metadata": {},
   "outputs": [
    {
     "data": {
      "text/plain": [
       "3.6666666666666665"
      ]
     },
     "execution_count": 102,
     "metadata": {},
     "output_type": "execute_result"
    }
   ],
   "source": [
    "arretmetischemittel(3, 7, 1)"
   ]
  },
  {
   "cell_type": "code",
   "execution_count": 103,
   "id": "b492e25e-98ee-499b-a278-198489532e71",
   "metadata": {},
   "outputs": [],
   "source": [
    "def arretmetischemittel2(zahl1, zahl2 = 0, zahl3 = 0):\n",
    "    \"\"\"Arretmetishce Mittel wird gebildet\"\"\"\n",
    "    return (zahl1 + zahl2 + zahl3)/2"
   ]
  },
  {
   "cell_type": "code",
   "execution_count": 106,
   "id": "5334131f-3262-4eab-a034-4e7b1aaaa122",
   "metadata": {},
   "outputs": [
    {
     "data": {
      "text/plain": [
       "2.5"
      ]
     },
     "execution_count": 106,
     "metadata": {},
     "output_type": "execute_result"
    }
   ],
   "source": [
    "arretmetischemittel2(5, 0, 0)"
   ]
  },
  {
   "cell_type": "code",
   "execution_count": null,
   "id": "f3ca2254-ec9c-4499-ad7c-25c1df3876a9",
   "metadata": {},
   "outputs": [],
   "source": []
  }
 ],
 "metadata": {
  "kernelspec": {
   "display_name": "Python 3.10",
   "language": "python",
   "name": "python310"
  },
  "language_info": {
   "codemirror_mode": {
    "name": "ipython",
    "version": 3
   },
   "file_extension": ".py",
   "mimetype": "text/x-python",
   "name": "python",
   "nbconvert_exporter": "python",
   "pygments_lexer": "ipython3",
   "version": "3.10.4"
  }
 },
 "nbformat": 4,
 "nbformat_minor": 5
}
