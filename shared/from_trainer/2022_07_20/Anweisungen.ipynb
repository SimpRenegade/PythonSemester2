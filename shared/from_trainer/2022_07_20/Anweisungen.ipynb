{
 "cells": [
  {
   "cell_type": "code",
   "execution_count": 1,
   "id": "9d2c43ef-fc3a-49b1-b349-493827dcabcb",
   "metadata": {},
   "outputs": [
    {
     "data": {
      "text/plain": [
       "2"
      ]
     },
     "execution_count": 1,
     "metadata": {},
     "output_type": "execute_result"
    }
   ],
   "source": [
    "1 + 1"
   ]
  },
  {
   "cell_type": "code",
   "execution_count": 2,
   "id": "a306555b-af3f-47a9-9132-f2d6411a4032",
   "metadata": {},
   "outputs": [],
   "source": [
    "a = 5"
   ]
  },
  {
   "cell_type": "code",
   "execution_count": 3,
   "id": "aafa6211-6179-46a6-8801-c1a1b3514f3d",
   "metadata": {},
   "outputs": [
    {
     "data": {
      "text/plain": [
       "5"
      ]
     },
     "execution_count": 3,
     "metadata": {},
     "output_type": "execute_result"
    }
   ],
   "source": [
    "a"
   ]
  },
  {
   "cell_type": "code",
   "execution_count": 4,
   "id": "351d33cc-62db-432b-8dcd-ce43e7e6413f",
   "metadata": {},
   "outputs": [
    {
     "ename": "NameError",
     "evalue": "name 'b' is not defined",
     "output_type": "error",
     "traceback": [
      "\u001b[0;31m---------------------------------------------------------------------------\u001b[0m",
      "\u001b[0;31mNameError\u001b[0m                                 Traceback (most recent call last)",
      "Input \u001b[0;32mIn [4]\u001b[0m, in \u001b[0;36m<cell line: 1>\u001b[0;34m()\u001b[0m\n\u001b[0;32m----> 1\u001b[0m \u001b[43mb\u001b[49m\n",
      "\u001b[0;31mNameError\u001b[0m: name 'b' is not defined"
     ]
    }
   ],
   "source": [
    "b"
   ]
  },
  {
   "cell_type": "code",
   "execution_count": 5,
   "id": "76d2a183-7c4d-43c3-a4e0-9a1ea4934d31",
   "metadata": {},
   "outputs": [],
   "source": [
    "res = 1 + 1"
   ]
  },
  {
   "cell_type": "code",
   "execution_count": 6,
   "id": "5a96203c-b1b8-4c23-be6b-19fd66ce7eb4",
   "metadata": {},
   "outputs": [
    {
     "data": {
      "text/plain": [
       "2"
      ]
     },
     "execution_count": 6,
     "metadata": {},
     "output_type": "execute_result"
    }
   ],
   "source": [
    "res"
   ]
  },
  {
   "cell_type": "code",
   "execution_count": 7,
   "id": "d5ef4aa2-ae1e-4d0a-9ee9-562895d9076b",
   "metadata": {},
   "outputs": [
    {
     "ename": "NameError",
     "evalue": "name 'os' is not defined",
     "output_type": "error",
     "traceback": [
      "\u001b[0;31m---------------------------------------------------------------------------\u001b[0m",
      "\u001b[0;31mNameError\u001b[0m                                 Traceback (most recent call last)",
      "Input \u001b[0;32mIn [7]\u001b[0m, in \u001b[0;36m<cell line: 1>\u001b[0;34m()\u001b[0m\n\u001b[0;32m----> 1\u001b[0m \u001b[43mos\u001b[49m\n",
      "\u001b[0;31mNameError\u001b[0m: name 'os' is not defined"
     ]
    }
   ],
   "source": [
    "os"
   ]
  },
  {
   "cell_type": "code",
   "execution_count": 8,
   "id": "121f6fea-dd4b-45a7-af56-a6198f7cf6f4",
   "metadata": {},
   "outputs": [],
   "source": [
    "import os"
   ]
  },
  {
   "cell_type": "code",
   "execution_count": 9,
   "id": "20417048-6e4f-405b-ac40-6ea76d1fcda3",
   "metadata": {},
   "outputs": [
    {
     "data": {
      "text/plain": [
       "<module 'os' from '/opt/mambaforge/envs/python310/lib/python3.10/os.py'>"
      ]
     },
     "execution_count": 9,
     "metadata": {},
     "output_type": "execute_result"
    }
   ],
   "source": [
    "os"
   ]
  },
  {
   "cell_type": "code",
   "execution_count": 10,
   "id": "1a25f881-8f59-49d7-93df-cc84de2bacc5",
   "metadata": {},
   "outputs": [
    {
     "data": {
      "text/plain": [
       "\u001b[0;31mType:\u001b[0m        module\n",
       "\u001b[0;31mString form:\u001b[0m <module 'os' from '/opt/mambaforge/envs/python310/lib/python3.10/os.py'>\n",
       "\u001b[0;31mFile:\u001b[0m        /opt/mambaforge/envs/python310/lib/python3.10/os.py\n",
       "\u001b[0;31mDocstring:\u001b[0m  \n",
       "OS routines for NT or Posix depending on what system we're on.\n",
       "\n",
       "This exports:\n",
       "  - all functions from posix or nt, e.g. unlink, stat, etc.\n",
       "  - os.path is either posixpath or ntpath\n",
       "  - os.name is either 'posix' or 'nt'\n",
       "  - os.curdir is a string representing the current directory (always '.')\n",
       "  - os.pardir is a string representing the parent directory (always '..')\n",
       "  - os.sep is the (or a most common) pathname separator ('/' or '\\\\')\n",
       "  - os.extsep is the extension separator (always '.')\n",
       "  - os.altsep is the alternate pathname separator (None or '/')\n",
       "  - os.pathsep is the component separator used in $PATH etc\n",
       "  - os.linesep is the line separator in text files ('\\r' or '\\n' or '\\r\\n')\n",
       "  - os.defpath is the default search path for executables\n",
       "  - os.devnull is the file path of the null device ('/dev/null', etc.)\n",
       "\n",
       "Programs that import and use 'os' stand a better chance of being\n",
       "portable between different platforms.  Of course, they must then\n",
       "only use functions that are defined by all platforms (e.g., unlink\n",
       "and opendir), and leave all pathname manipulation to os.path\n",
       "(e.g., split and join).\n"
      ]
     },
     "metadata": {},
     "output_type": "display_data"
    }
   ],
   "source": [
    "os?"
   ]
  },
  {
   "cell_type": "code",
   "execution_count": null,
   "id": "d7ed03e5-2e92-4071-b211-af4f65f17c90",
   "metadata": {},
   "outputs": [],
   "source": []
  }
 ],
 "metadata": {
  "kernelspec": {
   "display_name": "Python 3.10",
   "language": "python",
   "name": "python310"
  },
  "language_info": {
   "codemirror_mode": {
    "name": "ipython",
    "version": 3
   },
   "file_extension": ".py",
   "mimetype": "text/x-python",
   "name": "python",
   "nbconvert_exporter": "python",
   "pygments_lexer": "ipython3",
   "version": "3.10.4"
  }
 },
 "nbformat": 4,
 "nbformat_minor": 5
}
