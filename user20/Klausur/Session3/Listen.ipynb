{
 "cells": [
  {
   "cell_type": "code",
   "execution_count": 1,
   "id": "a8f3a7c6-4f0b-4e47-8df0-3eca05ddb9ce",
   "metadata": {},
   "outputs": [],
   "source": [
    "L = list(range(2, 11))"
   ]
  },
  {
   "cell_type": "code",
   "execution_count": 2,
   "id": "aacbba85-781f-43b2-bbb5-9ec2c1a7fbff",
   "metadata": {},
   "outputs": [
    {
     "data": {
      "text/plain": [
       "[2, 3, 4, 5, 6, 7, 8, 9, 10]"
      ]
     },
     "execution_count": 2,
     "metadata": {},
     "output_type": "execute_result"
    }
   ],
   "source": [
    "L"
   ]
  },
  {
   "cell_type": "code",
   "execution_count": 3,
   "id": "dd53c2ea-a65f-4ba2-95ec-9c09ae6babf3",
   "metadata": {},
   "outputs": [
    {
     "data": {
      "text/plain": [
       "5"
      ]
     },
     "execution_count": 3,
     "metadata": {},
     "output_type": "execute_result"
    }
   ],
   "source": [
    "L[3]"
   ]
  },
  {
   "cell_type": "code",
   "execution_count": 4,
   "id": "de3b56f0-9d94-4081-b8b5-80874438262d",
   "metadata": {},
   "outputs": [],
   "source": [
    "L[3] = 1000"
   ]
  },
  {
   "cell_type": "code",
   "execution_count": 5,
   "id": "c5ade343-e689-4229-a9f2-7e53ef05183e",
   "metadata": {},
   "outputs": [
    {
     "data": {
      "text/plain": [
       "[2, 3, 4, 1000, 6, 7, 8, 9, 10]"
      ]
     },
     "execution_count": 5,
     "metadata": {},
     "output_type": "execute_result"
    }
   ],
   "source": [
    "L"
   ]
  },
  {
   "cell_type": "code",
   "execution_count": 6,
   "id": "ccbe67df-4581-4db1-b859-24d8653cf2b6",
   "metadata": {},
   "outputs": [
    {
     "data": {
      "text/plain": [
       "[4, 1000]"
      ]
     },
     "execution_count": 6,
     "metadata": {},
     "output_type": "execute_result"
    }
   ],
   "source": [
    "L[2:4]"
   ]
  },
  {
   "cell_type": "code",
   "execution_count": 7,
   "id": "750df653-ec43-4f46-984a-3144e6b5e4c9",
   "metadata": {},
   "outputs": [],
   "source": [
    "L[2:4] = [100, 200, 300, 400, 500]"
   ]
  },
  {
   "cell_type": "code",
   "execution_count": 8,
   "id": "494cfe64-b681-4d5b-8f5f-25d365fee7dc",
   "metadata": {},
   "outputs": [
    {
     "data": {
      "text/plain": [
       "[2, 3, 100, 200, 300, 400, 500, 6, 7, 8, 9, 10]"
      ]
     },
     "execution_count": 8,
     "metadata": {},
     "output_type": "execute_result"
    }
   ],
   "source": [
    "L"
   ]
  },
  {
   "cell_type": "code",
   "execution_count": 9,
   "id": "5f149fed-af9d-4079-932d-b5ded778e2f4",
   "metadata": {},
   "outputs": [
    {
     "data": {
      "text/plain": [
       "[2, 100, 300, 500, 7, 9]"
      ]
     },
     "execution_count": 9,
     "metadata": {},
     "output_type": "execute_result"
    }
   ],
   "source": [
    "L[::2]"
   ]
  },
  {
   "cell_type": "code",
   "execution_count": 10,
   "id": "2d633a4b-ed29-40d2-844d-4950b779f05b",
   "metadata": {},
   "outputs": [
    {
     "data": {
      "text/plain": [
       "6"
      ]
     },
     "execution_count": 10,
     "metadata": {},
     "output_type": "execute_result"
    }
   ],
   "source": [
    "len(L[::2])"
   ]
  },
  {
   "cell_type": "code",
   "execution_count": 11,
   "id": "136ecd76-5606-4add-b4fd-4d914bc47431",
   "metadata": {},
   "outputs": [
    {
     "data": {
      "text/plain": [
       "[23, 23, 23, 23, 23, 23]"
      ]
     },
     "execution_count": 11,
     "metadata": {},
     "output_type": "execute_result"
    }
   ],
   "source": [
    "[23] * 6"
   ]
  },
  {
   "cell_type": "code",
   "execution_count": 12,
   "id": "25d8a666-7adf-48f3-9d07-342d17a3b84c",
   "metadata": {},
   "outputs": [],
   "source": [
    "L[::2] = [23] * len(L[::2])"
   ]
  },
  {
   "cell_type": "code",
   "execution_count": 13,
   "id": "138365fc-d0b5-4bb2-9136-f7c9d579dc47",
   "metadata": {},
   "outputs": [
    {
     "data": {
      "text/plain": [
       "[23, 3, 23, 200, 23, 400, 23, 6, 23, 8, 23, 10]"
      ]
     },
     "execution_count": 13,
     "metadata": {},
     "output_type": "execute_result"
    }
   ],
   "source": [
    "L"
   ]
  },
  {
   "cell_type": "code",
   "execution_count": 14,
   "id": "50b6ac01-0fbb-48ac-978b-9f701d89536d",
   "metadata": {},
   "outputs": [],
   "source": [
    "for n in range(0, len(L), 2):\n",
    "    L[n] = 67"
   ]
  },
  {
   "cell_type": "code",
   "execution_count": 15,
   "id": "17f72084-bdd8-4e74-a9fd-0523536ee263",
   "metadata": {},
   "outputs": [
    {
     "data": {
      "text/plain": [
       "[67, 3, 67, 200, 67, 400, 67, 6, 67, 8, 67, 10]"
      ]
     },
     "execution_count": 15,
     "metadata": {},
     "output_type": "execute_result"
    }
   ],
   "source": [
    "L"
   ]
  },
  {
   "cell_type": "code",
   "execution_count": 16,
   "id": "31eaaff0-498b-42f4-a27e-d980736400d1",
   "metadata": {},
   "outputs": [],
   "source": [
    "del L[2]"
   ]
  },
  {
   "cell_type": "code",
   "execution_count": 17,
   "id": "ab0ab37c-53fa-4e6e-800e-613fbd51cb60",
   "metadata": {},
   "outputs": [
    {
     "data": {
      "text/plain": [
       "[67, 3, 200, 67, 400, 67, 6, 67, 8, 67, 10]"
      ]
     },
     "execution_count": 17,
     "metadata": {},
     "output_type": "execute_result"
    }
   ],
   "source": [
    "L"
   ]
  },
  {
   "cell_type": "code",
   "execution_count": 18,
   "id": "ba0fa3fc-a579-4b06-8f67-f76f839a56af",
   "metadata": {},
   "outputs": [],
   "source": [
    "del L[2:4]"
   ]
  },
  {
   "cell_type": "code",
   "execution_count": 19,
   "id": "2c3cdf95-cfd7-4ed4-a95d-e302ef847581",
   "metadata": {},
   "outputs": [
    {
     "data": {
      "text/plain": [
       "[67, 3, 400, 67, 6, 67, 8, 67, 10]"
      ]
     },
     "execution_count": 19,
     "metadata": {},
     "output_type": "execute_result"
    }
   ],
   "source": [
    "L"
   ]
  },
  {
   "cell_type": "code",
   "execution_count": 20,
   "id": "6431b7db-ee68-47d6-bc97-1c3c24b93c1e",
   "metadata": {},
   "outputs": [],
   "source": [
    "del L[100:105]"
   ]
  },
  {
   "cell_type": "code",
   "execution_count": 21,
   "id": "a173c5e7-d362-492d-b27d-1b9d096abec7",
   "metadata": {},
   "outputs": [
    {
     "data": {
      "text/plain": [
       "[67, 3, 400, 67, 6, 67, 8, 67, 10]"
      ]
     },
     "execution_count": 21,
     "metadata": {},
     "output_type": "execute_result"
    }
   ],
   "source": [
    "L"
   ]
  },
  {
   "cell_type": "markdown",
   "id": "c516206d-66c5-4cf2-8f83-682ef0ff2b1b",
   "metadata": {},
   "source": [
    "# Pause bis 12 Uhr"
   ]
  },
  {
   "cell_type": "code",
   "execution_count": 22,
   "id": "67ad5dfd-fdc5-42d8-b567-229a03f7d980",
   "metadata": {},
   "outputs": [
    {
     "data": {
      "text/plain": [
       "'10_000_000'"
      ]
     },
     "execution_count": 22,
     "metadata": {},
     "output_type": "execute_result"
    }
   ],
   "source": [
    "n = 10 ** 7\n",
    "\n",
    "f'{n:_}'"
   ]
  },
  {
   "cell_type": "code",
   "execution_count": 23,
   "id": "0418bf0e-b85f-4751-933f-2e90d5fbee75",
   "metadata": {},
   "outputs": [
    {
     "data": {
      "text/plain": [
       "\u001b[0;31mSignature:\u001b[0m \u001b[0mL\u001b[0m\u001b[0;34m.\u001b[0m\u001b[0mappend\u001b[0m\u001b[0;34m(\u001b[0m\u001b[0mobject\u001b[0m\u001b[0;34m,\u001b[0m \u001b[0;34m/\u001b[0m\u001b[0;34m)\u001b[0m\u001b[0;34m\u001b[0m\u001b[0;34m\u001b[0m\u001b[0m\n",
       "\u001b[0;31mDocstring:\u001b[0m Append object to the end of the list.\n",
       "\u001b[0;31mType:\u001b[0m      builtin_function_or_method\n"
      ]
     },
     "metadata": {},
     "output_type": "display_data"
    }
   ],
   "source": [
    "L.append?"
   ]
  },
  {
   "cell_type": "code",
   "execution_count": 24,
   "id": "5cc21135-0d66-407a-a346-8107b92c3a88",
   "metadata": {},
   "outputs": [
    {
     "data": {
      "text/plain": [
       "[67, 3, 400, 67, 6, 67, 8, 67, 10]"
      ]
     },
     "execution_count": 24,
     "metadata": {},
     "output_type": "execute_result"
    }
   ],
   "source": [
    "L"
   ]
  },
  {
   "cell_type": "code",
   "execution_count": 25,
   "id": "d949f1d3-cedd-4d2f-9390-a014d6206ded",
   "metadata": {},
   "outputs": [],
   "source": [
    "L.append(234)"
   ]
  },
  {
   "cell_type": "code",
   "execution_count": 26,
   "id": "7d1b7218-414c-4226-ba49-4195636269d3",
   "metadata": {},
   "outputs": [
    {
     "data": {
      "text/plain": [
       "[67, 3, 400, 67, 6, 67, 8, 67, 10, 234]"
      ]
     },
     "execution_count": 26,
     "metadata": {},
     "output_type": "execute_result"
    }
   ],
   "source": [
    "L"
   ]
  },
  {
   "cell_type": "code",
   "execution_count": 27,
   "id": "9c8d069f-3789-4122-8cf3-24242cab0991",
   "metadata": {},
   "outputs": [],
   "source": [
    "L.append([1, 2, 3])"
   ]
  },
  {
   "cell_type": "code",
   "execution_count": 28,
   "id": "1106aa85-c9db-4fdd-9353-739da4814d90",
   "metadata": {},
   "outputs": [
    {
     "data": {
      "text/plain": [
       "[67, 3, 400, 67, 6, 67, 8, 67, 10, 234, [1, 2, 3]]"
      ]
     },
     "execution_count": 28,
     "metadata": {},
     "output_type": "execute_result"
    }
   ],
   "source": [
    "L"
   ]
  },
  {
   "cell_type": "code",
   "execution_count": 29,
   "id": "0f93dd68-7d41-41fd-b9a0-770898dd5fab",
   "metadata": {},
   "outputs": [
    {
     "data": {
      "text/plain": [
       "[1, 2, 3]"
      ]
     },
     "execution_count": 29,
     "metadata": {},
     "output_type": "execute_result"
    }
   ],
   "source": [
    "L[-1]"
   ]
  },
  {
   "cell_type": "code",
   "execution_count": 30,
   "id": "6635454b-7aac-4ec8-8f28-dddd9835017b",
   "metadata": {},
   "outputs": [
    {
     "data": {
      "text/plain": [
       "2"
      ]
     },
     "execution_count": 30,
     "metadata": {},
     "output_type": "execute_result"
    }
   ],
   "source": [
    "L[-1][1]"
   ]
  },
  {
   "cell_type": "code",
   "execution_count": 31,
   "id": "0fd7ff85-9c5e-47e9-bad1-fc2ffeb39063",
   "metadata": {},
   "outputs": [],
   "source": [
    "L.extend([1, 2, 3])"
   ]
  },
  {
   "cell_type": "code",
   "execution_count": 32,
   "id": "e2a558eb-f125-4ff1-be9a-8ad1dde83590",
   "metadata": {},
   "outputs": [
    {
     "data": {
      "text/plain": [
       "[67, 3, 400, 67, 6, 67, 8, 67, 10, 234, [1, 2, 3], 1, 2, 3]"
      ]
     },
     "execution_count": 32,
     "metadata": {},
     "output_type": "execute_result"
    }
   ],
   "source": [
    "L"
   ]
  },
  {
   "cell_type": "code",
   "execution_count": 33,
   "id": "b5261c31-103b-4627-8d3a-c37671f8baee",
   "metadata": {},
   "outputs": [],
   "source": [
    "L.extend('abc')"
   ]
  },
  {
   "cell_type": "code",
   "execution_count": 34,
   "id": "f1fbe903-4aab-4c94-8016-43a5b8ce3050",
   "metadata": {},
   "outputs": [
    {
     "data": {
      "text/plain": [
       "[67, 3, 400, 67, 6, 67, 8, 67, 10, 234, [1, 2, 3], 1, 2, 3, 'a', 'b', 'c']"
      ]
     },
     "execution_count": 34,
     "metadata": {},
     "output_type": "execute_result"
    }
   ],
   "source": [
    "L"
   ]
  },
  {
   "cell_type": "code",
   "execution_count": 35,
   "id": "b1246362-501e-485e-a721-3f8f90aa38ce",
   "metadata": {},
   "outputs": [
    {
     "data": {
      "text/plain": [
       "[67, 3, 400, 67, 6, 67, 8, 67, 10, 234, [1, 2, 3], 1, 2, 3]"
      ]
     },
     "execution_count": 35,
     "metadata": {},
     "output_type": "execute_result"
    }
   ],
   "source": [
    "del L[-3:]\n",
    "L"
   ]
  },
  {
   "cell_type": "code",
   "execution_count": 36,
   "id": "1768c786-302b-4af2-98b9-a3ce65fe2ac5",
   "metadata": {},
   "outputs": [],
   "source": [
    "from string import ascii_lowercase"
   ]
  },
  {
   "cell_type": "code",
   "execution_count": 37,
   "id": "0a98758c-81b2-4b76-8595-6192a1d00d05",
   "metadata": {},
   "outputs": [
    {
     "data": {
      "text/plain": [
       "['a',\n",
       " 'b',\n",
       " 'c',\n",
       " 'd',\n",
       " 'e',\n",
       " 'f',\n",
       " 'g',\n",
       " 'h',\n",
       " 'i',\n",
       " 'j',\n",
       " 'k',\n",
       " 'l',\n",
       " 'm',\n",
       " 'n',\n",
       " 'o',\n",
       " 'p',\n",
       " 'q',\n",
       " 'r',\n",
       " 's',\n",
       " 't',\n",
       " 'u',\n",
       " 'v',\n",
       " 'w',\n",
       " 'x',\n",
       " 'y',\n",
       " 'z']"
      ]
     },
     "execution_count": 37,
     "metadata": {},
     "output_type": "execute_result"
    }
   ],
   "source": [
    "list(ascii_lowercase)"
   ]
  },
  {
   "cell_type": "code",
   "execution_count": 38,
   "id": "49d00ac0-d2d4-4606-8ade-e9d4fa46aef9",
   "metadata": {},
   "outputs": [
    {
     "data": {
      "text/plain": [
       "[]"
      ]
     },
     "execution_count": 38,
     "metadata": {},
     "output_type": "execute_result"
    }
   ],
   "source": [
    "L[4:4]"
   ]
  },
  {
   "cell_type": "code",
   "execution_count": 39,
   "id": "49dc4590-f4c2-439a-92e6-de7a50d69cce",
   "metadata": {},
   "outputs": [],
   "source": [
    "L[4:4] = [243]"
   ]
  },
  {
   "cell_type": "code",
   "execution_count": 40,
   "id": "94523a6b-669f-45de-bcc7-f23a4f5fd5be",
   "metadata": {},
   "outputs": [
    {
     "data": {
      "text/plain": [
       "[67, 3, 400, 67, 243, 6, 67, 8, 67, 10, 234, [1, 2, 3], 1, 2, 3]"
      ]
     },
     "execution_count": 40,
     "metadata": {},
     "output_type": "execute_result"
    }
   ],
   "source": [
    "L"
   ]
  },
  {
   "cell_type": "code",
   "execution_count": 41,
   "id": "930dc7fd-58d3-4144-ba57-a7ebc73ac5f7",
   "metadata": {},
   "outputs": [],
   "source": [
    "L.insert(4, 98)"
   ]
  },
  {
   "cell_type": "code",
   "execution_count": 42,
   "id": "2fd41b8c-a8db-4e64-987c-c8f078e8a519",
   "metadata": {},
   "outputs": [
    {
     "data": {
      "text/plain": [
       "[67, 3, 400, 67, 98, 243, 6, 67, 8, 67, 10, 234, [1, 2, 3], 1, 2, 3]"
      ]
     },
     "execution_count": 42,
     "metadata": {},
     "output_type": "execute_result"
    }
   ],
   "source": [
    "L"
   ]
  },
  {
   "cell_type": "code",
   "execution_count": 43,
   "id": "e9075bcb-23b7-4b8e-b425-0fa88a40f82c",
   "metadata": {},
   "outputs": [
    {
     "data": {
      "text/plain": [
       "\u001b[0;31mSignature:\u001b[0m \u001b[0mL\u001b[0m\u001b[0;34m.\u001b[0m\u001b[0minsert\u001b[0m\u001b[0;34m(\u001b[0m\u001b[0mindex\u001b[0m\u001b[0;34m,\u001b[0m \u001b[0mobject\u001b[0m\u001b[0;34m,\u001b[0m \u001b[0;34m/\u001b[0m\u001b[0;34m)\u001b[0m\u001b[0;34m\u001b[0m\u001b[0;34m\u001b[0m\u001b[0m\n",
       "\u001b[0;31mDocstring:\u001b[0m Insert object before index.\n",
       "\u001b[0;31mType:\u001b[0m      builtin_function_or_method\n"
      ]
     },
     "metadata": {},
     "output_type": "display_data"
    }
   ],
   "source": [
    "L.insert?"
   ]
  },
  {
   "cell_type": "code",
   "execution_count": 44,
   "id": "311eeb3c-5e11-46cc-b92a-180dad834632",
   "metadata": {},
   "outputs": [],
   "source": [
    "L[-1:] = [L[-1], 500]"
   ]
  },
  {
   "cell_type": "code",
   "execution_count": 45,
   "id": "24b7290f-e7dc-4952-b139-54eeef007040",
   "metadata": {},
   "outputs": [
    {
     "data": {
      "text/plain": [
       "[67, 3, 400, 67, 98, 243, 6, 67, 8, 67, 10, 234, [1, 2, 3], 1, 2, 3, 500]"
      ]
     },
     "execution_count": 45,
     "metadata": {},
     "output_type": "execute_result"
    }
   ],
   "source": [
    "L"
   ]
  },
  {
   "cell_type": "code",
   "execution_count": 46,
   "id": "3f797909-268c-4407-b5cf-631017475f01",
   "metadata": {},
   "outputs": [],
   "source": [
    "L[len(L):] = [600]"
   ]
  },
  {
   "cell_type": "code",
   "execution_count": 47,
   "id": "5e020b1c-581c-48f9-82d5-5ab339aef4d0",
   "metadata": {},
   "outputs": [
    {
     "data": {
      "text/plain": [
       "[67, 3, 400, 67, 98, 243, 6, 67, 8, 67, 10, 234, [1, 2, 3], 1, 2, 3, 500, 600]"
      ]
     },
     "execution_count": 47,
     "metadata": {},
     "output_type": "execute_result"
    }
   ],
   "source": [
    "L"
   ]
  },
  {
   "cell_type": "code",
   "execution_count": 48,
   "id": "4e566c8f-ba3b-4602-9c2a-d993794d07c0",
   "metadata": {},
   "outputs": [
    {
     "data": {
      "text/plain": [
       "\u001b[0;31mSignature:\u001b[0m \u001b[0mL\u001b[0m\u001b[0;34m.\u001b[0m\u001b[0mclear\u001b[0m\u001b[0;34m(\u001b[0m\u001b[0;34m)\u001b[0m\u001b[0;34m\u001b[0m\u001b[0;34m\u001b[0m\u001b[0m\n",
       "\u001b[0;31mDocstring:\u001b[0m Remove all items from list.\n",
       "\u001b[0;31mType:\u001b[0m      builtin_function_or_method\n"
      ]
     },
     "metadata": {},
     "output_type": "display_data"
    }
   ],
   "source": [
    "L.clear?"
   ]
  },
  {
   "cell_type": "code",
   "execution_count": 49,
   "id": "1292cd8c-b5c3-4fda-883c-0e2a731a5295",
   "metadata": {},
   "outputs": [
    {
     "data": {
      "text/plain": [
       "600"
      ]
     },
     "execution_count": 49,
     "metadata": {},
     "output_type": "execute_result"
    }
   ],
   "source": [
    "L.pop()"
   ]
  },
  {
   "cell_type": "code",
   "execution_count": 50,
   "id": "8033cc15-f550-42c7-bbcc-38e27adfde0f",
   "metadata": {},
   "outputs": [
    {
     "data": {
      "text/plain": [
       "[67, 3, 400, 67, 98, 243, 6, 67, 8, 67, 10, 234, [1, 2, 3], 1, 2, 3, 500]"
      ]
     },
     "execution_count": 50,
     "metadata": {},
     "output_type": "execute_result"
    }
   ],
   "source": [
    "L"
   ]
  },
  {
   "cell_type": "code",
   "execution_count": 51,
   "id": "5b8cd3b6-c151-4127-bfee-509b8f3edf49",
   "metadata": {},
   "outputs": [
    {
     "data": {
      "text/plain": [
       "67"
      ]
     },
     "execution_count": 51,
     "metadata": {},
     "output_type": "execute_result"
    }
   ],
   "source": [
    "L.pop(3)"
   ]
  },
  {
   "cell_type": "code",
   "execution_count": 52,
   "id": "c15ec3ec-b08b-42ee-937a-10bbf8730976",
   "metadata": {},
   "outputs": [
    {
     "data": {
      "text/plain": [
       "[67, 3, 400, 98, 243, 6, 67, 8, 67, 10, 234, [1, 2, 3], 1, 2, 3, 500]"
      ]
     },
     "execution_count": 52,
     "metadata": {},
     "output_type": "execute_result"
    }
   ],
   "source": [
    "L"
   ]
  },
  {
   "cell_type": "code",
   "execution_count": 53,
   "id": "6c03f1e1-13af-4f7f-94f6-6ec80571f1a9",
   "metadata": {},
   "outputs": [],
   "source": [
    "res = L[-1]\n",
    "del L[-1]"
   ]
  },
  {
   "cell_type": "code",
   "execution_count": 54,
   "id": "03dbbd63-c939-4593-8e49-5f1adbbc8859",
   "metadata": {},
   "outputs": [
    {
     "data": {
      "text/plain": [
       "500"
      ]
     },
     "execution_count": 54,
     "metadata": {},
     "output_type": "execute_result"
    }
   ],
   "source": [
    "res"
   ]
  },
  {
   "cell_type": "code",
   "execution_count": 55,
   "id": "135e1e0a-54ea-4dae-9c4e-781eae960755",
   "metadata": {},
   "outputs": [],
   "source": [
    "L.remove(67)"
   ]
  },
  {
   "cell_type": "code",
   "execution_count": 56,
   "id": "f35a3516-e4de-4e77-ba9b-79df92d1ec83",
   "metadata": {},
   "outputs": [
    {
     "data": {
      "text/plain": [
       "[3, 400, 98, 243, 6, 67, 8, 67, 10, 234, [1, 2, 3], 1, 2, 3]"
      ]
     },
     "execution_count": 56,
     "metadata": {},
     "output_type": "execute_result"
    }
   ],
   "source": [
    "L"
   ]
  },
  {
   "cell_type": "code",
   "execution_count": 57,
   "id": "e2e14bcb-2d0a-4d63-9f39-54386dcd81a0",
   "metadata": {},
   "outputs": [
    {
     "data": {
      "text/plain": [
       "[3, 400, 98, 243, 6, 8, 10, 234, [1, 2, 3], 1, 2, 3]"
      ]
     },
     "execution_count": 57,
     "metadata": {},
     "output_type": "execute_result"
    }
   ],
   "source": [
    "[x for x in L if x != 67]"
   ]
  },
  {
   "cell_type": "code",
   "execution_count": 58,
   "id": "ac650ac4-75e5-4d93-bd9f-9d530d64b43f",
   "metadata": {},
   "outputs": [
    {
     "data": {
      "text/plain": [
       "<list_reverseiterator at 0x7fd8c41f68c0>"
      ]
     },
     "execution_count": 58,
     "metadata": {},
     "output_type": "execute_result"
    }
   ],
   "source": [
    "reversed(L)"
   ]
  },
  {
   "cell_type": "code",
   "execution_count": 59,
   "id": "567b3283-69b9-46e1-aa60-3f2013a82b50",
   "metadata": {},
   "outputs": [
    {
     "data": {
      "text/plain": [
       "[3, 2, 1, [1, 2, 3], 234, 10, 67, 8, 67, 6, 243, 98, 400, 3]"
      ]
     },
     "execution_count": 59,
     "metadata": {},
     "output_type": "execute_result"
    }
   ],
   "source": [
    "list(reversed(L))"
   ]
  },
  {
   "cell_type": "code",
   "execution_count": 60,
   "id": "2c55b5bc-af9c-4fb7-aecb-3667d0aaac2f",
   "metadata": {},
   "outputs": [
    {
     "data": {
      "text/plain": [
       "[3, 400, 98, 243, 6, 67, 8, 67, 10, 234, [1, 2, 3], 1, 2, 3]"
      ]
     },
     "execution_count": 60,
     "metadata": {},
     "output_type": "execute_result"
    }
   ],
   "source": [
    "L"
   ]
  },
  {
   "cell_type": "code",
   "execution_count": 61,
   "id": "764ba930-8b54-4bbc-9819-cf75f82d54a1",
   "metadata": {},
   "outputs": [],
   "source": [
    "res = L.reverse()"
   ]
  },
  {
   "cell_type": "code",
   "execution_count": 62,
   "id": "49337cae-35e6-4233-8657-c272c6523cbc",
   "metadata": {},
   "outputs": [
    {
     "data": {
      "text/plain": [
       "[3, 2, 1, [1, 2, 3], 234, 10, 67, 8, 67, 6, 243, 98, 400, 3]"
      ]
     },
     "execution_count": 62,
     "metadata": {},
     "output_type": "execute_result"
    }
   ],
   "source": [
    "L"
   ]
  },
  {
   "cell_type": "code",
   "execution_count": 63,
   "id": "3d3110df-2a6c-4662-a132-78f97a3c3250",
   "metadata": {},
   "outputs": [],
   "source": [
    "res"
   ]
  },
  {
   "cell_type": "code",
   "execution_count": 64,
   "id": "e0c0322e-4ae2-4193-a153-819e3a5624ff",
   "metadata": {},
   "outputs": [
    {
     "name": "stdout",
     "output_type": "stream",
     "text": [
      "None\n"
     ]
    }
   ],
   "source": [
    "print(res)"
   ]
  },
  {
   "cell_type": "code",
   "execution_count": 65,
   "id": "f4784de0-3f82-45d1-9242-42cf97e399cb",
   "metadata": {
    "tags": [
     "raises-exception"
    ]
   },
   "outputs": [
    {
     "ename": "TypeError",
     "evalue": "'<' not supported between instances of 'list' and 'int'",
     "output_type": "error",
     "traceback": [
      "\u001b[0;31m---------------------------------------------------------------------------\u001b[0m",
      "\u001b[0;31mTypeError\u001b[0m                                 Traceback (most recent call last)",
      "Input \u001b[0;32mIn [65]\u001b[0m, in \u001b[0;36m<cell line: 1>\u001b[0;34m()\u001b[0m\n\u001b[0;32m----> 1\u001b[0m \u001b[38;5;28;43msorted\u001b[39;49m\u001b[43m(\u001b[49m\u001b[43mL\u001b[49m\u001b[43m)\u001b[49m\n",
      "\u001b[0;31mTypeError\u001b[0m: '<' not supported between instances of 'list' and 'int'"
     ]
    }
   ],
   "source": [
    "sorted(L)"
   ]
  },
  {
   "cell_type": "code",
   "execution_count": 66,
   "id": "34232f1a-4caf-4451-8dee-3c4ad9104943",
   "metadata": {},
   "outputs": [
    {
     "data": {
      "text/plain": [
       "True"
      ]
     },
     "execution_count": 66,
     "metadata": {},
     "output_type": "execute_result"
    }
   ],
   "source": [
    "1 < 1.5"
   ]
  },
  {
   "cell_type": "code",
   "execution_count": 67,
   "id": "8b55666c-452e-4454-9937-727d13d7155b",
   "metadata": {
    "tags": [
     "raises-exception"
    ]
   },
   "outputs": [
    {
     "ename": "TypeError",
     "evalue": "'<' not supported between instances of 'int' and 'list'",
     "output_type": "error",
     "traceback": [
      "\u001b[0;31m---------------------------------------------------------------------------\u001b[0m",
      "\u001b[0;31mTypeError\u001b[0m                                 Traceback (most recent call last)",
      "Input \u001b[0;32mIn [67]\u001b[0m, in \u001b[0;36m<cell line: 1>\u001b[0;34m()\u001b[0m\n\u001b[0;32m----> 1\u001b[0m \u001b[38;5;241;43m1\u001b[39;49m\u001b[43m \u001b[49m\u001b[38;5;241;43m<\u001b[39;49m\u001b[43m \u001b[49m\u001b[43m[\u001b[49m\u001b[38;5;241;43m1\u001b[39;49m\u001b[43m,\u001b[49m\u001b[43m \u001b[49m\u001b[38;5;241;43m2\u001b[39;49m\u001b[43m,\u001b[49m\u001b[43m \u001b[49m\u001b[38;5;241;43m3\u001b[39;49m\u001b[43m]\u001b[49m\n",
      "\u001b[0;31mTypeError\u001b[0m: '<' not supported between instances of 'int' and 'list'"
     ]
    }
   ],
   "source": [
    "1 < [1, 2, 3]"
   ]
  },
  {
   "cell_type": "code",
   "execution_count": 68,
   "id": "01cf742a-085a-44ad-8f80-256a4d7ecc52",
   "metadata": {},
   "outputs": [],
   "source": [
    "L.remove([1, 2, 3])"
   ]
  },
  {
   "cell_type": "code",
   "execution_count": 69,
   "id": "a4673721-a314-4ffd-8fe1-c44453a9af53",
   "metadata": {},
   "outputs": [
    {
     "data": {
      "text/plain": [
       "[3, 2, 1, 234, 10, 67, 8, 67, 6, 243, 98, 400, 3]"
      ]
     },
     "execution_count": 69,
     "metadata": {},
     "output_type": "execute_result"
    }
   ],
   "source": [
    "L"
   ]
  },
  {
   "cell_type": "code",
   "execution_count": 70,
   "id": "a881278a-76b8-47e3-8eb7-361800122ef1",
   "metadata": {},
   "outputs": [
    {
     "data": {
      "text/plain": [
       "[1, 2, 3, 3, 6, 8, 10, 67, 67, 98, 234, 243, 400]"
      ]
     },
     "execution_count": 70,
     "metadata": {},
     "output_type": "execute_result"
    }
   ],
   "source": [
    "sorted(L)"
   ]
  },
  {
   "cell_type": "code",
   "execution_count": 71,
   "id": "94d675c6-c2f4-43bb-85c4-951d5c59a79d",
   "metadata": {},
   "outputs": [
    {
     "data": {
      "text/plain": [
       "[3, 2, 1, 234, 10, 67, 8, 67, 6, 243, 98, 400, 3]"
      ]
     },
     "execution_count": 71,
     "metadata": {},
     "output_type": "execute_result"
    }
   ],
   "source": [
    "L"
   ]
  },
  {
   "cell_type": "code",
   "execution_count": 72,
   "id": "de57e195-2133-4efc-b672-537dc5072fe5",
   "metadata": {},
   "outputs": [],
   "source": [
    "L.sort()"
   ]
  },
  {
   "cell_type": "code",
   "execution_count": 73,
   "id": "2c62c295-3535-4683-8b39-bc7db9d73ceb",
   "metadata": {},
   "outputs": [
    {
     "data": {
      "text/plain": [
       "[1, 2, 3, 3, 6, 8, 10, 67, 67, 98, 234, 243, 400]"
      ]
     },
     "execution_count": 73,
     "metadata": {},
     "output_type": "execute_result"
    }
   ],
   "source": [
    "L"
   ]
  },
  {
   "cell_type": "code",
   "execution_count": 74,
   "id": "1cff5edb-b038-44bf-8254-f22b4a677e7e",
   "metadata": {},
   "outputs": [],
   "source": [
    "unsorted = 'cvCcgcbXdfcfx'"
   ]
  },
  {
   "cell_type": "code",
   "execution_count": 75,
   "id": "f427eb84-162b-4d2f-b2b9-e6691fb473e6",
   "metadata": {},
   "outputs": [
    {
     "data": {
      "text/plain": [
       "['C', 'X', 'b', 'c', 'c', 'c', 'c', 'd', 'f', 'f', 'g', 'v', 'x']"
      ]
     },
     "execution_count": 75,
     "metadata": {},
     "output_type": "execute_result"
    }
   ],
   "source": [
    "sorted(unsorted)"
   ]
  },
  {
   "cell_type": "code",
   "execution_count": 76,
   "id": "327706f6-d909-4b52-befc-47bd193c40ac",
   "metadata": {},
   "outputs": [
    {
     "data": {
      "text/plain": [
       "\u001b[0;31mSignature:\u001b[0m \u001b[0msorted\u001b[0m\u001b[0;34m(\u001b[0m\u001b[0miterable\u001b[0m\u001b[0;34m,\u001b[0m \u001b[0;34m/\u001b[0m\u001b[0;34m,\u001b[0m \u001b[0;34m*\u001b[0m\u001b[0;34m,\u001b[0m \u001b[0mkey\u001b[0m\u001b[0;34m=\u001b[0m\u001b[0;32mNone\u001b[0m\u001b[0;34m,\u001b[0m \u001b[0mreverse\u001b[0m\u001b[0;34m=\u001b[0m\u001b[0;32mFalse\u001b[0m\u001b[0;34m)\u001b[0m\u001b[0;34m\u001b[0m\u001b[0;34m\u001b[0m\u001b[0m\n",
       "\u001b[0;31mDocstring:\u001b[0m\n",
       "Return a new list containing all items from the iterable in ascending order.\n",
       "\n",
       "A custom key function can be supplied to customize the sort order, and the\n",
       "reverse flag can be set to request the result in descending order.\n",
       "\u001b[0;31mType:\u001b[0m      builtin_function_or_method\n"
      ]
     },
     "metadata": {},
     "output_type": "display_data"
    }
   ],
   "source": [
    "sorted?"
   ]
  },
  {
   "cell_type": "code",
   "execution_count": 77,
   "id": "bee935ae-b6f7-4bbc-857e-55c139bb56ea",
   "metadata": {},
   "outputs": [
    {
     "data": {
      "text/plain": [
       "'a'"
      ]
     },
     "execution_count": 77,
     "metadata": {},
     "output_type": "execute_result"
    }
   ],
   "source": [
    "str.casefold('a')"
   ]
  },
  {
   "cell_type": "code",
   "execution_count": 78,
   "id": "5415a149-5e98-41b9-a04f-08ae2baf6d2a",
   "metadata": {},
   "outputs": [
    {
     "data": {
      "text/plain": [
       "'a'"
      ]
     },
     "execution_count": 78,
     "metadata": {},
     "output_type": "execute_result"
    }
   ],
   "source": [
    "str.casefold('A')"
   ]
  },
  {
   "cell_type": "code",
   "execution_count": 79,
   "id": "5b558925-4028-4bee-858c-9ea6b712db11",
   "metadata": {},
   "outputs": [
    {
     "data": {
      "text/plain": [
       "'cvCcgcbXdfcfx'"
      ]
     },
     "execution_count": 79,
     "metadata": {},
     "output_type": "execute_result"
    }
   ],
   "source": [
    "unsorted"
   ]
  },
  {
   "cell_type": "code",
   "execution_count": 80,
   "id": "aa771137-ee47-44c7-a3e5-2708f4f8e17e",
   "metadata": {},
   "outputs": [
    {
     "data": {
      "text/plain": [
       "['b', 'c', 'C', 'c', 'c', 'c', 'd', 'f', 'f', 'g', 'v', 'X', 'x']"
      ]
     },
     "execution_count": 80,
     "metadata": {},
     "output_type": "execute_result"
    }
   ],
   "source": [
    "sorted(unsorted, key=str.casefold)"
   ]
  },
  {
   "cell_type": "code",
   "execution_count": 81,
   "id": "8248afcc-e5e3-4afe-a9e4-74f49a9dc2dc",
   "metadata": {},
   "outputs": [],
   "source": [
    "def my_casefold(value):\n",
    "    print(value)\n",
    "    return value.casefold()"
   ]
  },
  {
   "cell_type": "code",
   "execution_count": 82,
   "id": "49563ede-fdb9-494d-b63f-ed9dbb7722b2",
   "metadata": {},
   "outputs": [
    {
     "name": "stdout",
     "output_type": "stream",
     "text": [
      "c\n",
      "v\n",
      "C\n",
      "c\n",
      "g\n",
      "c\n",
      "b\n",
      "X\n",
      "d\n",
      "f\n",
      "c\n",
      "f\n",
      "x\n"
     ]
    },
    {
     "data": {
      "text/plain": [
       "['b', 'c', 'C', 'c', 'c', 'c', 'd', 'f', 'f', 'g', 'v', 'X', 'x']"
      ]
     },
     "execution_count": 82,
     "metadata": {},
     "output_type": "execute_result"
    }
   ],
   "source": [
    "sorted(unsorted, key=my_casefold)"
   ]
  },
  {
   "cell_type": "code",
   "execution_count": 83,
   "id": "59ed9aa2-888a-44e0-afd4-0669c41e9ab5",
   "metadata": {},
   "outputs": [
    {
     "data": {
      "text/plain": [
       "<zip at 0x7fd8addd18c0>"
      ]
     },
     "execution_count": 83,
     "metadata": {},
     "output_type": "execute_result"
    }
   ],
   "source": [
    "zip('abc', 'xyz')"
   ]
  },
  {
   "cell_type": "code",
   "execution_count": 84,
   "id": "82572b8e-5eb0-42f1-b346-2db586677d28",
   "metadata": {},
   "outputs": [
    {
     "data": {
      "text/plain": [
       "[('a', 'x'), ('b', 'y'), ('c', 'z')]"
      ]
     },
     "execution_count": 84,
     "metadata": {},
     "output_type": "execute_result"
    }
   ],
   "source": [
    "list(zip('abc', 'xyz'))"
   ]
  },
  {
   "cell_type": "code",
   "execution_count": 85,
   "id": "d020473d-8b66-4265-abe8-330aac287af3",
   "metadata": {},
   "outputs": [
    {
     "name": "stdout",
     "output_type": "stream",
     "text": [
      "a x\n",
      "b y\n",
      "c z\n"
     ]
    }
   ],
   "source": [
    "for x1, x2 in zip('abc', 'xyz'):\n",
    "    print(x1, x2)"
   ]
  },
  {
   "cell_type": "code",
   "execution_count": 86,
   "id": "c7231bc1-c6e9-4198-9ebc-057797a62bda",
   "metadata": {},
   "outputs": [
    {
     "name": "stdout",
     "output_type": "stream",
     "text": [
      "('a', 'x')\n",
      "('b', 'y')\n",
      "('c', 'z')\n"
     ]
    }
   ],
   "source": [
    "for x in zip('abc', 'xyz'):\n",
    "    print(x)"
   ]
  },
  {
   "cell_type": "code",
   "execution_count": 87,
   "id": "3c290aa4-16e4-4b2c-bbf6-f00dcb8f061f",
   "metadata": {},
   "outputs": [],
   "source": [
    "a, b = (100, 200)"
   ]
  },
  {
   "cell_type": "code",
   "execution_count": 88,
   "id": "d8b231a6-cb2d-452a-a034-01dc1d0a09d8",
   "metadata": {},
   "outputs": [
    {
     "data": {
      "text/plain": [
       "100"
      ]
     },
     "execution_count": 88,
     "metadata": {},
     "output_type": "execute_result"
    }
   ],
   "source": [
    "a"
   ]
  },
  {
   "cell_type": "code",
   "execution_count": 89,
   "id": "b6ab6d30-5c69-4586-9128-c19f2a048cc6",
   "metadata": {},
   "outputs": [
    {
     "data": {
      "text/plain": [
       "200"
      ]
     },
     "execution_count": 89,
     "metadata": {},
     "output_type": "execute_result"
    }
   ],
   "source": [
    "b"
   ]
  },
  {
   "cell_type": "code",
   "execution_count": 90,
   "id": "e0dff22f-3915-4b50-a770-bf546531eae1",
   "metadata": {},
   "outputs": [
    {
     "name": "stdout",
     "output_type": "stream",
     "text": [
      "a x 100\n",
      "b y 200\n",
      "c z 300\n"
     ]
    }
   ],
   "source": [
    "for x1, x2, x3 in zip('abc', 'xyz', [100, 200, 300]):\n",
    "    print(x1, x2, x3)"
   ]
  },
  {
   "cell_type": "code",
   "execution_count": 91,
   "id": "59eea85a-2e03-4344-9a04-4cf25612ed5c",
   "metadata": {},
   "outputs": [
    {
     "name": "stdout",
     "output_type": "stream",
     "text": [
      "a x 100\n",
      "b y 200\n",
      "c z 300\n"
     ]
    }
   ],
   "source": [
    "for x1, x2, x3 in zip('abcdefg', 'xyz', [100, 200, 300]):\n",
    "    print(x1, x2, x3)"
   ]
  },
  {
   "cell_type": "code",
   "execution_count": 92,
   "id": "ca272a67-a91a-40cd-a4f0-d97b0e067a68",
   "metadata": {},
   "outputs": [
    {
     "name": "stdout",
     "output_type": "stream",
     "text": [
      "a x 100\n",
      "b y 200\n"
     ]
    }
   ],
   "source": [
    "for x1, x2, x3 in zip('abcdefg', 'xyz', [100, 200]):\n",
    "    print(x1, x2, x3)"
   ]
  },
  {
   "cell_type": "code",
   "execution_count": 93,
   "id": "f996f416-558f-405b-924c-a124d70a5a41",
   "metadata": {},
   "outputs": [
    {
     "data": {
      "text/plain": [
       "\u001b[0;31mInit signature:\u001b[0m \u001b[0mzip\u001b[0m\u001b[0;34m(\u001b[0m\u001b[0mself\u001b[0m\u001b[0;34m,\u001b[0m \u001b[0;34m/\u001b[0m\u001b[0;34m,\u001b[0m \u001b[0;34m*\u001b[0m\u001b[0margs\u001b[0m\u001b[0;34m,\u001b[0m \u001b[0;34m**\u001b[0m\u001b[0mkwargs\u001b[0m\u001b[0;34m)\u001b[0m\u001b[0;34m\u001b[0m\u001b[0;34m\u001b[0m\u001b[0m\n",
       "\u001b[0;31mDocstring:\u001b[0m     \n",
       "zip(*iterables, strict=False) --> Yield tuples until an input is exhausted.\n",
       "\n",
       "   >>> list(zip('abcdefg', range(3), range(4)))\n",
       "   [('a', 0, 0), ('b', 1, 1), ('c', 2, 2)]\n",
       "\n",
       "The zip object yields n-length tuples, where n is the number of iterables\n",
       "passed as positional arguments to zip().  The i-th element in every tuple\n",
       "comes from the i-th iterable argument to zip().  This continues until the\n",
       "shortest argument is exhausted.\n",
       "\n",
       "If strict is true and one of the arguments is exhausted before the others,\n",
       "raise a ValueError.\n",
       "\u001b[0;31mType:\u001b[0m           type\n",
       "\u001b[0;31mSubclasses:\u001b[0m     \n"
      ]
     },
     "metadata": {},
     "output_type": "display_data"
    }
   ],
   "source": [
    "zip?"
   ]
  },
  {
   "cell_type": "code",
   "execution_count": 94,
   "id": "58d9f3ca-9b67-4584-8efe-f4aac824632e",
   "metadata": {
    "tags": [
     "raises-exception"
    ]
   },
   "outputs": [
    {
     "name": "stdout",
     "output_type": "stream",
     "text": [
      "a x 100\n",
      "b y 200\n",
      "c z 300\n"
     ]
    },
    {
     "ename": "ValueError",
     "evalue": "zip() argument 2 is shorter than argument 1",
     "output_type": "error",
     "traceback": [
      "\u001b[0;31m---------------------------------------------------------------------------\u001b[0m",
      "\u001b[0;31mValueError\u001b[0m                                Traceback (most recent call last)",
      "Input \u001b[0;32mIn [94]\u001b[0m, in \u001b[0;36m<cell line: 1>\u001b[0;34m()\u001b[0m\n\u001b[0;32m----> 1\u001b[0m \u001b[38;5;28;01mfor\u001b[39;00m x1, x2, x3 \u001b[38;5;129;01min\u001b[39;00m \u001b[38;5;28mzip\u001b[39m(\u001b[38;5;124m'\u001b[39m\u001b[38;5;124mabcdefg\u001b[39m\u001b[38;5;124m'\u001b[39m, \u001b[38;5;124m'\u001b[39m\u001b[38;5;124mxyz\u001b[39m\u001b[38;5;124m'\u001b[39m, [\u001b[38;5;241m100\u001b[39m, \u001b[38;5;241m200\u001b[39m, \u001b[38;5;241m300\u001b[39m], strict\u001b[38;5;241m=\u001b[39m\u001b[38;5;28;01mTrue\u001b[39;00m):\n\u001b[1;32m      2\u001b[0m     \u001b[38;5;28mprint\u001b[39m(x1, x2, x3)\n",
      "\u001b[0;31mValueError\u001b[0m: zip() argument 2 is shorter than argument 1"
     ]
    }
   ],
   "source": [
    "for x1, x2, x3 in zip('abcdefg', 'xyz', [100, 200, 300], strict=True):\n",
    "    print(x1, x2, x3)"
   ]
  },
  {
   "cell_type": "code",
   "execution_count": 95,
   "id": "b7bf42e2-27e5-4133-aa73-198893843f04",
   "metadata": {},
   "outputs": [
    {
     "name": "stdout",
     "output_type": "stream",
     "text": [
      "a x 100\n",
      "b y 200\n",
      "c z 300\n"
     ]
    }
   ],
   "source": [
    "for x1, x2, x3 in zip('abc', 'xyz', [100, 200, 300], strict=True):\n",
    "    print(x1, x2, x3)"
   ]
  },
  {
   "cell_type": "code",
   "execution_count": 96,
   "id": "c82938c4-7c5d-4bf1-b3ee-d4593ee3837e",
   "metadata": {},
   "outputs": [],
   "source": [
    "from itertools import zip_longest"
   ]
  },
  {
   "cell_type": "code",
   "execution_count": 97,
   "id": "5a43de53-3e35-499a-b4ea-62b2b5e1ff69",
   "metadata": {},
   "outputs": [
    {
     "name": "stdout",
     "output_type": "stream",
     "text": [
      "a x 100\n",
      "b y 200\n",
      "c z None\n",
      "d None None\n",
      "e None None\n",
      "f None None\n",
      "g None None\n"
     ]
    }
   ],
   "source": [
    "for x1, x2, x3 in zip_longest('abcdefg', 'xyz', [100, 200]):\n",
    "    print(x1, x2, x3)"
   ]
  },
  {
   "cell_type": "code",
   "execution_count": 98,
   "id": "88a94d10-6513-44a6-998d-a98bdffe7046",
   "metadata": {},
   "outputs": [
    {
     "name": "stdout",
     "output_type": "stream",
     "text": [
      "a x 100\n",
      "b y 200\n",
      "c z 999\n",
      "d 999 999\n",
      "e 999 999\n",
      "f 999 999\n",
      "g 999 999\n"
     ]
    }
   ],
   "source": [
    "for x1, x2, x3 in zip_longest('abcdefg', 'xyz', [100, 200], fillvalue=999):\n",
    "    print(x1, x2, x3)"
   ]
  },
  {
   "cell_type": "code",
   "execution_count": 99,
   "id": "93c845b3-fcbe-412d-92c3-5be624510a11",
   "metadata": {},
   "outputs": [
    {
     "name": "stdout",
     "output_type": "stream",
     "text": [
      "0 a\n",
      "1 b\n",
      "2 c\n"
     ]
    }
   ],
   "source": [
    "for index, value in enumerate('abc'):\n",
    "    print(index, value)"
   ]
  },
  {
   "cell_type": "code",
   "execution_count": 100,
   "id": "2cf31925-0d18-43f0-b435-c123dab4e6df",
   "metadata": {},
   "outputs": [
    {
     "name": "stdout",
     "output_type": "stream",
     "text": [
      "100 a\n",
      "101 b\n",
      "102 c\n"
     ]
    }
   ],
   "source": [
    "for index, value in enumerate('abc', start=100):\n",
    "    print(index, value)"
   ]
  },
  {
   "cell_type": "code",
   "execution_count": 101,
   "id": "7f3d22f8-000a-4c21-a15a-230bdaed6aaa",
   "metadata": {},
   "outputs": [
    {
     "data": {
      "text/plain": [
       "[1, 2, 3, 3, 6, 8, 10, 67, 67, 98, 234, 243, 400]"
      ]
     },
     "execution_count": 101,
     "metadata": {},
     "output_type": "execute_result"
    }
   ],
   "source": [
    "L"
   ]
  },
  {
   "cell_type": "code",
   "execution_count": 102,
   "id": "a2fd1bb7-f2d4-476b-9cac-0620bd1216c2",
   "metadata": {},
   "outputs": [],
   "source": [
    "res1 = [x + 30 for x in L]"
   ]
  },
  {
   "cell_type": "code",
   "execution_count": 103,
   "id": "34573def-6a01-4546-a0e5-10a3145b8d90",
   "metadata": {},
   "outputs": [],
   "source": [
    "res2 = []\n",
    "for x in L:\n",
    "    res2.append(x + 30)"
   ]
  },
  {
   "cell_type": "code",
   "execution_count": 104,
   "id": "26c92a7d-601f-47c7-bdc2-e6882deaf885",
   "metadata": {},
   "outputs": [
    {
     "data": {
      "text/plain": [
       "True"
      ]
     },
     "execution_count": 104,
     "metadata": {},
     "output_type": "execute_result"
    }
   ],
   "source": [
    "res1 == res2"
   ]
  },
  {
   "cell_type": "code",
   "execution_count": 105,
   "id": "33738a3b-31e6-47d9-ae7c-596c58933873",
   "metadata": {},
   "outputs": [
    {
     "name": "stdout",
     "output_type": "stream",
     "text": [
      "1.23 µs ± 51.5 ns per loop (mean ± std. dev. of 7 runs, 1,000,000 loops each)\n"
     ]
    }
   ],
   "source": [
    "%%timeit \n",
    "\n",
    "res1 = [x + 30 for x in L]"
   ]
  },
  {
   "cell_type": "code",
   "execution_count": 106,
   "id": "241c2178-8f93-415d-b0eb-7b367fe6da91",
   "metadata": {},
   "outputs": [
    {
     "name": "stdout",
     "output_type": "stream",
     "text": [
      "1.68 µs ± 112 ns per loop (mean ± std. dev. of 7 runs, 1,000,000 loops each)\n"
     ]
    }
   ],
   "source": [
    "%%timeit \n",
    "\n",
    "res2 = []\n",
    "for x in L:\n",
    "    res2.append(x + 30)"
   ]
  },
  {
   "cell_type": "code",
   "execution_count": 107,
   "id": "7e213e72-3548-40e2-acc9-85d9dfff9877",
   "metadata": {},
   "outputs": [],
   "source": [
    "res1 = [x + 30 for x in L if x > 10]"
   ]
  },
  {
   "cell_type": "code",
   "execution_count": 108,
   "id": "d5c4bb0c-de47-4723-bf0b-94142d249457",
   "metadata": {},
   "outputs": [],
   "source": [
    "res2 = []\n",
    "for x in L:\n",
    "    if x > 10:\n",
    "        res2.append(x + 30)"
   ]
  },
  {
   "cell_type": "code",
   "execution_count": 109,
   "id": "81c20ac6-94fc-4003-bfc7-c29ab8bf868f",
   "metadata": {},
   "outputs": [
    {
     "data": {
      "text/plain": [
       "True"
      ]
     },
     "execution_count": 109,
     "metadata": {},
     "output_type": "execute_result"
    }
   ],
   "source": [
    "res1 == res2"
   ]
  },
  {
   "cell_type": "code",
   "execution_count": 110,
   "id": "fcbb16cf-08fe-4380-b736-bcfa0e4b9f39",
   "metadata": {},
   "outputs": [
    {
     "data": {
      "text/plain": [
       "[97, 97, 128, 264, 273, 430]"
      ]
     },
     "execution_count": 110,
     "metadata": {},
     "output_type": "execute_result"
    }
   ],
   "source": [
    "res1"
   ]
  },
  {
   "cell_type": "code",
   "execution_count": 111,
   "id": "719cbd8e-f864-4f48-89c2-2830532d8f90",
   "metadata": {},
   "outputs": [],
   "source": [
    "res1 = [(x, y) for x in range(10, 41, 10) for y in range(100, 301, 100)]"
   ]
  },
  {
   "cell_type": "code",
   "execution_count": 112,
   "id": "12e9d4da-ee31-4725-bc4f-3a77484f59d2",
   "metadata": {},
   "outputs": [
    {
     "data": {
      "text/plain": [
       "True"
      ]
     },
     "execution_count": 112,
     "metadata": {},
     "output_type": "execute_result"
    }
   ],
   "source": [
    "res2 = []\n",
    "for x in range(10, 41, 10):\n",
    "    for y in range(100, 301, 100):\n",
    "        res2.append((x, y))\n",
    "res1 == res2"
   ]
  },
  {
   "cell_type": "markdown",
   "id": "347d622b-29fd-414c-9ed5-270fba203287",
   "metadata": {},
   "source": [
    "# Pause bis 10 Uhr"
   ]
  },
  {
   "cell_type": "code",
   "execution_count": null,
   "id": "01658dfd-8ed2-4b92-87ea-ae1f03a07f5d",
   "metadata": {},
   "outputs": [],
   "source": []
  }
 ],
 "metadata": {
  "kernelspec": {
   "display_name": "Python 3.10",
   "language": "python",
   "name": "python310"
  },
  "language_info": {
   "codemirror_mode": {
    "name": "ipython",
    "version": 3
   },
   "file_extension": ".py",
   "mimetype": "text/x-python",
   "name": "python",
   "nbconvert_exporter": "python",
   "pygments_lexer": "ipython3",
   "version": "3.10.4"
  }
 },
 "nbformat": 4,
 "nbformat_minor": 5
}
