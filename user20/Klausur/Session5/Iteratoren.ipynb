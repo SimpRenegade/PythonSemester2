{
 "cells": [
  {
   "cell_type": "code",
   "execution_count": 1,
   "id": "447e2322-f028-4e0a-87d0-ac0ec0a7a671",
   "metadata": {},
   "outputs": [],
   "source": [
    "L = list(range(2, 11))"
   ]
  },
  {
   "cell_type": "code",
   "execution_count": 2,
   "id": "eb02d698-9920-43ed-94eb-733ea9848a96",
   "metadata": {},
   "outputs": [
    {
     "data": {
      "text/plain": [
       "[2, 3, 4, 5, 6, 7, 8, 9, 10]"
      ]
     },
     "execution_count": 2,
     "metadata": {},
     "output_type": "execute_result"
    }
   ],
   "source": [
    "L"
   ]
  },
  {
   "cell_type": "code",
   "execution_count": 3,
   "id": "6dfa6d93-e1a1-40ba-bf45-fa871fc80598",
   "metadata": {},
   "outputs": [
    {
     "data": {
      "text/plain": [
       "<list_reverseiterator at 0x7f28f5ac89d0>"
      ]
     },
     "execution_count": 3,
     "metadata": {},
     "output_type": "execute_result"
    }
   ],
   "source": [
    "reversed(L)"
   ]
  },
  {
   "cell_type": "code",
   "execution_count": 4,
   "id": "cf7f878d-4f18-4080-b6d3-b8fe7b80f777",
   "metadata": {},
   "outputs": [
    {
     "name": "stdout",
     "output_type": "stream",
     "text": [
      "10 9 8 7 6 5 4 3 2 "
     ]
    }
   ],
   "source": [
    "for x in reversed(L):\n",
    "    print(x, end=' ')"
   ]
  },
  {
   "cell_type": "code",
   "execution_count": 5,
   "id": "62f717f6-ec16-46a4-a717-61fb419595ed",
   "metadata": {},
   "outputs": [
    {
     "name": "stdout",
     "output_type": "stream",
     "text": [
      "10 9 8 7 6 5 4 3 2 "
     ]
    }
   ],
   "source": [
    "for x in L[::-1]:\n",
    "    print(x, end=' ')"
   ]
  },
  {
   "cell_type": "code",
   "execution_count": 6,
   "id": "7f7a8411-0628-4fbd-baca-2c2a5163d623",
   "metadata": {},
   "outputs": [
    {
     "data": {
      "text/plain": [
       "[10, 9, 8, 7, 6, 5, 4, 3, 2]"
      ]
     },
     "execution_count": 6,
     "metadata": {},
     "output_type": "execute_result"
    }
   ],
   "source": [
    "L[::-1]"
   ]
  },
  {
   "cell_type": "code",
   "execution_count": 7,
   "id": "94c4bcbc-9ef9-4e36-b855-ccafdaf74eed",
   "metadata": {},
   "outputs": [],
   "source": [
    "r = reversed(L)"
   ]
  },
  {
   "cell_type": "code",
   "execution_count": 8,
   "id": "a4d71564-0117-4a8b-ac80-e875288a0fec",
   "metadata": {},
   "outputs": [
    {
     "data": {
      "text/plain": [
       "[10, 9, 8, 7, 6, 5, 4, 3, 2]"
      ]
     },
     "execution_count": 8,
     "metadata": {},
     "output_type": "execute_result"
    }
   ],
   "source": [
    "list(r)"
   ]
  },
  {
   "cell_type": "code",
   "execution_count": 9,
   "id": "451f2e0d-857c-4aec-b0e3-4518f2eea530",
   "metadata": {},
   "outputs": [
    {
     "data": {
      "text/plain": [
       "[]"
      ]
     },
     "execution_count": 9,
     "metadata": {},
     "output_type": "execute_result"
    }
   ],
   "source": [
    "list(r)"
   ]
  },
  {
   "cell_type": "code",
   "execution_count": 10,
   "id": "813f1324-9fe2-44dd-8a89-33147bd3cbcd",
   "metadata": {},
   "outputs": [],
   "source": [
    "r = reversed(L)"
   ]
  },
  {
   "cell_type": "code",
   "execution_count": 11,
   "id": "c0934a2a-3489-4ed7-b569-12b9e6ff4062",
   "metadata": {},
   "outputs": [
    {
     "name": "stdout",
     "output_type": "stream",
     "text": [
      "10 9 8 7 6 5 4 3 2 "
     ]
    }
   ],
   "source": [
    "for x in r:\n",
    "    print(x, end=' ')"
   ]
  },
  {
   "cell_type": "code",
   "execution_count": 12,
   "id": "ec753c33-5b31-43ab-bd95-d5ba415ba568",
   "metadata": {},
   "outputs": [],
   "source": [
    "for x in r:\n",
    "    print(x, end=' ')"
   ]
  },
  {
   "cell_type": "code",
   "execution_count": 13,
   "id": "f592c0e1-2e8b-46df-a1e1-a4c442f5545f",
   "metadata": {},
   "outputs": [],
   "source": [
    "r = reversed(L)"
   ]
  },
  {
   "cell_type": "code",
   "execution_count": 14,
   "id": "64fc9d60-590b-48d0-bcb2-dcd97699c059",
   "metadata": {},
   "outputs": [
    {
     "data": {
      "text/plain": [
       "10"
      ]
     },
     "execution_count": 14,
     "metadata": {},
     "output_type": "execute_result"
    }
   ],
   "source": [
    "next(r)"
   ]
  },
  {
   "cell_type": "code",
   "execution_count": 15,
   "id": "9f3417ed-18e5-4388-92d6-7f47679fc522",
   "metadata": {},
   "outputs": [
    {
     "data": {
      "text/plain": [
       "9"
      ]
     },
     "execution_count": 15,
     "metadata": {},
     "output_type": "execute_result"
    }
   ],
   "source": [
    "next(r)"
   ]
  },
  {
   "cell_type": "code",
   "execution_count": 16,
   "id": "8f1e6987-a16a-488f-968d-d02e9e8833e2",
   "metadata": {},
   "outputs": [
    {
     "data": {
      "text/plain": [
       "[8, 7, 6, 5, 4, 3, 2]"
      ]
     },
     "execution_count": 16,
     "metadata": {},
     "output_type": "execute_result"
    }
   ],
   "source": [
    "list(r)"
   ]
  },
  {
   "cell_type": "code",
   "execution_count": 17,
   "id": "c0ebd7c2-dc56-4b04-94f6-1acf932c35cb",
   "metadata": {},
   "outputs": [
    {
     "ename": "StopIteration",
     "evalue": "",
     "output_type": "error",
     "traceback": [
      "\u001b[0;31m---------------------------------------------------------------------------\u001b[0m",
      "\u001b[0;31mStopIteration\u001b[0m                             Traceback (most recent call last)",
      "Input \u001b[0;32mIn [17]\u001b[0m, in \u001b[0;36m<cell line: 1>\u001b[0;34m()\u001b[0m\n\u001b[0;32m----> 1\u001b[0m \u001b[38;5;28;43mnext\u001b[39;49m\u001b[43m(\u001b[49m\u001b[43mr\u001b[49m\u001b[43m)\u001b[49m\n",
      "\u001b[0;31mStopIteration\u001b[0m: "
     ]
    }
   ],
   "source": [
    "next(r)"
   ]
  },
  {
   "cell_type": "code",
   "execution_count": 18,
   "id": "ece1caa9-3524-481f-b6d2-7962a984564c",
   "metadata": {},
   "outputs": [
    {
     "data": {
      "text/plain": [
       "999"
      ]
     },
     "execution_count": 18,
     "metadata": {},
     "output_type": "execute_result"
    }
   ],
   "source": [
    "next(r, 999)"
   ]
  },
  {
   "cell_type": "code",
   "execution_count": 19,
   "id": "a9110ea2-0aee-46e2-a41e-e824ffd79c47",
   "metadata": {},
   "outputs": [
    {
     "data": {
      "text/plain": [
       "\u001b[0;31mDocstring:\u001b[0m\n",
       "next(iterator[, default])\n",
       "\n",
       "Return the next item from the iterator. If default is given and the iterator\n",
       "is exhausted, it is returned instead of raising StopIteration.\n",
       "\u001b[0;31mType:\u001b[0m      builtin_function_or_method\n"
      ]
     },
     "metadata": {},
     "output_type": "display_data"
    }
   ],
   "source": [
    "next?"
   ]
  },
  {
   "cell_type": "code",
   "execution_count": 21,
   "id": "9ad36dcb-d3a8-4d11-a5ab-9d088612fd1b",
   "metadata": {},
   "outputs": [],
   "source": [
    "z = zip('abc', 'xyz')"
   ]
  },
  {
   "cell_type": "code",
   "execution_count": 22,
   "id": "8b62ae37-1162-4152-bcde-3c61430de396",
   "metadata": {},
   "outputs": [
    {
     "data": {
      "text/plain": [
       "<zip at 0x7f28f5244800>"
      ]
     },
     "execution_count": 22,
     "metadata": {},
     "output_type": "execute_result"
    }
   ],
   "source": [
    "z"
   ]
  },
  {
   "cell_type": "code",
   "execution_count": 23,
   "id": "ddf432cc-2bc1-479f-be25-8b0d16e1e06d",
   "metadata": {},
   "outputs": [
    {
     "data": {
      "text/plain": [
       "('a', 'x')"
      ]
     },
     "execution_count": 23,
     "metadata": {},
     "output_type": "execute_result"
    }
   ],
   "source": [
    "next(z)"
   ]
  },
  {
   "cell_type": "code",
   "execution_count": 24,
   "id": "1fc3e321-343a-46cf-b8f9-eda1075f2270",
   "metadata": {},
   "outputs": [],
   "source": [
    "e = enumerate('abc')"
   ]
  },
  {
   "cell_type": "code",
   "execution_count": 25,
   "id": "3365e51e-2bce-4b34-ad8f-0ea57ad5877c",
   "metadata": {},
   "outputs": [
    {
     "data": {
      "text/plain": [
       "[(0, 'a'), (1, 'b'), (2, 'c')]"
      ]
     },
     "execution_count": 25,
     "metadata": {},
     "output_type": "execute_result"
    }
   ],
   "source": [
    "list(e)"
   ]
  },
  {
   "cell_type": "code",
   "execution_count": 26,
   "id": "7bb6c1c5-fed8-47c4-810d-9e40ea08055a",
   "metadata": {},
   "outputs": [
    {
     "data": {
      "text/plain": [
       "[]"
      ]
     },
     "execution_count": 26,
     "metadata": {},
     "output_type": "execute_result"
    }
   ],
   "source": [
    "list(e)"
   ]
  },
  {
   "cell_type": "code",
   "execution_count": 29,
   "id": "4f4f0f43-6f10-4ac5-8637-e07a7f718f81",
   "metadata": {},
   "outputs": [],
   "source": [
    "r10 = range(10)"
   ]
  },
  {
   "cell_type": "code",
   "execution_count": 30,
   "id": "a5ce45c6-9036-483e-bb56-2fb595b9f86d",
   "metadata": {},
   "outputs": [
    {
     "data": {
      "text/plain": [
       "range(0, 10)"
      ]
     },
     "execution_count": 30,
     "metadata": {},
     "output_type": "execute_result"
    }
   ],
   "source": [
    "r10"
   ]
  },
  {
   "cell_type": "code",
   "execution_count": 32,
   "id": "68557eab-ede7-49de-83e2-1843032b723c",
   "metadata": {},
   "outputs": [
    {
     "name": "stdout",
     "output_type": "stream",
     "text": [
      "0 1 2 3 4 5 6 7 8 9 "
     ]
    }
   ],
   "source": [
    "for x in r10:\n",
    "    print(x, end=' ')"
   ]
  },
  {
   "cell_type": "code",
   "execution_count": 33,
   "id": "83131b48-873a-48be-8f2c-85c224208c53",
   "metadata": {},
   "outputs": [
    {
     "name": "stdout",
     "output_type": "stream",
     "text": [
      "0 1 2 3 4 5 6 7 8 9 "
     ]
    }
   ],
   "source": [
    "for x in r10:\n",
    "    print(x, end=' ')"
   ]
  },
  {
   "cell_type": "code",
   "execution_count": 34,
   "id": "7ad9177b-4cca-44c6-8948-91ac0b433036",
   "metadata": {},
   "outputs": [
    {
     "ename": "TypeError",
     "evalue": "'range' object is not an iterator",
     "output_type": "error",
     "traceback": [
      "\u001b[0;31m---------------------------------------------------------------------------\u001b[0m",
      "\u001b[0;31mTypeError\u001b[0m                                 Traceback (most recent call last)",
      "Input \u001b[0;32mIn [34]\u001b[0m, in \u001b[0;36m<cell line: 1>\u001b[0;34m()\u001b[0m\n\u001b[0;32m----> 1\u001b[0m \u001b[38;5;28;43mnext\u001b[39;49m\u001b[43m(\u001b[49m\u001b[43mr10\u001b[49m\u001b[43m)\u001b[49m\n",
      "\u001b[0;31mTypeError\u001b[0m: 'range' object is not an iterator"
     ]
    }
   ],
   "source": [
    "next(r10)"
   ]
  },
  {
   "cell_type": "code",
   "execution_count": 35,
   "id": "7ffe537c-ff46-49f1-88e5-ea9e1586dd9d",
   "metadata": {},
   "outputs": [
    {
     "data": {
      "text/plain": [
       "5050"
      ]
     },
     "execution_count": 35,
     "metadata": {},
     "output_type": "execute_result"
    }
   ],
   "source": [
    "sum(range(1, 101))"
   ]
  },
  {
   "cell_type": "markdown",
   "id": "ebcdf77f-ea35-478b-a8b8-e3f82e8c7dec",
   "metadata": {},
   "source": [
    "# Generatoren"
   ]
  },
  {
   "cell_type": "markdown",
   "id": "17879938-0f8b-4db6-b56b-cbb3c428cebb",
   "metadata": {},
   "source": [
    "## Generatorausdrücke"
   ]
  },
  {
   "cell_type": "code",
   "execution_count": 36,
   "id": "ba0aeb1b-cecd-4a1f-bef3-3f84ff28345d",
   "metadata": {},
   "outputs": [
    {
     "data": {
      "text/plain": [
       "[2, 3, 4, 5, 6, 7, 8, 9, 10]"
      ]
     },
     "execution_count": 36,
     "metadata": {},
     "output_type": "execute_result"
    }
   ],
   "source": [
    "L"
   ]
  },
  {
   "cell_type": "code",
   "execution_count": 37,
   "id": "1fd5c189-36e4-45cb-b618-163b3e1b2654",
   "metadata": {},
   "outputs": [
    {
     "data": {
      "text/plain": [
       "[52, 53, 54, 55, 56, 57, 58, 59, 60]"
      ]
     },
     "execution_count": 37,
     "metadata": {},
     "output_type": "execute_result"
    }
   ],
   "source": [
    "[x + 50 for x in L]"
   ]
  },
  {
   "cell_type": "code",
   "execution_count": 38,
   "id": "6b0f74ad-8eb9-45d5-9438-78676ec12400",
   "metadata": {},
   "outputs": [
    {
     "data": {
      "text/plain": [
       "<generator object <genexpr> at 0x7f28f55cfb50>"
      ]
     },
     "execution_count": 38,
     "metadata": {},
     "output_type": "execute_result"
    }
   ],
   "source": [
    "(x + 50 for x in L)"
   ]
  },
  {
   "cell_type": "code",
   "execution_count": 39,
   "id": "5caed820-bcfc-480a-b3ac-ec0b1fcf5e6d",
   "metadata": {},
   "outputs": [],
   "source": [
    "g = (x + 50 for x in L)"
   ]
  },
  {
   "cell_type": "code",
   "execution_count": 40,
   "id": "10e36eba-a28d-4e77-a4a7-34fc725c6a8b",
   "metadata": {},
   "outputs": [
    {
     "data": {
      "text/plain": [
       "[52, 53, 54, 55, 56, 57, 58, 59, 60]"
      ]
     },
     "execution_count": 40,
     "metadata": {},
     "output_type": "execute_result"
    }
   ],
   "source": [
    "list(g)"
   ]
  },
  {
   "cell_type": "code",
   "execution_count": 41,
   "id": "ae9ac460-0dce-4ae1-953b-96574ab940f5",
   "metadata": {},
   "outputs": [
    {
     "data": {
      "text/plain": [
       "[52, 53, 54, 55, 56, 57, 58, 59, 60]"
      ]
     },
     "execution_count": 41,
     "metadata": {},
     "output_type": "execute_result"
    }
   ],
   "source": [
    "list(x + 50 for x in L)"
   ]
  },
  {
   "cell_type": "code",
   "execution_count": 42,
   "id": "f7bdb9a9-67a9-44f9-b0cc-d71b2dd76594",
   "metadata": {},
   "outputs": [],
   "source": [
    "g = (x + 50 for x in L)"
   ]
  },
  {
   "cell_type": "code",
   "execution_count": 43,
   "id": "be95a6b5-838e-41aa-8404-e759a9427b8d",
   "metadata": {},
   "outputs": [
    {
     "name": "stdout",
     "output_type": "stream",
     "text": [
      "52 53 54 55 56 57 58 59 60 "
     ]
    }
   ],
   "source": [
    "for x in g:\n",
    "    print(x, end=' ')"
   ]
  },
  {
   "cell_type": "code",
   "execution_count": 44,
   "id": "f5861e50-3d20-443b-b99b-b14097473192",
   "metadata": {},
   "outputs": [],
   "source": [
    "for x in g:\n",
    "    print(x, end=' ')"
   ]
  },
  {
   "cell_type": "code",
   "execution_count": 45,
   "id": "5337cc80-d0dc-4138-aba7-3648cc178277",
   "metadata": {},
   "outputs": [],
   "source": [
    "g = (x + 50 for x in L)"
   ]
  },
  {
   "cell_type": "code",
   "execution_count": 46,
   "id": "41a66f1e-98e7-49b3-9b22-3a9f66e76fc3",
   "metadata": {},
   "outputs": [
    {
     "data": {
      "text/plain": [
       "52"
      ]
     },
     "execution_count": 46,
     "metadata": {},
     "output_type": "execute_result"
    }
   ],
   "source": [
    "next(g)"
   ]
  },
  {
   "cell_type": "code",
   "execution_count": 47,
   "id": "961efe44-1114-4261-a2d0-9fde8d17978b",
   "metadata": {},
   "outputs": [
    {
     "data": {
      "text/plain": [
       "53"
      ]
     },
     "execution_count": 47,
     "metadata": {},
     "output_type": "execute_result"
    }
   ],
   "source": [
    "next(g)"
   ]
  },
  {
   "cell_type": "code",
   "execution_count": 48,
   "id": "771e9999-94ec-459f-a826-297c3f6107e2",
   "metadata": {},
   "outputs": [
    {
     "data": {
      "text/plain": [
       "[2, 3, 4, 5, 6, 7, 8, 9, 10]"
      ]
     },
     "execution_count": 48,
     "metadata": {},
     "output_type": "execute_result"
    }
   ],
   "source": [
    "L"
   ]
  },
  {
   "cell_type": "code",
   "execution_count": 49,
   "id": "911291b2-0505-4d6b-8df5-d7c86c58fd50",
   "metadata": {},
   "outputs": [
    {
     "data": {
      "text/plain": [
       "40"
      ]
     },
     "execution_count": 49,
     "metadata": {},
     "output_type": "execute_result"
    }
   ],
   "source": [
    "sum(x for x in L if x > 5)"
   ]
  },
  {
   "cell_type": "code",
   "execution_count": 50,
   "id": "5dc5fd6b-b048-4296-9f79-43b9bba777bb",
   "metadata": {},
   "outputs": [
    {
     "data": {
      "text/plain": [
       "40"
      ]
     },
     "execution_count": 50,
     "metadata": {},
     "output_type": "execute_result"
    }
   ],
   "source": [
    "res = 0\n",
    "for x in L:\n",
    "    if x > 5:\n",
    "        res += x\n",
    "res"
   ]
  },
  {
   "cell_type": "code",
   "execution_count": 51,
   "id": "40f3839c-345f-4e82-b4d2-0d9baef8a6f7",
   "metadata": {},
   "outputs": [
    {
     "name": "stdout",
     "output_type": "stream",
     "text": [
      "1.16 µs ± 180 ns per loop (mean ± std. dev. of 7 runs, 1,000,000 loops each)\n"
     ]
    }
   ],
   "source": [
    "%timeit sum(x for x in L if x > 5)"
   ]
  },
  {
   "cell_type": "code",
   "execution_count": 52,
   "id": "55457f63-c398-4409-9b2b-27c567932700",
   "metadata": {},
   "outputs": [
    {
     "name": "stdout",
     "output_type": "stream",
     "text": [
      "632 ns ± 11.4 ns per loop (mean ± std. dev. of 7 runs, 1,000,000 loops each)\n"
     ]
    }
   ],
   "source": [
    "%%timeit\n",
    "\n",
    "res = 0\n",
    "for x in L:\n",
    "    if x > 5:\n",
    "        res += x"
   ]
  },
  {
   "cell_type": "markdown",
   "id": "9134d826-0622-4f1c-870a-4283945d8b2a",
   "metadata": {},
   "source": [
    "## Generatorfunktionen"
   ]
  },
  {
   "cell_type": "code",
   "execution_count": 53,
   "id": "0e0b45a7-9849-4263-a829-c76493d9c2fe",
   "metadata": {},
   "outputs": [],
   "source": [
    "def simple():\n",
    "    print('Start')\n",
    "    yield 1\n",
    "    print('nach 1')\n",
    "    yield 2\n",
    "    print('nach 2')\n",
    "    yield 3\n",
    "    print('nach 3')"
   ]
  },
  {
   "cell_type": "code",
   "execution_count": 54,
   "id": "d297a232-bd63-4087-9c21-718847484c26",
   "metadata": {},
   "outputs": [],
   "source": [
    "s = simple()"
   ]
  },
  {
   "cell_type": "code",
   "execution_count": 55,
   "id": "0f672e90-5c9c-4ceb-a2a7-6dc1f956e6ad",
   "metadata": {},
   "outputs": [
    {
     "name": "stdout",
     "output_type": "stream",
     "text": [
      "Start\n"
     ]
    },
    {
     "data": {
      "text/plain": [
       "1"
      ]
     },
     "execution_count": 55,
     "metadata": {},
     "output_type": "execute_result"
    }
   ],
   "source": [
    "next(s)"
   ]
  },
  {
   "cell_type": "code",
   "execution_count": 56,
   "id": "548c82dd-8459-47a2-8cf5-2b54f878fda4",
   "metadata": {},
   "outputs": [
    {
     "name": "stdout",
     "output_type": "stream",
     "text": [
      "nach 1\n"
     ]
    },
    {
     "data": {
      "text/plain": [
       "2"
      ]
     },
     "execution_count": 56,
     "metadata": {},
     "output_type": "execute_result"
    }
   ],
   "source": [
    "next(s)"
   ]
  },
  {
   "cell_type": "code",
   "execution_count": 57,
   "id": "170a877b-2e5d-4840-9b99-0fddd5f59e27",
   "metadata": {},
   "outputs": [
    {
     "name": "stdout",
     "output_type": "stream",
     "text": [
      "nach 2\n"
     ]
    },
    {
     "data": {
      "text/plain": [
       "3"
      ]
     },
     "execution_count": 57,
     "metadata": {},
     "output_type": "execute_result"
    }
   ],
   "source": [
    "next(s)"
   ]
  },
  {
   "cell_type": "code",
   "execution_count": 58,
   "id": "a26622bd-3d8c-4853-862f-418549ddc2f1",
   "metadata": {},
   "outputs": [
    {
     "name": "stdout",
     "output_type": "stream",
     "text": [
      "nach 3\n"
     ]
    },
    {
     "ename": "StopIteration",
     "evalue": "",
     "output_type": "error",
     "traceback": [
      "\u001b[0;31m---------------------------------------------------------------------------\u001b[0m",
      "\u001b[0;31mStopIteration\u001b[0m                             Traceback (most recent call last)",
      "Input \u001b[0;32mIn [58]\u001b[0m, in \u001b[0;36m<cell line: 1>\u001b[0;34m()\u001b[0m\n\u001b[0;32m----> 1\u001b[0m \u001b[38;5;28;43mnext\u001b[39;49m\u001b[43m(\u001b[49m\u001b[43ms\u001b[49m\u001b[43m)\u001b[49m\n",
      "\u001b[0;31mStopIteration\u001b[0m: "
     ]
    }
   ],
   "source": [
    "next(s)"
   ]
  },
  {
   "cell_type": "code",
   "execution_count": 59,
   "id": "d56aaf4a-aae4-40ab-992f-eb2d089205a9",
   "metadata": {},
   "outputs": [],
   "source": [
    "def endless(start=0, step=1):\n",
    "    value = start\n",
    "    while True:\n",
    "        yield value\n",
    "        value += step"
   ]
  },
  {
   "cell_type": "code",
   "execution_count": 60,
   "id": "917c9481-9adb-4926-9568-97fe6edf7944",
   "metadata": {},
   "outputs": [],
   "source": [
    "e = endless()"
   ]
  },
  {
   "cell_type": "code",
   "execution_count": 61,
   "id": "f4aadc6e-4bef-477f-9084-d2ebfa6405b8",
   "metadata": {},
   "outputs": [
    {
     "data": {
      "text/plain": [
       "0"
      ]
     },
     "execution_count": 61,
     "metadata": {},
     "output_type": "execute_result"
    }
   ],
   "source": [
    "next(e)"
   ]
  },
  {
   "cell_type": "code",
   "execution_count": 62,
   "id": "0077d7d9-c104-43a3-9ab0-ebc9104c68e6",
   "metadata": {},
   "outputs": [
    {
     "data": {
      "text/plain": [
       "1"
      ]
     },
     "execution_count": 62,
     "metadata": {},
     "output_type": "execute_result"
    }
   ],
   "source": [
    "next(e)"
   ]
  },
  {
   "cell_type": "code",
   "execution_count": 1,
   "id": "4e83d0b6-c96b-4ba5-bd8d-8ec9be894452",
   "metadata": {},
   "outputs": [
    {
     "name": "stdout",
     "output_type": "stream",
     "text": [
      "[0, 3, 6, 9, 12, 15, 18, 21, 24, 27, 30, 33, 36, 39, 42, 45, 48, 51, 54, 57, 60]\n"
     ]
    }
   ],
   "source": [
    "g = (n*3 for n in range(21))\n",
    "print(list(g))"
   ]
  },
  {
   "cell_type": "code",
   "execution_count": 3,
   "id": "bfcdfc3a-9720-4933-b02f-f315cc1a6b59",
   "metadata": {},
   "outputs": [
    {
     "name": "stdout",
     "output_type": "stream",
     "text": [
      "[0, 6, 12, 18, 24, 30, 36, 42, 48, 54, 60]\n"
     ]
    }
   ],
   "source": [
    "g = (n * 3 for n in range(21) if n % 2 == 0)\n",
    "print(list(g))"
   ]
  },
  {
   "cell_type": "code",
   "execution_count": 5,
   "id": "fa2149a9-44a9-44f7-aa45-6c10cdaaac16",
   "metadata": {},
   "outputs": [
    {
     "data": {
      "text/plain": [
       "[0, 6, 12, 18, 24, 30, 36, 42, 48, 54, 60]"
      ]
     },
     "execution_count": 5,
     "metadata": {},
     "output_type": "execute_result"
    }
   ],
   "source": [
    "[n * 3 for n in range(21) if n * 3 % 2 == 0]"
   ]
  },
  {
   "cell_type": "code",
   "execution_count": 6,
   "id": "ae98a152-def5-4aea-bbf8-d153f9090b44",
   "metadata": {},
   "outputs": [],
   "source": [
    "def numbers():\n",
    "    print('10')\n",
    "    for i in range(1, 10):\n",
    "        yield 1\n",
    "        print((str)(i * 100))"
   ]
  },
  {
   "cell_type": "code",
   "execution_count": 7,
   "id": "f564ef6b-5f68-4ba2-8ee0-2f5c13f2c151",
   "metadata": {},
   "outputs": [],
   "source": [
    "n = numbers()"
   ]
  },
  {
   "cell_type": "code",
   "execution_count": 8,
   "id": "ed469247-79db-413f-ba59-13362b12bc2b",
   "metadata": {},
   "outputs": [
    {
     "name": "stdout",
     "output_type": "stream",
     "text": [
      "10\n"
     ]
    },
    {
     "data": {
      "text/plain": [
       "1"
      ]
     },
     "execution_count": 8,
     "metadata": {},
     "output_type": "execute_result"
    }
   ],
   "source": [
    "next(n)"
   ]
  },
  {
   "cell_type": "code",
   "execution_count": 9,
   "id": "7f5933bb-77fa-48b8-8305-37546fa605c3",
   "metadata": {},
   "outputs": [],
   "source": [
    "def number2():\n",
    "    yield 10\n",
    "    for x in range(100, 901, 100):\n",
    "        yield x"
   ]
  },
  {
   "cell_type": "code",
   "execution_count": 10,
   "id": "901abb50-1399-494e-82e1-17ffb26b0f87",
   "metadata": {},
   "outputs": [],
   "source": [
    "n2 = number2()"
   ]
  },
  {
   "cell_type": "code",
   "execution_count": 11,
   "id": "20993e4d-c303-491a-9c23-41b40be561bb",
   "metadata": {},
   "outputs": [
    {
     "data": {
      "text/plain": [
       "10"
      ]
     },
     "execution_count": 11,
     "metadata": {},
     "output_type": "execute_result"
    }
   ],
   "source": [
    "next(n2)"
   ]
  },
  {
   "cell_type": "code",
   "execution_count": 12,
   "id": "c22512ed-2135-440e-b23d-9b5ffbecbb2d",
   "metadata": {},
   "outputs": [
    {
     "data": {
      "text/plain": [
       "100"
      ]
     },
     "execution_count": 12,
     "metadata": {},
     "output_type": "execute_result"
    }
   ],
   "source": [
    "next(n2)"
   ]
  },
  {
   "cell_type": "code",
   "execution_count": 13,
   "id": "1def2303-15ee-427b-b174-8974c56e732a",
   "metadata": {},
   "outputs": [
    {
     "data": {
      "text/plain": [
       "200"
      ]
     },
     "execution_count": 13,
     "metadata": {},
     "output_type": "execute_result"
    }
   ],
   "source": [
    "next(n2)"
   ]
  },
  {
   "cell_type": "code",
   "execution_count": 15,
   "id": "2cce9da3-b2d4-419e-9f75-1b902b8558d8",
   "metadata": {},
   "outputs": [
    {
     "data": {
      "text/plain": [
       "[10, 100, 200, 300, 400, 500, 600, 700, 800, 900]"
      ]
     },
     "execution_count": 15,
     "metadata": {},
     "output_type": "execute_result"
    }
   ],
   "source": [
    "list(number2())"
   ]
  },
  {
   "cell_type": "code",
   "execution_count": 17,
   "id": "8b47935e-0f49-4f20-96c1-ca94a7a07ad5",
   "metadata": {},
   "outputs": [
    {
     "name": "stdout",
     "output_type": "stream",
     "text": [
      "10\n",
      "100\n",
      "200\n",
      "300\n",
      "400\n",
      "500\n",
      "600\n",
      "700\n",
      "800\n",
      "900\n"
     ]
    },
    {
     "data": {
      "text/plain": [
       "[1, 1, 1, 1, 1, 1, 1, 1, 1]"
      ]
     },
     "execution_count": 17,
     "metadata": {},
     "output_type": "execute_result"
    }
   ],
   "source": [
    "list(numbers())"
   ]
  },
  {
   "cell_type": "markdown",
   "id": "83d6f139-bb93-4cc1-911a-219d7bf9a80f",
   "metadata": {},
   "source": [
    "# Pause bis 10 Uhr"
   ]
  },
  {
   "cell_type": "code",
   "execution_count": null,
   "id": "62ccae14-555b-4fdc-a758-9e8812e98e2f",
   "metadata": {},
   "outputs": [],
   "source": []
  }
 ],
 "metadata": {
  "kernelspec": {
   "display_name": "Python 3.10",
   "language": "python",
   "name": "python310"
  },
  "language_info": {
   "codemirror_mode": {
    "name": "ipython",
    "version": 3
   },
   "file_extension": ".py",
   "mimetype": "text/x-python",
   "name": "python",
   "nbconvert_exporter": "python",
   "pygments_lexer": "ipython3",
   "version": "3.10.4"
  }
 },
 "nbformat": 4,
 "nbformat_minor": 5
}
